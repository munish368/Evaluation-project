{
 "cells": [
  {
   "cell_type": "code",
   "execution_count": null,
   "id": "b46ed9e7",
   "metadata": {},
   "outputs": [],
   "source": [
    "import pandas as pd\n",
    "import numpy as np \n",
    "import seaborn as sns\n",
    "import matplotlib.pyplot as plt\n",
    "import warnings\n",
    "warnings.filterwarnings('ignore')"
   ]
  },
  {
   "cell_type": "code",
   "execution_count": null,
   "id": "6b978434",
   "metadata": {},
   "outputs": [],
   "source": [
    "df = pd.read_csv(\"loan_prediction.csv\")"
   ]
  },
  {
   "cell_type": "code",
   "execution_count": null,
   "id": "b5518a5b",
   "metadata": {},
   "outputs": [],
   "source": [
    "df"
   ]
  },
  {
   "cell_type": "code",
   "execution_count": null,
   "id": "67c397d8",
   "metadata": {},
   "outputs": [],
   "source": [
    "df.isnull().sum()"
   ]
  },
  {
   "cell_type": "code",
   "execution_count": null,
   "id": "b21dde10",
   "metadata": {},
   "outputs": [],
   "source": [
    "df.shape"
   ]
  },
  {
   "cell_type": "code",
   "execution_count": null,
   "id": "c2e5fa19",
   "metadata": {},
   "outputs": [],
   "source": [
    "df['Gender'].unique()"
   ]
  },
  {
   "cell_type": "code",
   "execution_count": null,
   "id": "a9d3c260",
   "metadata": {},
   "outputs": [],
   "source": [
    "df['Gender'].value_counts()"
   ]
  },
  {
   "cell_type": "code",
   "execution_count": null,
   "id": "7d64bec4",
   "metadata": {},
   "outputs": [],
   "source": [
    "modevalue = df[\"Gender\"].mode()[0]"
   ]
  },
  {
   "cell_type": "code",
   "execution_count": null,
   "id": "3f599206",
   "metadata": {},
   "outputs": [],
   "source": [
    "df[\"Gender\"].fillna(modevalue, inplace = True)"
   ]
  },
  {
   "cell_type": "code",
   "execution_count": null,
   "id": "438c6887",
   "metadata": {},
   "outputs": [],
   "source": [
    "df.isnull().sum()"
   ]
  },
  {
   "cell_type": "code",
   "execution_count": null,
   "id": "1c0bf386",
   "metadata": {},
   "outputs": [],
   "source": [
    "df['Married'].unique()"
   ]
  },
  {
   "cell_type": "code",
   "execution_count": null,
   "id": "58cbe209",
   "metadata": {},
   "outputs": [],
   "source": [
    "df['Married'].value_counts()"
   ]
  },
  {
   "cell_type": "code",
   "execution_count": null,
   "id": "8f70ab97",
   "metadata": {},
   "outputs": [],
   "source": [
    "modevalue = df[\"Married\"].mode()[0]"
   ]
  },
  {
   "cell_type": "code",
   "execution_count": null,
   "id": "bedd7e29",
   "metadata": {},
   "outputs": [],
   "source": [
    "modevalue"
   ]
  },
  {
   "cell_type": "code",
   "execution_count": null,
   "id": "610f3fd1",
   "metadata": {},
   "outputs": [],
   "source": [
    "df[\"Married\"].fillna(modevalue,inplace = True)"
   ]
  },
  {
   "cell_type": "code",
   "execution_count": null,
   "id": "8efb054d",
   "metadata": {},
   "outputs": [],
   "source": [
    "df['Married'].isnull().sum()"
   ]
  },
  {
   "cell_type": "code",
   "execution_count": null,
   "id": "be69184d",
   "metadata": {},
   "outputs": [],
   "source": [
    "df['Dependents'].unique()"
   ]
  },
  {
   "cell_type": "code",
   "execution_count": null,
   "id": "8c55419a",
   "metadata": {},
   "outputs": [],
   "source": [
    "df['Dependents'].value_counts()"
   ]
  },
  {
   "cell_type": "code",
   "execution_count": null,
   "id": "b693bd77",
   "metadata": {},
   "outputs": [],
   "source": [
    "modevalue = df[\"Dependents\"].mode()[0]"
   ]
  },
  {
   "cell_type": "code",
   "execution_count": null,
   "id": "99781a4b",
   "metadata": {},
   "outputs": [],
   "source": [
    "modevalue"
   ]
  },
  {
   "cell_type": "code",
   "execution_count": null,
   "id": "51161c06",
   "metadata": {},
   "outputs": [],
   "source": [
    " df[\"Dependents\"].fillna(modevalue,inplace = True)"
   ]
  },
  {
   "cell_type": "code",
   "execution_count": null,
   "id": "9f9404e5",
   "metadata": {},
   "outputs": [],
   "source": [
    "df[\"Dependents\"].isnull().sum()"
   ]
  },
  {
   "cell_type": "code",
   "execution_count": null,
   "id": "a0db0d3e",
   "metadata": {},
   "outputs": [],
   "source": [
    "df['Education'].unique()"
   ]
  },
  {
   "cell_type": "code",
   "execution_count": null,
   "id": "c41837b5",
   "metadata": {},
   "outputs": [],
   "source": [
    "df['Education'].value_counts()"
   ]
  },
  {
   "cell_type": "code",
   "execution_count": null,
   "id": "8913e1b0",
   "metadata": {},
   "outputs": [],
   "source": [
    "df['Self_Employed'].unique()"
   ]
  },
  {
   "cell_type": "code",
   "execution_count": null,
   "id": "270f9736",
   "metadata": {},
   "outputs": [],
   "source": [
    "df['Self_Employed'].value_counts()"
   ]
  },
  {
   "cell_type": "code",
   "execution_count": null,
   "id": "8cd88f31",
   "metadata": {},
   "outputs": [],
   "source": [
    "modevalue=df[\"Self_Employed\"].mode()[0]"
   ]
  },
  {
   "cell_type": "code",
   "execution_count": null,
   "id": "57f76f27",
   "metadata": {},
   "outputs": [],
   "source": [
    "df[\"Self_Employed\"].fillna(modevalue,inplace = True)"
   ]
  },
  {
   "cell_type": "code",
   "execution_count": null,
   "id": "f841a692",
   "metadata": {},
   "outputs": [],
   "source": [
    "df[\"Self_Employed\"].isnull().sum()"
   ]
  },
  {
   "cell_type": "code",
   "execution_count": null,
   "id": "f9827f78",
   "metadata": {},
   "outputs": [],
   "source": [
    "df['Credit_History'].unique()"
   ]
  },
  {
   "cell_type": "code",
   "execution_count": null,
   "id": "a3a035d7",
   "metadata": {},
   "outputs": [],
   "source": [
    "df['Credit_History'].value_counts()"
   ]
  },
  {
   "cell_type": "code",
   "execution_count": null,
   "id": "431c97d4",
   "metadata": {},
   "outputs": [],
   "source": [
    "df['LoanAmount'].isnull().sum()"
   ]
  },
  {
   "cell_type": "code",
   "execution_count": null,
   "id": "e2289dec",
   "metadata": {},
   "outputs": [],
   "source": [
    "df['LoanAmount'].dtype"
   ]
  },
  {
   "cell_type": "code",
   "execution_count": null,
   "id": "962e8156",
   "metadata": {},
   "outputs": [],
   "source": [
    "medianvalue = df[\"LoanAmount\"].median()"
   ]
  },
  {
   "cell_type": "code",
   "execution_count": null,
   "id": "eebead1b",
   "metadata": {},
   "outputs": [],
   "source": [
    "medianvalue"
   ]
  },
  {
   "cell_type": "code",
   "execution_count": null,
   "id": "24315256",
   "metadata": {},
   "outputs": [],
   "source": [
    "df[\"LoanAmount\"].fillna(medianvalue,inplace = True)"
   ]
  },
  {
   "cell_type": "code",
   "execution_count": null,
   "id": "5e7d9baf",
   "metadata": {},
   "outputs": [],
   "source": [
    "df[\"LoanAmount\"].isnull().sum()"
   ]
  },
  {
   "cell_type": "code",
   "execution_count": null,
   "id": "fb83cd0a",
   "metadata": {},
   "outputs": [],
   "source": [
    "df['Loan_Amount_Term'].dtype"
   ]
  },
  {
   "cell_type": "code",
   "execution_count": null,
   "id": "f30b9575",
   "metadata": {},
   "outputs": [],
   "source": [
    "df['Loan_Amount_Term']"
   ]
  },
  {
   "cell_type": "code",
   "execution_count": null,
   "id": "95955096",
   "metadata": {},
   "outputs": [],
   "source": [
    "df['Loan_Amount_Term'].unique()"
   ]
  },
  {
   "cell_type": "code",
   "execution_count": null,
   "id": "e6a26cb6",
   "metadata": {},
   "outputs": [],
   "source": [
    "df['Loan_Amount_Term'].value_counts()"
   ]
  },
  {
   "cell_type": "code",
   "execution_count": null,
   "id": "b3a32f76",
   "metadata": {},
   "outputs": [],
   "source": [
    "medianvalue = df['Loan_Amount_Term'].median()"
   ]
  },
  {
   "cell_type": "code",
   "execution_count": null,
   "id": "fb88398c",
   "metadata": {},
   "outputs": [],
   "source": [
    "df['Loan_Amount_Term'].fillna(medianvalue,inplace = True)"
   ]
  },
  {
   "cell_type": "code",
   "execution_count": null,
   "id": "5b1a8c0b",
   "metadata": {},
   "outputs": [],
   "source": [
    "df['Loan_Amount_Term'].isnull().sum()"
   ]
  },
  {
   "cell_type": "code",
   "execution_count": null,
   "id": "88340505",
   "metadata": {},
   "outputs": [],
   "source": [
    "df['Credit_History'].unique()"
   ]
  },
  {
   "cell_type": "code",
   "execution_count": null,
   "id": "6d91d34d",
   "metadata": {},
   "outputs": [],
   "source": [
    "df['Credit_History'].value_counts()"
   ]
  },
  {
   "cell_type": "code",
   "execution_count": null,
   "id": "933a8c8e",
   "metadata": {},
   "outputs": [],
   "source": [
    "modevalue = df[\"Credit_History\"].mode()[0]"
   ]
  },
  {
   "cell_type": "code",
   "execution_count": null,
   "id": "c176e321",
   "metadata": {},
   "outputs": [],
   "source": [
    "modevalue"
   ]
  },
  {
   "cell_type": "code",
   "execution_count": null,
   "id": "3aeb1765",
   "metadata": {},
   "outputs": [],
   "source": [
    "medianvalue = df[\"Credit_History\"].median()"
   ]
  },
  {
   "cell_type": "code",
   "execution_count": null,
   "id": "07abdb10",
   "metadata": {},
   "outputs": [],
   "source": [
    "medianvalue "
   ]
  },
  {
   "cell_type": "code",
   "execution_count": null,
   "id": "9fb5cc0f",
   "metadata": {},
   "outputs": [],
   "source": [
    "df[\"Credit_History\"].fillna(medianvalue,inplace = True)"
   ]
  },
  {
   "cell_type": "code",
   "execution_count": null,
   "id": "765849f3",
   "metadata": {},
   "outputs": [],
   "source": [
    "df.isnull().sum()"
   ]
  },
  {
   "cell_type": "code",
   "execution_count": null,
   "id": "c3200ee2",
   "metadata": {},
   "outputs": [],
   "source": [
    "df.columns"
   ]
  },
  {
   "cell_type": "code",
   "execution_count": null,
   "id": "3e530c8d",
   "metadata": {},
   "outputs": [],
   "source": [
    "df.info()"
   ]
  },
  {
   "cell_type": "code",
   "execution_count": null,
   "id": "39d4cd81",
   "metadata": {},
   "outputs": [],
   "source": [
    "from sklearn.preprocessing import LabelEncoder"
   ]
  },
  {
   "cell_type": "code",
   "execution_count": null,
   "id": "80ef973b",
   "metadata": {},
   "outputs": [],
   "source": [
    "le = LabelEncoder()"
   ]
  },
  {
   "cell_type": "code",
   "execution_count": null,
   "id": "5e7c573f",
   "metadata": {},
   "outputs": [],
   "source": [
    "for i in df.columns:\n",
    "    if df[i].dtypes =='object':\n",
    "        df[i] = le.fit_transform(df[i].values.reshape(-1,1))"
   ]
  },
  {
   "cell_type": "code",
   "execution_count": null,
   "id": "b490f60d",
   "metadata": {},
   "outputs": [],
   "source": [
    "df"
   ]
  },
  {
   "cell_type": "code",
   "execution_count": null,
   "id": "6c2acf43",
   "metadata": {},
   "outputs": [],
   "source": [
    "df.describe()"
   ]
  },
  {
   "cell_type": "code",
   "execution_count": null,
   "id": "2acc691d",
   "metadata": {},
   "outputs": [],
   "source": [
    "df.corr()"
   ]
  },
  {
   "cell_type": "code",
   "execution_count": null,
   "id": "df7fd055",
   "metadata": {},
   "outputs": [],
   "source": [
    "plt.figure(figsize = (15,6))\n",
    "sns.heatmap(df.corr(),annot = True)"
   ]
  },
  {
   "cell_type": "code",
   "execution_count": null,
   "id": "4a927d3b",
   "metadata": {},
   "outputs": [],
   "source": [
    "sns.histplot(df['Loan_ID'])"
   ]
  },
  {
   "cell_type": "code",
   "execution_count": null,
   "id": "f20eabe5",
   "metadata": {},
   "outputs": [],
   "source": [
    "sns.histplot(df['Gender'])"
   ]
  },
  {
   "cell_type": "code",
   "execution_count": null,
   "id": "277fa70c",
   "metadata": {},
   "outputs": [],
   "source": [
    "sns.histplot(df['Married'])"
   ]
  },
  {
   "cell_type": "code",
   "execution_count": null,
   "id": "588dcd34",
   "metadata": {},
   "outputs": [],
   "source": [
    "sns.histplot(df['Dependents'])"
   ]
  },
  {
   "cell_type": "code",
   "execution_count": null,
   "id": "3df5b5de",
   "metadata": {},
   "outputs": [],
   "source": [
    "sns.histplot(df['Education'])"
   ]
  },
  {
   "cell_type": "code",
   "execution_count": null,
   "id": "d30d7ab2",
   "metadata": {},
   "outputs": [],
   "source": [
    "sns.histplot(df['Self_Employed'])"
   ]
  },
  {
   "cell_type": "code",
   "execution_count": null,
   "id": "21c58e3d",
   "metadata": {},
   "outputs": [],
   "source": [
    "sns.histplot(df['ApplicantIncome'])"
   ]
  },
  {
   "cell_type": "code",
   "execution_count": null,
   "id": "53161811",
   "metadata": {},
   "outputs": [],
   "source": [
    "sns.histplot(df['CoapplicantIncome'])"
   ]
  },
  {
   "cell_type": "code",
   "execution_count": null,
   "id": "dc5e1f57",
   "metadata": {},
   "outputs": [],
   "source": [
    "sns.histplot(df['LoanAmount'])"
   ]
  },
  {
   "cell_type": "code",
   "execution_count": null,
   "id": "de37bfd7",
   "metadata": {},
   "outputs": [],
   "source": [
    "sns.histplot(df['Loan_Amount_Term'])"
   ]
  },
  {
   "cell_type": "code",
   "execution_count": null,
   "id": "8e145226",
   "metadata": {},
   "outputs": [],
   "source": [
    "sns.histplot(df['Credit_History'])"
   ]
  },
  {
   "cell_type": "code",
   "execution_count": null,
   "id": "dbef17af",
   "metadata": {},
   "outputs": [],
   "source": [
    "sns.histplot(df['Property_Area'])"
   ]
  },
  {
   "cell_type": "code",
   "execution_count": null,
   "id": "c7860849",
   "metadata": {},
   "outputs": [],
   "source": [
    "sns.histplot(df['Loan_Status'])"
   ]
  },
  {
   "cell_type": "code",
   "execution_count": null,
   "id": "ccf35ad8",
   "metadata": {},
   "outputs": [],
   "source": [
    "sns.scatterplot(x='Loan_Status',y='Gender',data=df)"
   ]
  },
  {
   "cell_type": "code",
   "execution_count": null,
   "id": "4c7e77ca",
   "metadata": {},
   "outputs": [],
   "source": [
    "sns.relplot(x='Loan_Status',y='Gender',data=df)"
   ]
  },
  {
   "cell_type": "code",
   "execution_count": null,
   "id": "dbb2abd9",
   "metadata": {},
   "outputs": [],
   "source": [
    "sns.regplot(x='Loan_Status',y='Gender',data=df)"
   ]
  },
  {
   "cell_type": "code",
   "execution_count": null,
   "id": "17f727b3",
   "metadata": {},
   "outputs": [],
   "source": [
    "sns.lineplot(x='Loan_Status',y='Gender',data=df)"
   ]
  },
  {
   "cell_type": "code",
   "execution_count": null,
   "id": "ccac4e8d",
   "metadata": {},
   "outputs": [],
   "source": [
    "sns.catplot(x='Gender',y='Loan_Status',data=df,kind='bar')"
   ]
  },
  {
   "cell_type": "code",
   "execution_count": null,
   "id": "b0bc8348",
   "metadata": {},
   "outputs": [],
   "source": [
    "sns.scatterplot(x='Loan_Status',y='Married',data=df)"
   ]
  },
  {
   "cell_type": "code",
   "execution_count": null,
   "id": "a2221257",
   "metadata": {},
   "outputs": [],
   "source": [
    "sns.catplot(x='Married',y='Loan_Status',data=df,kind='bar')"
   ]
  },
  {
   "cell_type": "code",
   "execution_count": null,
   "id": "fc8070e8",
   "metadata": {
    "scrolled": true
   },
   "outputs": [],
   "source": [
    "sns.scatterplot(x='Loan_Status',y='Dependents',data=df)"
   ]
  },
  {
   "cell_type": "code",
   "execution_count": null,
   "id": "e12a309a",
   "metadata": {},
   "outputs": [],
   "source": [
    "sns.lineplot(x='Loan_Status',y='Dependents',data=df)"
   ]
  },
  {
   "cell_type": "code",
   "execution_count": null,
   "id": "36e7b9eb",
   "metadata": {},
   "outputs": [],
   "source": [
    "sns.relplot(x='Loan_Status',y='Dependents',data=df)"
   ]
  },
  {
   "cell_type": "code",
   "execution_count": null,
   "id": "2cf8f77e",
   "metadata": {},
   "outputs": [],
   "source": [
    "sns.regplot(x='Loan_Status',y='Dependents',data=df)"
   ]
  },
  {
   "cell_type": "code",
   "execution_count": null,
   "id": "c869a2b4",
   "metadata": {},
   "outputs": [],
   "source": [
    "sns.catplot(x='Loan_Status',y='Dependents',data=df,kind='bar')"
   ]
  },
  {
   "cell_type": "code",
   "execution_count": null,
   "id": "f25cf1b0",
   "metadata": {},
   "outputs": [],
   "source": [
    "sns.scatterplot(x='Loan_Status',y='Education',data=df)"
   ]
  },
  {
   "cell_type": "code",
   "execution_count": null,
   "id": "57f0fcc6",
   "metadata": {},
   "outputs": [],
   "source": [
    "sns.relplot(x='Loan_Status',y='Education',data=df)"
   ]
  },
  {
   "cell_type": "code",
   "execution_count": null,
   "id": "fa5d0b69",
   "metadata": {},
   "outputs": [],
   "source": [
    "sns.regplot(x='Loan_Status',y='Education',data=df)"
   ]
  },
  {
   "cell_type": "code",
   "execution_count": null,
   "id": "dde9e835",
   "metadata": {},
   "outputs": [],
   "source": [
    "sns.lineplot(x='Loan_Status',y='Education',data=df)"
   ]
  },
  {
   "cell_type": "code",
   "execution_count": null,
   "id": "b660a6a5",
   "metadata": {},
   "outputs": [],
   "source": [
    "sns.catplot(x='Loan_Status',y='Education',data=df,kind='bar')"
   ]
  },
  {
   "cell_type": "code",
   "execution_count": null,
   "id": "d2c66810",
   "metadata": {},
   "outputs": [],
   "source": [
    "sns.scatterplot(x='Loan_Status',y='Self_Employed',data=df)"
   ]
  },
  {
   "cell_type": "code",
   "execution_count": null,
   "id": "6c9694c5",
   "metadata": {},
   "outputs": [],
   "source": [
    "sns.relplot(x='Loan_Status',y='Self_Employed',data=df)"
   ]
  },
  {
   "cell_type": "code",
   "execution_count": null,
   "id": "8ae7da4d",
   "metadata": {},
   "outputs": [],
   "source": [
    "sns.regplot(x='Loan_Status',y='Self_Employed',data=df)"
   ]
  },
  {
   "cell_type": "code",
   "execution_count": null,
   "id": "5d6c6a4d",
   "metadata": {},
   "outputs": [],
   "source": [
    "sns.lineplot(x='Loan_Status',y='Self_Employed',data=df)"
   ]
  },
  {
   "cell_type": "code",
   "execution_count": null,
   "id": "d079e481",
   "metadata": {},
   "outputs": [],
   "source": [
    "sns.catplot(x='Loan_Status',y='Self_Employed',data=df,kind='bar')"
   ]
  },
  {
   "cell_type": "code",
   "execution_count": null,
   "id": "6651bf2d",
   "metadata": {},
   "outputs": [],
   "source": [
    "sns.scatterplot(x='Loan_Status',y='ApplicantIncome',data=df)"
   ]
  },
  {
   "cell_type": "code",
   "execution_count": null,
   "id": "d3aca22c",
   "metadata": {},
   "outputs": [],
   "source": [
    "sns.relplot(x='Loan_Status',y='ApplicantIncome',data=df)"
   ]
  },
  {
   "cell_type": "code",
   "execution_count": null,
   "id": "a8bca1c3",
   "metadata": {},
   "outputs": [],
   "source": [
    "sns.regplot(x='Loan_Status',y='ApplicantIncome',data=df)"
   ]
  },
  {
   "cell_type": "code",
   "execution_count": null,
   "id": "2f2aa0aa",
   "metadata": {},
   "outputs": [],
   "source": [
    "sns.lineplot(x='Loan_Status',y='ApplicantIncome',data=df)"
   ]
  },
  {
   "cell_type": "code",
   "execution_count": null,
   "id": "0b6c7e7e",
   "metadata": {},
   "outputs": [],
   "source": [
    "sns.catplot(x='Loan_Status',y='ApplicantIncome',data=df,kind='bar')"
   ]
  },
  {
   "cell_type": "code",
   "execution_count": null,
   "id": "17e09515",
   "metadata": {},
   "outputs": [],
   "source": [
    "sns.scatterplot(x='Loan_Status',y='CoapplicantIncome',data=df)"
   ]
  },
  {
   "cell_type": "code",
   "execution_count": null,
   "id": "8a4f558a",
   "metadata": {},
   "outputs": [],
   "source": [
    "sns.relplot(x='Loan_Status',y='CoapplicantIncome',data=df)"
   ]
  },
  {
   "cell_type": "code",
   "execution_count": null,
   "id": "9cf339d6",
   "metadata": {},
   "outputs": [],
   "source": [
    "sns.regplot(x='Loan_Status',y='CoapplicantIncome',data=df)"
   ]
  },
  {
   "cell_type": "code",
   "execution_count": null,
   "id": "0d3a4d3d",
   "metadata": {},
   "outputs": [],
   "source": [
    "sns.lineplot(x='Loan_Status',y='CoapplicantIncome',data=df)"
   ]
  },
  {
   "cell_type": "code",
   "execution_count": null,
   "id": "b3faf26b",
   "metadata": {},
   "outputs": [],
   "source": [
    "sns.catplot(x='Loan_Status',y='CoapplicantIncome',data=df,kind='bar')"
   ]
  },
  {
   "cell_type": "code",
   "execution_count": null,
   "id": "bfe15a49",
   "metadata": {},
   "outputs": [],
   "source": [
    "sns.scatterplot(x='Loan_Status',y='LoanAmount',data=df)"
   ]
  },
  {
   "cell_type": "code",
   "execution_count": null,
   "id": "ee833b44",
   "metadata": {},
   "outputs": [],
   "source": [
    "sns.relplot(x='Loan_Status',y='LoanAmount',data=df)"
   ]
  },
  {
   "cell_type": "code",
   "execution_count": null,
   "id": "8fb440f9",
   "metadata": {},
   "outputs": [],
   "source": [
    "sns.regplot(x='Loan_Status',y='LoanAmount',data=df)"
   ]
  },
  {
   "cell_type": "code",
   "execution_count": null,
   "id": "763fe60c",
   "metadata": {},
   "outputs": [],
   "source": [
    "sns.lineplot(x='Loan_Status',y='LoanAmount',data=df)"
   ]
  },
  {
   "cell_type": "code",
   "execution_count": null,
   "id": "374b832a",
   "metadata": {},
   "outputs": [],
   "source": [
    "sns.catplot(x='Loan_Status',y='LoanAmount',data=df,kind='bar')"
   ]
  },
  {
   "cell_type": "code",
   "execution_count": null,
   "id": "f92fd6e8",
   "metadata": {},
   "outputs": [],
   "source": [
    "sns.scatterplot(x='Loan_Status',y='Loan_Amount_Term',data=df)"
   ]
  },
  {
   "cell_type": "code",
   "execution_count": null,
   "id": "ba6b2160",
   "metadata": {},
   "outputs": [],
   "source": [
    "sns.relplot(x='Loan_Status',y='Loan_Amount_Term',data=df)"
   ]
  },
  {
   "cell_type": "code",
   "execution_count": null,
   "id": "1dc3028d",
   "metadata": {},
   "outputs": [],
   "source": [
    "sns.regplot(x='Loan_Status',y='Loan_Amount_Term',data=df)"
   ]
  },
  {
   "cell_type": "code",
   "execution_count": null,
   "id": "cbe369cd",
   "metadata": {},
   "outputs": [],
   "source": [
    "sns.lineplot(x='Loan_Status',y='Loan_Amount_Term',data=df)"
   ]
  },
  {
   "cell_type": "code",
   "execution_count": null,
   "id": "5fdddd79",
   "metadata": {},
   "outputs": [],
   "source": [
    "sns.catplot(x='Loan_Status',y='Loan_Amount_Term',data=df,kind= 'bar')"
   ]
  },
  {
   "cell_type": "code",
   "execution_count": null,
   "id": "fb3025b5",
   "metadata": {},
   "outputs": [],
   "source": [
    "sns.scatterplot(x='Loan_Status',y='Credit_History',data=df)"
   ]
  },
  {
   "cell_type": "code",
   "execution_count": null,
   "id": "4bd06539",
   "metadata": {},
   "outputs": [],
   "source": [
    "sns.relplot(x='Loan_Status',y='Credit_History',data=df)"
   ]
  },
  {
   "cell_type": "code",
   "execution_count": null,
   "id": "00f731cc",
   "metadata": {},
   "outputs": [],
   "source": [
    "sns.regplot(x='Loan_Status',y='Credit_History',data=df)"
   ]
  },
  {
   "cell_type": "code",
   "execution_count": null,
   "id": "1f6ad176",
   "metadata": {},
   "outputs": [],
   "source": [
    "sns.lineplot(x='Loan_Status',y='Credit_History',data=df)"
   ]
  },
  {
   "cell_type": "code",
   "execution_count": null,
   "id": "1519bf7d",
   "metadata": {},
   "outputs": [],
   "source": [
    "sns.catplot(x='Loan_Status',y='Credit_History',data=df,kind='bar')"
   ]
  },
  {
   "cell_type": "code",
   "execution_count": null,
   "id": "fdb46f85",
   "metadata": {},
   "outputs": [],
   "source": [
    "sns.scatterplot(x='Loan_Status',y='Property_Area',data=df)"
   ]
  },
  {
   "cell_type": "code",
   "execution_count": null,
   "id": "7a3af187",
   "metadata": {},
   "outputs": [],
   "source": [
    "sns.relplot(x='Loan_Status',y='Property_Area',data=df)"
   ]
  },
  {
   "cell_type": "code",
   "execution_count": null,
   "id": "39bb6f4c",
   "metadata": {},
   "outputs": [],
   "source": [
    "sns.regplot(x='Loan_Status',y='Property_Area',data=df)"
   ]
  },
  {
   "cell_type": "code",
   "execution_count": null,
   "id": "251b02a2",
   "metadata": {},
   "outputs": [],
   "source": [
    "sns.lineplot(x='Loan_Status',y='Property_Area',data=df)"
   ]
  },
  {
   "cell_type": "code",
   "execution_count": null,
   "id": "6e3228ff",
   "metadata": {},
   "outputs": [],
   "source": [
    "sns.catplot(x='Loan_Status',y='Property_Area',data=df,kind='bar')"
   ]
  },
  {
   "cell_type": "code",
   "execution_count": null,
   "id": "ecd8dccd",
   "metadata": {},
   "outputs": [],
   "source": [
    "sns.scatterplot(x='Married',y='Education',data=df)"
   ]
  },
  {
   "cell_type": "code",
   "execution_count": null,
   "id": "36207a45",
   "metadata": {},
   "outputs": [],
   "source": [
    "sns.catplot(x='Married',y='Education',data=df,kind='bar')"
   ]
  },
  {
   "cell_type": "code",
   "execution_count": null,
   "id": "2eb61334",
   "metadata": {},
   "outputs": [],
   "source": [
    "sns.scatterplot(x='LoanAmount',y='Married',data=df)"
   ]
  },
  {
   "cell_type": "code",
   "execution_count": null,
   "id": "ebd22b89",
   "metadata": {},
   "outputs": [],
   "source": [
    "sns.lineplot(x='LoanAmount',y='Married',data=df)"
   ]
  },
  {
   "cell_type": "code",
   "execution_count": null,
   "id": "23435383",
   "metadata": {},
   "outputs": [],
   "source": [
    "sns.relplot(x='LoanAmount',y='Married',data=df)"
   ]
  },
  {
   "cell_type": "code",
   "execution_count": null,
   "id": "a316ec01",
   "metadata": {},
   "outputs": [],
   "source": [
    "sns.regplot(x='LoanAmount',y='Married',data=df)"
   ]
  },
  {
   "cell_type": "code",
   "execution_count": null,
   "id": "cdd91d8b",
   "metadata": {},
   "outputs": [],
   "source": [
    "sns.catplot(x='Married',y='LoanAmount',data=df,kind='bar')"
   ]
  },
  {
   "cell_type": "code",
   "execution_count": null,
   "id": "410cee93",
   "metadata": {},
   "outputs": [],
   "source": [
    "sns.catplot(x='Education',y='Credit_History',kind='bar',data = df)"
   ]
  },
  {
   "cell_type": "code",
   "execution_count": null,
   "id": "d75875ac",
   "metadata": {},
   "outputs": [],
   "source": [
    "sns.scatterplot(x='Education',y='Credit_History',data = df)"
   ]
  },
  {
   "cell_type": "code",
   "execution_count": null,
   "id": "6a019f19",
   "metadata": {},
   "outputs": [],
   "source": [
    "sns.scatterplot(x='Gender',y='CoapplicantIncome',data=df)"
   ]
  },
  {
   "cell_type": "code",
   "execution_count": null,
   "id": "0d4cf480",
   "metadata": {},
   "outputs": [],
   "source": [
    "sns.relplot(x='Gender',y='CoapplicantIncome',data=df)"
   ]
  },
  {
   "cell_type": "code",
   "execution_count": null,
   "id": "2ba82d91",
   "metadata": {},
   "outputs": [],
   "source": [
    "sns.regplot(x='Gender',y='CoapplicantIncome',data=df)"
   ]
  },
  {
   "cell_type": "code",
   "execution_count": null,
   "id": "5a487d04",
   "metadata": {},
   "outputs": [],
   "source": [
    "sns.lineplot(x='Gender',y='CoapplicantIncome',data=df)"
   ]
  },
  {
   "cell_type": "code",
   "execution_count": null,
   "id": "a00c2f22",
   "metadata": {},
   "outputs": [],
   "source": [
    "sns.catplot(x='Gender',y='CoapplicantIncome',data=df,kind='bar')"
   ]
  },
  {
   "cell_type": "code",
   "execution_count": null,
   "id": "33ae3494",
   "metadata": {},
   "outputs": [],
   "source": [
    "sns.pairplot(df)"
   ]
  },
  {
   "cell_type": "code",
   "execution_count": null,
   "id": "47e204fc",
   "metadata": {},
   "outputs": [],
   "source": [
    "sns.scatterplot(x='Gender',y='Dependents',hue='Loan_Status',data = df)"
   ]
  },
  {
   "cell_type": "code",
   "execution_count": null,
   "id": "10cf85f8",
   "metadata": {},
   "outputs": [],
   "source": [
    "sns.scatterplot(x='Gender',y='Self_Employed',hue='Loan_Status',data = df)"
   ]
  },
  {
   "cell_type": "code",
   "execution_count": null,
   "id": "ca2eb25e",
   "metadata": {},
   "outputs": [],
   "source": [
    "sns.scatterplot(x='Dependents',y='Self_Employed',hue='Loan_Status',data = df)"
   ]
  },
  {
   "cell_type": "code",
   "execution_count": null,
   "id": "7aefaffb",
   "metadata": {},
   "outputs": [],
   "source": [
    "sns.scatterplot(x='LoanAmount',y='Self_Employed',hue='Loan_Status',data = df)"
   ]
  },
  {
   "cell_type": "code",
   "execution_count": null,
   "id": "c4d04fd6",
   "metadata": {},
   "outputs": [],
   "source": [
    "sns.scatterplot(x='Loan_Amount_Term',y='Self_Employed',hue='Loan_Status',data = df)"
   ]
  },
  {
   "cell_type": "code",
   "execution_count": null,
   "id": "5add0286",
   "metadata": {},
   "outputs": [],
   "source": [
    "sns.scatterplot(x='Loan_Amount_Term',y='ApplicantIncome',hue='Loan_Status',data = df)"
   ]
  },
  {
   "cell_type": "code",
   "execution_count": null,
   "id": "7fa7ac63",
   "metadata": {},
   "outputs": [],
   "source": [
    "sns.scatterplot(x='ApplicantIncome',y='LoanAmount',hue='Loan_Status',data = df)"
   ]
  },
  {
   "cell_type": "code",
   "execution_count": null,
   "id": "d4963940",
   "metadata": {},
   "outputs": [],
   "source": [
    "sns.scatterplot(x='Credit_History',y='LoanAmount',hue='Loan_Status',data = df)"
   ]
  },
  {
   "cell_type": "code",
   "execution_count": null,
   "id": "ea88856d",
   "metadata": {},
   "outputs": [],
   "source": [
    "sns.scatterplot(x='Property_Area',y='LoanAmount',hue='Loan_Status',data = df)"
   ]
  },
  {
   "cell_type": "code",
   "execution_count": null,
   "id": "157850e9",
   "metadata": {},
   "outputs": [],
   "source": [
    "df['Gender'].plot.box()"
   ]
  },
  {
   "cell_type": "code",
   "execution_count": null,
   "id": "81380d1d",
   "metadata": {},
   "outputs": [],
   "source": [
    "df['Married'].plot.box()"
   ]
  },
  {
   "cell_type": "code",
   "execution_count": null,
   "id": "73e50ded",
   "metadata": {},
   "outputs": [],
   "source": [
    "df['Married'].plot.box()"
   ]
  },
  {
   "cell_type": "code",
   "execution_count": null,
   "id": "0fd28916",
   "metadata": {},
   "outputs": [],
   "source": [
    "df['Dependents'].plot.box()"
   ]
  },
  {
   "cell_type": "code",
   "execution_count": null,
   "id": "35adf58c",
   "metadata": {},
   "outputs": [],
   "source": [
    "df['Education'].plot.box()"
   ]
  },
  {
   "cell_type": "code",
   "execution_count": null,
   "id": "b819ec11",
   "metadata": {},
   "outputs": [],
   "source": [
    "df['Self_Employed'].plot.box()"
   ]
  },
  {
   "cell_type": "code",
   "execution_count": null,
   "id": "8cb5ee11",
   "metadata": {},
   "outputs": [],
   "source": [
    "df['ApplicantIncome'].plot.box()"
   ]
  },
  {
   "cell_type": "code",
   "execution_count": null,
   "id": "f01377a9",
   "metadata": {},
   "outputs": [],
   "source": [
    "df['CoapplicantIncome'].plot.box()"
   ]
  },
  {
   "cell_type": "code",
   "execution_count": null,
   "id": "ff830917",
   "metadata": {},
   "outputs": [],
   "source": [
    "df['LoanAmount'].plot.box()"
   ]
  },
  {
   "cell_type": "code",
   "execution_count": null,
   "id": "f387e858",
   "metadata": {},
   "outputs": [],
   "source": [
    "df['Loan_Amount_Term'].plot.box()"
   ]
  },
  {
   "cell_type": "code",
   "execution_count": null,
   "id": "85582cf1",
   "metadata": {},
   "outputs": [],
   "source": [
    "df['Credit_History'].plot.box()"
   ]
  },
  {
   "cell_type": "code",
   "execution_count": null,
   "id": "0fde7df0",
   "metadata": {},
   "outputs": [],
   "source": [
    "df['Property_Area'].plot.box()"
   ]
  },
  {
   "cell_type": "code",
   "execution_count": null,
   "id": "ba2dd970",
   "metadata": {},
   "outputs": [],
   "source": [
    "df['Loan_Status'].plot.box()"
   ]
  },
  {
   "cell_type": "code",
   "execution_count": null,
   "id": "503ddfef",
   "metadata": {},
   "outputs": [],
   "source": [
    "df.columns"
   ]
  },
  {
   "cell_type": "code",
   "execution_count": null,
   "id": "b213fd09",
   "metadata": {},
   "outputs": [],
   "source": [
    "from scipy.stats import zscore"
   ]
  },
  {
   "cell_type": "code",
   "execution_count": null,
   "id": "a952dd18",
   "metadata": {},
   "outputs": [],
   "source": [
    "dfcontcol = df[[\"ApplicantIncome\",\"CoapplicantIncome\",\"LoanAmount\",\"Loan_Amount_Term\"]]"
   ]
  },
  {
   "cell_type": "code",
   "execution_count": null,
   "id": "5e31a2a0",
   "metadata": {},
   "outputs": [],
   "source": [
    "z=np.abs(zscore(dfcontcol))"
   ]
  },
  {
   "cell_type": "code",
   "execution_count": null,
   "id": "fa6d933c",
   "metadata": {},
   "outputs": [],
   "source": [
    "df_new=df[(z<3).all(axis=1)]"
   ]
  },
  {
   "cell_type": "code",
   "execution_count": null,
   "id": "b4de08a3",
   "metadata": {},
   "outputs": [],
   "source": [
    "df_new.head()"
   ]
  },
  {
   "cell_type": "code",
   "execution_count": null,
   "id": "c122320c",
   "metadata": {},
   "outputs": [],
   "source": [
    "df_new.skew()"
   ]
  },
  {
   "cell_type": "code",
   "execution_count": null,
   "id": "e140fb8f",
   "metadata": {},
   "outputs": [],
   "source": [
    "from scipy.stats import skew"
   ]
  },
  {
   "cell_type": "code",
   "execution_count": null,
   "id": "b74605e1",
   "metadata": {},
   "outputs": [],
   "source": [
    "for i in df_new:\n",
    "    print(i)\n",
    "    print(skew(df_new[i]))\n",
    "    plt.figure()\n",
    "    sns.distplot(df_new[i])\n",
    "    plt.show()"
   ]
  },
  {
   "cell_type": "code",
   "execution_count": null,
   "id": "ddba9934",
   "metadata": {},
   "outputs": [],
   "source": [
    "a = df_new.iloc[:,:-1]"
   ]
  },
  {
   "cell_type": "code",
   "execution_count": null,
   "id": "324a4a86",
   "metadata": {},
   "outputs": [],
   "source": [
    "a"
   ]
  },
  {
   "cell_type": "code",
   "execution_count": null,
   "id": "dd13b1bc",
   "metadata": {},
   "outputs": [],
   "source": [
    "from sklearn.preprocessing import PowerTransformer"
   ]
  },
  {
   "cell_type": "code",
   "execution_count": null,
   "id": "21fd2772",
   "metadata": {},
   "outputs": [],
   "source": [
    "pt=PowerTransformer(method='yeo-johnson') \n",
    "X_power=pt.fit_transform(a)\n",
    "df=pd.DataFrame(X_power,columns=a.columns)"
   ]
  },
  {
   "cell_type": "code",
   "execution_count": null,
   "id": "f4a4bcf0",
   "metadata": {},
   "outputs": [],
   "source": [
    "df.head()"
   ]
  },
  {
   "cell_type": "code",
   "execution_count": null,
   "id": "23a1b88d",
   "metadata": {},
   "outputs": [],
   "source": [
    "df.skew()"
   ]
  },
  {
   "cell_type": "code",
   "execution_count": null,
   "id": "259c1e88",
   "metadata": {},
   "outputs": [],
   "source": [
    "x= df"
   ]
  },
  {
   "cell_type": "code",
   "execution_count": null,
   "id": "4a288e45",
   "metadata": {},
   "outputs": [],
   "source": [
    "x"
   ]
  },
  {
   "cell_type": "code",
   "execution_count": null,
   "id": "8b49f1d3",
   "metadata": {},
   "outputs": [],
   "source": [
    "y  = df_new.iloc[:,-1]"
   ]
  },
  {
   "cell_type": "code",
   "execution_count": null,
   "id": "baa671e8",
   "metadata": {},
   "outputs": [],
   "source": [
    "y"
   ]
  },
  {
   "cell_type": "code",
   "execution_count": null,
   "id": "cdfb5d63",
   "metadata": {},
   "outputs": [],
   "source": [
    "y.value_counts()"
   ]
  },
  {
   "cell_type": "code",
   "execution_count": null,
   "id": "b6538f1c",
   "metadata": {},
   "outputs": [],
   "source": [
    "from imblearn.over_sampling import SMOTE"
   ]
  },
  {
   "cell_type": "code",
   "execution_count": null,
   "id": "75f91dd5",
   "metadata": {},
   "outputs": [],
   "source": [
    "SM = SMOTE()\n",
    "x,y = SM.fit_resample(x, y)"
   ]
  },
  {
   "cell_type": "code",
   "execution_count": null,
   "id": "844e2275",
   "metadata": {},
   "outputs": [],
   "source": [
    "y.value_counts()"
   ]
  },
  {
   "cell_type": "code",
   "execution_count": null,
   "id": "f277a65d",
   "metadata": {},
   "outputs": [],
   "source": [
    "from sklearn.model_selection import train_test_split"
   ]
  },
  {
   "cell_type": "code",
   "execution_count": null,
   "id": "a263039f",
   "metadata": {},
   "outputs": [],
   "source": [
    "x_train,x_test,y_train,y_test=train_test_split(x,y,test_size=.20,random_state=42)"
   ]
  },
  {
   "cell_type": "code",
   "execution_count": null,
   "id": "d94c4ee5",
   "metadata": {},
   "outputs": [],
   "source": [
    "import sklearn\n",
    "from sklearn.naive_bayes import GaussianNB\n",
    "from sklearn.svm import SVC\n",
    "from sklearn.tree import DecisionTreeClassifier\n",
    "from sklearn.metrics import accuracy_score,confusion_matrix,classification_report\n",
    "from sklearn.neighbors import KNeighborsClassifier\n",
    "from sklearn.ensemble import RandomForestClassifier\n",
    "from sklearn.model_selection import GridSearchCV"
   ]
  },
  {
   "cell_type": "code",
   "execution_count": null,
   "id": "f1051c09",
   "metadata": {},
   "outputs": [],
   "source": [
    "svc= SVC()\n",
    "svc.fit(x_train,y_train)\n",
    "svc.score(x_train,y_train)\n",
    "predsvc = svc.predict(x_test)\n",
    "print(accuracy_score(y_test,predsvc))\n",
    "print(confusion_matrix(y_test,predsvc))\n",
    "print(classification_report(y_test,predsvc))"
   ]
  },
  {
   "cell_type": "code",
   "execution_count": null,
   "id": "416d9452",
   "metadata": {},
   "outputs": [],
   "source": [
    "paramsv = {'kernel':['linear','poly','rbf'],\n",
    "           'gamma':['scale','auto'],\n",
    "            'degree':np.arange(1,10)}"
   ]
  },
  {
   "cell_type": "code",
   "execution_count": null,
   "id": "452d77e8",
   "metadata": {},
   "outputs": [],
   "source": [
    "gc = GridSearchCV(SVC(),paramsv,cv=5)\n",
    "gc.fit(x,y)\n",
    "gc.best_params_"
   ]
  },
  {
   "cell_type": "code",
   "execution_count": null,
   "id": "08d8f841",
   "metadata": {},
   "outputs": [],
   "source": [
    "Svc= SVC(kernel ='poly',gamma='scale',degree=8)\n",
    "Svc.fit(x_train,y_train)\n",
    "Svc.score(x_train,y_train)\n",
    "predSvc = Svc.predict(x_test)\n",
    "print(accuracy_score(y_test,predSvc))\n",
    "print(confusion_matrix(y_test,predSvc))\n",
    "print(classification_report(y_test,predSvc))"
   ]
  },
  {
   "cell_type": "code",
   "execution_count": null,
   "id": "891bc467",
   "metadata": {},
   "outputs": [],
   "source": [
    "dtc= DecisionTreeClassifier()\n",
    "dtc.fit(x_train,y_train)\n",
    "dtc.score(x_train,y_train)\n",
    "preddtc = dtc.predict(x_test)\n",
    "print(accuracy_score(y_test,preddtc))\n",
    "print(confusion_matrix(y_test,preddtc))\n",
    "print(classification_report(y_test,preddtc))"
   ]
  },
  {
   "cell_type": "code",
   "execution_count": null,
   "id": "6bf42132",
   "metadata": {},
   "outputs": [],
   "source": [
    "paramdt = {'criterion':['gini','entropy'],'splitter':['best','random'],\n",
    "            'max_depth': np.arange(1,10)}"
   ]
  },
  {
   "cell_type": "code",
   "execution_count": null,
   "id": "82a7d3f9",
   "metadata": {},
   "outputs": [],
   "source": [
    "gc = GridSearchCV(DecisionTreeClassifier(),paramdt,cv=5)"
   ]
  },
  {
   "cell_type": "code",
   "execution_count": null,
   "id": "93948942",
   "metadata": {},
   "outputs": [],
   "source": [
    "gc.fit(x,y)\n",
    "gc.best_params_"
   ]
  },
  {
   "cell_type": "code",
   "execution_count": null,
   "id": "667b616a",
   "metadata": {},
   "outputs": [],
   "source": [
    "DTC= DecisionTreeClassifier(criterion='gini',splitter='best',max_depth=1)\n",
    "DTC.fit(x_train,y_train)\n",
    "DTC.score(x_train,y_train)\n",
    "predDTC = DTC.predict(x_test)\n",
    "print(accuracy_score(y_test,predDTC))\n",
    "print(confusion_matrix(y_test,predDTC))\n",
    "print(classification_report(y_test,predDTC))"
   ]
  },
  {
   "cell_type": "code",
   "execution_count": null,
   "id": "55b4166d",
   "metadata": {},
   "outputs": [],
   "source": [
    "knn = KNeighborsClassifier(n_neighbors=5)\n",
    "knn.fit(x_train,y_train)\n",
    "knn.score(x_train,y_train)\n",
    "predknn = knn.predict(x_test)\n",
    "print(accuracy_score(y_test,predknn))\n",
    "print(confusion_matrix(y_test,predknn))\n",
    "print(classification_report(y_test,predknn))"
   ]
  },
  {
   "cell_type": "code",
   "execution_count": null,
   "id": "528f5e97",
   "metadata": {},
   "outputs": [],
   "source": [
    "paramkn = {'n_neighbors':np.arange(1,10),'weights':['uniform','distance'],'algorithm':['auto','ball_tree','kd_tree']}"
   ]
  },
  {
   "cell_type": "code",
   "execution_count": null,
   "id": "1b1f0a3f",
   "metadata": {},
   "outputs": [],
   "source": [
    "gc = GridSearchCV(KNeighborsClassifier(),paramkn,cv=5)"
   ]
  },
  {
   "cell_type": "code",
   "execution_count": null,
   "id": "cabcce46",
   "metadata": {},
   "outputs": [],
   "source": [
    "gc.fit(x,y)\n",
    "gc.best_params_"
   ]
  },
  {
   "cell_type": "code",
   "execution_count": null,
   "id": "8ee8beb9",
   "metadata": {},
   "outputs": [],
   "source": [
    "KNn = KNeighborsClassifier(n_neighbors=1,weights='uniform',algorithm='auto')\n",
    "KNn.fit(x_train,y_train)\n",
    "KNn.score(x_train,y_train)\n",
    "predKNn = KNn.predict(x_test)\n",
    "print(accuracy_score(y_test,predKNn))\n",
    "print(confusion_matrix(y_test,predKNn))\n",
    "print(classification_report(y_test,predKNn))"
   ]
  },
  {
   "cell_type": "code",
   "execution_count": null,
   "id": "c6f8c62a",
   "metadata": {},
   "outputs": [],
   "source": [
    "rfc = RandomForestClassifier()\n",
    "rfc.fit(x_train, y_train)\n",
    "rfc.score(x_test, y_test)\n",
    "predrfc = rfc.predict(x_test)\n",
    "print(accuracy_score(y_test,predrfc))\n",
    "print(confusion_matrix(y_test,predrfc))\n",
    "print(classification_report(y_test,predrfc))"
   ]
  },
  {
   "cell_type": "code",
   "execution_count": null,
   "id": "25e2829f",
   "metadata": {},
   "outputs": [],
   "source": [
    "paramrf={'n_estimators':np.arange(1,10),'criterion':['gini','entropy'],\n",
    "          'max_depth':np.arange(1,10)}"
   ]
  },
  {
   "cell_type": "code",
   "execution_count": null,
   "id": "a33b85c2",
   "metadata": {},
   "outputs": [],
   "source": [
    "gc = GridSearchCV(RandomForestClassifier(),paramrf,cv=5)"
   ]
  },
  {
   "cell_type": "code",
   "execution_count": null,
   "id": "8ba48dea",
   "metadata": {},
   "outputs": [],
   "source": [
    "gc.fit(x,y)\n",
    "gc.best_params_"
   ]
  },
  {
   "cell_type": "code",
   "execution_count": null,
   "id": "3c98d396",
   "metadata": {},
   "outputs": [],
   "source": [
    "Rfc = RandomForestClassifier(criterion='entropy',n_estimators=1,max_depth=5)\n",
    "Rfc.fit(x_train, y_train)\n",
    "Rfc.score(x_test, y_test)\n",
    "predRfc = Rfc.predict(x_test)\n",
    "print(accuracy_score(y_test,predRfc))\n",
    "print(confusion_matrix(y_test,predRfc))\n",
    "print(classification_report(y_test,predRfc))"
   ]
  },
  {
   "cell_type": "code",
   "execution_count": null,
   "id": "264e37e2",
   "metadata": {},
   "outputs": [],
   "source": [
    "from sklearn.model_selection import cross_val_score"
   ]
  },
  {
   "cell_type": "code",
   "execution_count": null,
   "id": "67cf3abd",
   "metadata": {},
   "outputs": [],
   "source": [
    "print(cross_val_score(Svc,x,y,cv=5).mean())"
   ]
  },
  {
   "cell_type": "code",
   "execution_count": null,
   "id": "b52364e6",
   "metadata": {},
   "outputs": [],
   "source": [
    "print(cross_val_score(DTC,x,y,cv=5).mean())"
   ]
  },
  {
   "cell_type": "code",
   "execution_count": null,
   "id": "5f93f260",
   "metadata": {},
   "outputs": [],
   "source": [
    "print(cross_val_score(KNn,x,y,cv=5).mean())"
   ]
  },
  {
   "cell_type": "code",
   "execution_count": null,
   "id": "024da53d",
   "metadata": {},
   "outputs": [],
   "source": [
    "print(cross_val_score(Rfc,x,y,cv=5).mean())"
   ]
  },
  {
   "cell_type": "code",
   "execution_count": null,
   "id": "3cd2558f",
   "metadata": {},
   "outputs": [],
   "source": [
    "import joblib"
   ]
  },
  {
   "cell_type": "code",
   "execution_count": null,
   "id": "0ed2ca9c",
   "metadata": {},
   "outputs": [],
   "source": [
    "joblib.dump(KNn,'KNn_joblib')"
   ]
  }
 ],
 "metadata": {
  "kernelspec": {
   "display_name": "Python 3",
   "language": "python",
   "name": "python3"
  },
  "language_info": {
   "codemirror_mode": {
    "name": "ipython",
    "version": 3
   },
   "file_extension": ".py",
   "mimetype": "text/x-python",
   "name": "python",
   "nbconvert_exporter": "python",
   "pygments_lexer": "ipython3",
   "version": "3.8.8"
  }
 },
 "nbformat": 4,
 "nbformat_minor": 5
}
