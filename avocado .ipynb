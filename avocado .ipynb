{
 "cells": [
  {
   "cell_type": "code",
   "execution_count": null,
   "id": "5550d9d2",
   "metadata": {},
   "outputs": [],
   "source": [
    "import pandas as pd"
   ]
  },
  {
   "cell_type": "code",
   "execution_count": null,
   "id": "76201216",
   "metadata": {},
   "outputs": [],
   "source": [
    "df = pd.read_csv(\"avocado.csv\")"
   ]
  },
  {
   "cell_type": "code",
   "execution_count": null,
   "id": "a11cf934",
   "metadata": {},
   "outputs": [],
   "source": [
    "df"
   ]
  },
  {
   "cell_type": "markdown",
   "id": "56fd97ec",
   "metadata": {},
   "source": [
    "there are 18249 rows and 14 columns in tha data set "
   ]
  },
  {
   "cell_type": "code",
   "execution_count": null,
   "id": "1e98ea23",
   "metadata": {},
   "outputs": [],
   "source": [
    "df.head()"
   ]
  },
  {
   "cell_type": "markdown",
   "id": "f1c93fbc",
   "metadata": {},
   "source": [
    "data can be see by two way first we can solve it by regression algorthim and second we solve it by classification algorthim for regression target column is Average price and for classification target column is region "
   ]
  },
  {
   "cell_type": "code",
   "execution_count": null,
   "id": "492a162b",
   "metadata": {},
   "outputs": [],
   "source": [
    "df.columns"
   ]
  },
  {
   "cell_type": "code",
   "execution_count": null,
   "id": "57412390",
   "metadata": {},
   "outputs": [],
   "source": [
    "df.drop(['Unnamed: 0'],inplace = True,axis = 1)"
   ]
  },
  {
   "cell_type": "code",
   "execution_count": null,
   "id": "af13710b",
   "metadata": {},
   "outputs": [],
   "source": [
    "df.head()"
   ]
  },
  {
   "cell_type": "code",
   "execution_count": null,
   "id": "737750e4",
   "metadata": {},
   "outputs": [],
   "source": [
    "df['XLarge Bags'].unique()"
   ]
  },
  {
   "cell_type": "code",
   "execution_count": null,
   "id": "8b13cf34",
   "metadata": {},
   "outputs": [],
   "source": [
    "df['XLarge Bags'].value_counts()"
   ]
  },
  {
   "cell_type": "code",
   "execution_count": null,
   "id": "4ec86eef",
   "metadata": {},
   "outputs": [],
   "source": [
    "df['region'].unique()"
   ]
  },
  {
   "cell_type": "code",
   "execution_count": null,
   "id": "38c3a751",
   "metadata": {},
   "outputs": [],
   "source": [
    "df['region'].value_counts()"
   ]
  },
  {
   "cell_type": "code",
   "execution_count": null,
   "id": "0abb7294",
   "metadata": {},
   "outputs": [],
   "source": [
    "df['AveragePrice'].unique()"
   ]
  },
  {
   "cell_type": "code",
   "execution_count": null,
   "id": "d61a5a3c",
   "metadata": {},
   "outputs": [],
   "source": [
    "df['AveragePrice'].value_counts()"
   ]
  },
  {
   "cell_type": "code",
   "execution_count": null,
   "id": "0a3e6065",
   "metadata": {},
   "outputs": [],
   "source": [
    "df.describe()"
   ]
  },
  {
   "cell_type": "code",
   "execution_count": null,
   "id": "ca931ced",
   "metadata": {},
   "outputs": [],
   "source": [
    "df.isnull().sum()"
   ]
  },
  {
   "cell_type": "code",
   "execution_count": null,
   "id": "ba7c12ab",
   "metadata": {},
   "outputs": [],
   "source": [
    "import warnings\n",
    "warnings.filterwarnings('ignore')"
   ]
  },
  {
   "cell_type": "code",
   "execution_count": null,
   "id": "358fa5c3",
   "metadata": {},
   "outputs": [],
   "source": [
    "from sklearn.preprocessing import LabelEncoder"
   ]
  },
  {
   "cell_type": "code",
   "execution_count": null,
   "id": "1cbd40ad",
   "metadata": {},
   "outputs": [],
   "source": [
    "le = LabelEncoder()"
   ]
  },
  {
   "cell_type": "code",
   "execution_count": null,
   "id": "1858cc2e",
   "metadata": {},
   "outputs": [],
   "source": [
    "for i in df.columns:\n",
    "    if df[i].dtypes =='object':\n",
    "        df[i]=le.fit_transform(df[i].values.reshape(-1,1))"
   ]
  },
  {
   "cell_type": "code",
   "execution_count": null,
   "id": "f80e9159",
   "metadata": {},
   "outputs": [],
   "source": [
    "df.head()"
   ]
  },
  {
   "cell_type": "code",
   "execution_count": null,
   "id": "1a097b14",
   "metadata": {},
   "outputs": [],
   "source": [
    "df.isnull().sum()"
   ]
  },
  {
   "cell_type": "code",
   "execution_count": null,
   "id": "32ed6f42",
   "metadata": {},
   "outputs": [],
   "source": [
    "df.corr()"
   ]
  },
  {
   "cell_type": "code",
   "execution_count": null,
   "id": "c5df1cf6",
   "metadata": {},
   "outputs": [],
   "source": [
    "df.describe()"
   ]
  },
  {
   "cell_type": "code",
   "execution_count": null,
   "id": "4ffbd5c0",
   "metadata": {},
   "outputs": [],
   "source": [
    "df['XLarge Bags'].unique()"
   ]
  },
  {
   "cell_type": "code",
   "execution_count": null,
   "id": "9caaef64",
   "metadata": {},
   "outputs": [],
   "source": [
    "df.head()"
   ]
  },
  {
   "cell_type": "code",
   "execution_count": null,
   "id": "d9b49ab2",
   "metadata": {},
   "outputs": [],
   "source": [
    "df['region'].unique()"
   ]
  },
  {
   "cell_type": "code",
   "execution_count": null,
   "id": "d8c6b375",
   "metadata": {},
   "outputs": [],
   "source": [
    "df['region'].value_counts()"
   ]
  },
  {
   "cell_type": "code",
   "execution_count": null,
   "id": "466a00eb",
   "metadata": {},
   "outputs": [],
   "source": [
    "import matplotlib.pyplot as plt\n",
    "import seaborn as sns\n",
    "import numpy as np "
   ]
  },
  {
   "cell_type": "code",
   "execution_count": null,
   "id": "e438ddfe",
   "metadata": {},
   "outputs": [],
   "source": [
    "plt.figure(figsize = (15,6))\n",
    "sns.heatmap(df.corr(),annot= True)"
   ]
  },
  {
   "cell_type": "code",
   "execution_count": null,
   "id": "d3c5b731",
   "metadata": {},
   "outputs": [],
   "source": [
    "#date and year shows the strong correlation with each other \n",
    "#total bags and small bags shows the very strong correlataion with each other ,total volume and 4046 also shows very strong correlation with each other \n",
    "#data is also showing very bad relation with region"
   ]
  },
  {
   "cell_type": "code",
   "execution_count": null,
   "id": "3ccbf950",
   "metadata": {},
   "outputs": [],
   "source": [
    "df.columns"
   ]
  },
  {
   "cell_type": "code",
   "execution_count": null,
   "id": "8bf8ea8a",
   "metadata": {},
   "outputs": [],
   "source": [
    "A = [\"Date\",\"Small Bags\",\"Total Volume\"]"
   ]
  },
  {
   "cell_type": "code",
   "execution_count": null,
   "id": "83e8ccfd",
   "metadata": {},
   "outputs": [],
   "source": [
    "df.drop(A,axis = 1,inplace = True)"
   ]
  },
  {
   "cell_type": "code",
   "execution_count": null,
   "id": "7a4ed7b0",
   "metadata": {},
   "outputs": [],
   "source": [
    "df.head()"
   ]
  },
  {
   "cell_type": "code",
   "execution_count": null,
   "id": "80fdce19",
   "metadata": {},
   "outputs": [],
   "source": [
    "plt.figure(figsize = (15,10))\n",
    "sns.heatmap(df.corr(),annot = True)\n",
    "plt.show()"
   ]
  },
  {
   "cell_type": "code",
   "execution_count": null,
   "id": "435dc75e",
   "metadata": {},
   "outputs": [],
   "source": [
    "df.corr()"
   ]
  },
  {
   "cell_type": "markdown",
   "id": "78df124e",
   "metadata": {},
   "source": [
    "# firs we check the frequency of the data means where is our most of the data lying "
   ]
  },
  {
   "cell_type": "markdown",
   "id": "274a0365",
   "metadata": {},
   "source": [
    "we check it with the help of violinplot and histplot"
   ]
  },
  {
   "cell_type": "code",
   "execution_count": null,
   "id": "70a40112",
   "metadata": {},
   "outputs": [],
   "source": [
    "sns.violinplot(df['AveragePrice'])"
   ]
  },
  {
   "cell_type": "code",
   "execution_count": null,
   "id": "9a2913aa",
   "metadata": {},
   "outputs": [],
   "source": [
    "sns.histplot(df['AveragePrice'])"
   ]
  },
  {
   "cell_type": "code",
   "execution_count": null,
   "id": "ec72b3ea",
   "metadata": {},
   "outputs": [],
   "source": [
    "sns.violinplot(df['4046'])"
   ]
  },
  {
   "cell_type": "code",
   "execution_count": null,
   "id": "11f86edc",
   "metadata": {},
   "outputs": [],
   "source": [
    "sns.histplot(df['4046'])"
   ]
  },
  {
   "cell_type": "code",
   "execution_count": null,
   "id": "3ab6ab42",
   "metadata": {},
   "outputs": [],
   "source": [
    "sns.violinplot(df['4225'])"
   ]
  },
  {
   "cell_type": "code",
   "execution_count": null,
   "id": "ae6959fd",
   "metadata": {},
   "outputs": [],
   "source": [
    "sns.histplot(df['4225'])"
   ]
  },
  {
   "cell_type": "code",
   "execution_count": null,
   "id": "df5e50cf",
   "metadata": {},
   "outputs": [],
   "source": [
    "sns.violinplot(df['4770'])"
   ]
  },
  {
   "cell_type": "code",
   "execution_count": null,
   "id": "af6861f3",
   "metadata": {},
   "outputs": [],
   "source": [
    "sns.histplot(df['4770'])"
   ]
  },
  {
   "cell_type": "code",
   "execution_count": null,
   "id": "8a566acb",
   "metadata": {},
   "outputs": [],
   "source": [
    "sns.violinplot(df['Total Bags'])"
   ]
  },
  {
   "cell_type": "code",
   "execution_count": null,
   "id": "fde29440",
   "metadata": {},
   "outputs": [],
   "source": [
    "sns.histplot(df['Total Bags'])"
   ]
  },
  {
   "cell_type": "code",
   "execution_count": null,
   "id": "62f5d0fc",
   "metadata": {},
   "outputs": [],
   "source": [
    "sns.violinplot(df['Large Bags'])"
   ]
  },
  {
   "cell_type": "code",
   "execution_count": null,
   "id": "c8351f11",
   "metadata": {},
   "outputs": [],
   "source": [
    "sns.histplot(df['Large Bags'])"
   ]
  },
  {
   "cell_type": "code",
   "execution_count": null,
   "id": "842a05cb",
   "metadata": {},
   "outputs": [],
   "source": [
    "sns.violinplot(df['XLarge Bags'])"
   ]
  },
  {
   "cell_type": "code",
   "execution_count": null,
   "id": "042115b1",
   "metadata": {},
   "outputs": [],
   "source": [
    "sns.histplot(df['XLarge Bags'])"
   ]
  },
  {
   "cell_type": "code",
   "execution_count": null,
   "id": "736cdf70",
   "metadata": {},
   "outputs": [],
   "source": [
    "sns.violinplot(df['type'])"
   ]
  },
  {
   "cell_type": "code",
   "execution_count": null,
   "id": "c782f10a",
   "metadata": {},
   "outputs": [],
   "source": [
    "sns.histplot(df['type'])"
   ]
  },
  {
   "cell_type": "code",
   "execution_count": null,
   "id": "995912e7",
   "metadata": {},
   "outputs": [],
   "source": [
    "sns.violinplot(df['year'])"
   ]
  },
  {
   "cell_type": "code",
   "execution_count": null,
   "id": "23501248",
   "metadata": {},
   "outputs": [],
   "source": [
    "sns.histplot(df['year'])"
   ]
  },
  {
   "cell_type": "code",
   "execution_count": null,
   "id": "beaa16b3",
   "metadata": {},
   "outputs": [],
   "source": [
    "sns.violinplot(df['region'])"
   ]
  },
  {
   "cell_type": "code",
   "execution_count": null,
   "id": "f043fd65",
   "metadata": {},
   "outputs": [],
   "source": [
    "sns.histplot(df['region'])"
   ]
  },
  {
   "cell_type": "code",
   "execution_count": null,
   "id": "585dd453",
   "metadata": {},
   "outputs": [],
   "source": [
    "sns.scatterplot(x='AveragePrice',y='region',data = df)"
   ]
  },
  {
   "cell_type": "code",
   "execution_count": null,
   "id": "26772ac6",
   "metadata": {},
   "outputs": [],
   "source": [
    "sns.lineplot(x='AveragePrice',y='region',data = df)"
   ]
  },
  {
   "cell_type": "code",
   "execution_count": null,
   "id": "91297b90",
   "metadata": {},
   "outputs": [],
   "source": [
    "sns.regplot(x='AveragePrice',y='region',data = df)"
   ]
  },
  {
   "cell_type": "code",
   "execution_count": null,
   "id": "348cc699",
   "metadata": {},
   "outputs": [],
   "source": [
    "sns.relplot(x='AveragePrice',y='region',data = df)"
   ]
  },
  {
   "cell_type": "code",
   "execution_count": null,
   "id": "a9ead177",
   "metadata": {},
   "outputs": [],
   "source": [
    "sns.scatterplot(x='4046',y='region',data = df)"
   ]
  },
  {
   "cell_type": "code",
   "execution_count": null,
   "id": "02445343",
   "metadata": {},
   "outputs": [],
   "source": [
    "sns.regplot(x='4046',y='region',data = df)"
   ]
  },
  {
   "cell_type": "code",
   "execution_count": null,
   "id": "91054c6a",
   "metadata": {},
   "outputs": [],
   "source": [
    "sns.lineplot(x='4046',y='region',data = df)"
   ]
  },
  {
   "cell_type": "code",
   "execution_count": null,
   "id": "fee20eec",
   "metadata": {},
   "outputs": [],
   "source": [
    "sns.relplot(x='4046',y='region',data = df)"
   ]
  },
  {
   "cell_type": "code",
   "execution_count": null,
   "id": "8c283b35",
   "metadata": {},
   "outputs": [],
   "source": [
    "sns.scatterplot(x='4225',y='region',data = df)"
   ]
  },
  {
   "cell_type": "code",
   "execution_count": null,
   "id": "b860132e",
   "metadata": {},
   "outputs": [],
   "source": [
    "sns.relplot(x='4225',y='region',data = df)"
   ]
  },
  {
   "cell_type": "code",
   "execution_count": null,
   "id": "a4031db7",
   "metadata": {},
   "outputs": [],
   "source": [
    "sns.regplot(x='4225',y='region',data = df)"
   ]
  },
  {
   "cell_type": "code",
   "execution_count": null,
   "id": "c77d67ac",
   "metadata": {},
   "outputs": [],
   "source": [
    "sns.relplot(x='4225',y='region',data = df)"
   ]
  },
  {
   "cell_type": "code",
   "execution_count": null,
   "id": "a381b303",
   "metadata": {},
   "outputs": [],
   "source": [
    "sns.scatterplot(x='4770',y='region',data = df)"
   ]
  },
  {
   "cell_type": "code",
   "execution_count": null,
   "id": "117013bc",
   "metadata": {},
   "outputs": [],
   "source": [
    "sns.regplot(x='4770',y='region',data = df)"
   ]
  },
  {
   "cell_type": "code",
   "execution_count": null,
   "id": "2986aaf4",
   "metadata": {},
   "outputs": [],
   "source": [
    "sns.relplot(x='4770',y='region',data = df)"
   ]
  },
  {
   "cell_type": "code",
   "execution_count": null,
   "id": "1b665dd8",
   "metadata": {},
   "outputs": [],
   "source": [
    "sns.lineplot(x='4770',y='region',data = df)"
   ]
  },
  {
   "cell_type": "code",
   "execution_count": null,
   "id": "9c636d60",
   "metadata": {},
   "outputs": [],
   "source": [
    "sns.scatterplot(x='Total Bags',y='region',data = df)"
   ]
  },
  {
   "cell_type": "code",
   "execution_count": null,
   "id": "4f431b6b",
   "metadata": {},
   "outputs": [],
   "source": [
    "sns.lineplot(x='Total Bags',y='region',data = df)"
   ]
  },
  {
   "cell_type": "code",
   "execution_count": null,
   "id": "e6566302",
   "metadata": {},
   "outputs": [],
   "source": [
    "sns.regplot(x='Total Bags',y='region',data = df)"
   ]
  },
  {
   "cell_type": "code",
   "execution_count": null,
   "id": "508065d4",
   "metadata": {},
   "outputs": [],
   "source": [
    "sns.relplot(x='Total Bags',y='region',data = df)"
   ]
  },
  {
   "cell_type": "code",
   "execution_count": null,
   "id": "4eaf8c91",
   "metadata": {},
   "outputs": [],
   "source": [
    "sns.scatterplot(x='Large Bags',y='region',data = df)"
   ]
  },
  {
   "cell_type": "code",
   "execution_count": null,
   "id": "e0c1c944",
   "metadata": {},
   "outputs": [],
   "source": [
    "sns.lineplot(x='Large Bags',y='region',data = df)"
   ]
  },
  {
   "cell_type": "code",
   "execution_count": null,
   "id": "c8055899",
   "metadata": {},
   "outputs": [],
   "source": [
    "sns.regplot(x='Large Bags',y='region',data = df)"
   ]
  },
  {
   "cell_type": "code",
   "execution_count": null,
   "id": "ad392243",
   "metadata": {},
   "outputs": [],
   "source": [
    "sns.relplot(x='Large Bags',y='region',data = df)"
   ]
  },
  {
   "cell_type": "code",
   "execution_count": null,
   "id": "6626487d",
   "metadata": {},
   "outputs": [],
   "source": [
    "sns.scatterplot(x='XLarge Bags',y='region',data = df)"
   ]
  },
  {
   "cell_type": "code",
   "execution_count": null,
   "id": "8864fa46",
   "metadata": {},
   "outputs": [],
   "source": [
    "sns.lineplot(x='XLarge Bags',y='region',data = df)"
   ]
  },
  {
   "cell_type": "code",
   "execution_count": null,
   "id": "6b3b5f4a",
   "metadata": {},
   "outputs": [],
   "source": [
    "sns.regplot(x='XLarge Bags',y='region',data = df)"
   ]
  },
  {
   "cell_type": "code",
   "execution_count": null,
   "id": "d0f338c1",
   "metadata": {},
   "outputs": [],
   "source": [
    "sns.relplot(x='XLarge Bags',y='region',data = df)"
   ]
  },
  {
   "cell_type": "code",
   "execution_count": null,
   "id": "b7b5fc9e",
   "metadata": {},
   "outputs": [],
   "source": [
    "sns.scatterplot(x='type',y='region',data = df)"
   ]
  },
  {
   "cell_type": "code",
   "execution_count": null,
   "id": "9e2ac38a",
   "metadata": {},
   "outputs": [],
   "source": [
    "sns.regplot(x='type',y='region',data = df)"
   ]
  },
  {
   "cell_type": "code",
   "execution_count": null,
   "id": "0c86cba6",
   "metadata": {},
   "outputs": [],
   "source": [
    "sns.relplot(x='type',y='region',data = df)"
   ]
  },
  {
   "cell_type": "code",
   "execution_count": null,
   "id": "6e1f48a8",
   "metadata": {},
   "outputs": [],
   "source": [
    "sns.lineplot(x='type',y='region',data = df)"
   ]
  },
  {
   "cell_type": "code",
   "execution_count": null,
   "id": "6dba16be",
   "metadata": {},
   "outputs": [],
   "source": [
    "sns.scatterplot(x='year',y='region',data = df)"
   ]
  },
  {
   "cell_type": "code",
   "execution_count": null,
   "id": "430be87a",
   "metadata": {},
   "outputs": [],
   "source": [
    "sns.lineplot(x='year',y='region',data = df)"
   ]
  },
  {
   "cell_type": "code",
   "execution_count": null,
   "id": "9ea67acb",
   "metadata": {},
   "outputs": [],
   "source": [
    "sns.regplot(x='year',y='region',data = df)"
   ]
  },
  {
   "cell_type": "code",
   "execution_count": null,
   "id": "e4bfa7cd",
   "metadata": {},
   "outputs": [],
   "source": [
    "sns.relplot(x='year',y='region',data = df)"
   ]
  },
  {
   "cell_type": "code",
   "execution_count": null,
   "id": "adf8675f",
   "metadata": {},
   "outputs": [],
   "source": [
    "sns.catplot(x='region',y='4046',data = df,kind ='bar')"
   ]
  },
  {
   "cell_type": "code",
   "execution_count": null,
   "id": "627af7b2",
   "metadata": {},
   "outputs": [],
   "source": [
    "sns.catplot(x='region',y='4225',data = df,kind ='bar')"
   ]
  },
  {
   "cell_type": "code",
   "execution_count": null,
   "id": "ef15b86e",
   "metadata": {},
   "outputs": [],
   "source": [
    "sns.catplot(x='region',y='AveragePrice',data = df,kind ='bar')"
   ]
  },
  {
   "cell_type": "code",
   "execution_count": null,
   "id": "0129c3f7",
   "metadata": {},
   "outputs": [],
   "source": [
    "sns.catplot(x='region',y='4770',data = df,kind ='bar')"
   ]
  },
  {
   "cell_type": "code",
   "execution_count": null,
   "id": "475da9b1",
   "metadata": {},
   "outputs": [],
   "source": [
    "sns.catplot(x='region',y='Total Bags',data = df,kind ='bar')"
   ]
  },
  {
   "cell_type": "code",
   "execution_count": null,
   "id": "c3d0460b",
   "metadata": {},
   "outputs": [],
   "source": [
    "sns.catplot(x='region',y='Large Bags',data = df,kind ='bar')"
   ]
  },
  {
   "cell_type": "code",
   "execution_count": null,
   "id": "ca005d72",
   "metadata": {},
   "outputs": [],
   "source": [
    "sns.catplot(x='region',y='XLarge Bags',data = df,kind ='bar')"
   ]
  },
  {
   "cell_type": "code",
   "execution_count": null,
   "id": "6132cd6e",
   "metadata": {},
   "outputs": [],
   "source": [
    "sns.catplot(x='region',y='type',data = df,kind ='bar')"
   ]
  },
  {
   "cell_type": "code",
   "execution_count": null,
   "id": "a633ec6e",
   "metadata": {},
   "outputs": [],
   "source": [
    "sns.catplot(x='region',y='year',data = df,kind ='bar')"
   ]
  },
  {
   "cell_type": "code",
   "execution_count": null,
   "id": "0e620fba",
   "metadata": {},
   "outputs": [],
   "source": [
    "sns.scatterplot(x='region',y='AveragePrice',hue='4046',data = df)"
   ]
  },
  {
   "cell_type": "code",
   "execution_count": null,
   "id": "44e63e8b",
   "metadata": {},
   "outputs": [],
   "source": [
    "sns.scatterplot(x='region',y='AveragePrice',hue='4225',data = df)"
   ]
  },
  {
   "cell_type": "code",
   "execution_count": null,
   "id": "1a1c0210",
   "metadata": {},
   "outputs": [],
   "source": [
    "sns.scatterplot(x='region',y='AveragePrice',hue='4770',data = df)"
   ]
  },
  {
   "cell_type": "code",
   "execution_count": null,
   "id": "4fb530b9",
   "metadata": {},
   "outputs": [],
   "source": [
    "sns.scatterplot(x='region',y='AveragePrice',hue='Total Bags',data = df)"
   ]
  },
  {
   "cell_type": "code",
   "execution_count": null,
   "id": "6dca3852",
   "metadata": {},
   "outputs": [],
   "source": [
    "sns.scatterplot(x='region',y='AveragePrice',hue='Large Bags',data = df)"
   ]
  },
  {
   "cell_type": "code",
   "execution_count": null,
   "id": "f441f35c",
   "metadata": {},
   "outputs": [],
   "source": [
    "sns.scatterplot(x='region',y='AveragePrice',hue='XLarge Bags',data = df)"
   ]
  },
  {
   "cell_type": "code",
   "execution_count": null,
   "id": "014a87e5",
   "metadata": {},
   "outputs": [],
   "source": [
    "sns.scatterplot(x='region',y='AveragePrice',hue='type',data = df)"
   ]
  },
  {
   "cell_type": "code",
   "execution_count": null,
   "id": "3667d79d",
   "metadata": {},
   "outputs": [],
   "source": [
    "sns.scatterplot(x='region',y='AveragePrice',hue='year',data = df)"
   ]
  },
  {
   "cell_type": "code",
   "execution_count": null,
   "id": "d9d55866",
   "metadata": {},
   "outputs": [],
   "source": [
    "sns.scatterplot(x='region',y= '4046',hue = '4225',data = df)"
   ]
  },
  {
   "cell_type": "code",
   "execution_count": null,
   "id": "1d8e06de",
   "metadata": {},
   "outputs": [],
   "source": [
    "sns.scatterplot(x='region',y= '4046',hue = '4770',data = df)"
   ]
  },
  {
   "cell_type": "code",
   "execution_count": null,
   "id": "aa55a058",
   "metadata": {},
   "outputs": [],
   "source": [
    "sns.scatterplot(x='region',y= '4046',hue = 'Total Bags',data = df)"
   ]
  },
  {
   "cell_type": "code",
   "execution_count": null,
   "id": "93df792c",
   "metadata": {},
   "outputs": [],
   "source": [
    "sns.scatterplot(x='region',y= '4046',hue = 'Large Bags',data = df)"
   ]
  },
  {
   "cell_type": "code",
   "execution_count": null,
   "id": "978d9e61",
   "metadata": {},
   "outputs": [],
   "source": [
    "sns.scatterplot(x='region',y= '4046',hue = 'XLarge Bags',data = df)"
   ]
  },
  {
   "cell_type": "code",
   "execution_count": null,
   "id": "ca3eed99",
   "metadata": {},
   "outputs": [],
   "source": [
    "sns.scatterplot(x='region',y= '4046',hue = 'type',data = df)"
   ]
  },
  {
   "cell_type": "code",
   "execution_count": null,
   "id": "c2266d96",
   "metadata": {},
   "outputs": [],
   "source": [
    "sns.scatterplot(x='region',y= '4046',hue = 'year',data = df)"
   ]
  },
  {
   "cell_type": "code",
   "execution_count": null,
   "id": "ffa4b0b6",
   "metadata": {},
   "outputs": [],
   "source": [
    "sns.scatterplot(x='region',y= 'Total Bags',hue = 'Large Bags',data = df)"
   ]
  },
  {
   "cell_type": "code",
   "execution_count": null,
   "id": "ae96fdd4",
   "metadata": {},
   "outputs": [],
   "source": [
    "sns.scatterplot(x='region',y= 'Total Bags',hue = 'XLarge Bags',data = df)"
   ]
  },
  {
   "cell_type": "code",
   "execution_count": null,
   "id": "2e2b128b",
   "metadata": {},
   "outputs": [],
   "source": [
    "sns.scatterplot(x='region',y= 'Total Bags',hue = 'type',data = df)"
   ]
  },
  {
   "cell_type": "code",
   "execution_count": null,
   "id": "0a66e762",
   "metadata": {},
   "outputs": [],
   "source": [
    "sns.scatterplot(x='region',y= 'Total Bags',hue = 'year',data = df)"
   ]
  },
  {
   "cell_type": "markdown",
   "id": "3ff5baf6",
   "metadata": {},
   "source": [
    "# now we check the outliers of each column"
   ]
  },
  {
   "cell_type": "markdown",
   "id": "a79dfc47",
   "metadata": {},
   "source": [
    "we check the ouliers with the help of box plot and remove outliers only for those columns who have int or float data type"
   ]
  },
  {
   "cell_type": "code",
   "execution_count": null,
   "id": "6d8af6b6",
   "metadata": {},
   "outputs": [],
   "source": [
    "df.columns"
   ]
  },
  {
   "cell_type": "code",
   "execution_count": null,
   "id": "090b0e75",
   "metadata": {},
   "outputs": [],
   "source": [
    "df['AveragePrice'].plot.box()"
   ]
  },
  {
   "cell_type": "code",
   "execution_count": null,
   "id": "8288fe89",
   "metadata": {},
   "outputs": [],
   "source": [
    "df['4046'].plot.box()"
   ]
  },
  {
   "cell_type": "code",
   "execution_count": null,
   "id": "ea11d245",
   "metadata": {},
   "outputs": [],
   "source": [
    "df['4225'].plot.box()"
   ]
  },
  {
   "cell_type": "code",
   "execution_count": null,
   "id": "d8429118",
   "metadata": {},
   "outputs": [],
   "source": [
    "df['4770'].plot.box()"
   ]
  },
  {
   "cell_type": "code",
   "execution_count": null,
   "id": "f0f8febf",
   "metadata": {},
   "outputs": [],
   "source": [
    "df['Total Bags'].plot.box()"
   ]
  },
  {
   "cell_type": "code",
   "execution_count": null,
   "id": "697e79e1",
   "metadata": {},
   "outputs": [],
   "source": [
    "df['Large Bags'].plot.box()"
   ]
  },
  {
   "cell_type": "code",
   "execution_count": null,
   "id": "a9c1a30f",
   "metadata": {},
   "outputs": [],
   "source": [
    "df['XLarge Bags'].plot.box()"
   ]
  },
  {
   "cell_type": "code",
   "execution_count": null,
   "id": "903307ca",
   "metadata": {},
   "outputs": [],
   "source": [
    "df['type'].plot.box()"
   ]
  },
  {
   "cell_type": "code",
   "execution_count": null,
   "id": "e89a4998",
   "metadata": {},
   "outputs": [],
   "source": [
    "df['year'].plot.box()"
   ]
  },
  {
   "cell_type": "code",
   "execution_count": null,
   "id": "0fca62de",
   "metadata": {},
   "outputs": [],
   "source": [
    "df['region'].plot.box()"
   ]
  },
  {
   "cell_type": "code",
   "execution_count": null,
   "id": "c6d4ec9c",
   "metadata": {},
   "outputs": [],
   "source": [
    "from scipy.stats import zscore"
   ]
  },
  {
   "cell_type": "code",
   "execution_count": null,
   "id": "2bb60484",
   "metadata": {},
   "outputs": [],
   "source": [
    "df.columns"
   ]
  },
  {
   "cell_type": "code",
   "execution_count": null,
   "id": "2c08dbf5",
   "metadata": {},
   "outputs": [],
   "source": [
    "dfcont = df[[\"AveragePrice\",\"4046\",\"4225\",\"4770\",\"Total Bags\",\"Large Bags\",\"XLarge Bags\"]]"
   ]
  },
  {
   "cell_type": "code",
   "execution_count": null,
   "id": "671bc847",
   "metadata": {},
   "outputs": [],
   "source": [
    "z=np.abs(zscore(dfcont))"
   ]
  },
  {
   "cell_type": "code",
   "execution_count": null,
   "id": "a46223fb",
   "metadata": {},
   "outputs": [],
   "source": [
    "df_new=df[(z<3).all(axis=1)]"
   ]
  },
  {
   "cell_type": "code",
   "execution_count": null,
   "id": "6545c981",
   "metadata": {},
   "outputs": [],
   "source": [
    "df_new.head()"
   ]
  },
  {
   "cell_type": "code",
   "execution_count": null,
   "id": "b7384ef2",
   "metadata": {},
   "outputs": [],
   "source": [
    "df_new.shape"
   ]
  },
  {
   "cell_type": "markdown",
   "id": "5671502c",
   "metadata": {},
   "source": [
    "now we check the skewness with the help of distribution plot and remove the skewness after "
   ]
  },
  {
   "cell_type": "code",
   "execution_count": null,
   "id": "99575656",
   "metadata": {},
   "outputs": [],
   "source": [
    "from scipy.stats import skew"
   ]
  },
  {
   "cell_type": "code",
   "execution_count": null,
   "id": "a12f3dd2",
   "metadata": {},
   "outputs": [],
   "source": [
    "for i in df_new.columns:\n",
    "    print(i)\n",
    "    print(skew(df_new[i]))\n",
    "    plt.figure()\n",
    "    sns.distplot(df_new[i])\n",
    "    plt.show()"
   ]
  },
  {
   "cell_type": "code",
   "execution_count": null,
   "id": "c6609bce",
   "metadata": {},
   "outputs": [],
   "source": [
    "df_new.skew()"
   ]
  },
  {
   "cell_type": "code",
   "execution_count": null,
   "id": "3b112e80",
   "metadata": {},
   "outputs": [],
   "source": [
    "df_new.columns"
   ]
  },
  {
   "cell_type": "code",
   "execution_count": null,
   "id": "15fa5c67",
   "metadata": {},
   "outputs": [],
   "source": [
    "from scipy.stats import boxcox"
   ]
  },
  {
   "cell_type": "code",
   "execution_count": null,
   "id": "47c7d0df",
   "metadata": {},
   "outputs": [],
   "source": [
    "df_new.head()"
   ]
  },
  {
   "cell_type": "code",
   "execution_count": null,
   "id": "1c7a9b43",
   "metadata": {},
   "outputs": [],
   "source": [
    "a = df_new.iloc[:,:-1]"
   ]
  },
  {
   "cell_type": "code",
   "execution_count": null,
   "id": "40c9ca82",
   "metadata": {},
   "outputs": [],
   "source": [
    "a.head()"
   ]
  },
  {
   "cell_type": "code",
   "execution_count": null,
   "id": "c9e4de96",
   "metadata": {},
   "outputs": [],
   "source": [
    "from sklearn.preprocessing import PowerTransformer"
   ]
  },
  {
   "cell_type": "code",
   "execution_count": null,
   "id": "d620309f",
   "metadata": {},
   "outputs": [],
   "source": [
    "pt=PowerTransformer(method='yeo-johnson') \n",
    "X_power=pt.fit_transform(a)\n",
    "df=pd.DataFrame(X_power,columns=a.columns)"
   ]
  },
  {
   "cell_type": "code",
   "execution_count": null,
   "id": "14dc7cf8",
   "metadata": {},
   "outputs": [],
   "source": [
    "df.skew()"
   ]
  },
  {
   "cell_type": "code",
   "execution_count": null,
   "id": "33290f84",
   "metadata": {},
   "outputs": [],
   "source": [
    "df.head()"
   ]
  },
  {
   "cell_type": "code",
   "execution_count": null,
   "id": "b90e2112",
   "metadata": {},
   "outputs": [],
   "source": [
    "df_new.skew()"
   ]
  },
  {
   "cell_type": "code",
   "execution_count": null,
   "id": "4a60a517",
   "metadata": {},
   "outputs": [],
   "source": [
    "x=df"
   ]
  },
  {
   "cell_type": "code",
   "execution_count": null,
   "id": "207698e4",
   "metadata": {},
   "outputs": [],
   "source": [
    "x.head()"
   ]
  },
  {
   "cell_type": "code",
   "execution_count": null,
   "id": "976dfd84",
   "metadata": {},
   "outputs": [],
   "source": [
    "y= df_new.iloc[:,-1]"
   ]
  },
  {
   "cell_type": "code",
   "execution_count": null,
   "id": "8e35b80e",
   "metadata": {},
   "outputs": [],
   "source": [
    "y.head()"
   ]
  },
  {
   "cell_type": "code",
   "execution_count": null,
   "id": "001106f9",
   "metadata": {},
   "outputs": [],
   "source": [
    "y.unique()"
   ]
  },
  {
   "cell_type": "code",
   "execution_count": null,
   "id": "5e101512",
   "metadata": {},
   "outputs": [],
   "source": [
    "y.value_counts()"
   ]
  },
  {
   "cell_type": "markdown",
   "id": "1facb63a",
   "metadata": {},
   "source": [
    "no need to valance the class "
   ]
  },
  {
   "cell_type": "code",
   "execution_count": null,
   "id": "f76e3862",
   "metadata": {},
   "outputs": [],
   "source": [
    "from sklearn.preprocessing import StandardScaler"
   ]
  },
  {
   "cell_type": "code",
   "execution_count": null,
   "id": "467231be",
   "metadata": {},
   "outputs": [],
   "source": [
    "sc = StandardScaler()"
   ]
  },
  {
   "cell_type": "code",
   "execution_count": null,
   "id": "34000a6e",
   "metadata": {},
   "outputs": [],
   "source": [
    "x = sc.fit_transform(x)\n",
    "x"
   ]
  },
  {
   "cell_type": "code",
   "execution_count": null,
   "id": "7ba6e87a",
   "metadata": {},
   "outputs": [],
   "source": [
    "from sklearn.model_selection import train_test_split"
   ]
  },
  {
   "cell_type": "code",
   "execution_count": null,
   "id": "51912664",
   "metadata": {},
   "outputs": [],
   "source": [
    "x_train,x_test,y_train,y_test=train_test_split(x,y,test_size=.20,random_state=45)"
   ]
  },
  {
   "cell_type": "code",
   "execution_count": null,
   "id": "83b8e08a",
   "metadata": {},
   "outputs": [],
   "source": [
    "x_train.shape"
   ]
  },
  {
   "cell_type": "code",
   "execution_count": null,
   "id": "0b13a55a",
   "metadata": {},
   "outputs": [],
   "source": [
    "x_test.shape"
   ]
  },
  {
   "cell_type": "code",
   "execution_count": null,
   "id": "5a021d0a",
   "metadata": {},
   "outputs": [],
   "source": [
    "y_train.shape"
   ]
  },
  {
   "cell_type": "code",
   "execution_count": null,
   "id": "9b769567",
   "metadata": {},
   "outputs": [],
   "source": [
    "y_test.shape"
   ]
  },
  {
   "cell_type": "code",
   "execution_count": null,
   "id": "0f1ebcee",
   "metadata": {},
   "outputs": [],
   "source": [
    "import sklearn\n",
    "from sklearn.naive_bayes import GaussianNB\n",
    "from sklearn.svm import SVC\n",
    "from sklearn.tree import DecisionTreeClassifier\n",
    "from sklearn.metrics import accuracy_score,confusion_matrix,classification_report\n",
    "from sklearn.neighbors import KNeighborsClassifier\n",
    "from sklearn.ensemble import RandomForestClassifier"
   ]
  },
  {
   "cell_type": "code",
   "execution_count": null,
   "id": "553007d3",
   "metadata": {},
   "outputs": [],
   "source": [
    "svc= SVC()\n",
    "svc.fit(x_train,y_train)\n",
    "svc.score(x_train,y_train)\n",
    "predsvc = svc.predict(x_test)\n",
    "print(accuracy_score(y_test,predsvc))\n",
    "print(confusion_matrix(y_test,predsvc))\n",
    "print(classification_report(y_test,predsvc))"
   ]
  },
  {
   "cell_type": "code",
   "execution_count": null,
   "id": "392f870a",
   "metadata": {},
   "outputs": [],
   "source": [
    "from sklearn.model_selection import GridSearchCV"
   ]
  },
  {
   "cell_type": "code",
   "execution_count": null,
   "id": "0e78bbff",
   "metadata": {},
   "outputs": [],
   "source": [
    "dtc= DecisionTreeClassifier()\n",
    "dtc.fit(x_train,y_train)\n",
    "dtc.score(x_train,y_train)\n",
    "preddtc = dtc.predict(x_test)\n",
    "print(accuracy_score(y_test,preddtc))\n",
    "print(confusion_matrix(y_test,preddtc))\n",
    "print(classification_report(y_test,preddtc))"
   ]
  },
  {
   "cell_type": "code",
   "execution_count": null,
   "id": "05c69783",
   "metadata": {},
   "outputs": [],
   "source": [
    "paramdt = {'criterion':['gini','entropy'],'splitter':['best','random']}"
   ]
  },
  {
   "cell_type": "code",
   "execution_count": null,
   "id": "7870d434",
   "metadata": {},
   "outputs": [],
   "source": [
    "gc = GridSearchCV(DecisionTreeClassifier(),paramdt,cv=5)\n",
    "gc.fit(x,y)\n",
    "gc.best_params_"
   ]
  },
  {
   "cell_type": "code",
   "execution_count": null,
   "id": "b6bd7442",
   "metadata": {},
   "outputs": [],
   "source": [
    "DTC= DecisionTreeClassifier(criterion='entropy',splitter='random')\n",
    "DTC.fit(x_train,y_train)\n",
    "DTC.score(x_train,y_train)\n",
    "predDTC = DTC.predict(x_test)\n",
    "print(accuracy_score(y_test,predDTC))\n",
    "print(confusion_matrix(y_test,predDTC))\n",
    "print(classification_report(y_test,predDTC))"
   ]
  },
  {
   "cell_type": "code",
   "execution_count": null,
   "id": "61324b75",
   "metadata": {},
   "outputs": [],
   "source": [
    "knn = KNeighborsClassifier(n_neighbors=5)\n",
    "knn.fit(x_train,y_train)\n",
    "knn.score(x_train,y_train)\n",
    "predknn = knn.predict(x_test)\n",
    "print(accuracy_score(y_test,predknn))\n",
    "print(confusion_matrix(y_test,predknn))\n",
    "print(classification_report(y_test,predknn))"
   ]
  },
  {
   "cell_type": "code",
   "execution_count": null,
   "id": "60e7b575",
   "metadata": {},
   "outputs": [],
   "source": [
    "paramkn = {'n_neighbors':np.arange(1,10),'weights':['uniform','distance']}"
   ]
  },
  {
   "cell_type": "code",
   "execution_count": null,
   "id": "0a2f5661",
   "metadata": {},
   "outputs": [],
   "source": [
    "gc = GridSearchCV(KNeighborsClassifier(),paramkn,cv=5)\n",
    "gc.fit(x,y)\n",
    "gc.best_params_"
   ]
  },
  {
   "cell_type": "code",
   "execution_count": null,
   "id": "1e820bd2",
   "metadata": {},
   "outputs": [],
   "source": [
    "KNn = KNeighborsClassifier(n_neighbors=3,weights='distance')\n",
    "KNn.fit(x_train,y_train)\n",
    "KNn.score(x_train,y_train)\n",
    "predKNn = KNn.predict(x_test)\n",
    "print(accuracy_score(y_test,predKNn))\n",
    "print(confusion_matrix(y_test,predKNn))\n",
    "print(classification_report(y_test,predKNn))"
   ]
  },
  {
   "cell_type": "code",
   "execution_count": null,
   "id": "bf009f01",
   "metadata": {},
   "outputs": [],
   "source": [
    "rfc = RandomForestClassifier()\n",
    "rfc.fit(x_train, y_train)\n",
    "rfc.score(x_test, y_test)\n",
    "predrfc = rfc.predict(x_test)\n",
    "print(accuracy_score(y_test,predrfc))\n",
    "print(confusion_matrix(y_test,predrfc))\n",
    "print(classification_report(y_test,predrfc))"
   ]
  },
  {
   "cell_type": "code",
   "execution_count": null,
   "id": "ebb4d666",
   "metadata": {},
   "outputs": [],
   "source": [
    "paramrf={'n_estimators':np.arange(1,10),'criterion':['gini','entropy']}"
   ]
  },
  {
   "cell_type": "code",
   "execution_count": null,
   "id": "c00d7d1c",
   "metadata": {},
   "outputs": [],
   "source": [
    "gc = GridSearchCV(RandomForestClassifier(),paramrf,cv=5)\n",
    "gc.fit(x,y)\n",
    "gc.best_params_"
   ]
  },
  {
   "cell_type": "code",
   "execution_count": null,
   "id": "6837fb90",
   "metadata": {},
   "outputs": [],
   "source": [
    "Rfc = RandomForestClassifier(criterion='entropy',n_estimators=8)\n",
    "Rfc.fit(x_train, y_train)\n",
    "Rfc.score(x_test, y_test)\n",
    "predRfc = Rfc.predict(x_test)\n",
    "print(accuracy_score(y_test,predRfc))\n",
    "print(confusion_matrix(y_test,predRfc))\n",
    "print(classification_report(y_test,predRfc))"
   ]
  },
  {
   "cell_type": "code",
   "execution_count": null,
   "id": "7b0f7597",
   "metadata": {},
   "outputs": [],
   "source": [
    "gnb = GaussianNB()\n",
    "gnb.fit(x_train,y_train)\n",
    "gnb.score(x_train,y_train)\n",
    "predgnb =gnb.predict(x_test)\n",
    "print(accuracy_score(y_test,predgnb))\n",
    "print(confusion_matrix(y_test,predgnb))\n",
    "print(classification_report(y_test,predgnb))"
   ]
  },
  {
   "cell_type": "code",
   "execution_count": null,
   "id": "b8a2b1c1",
   "metadata": {},
   "outputs": [],
   "source": [
    "from sklearn.model_selection import cross_val_score"
   ]
  },
  {
   "cell_type": "code",
   "execution_count": null,
   "id": "2ad239b9",
   "metadata": {},
   "outputs": [],
   "source": [
    "print(cross_val_score(svc,x,y,cv=5).mean())"
   ]
  },
  {
   "cell_type": "code",
   "execution_count": null,
   "id": "d9acbba7",
   "metadata": {},
   "outputs": [],
   "source": [
    "print(cross_val_score(dtc,x,y,cv=5).mean())"
   ]
  },
  {
   "cell_type": "code",
   "execution_count": null,
   "id": "d5101fb4",
   "metadata": {},
   "outputs": [],
   "source": [
    "print(cross_val_score(knn,x,y,cv=5).mean())"
   ]
  },
  {
   "cell_type": "code",
   "execution_count": null,
   "id": "a687ebdb",
   "metadata": {},
   "outputs": [],
   "source": [
    "print(cross_val_score(rfc,x,y,cv=5).mean())"
   ]
  },
  {
   "cell_type": "code",
   "execution_count": null,
   "id": "f861712f",
   "metadata": {},
   "outputs": [],
   "source": [
    "print(cross_val_score(gnb,x,y,cv=5).mean())"
   ]
  },
  {
   "cell_type": "code",
   "execution_count": null,
   "id": "8d9a38d1",
   "metadata": {},
   "outputs": [],
   "source": [
    "import joblib"
   ]
  },
  {
   "cell_type": "code",
   "execution_count": null,
   "id": "2d9942b4",
   "metadata": {},
   "outputs": [],
   "source": [
    "joblib.dump(Rfc,'Rfc_joblib')"
   ]
  },
  {
   "cell_type": "code",
   "execution_count": null,
   "id": "428365fe",
   "metadata": {},
   "outputs": [],
   "source": [
    "df_new.head()"
   ]
  },
  {
   "cell_type": "code",
   "execution_count": null,
   "id": "344a1bcc",
   "metadata": {},
   "outputs": [],
   "source": [
    "y=df_new.iloc[:,:1]"
   ]
  },
  {
   "cell_type": "code",
   "execution_count": null,
   "id": "e6fef2d4",
   "metadata": {},
   "outputs": [],
   "source": [
    "y.head()"
   ]
  },
  {
   "cell_type": "code",
   "execution_count": null,
   "id": "068eeae7",
   "metadata": {},
   "outputs": [],
   "source": [
    "b = df_new.iloc[:,1:]"
   ]
  },
  {
   "cell_type": "code",
   "execution_count": null,
   "id": "a0e3e93e",
   "metadata": {},
   "outputs": [],
   "source": [
    "b.head()"
   ]
  },
  {
   "cell_type": "code",
   "execution_count": null,
   "id": "6a165883",
   "metadata": {},
   "outputs": [],
   "source": [
    "pt=PowerTransformer(method='yeo-johnson') \n",
    "X_power=pt.fit_transform(b)\n",
    "DF=pd.DataFrame(X_power,columns=b.columns)"
   ]
  },
  {
   "cell_type": "code",
   "execution_count": null,
   "id": "1cd06fe6",
   "metadata": {},
   "outputs": [],
   "source": [
    "x = DF"
   ]
  },
  {
   "cell_type": "code",
   "execution_count": null,
   "id": "c78bc7c2",
   "metadata": {},
   "outputs": [],
   "source": [
    "x.head()"
   ]
  },
  {
   "cell_type": "code",
   "execution_count": null,
   "id": "439ed618",
   "metadata": {},
   "outputs": [],
   "source": [
    "x_train,x_test,y_train,y_test=train_test_split(x,y,test_size=.20,random_state=40)"
   ]
  },
  {
   "cell_type": "code",
   "execution_count": null,
   "id": "b3acecee",
   "metadata": {},
   "outputs": [],
   "source": [
    "x_train.shape"
   ]
  },
  {
   "cell_type": "code",
   "execution_count": null,
   "id": "73d49791",
   "metadata": {},
   "outputs": [],
   "source": [
    "x_test.shape"
   ]
  },
  {
   "cell_type": "code",
   "execution_count": null,
   "id": "29b6c19c",
   "metadata": {},
   "outputs": [],
   "source": [
    "y_train.shape"
   ]
  },
  {
   "cell_type": "code",
   "execution_count": null,
   "id": "629728a2",
   "metadata": {},
   "outputs": [],
   "source": [
    "y_test.shape"
   ]
  },
  {
   "cell_type": "code",
   "execution_count": null,
   "id": "f33b823c",
   "metadata": {},
   "outputs": [],
   "source": [
    "from sklearn.linear_model import LinearRegression\n",
    "from sklearn.metrics import mean_squared_error,mean_absolute_error,r2_score\n",
    "import numpy as np"
   ]
  },
  {
   "cell_type": "code",
   "execution_count": null,
   "id": "fe4e2b85",
   "metadata": {},
   "outputs": [],
   "source": [
    "lr = LinearRegression()\n",
    "lr.fit(x_train,y_train)\n",
    "lr.score(x_train,y_train)\n",
    "predlr=lr.predict(x_test)\n",
    "print(r2_score(y_test,predlr))"
   ]
  },
  {
   "cell_type": "code",
   "execution_count": null,
   "id": "36d455da",
   "metadata": {},
   "outputs": [],
   "source": [
    "lr.score(x_train,y_train)"
   ]
  },
  {
   "cell_type": "code",
   "execution_count": null,
   "id": "dfcd4cd1",
   "metadata": {},
   "outputs": [],
   "source": [
    "parameter_lr = {'copy_X':['true','false'],'fit_intercept':['true','false'],'n_jobs':np.arange(1,4)}\n",
    "gc = GridSearchCV(LinearRegression(),parameter_lr,cv = 5)\n",
    "gc.fit(x,y)"
   ]
  },
  {
   "cell_type": "code",
   "execution_count": null,
   "id": "7e549f85",
   "metadata": {},
   "outputs": [],
   "source": [
    "gc.best_params_"
   ]
  },
  {
   "cell_type": "code",
   "execution_count": null,
   "id": "cbe9059d",
   "metadata": {},
   "outputs": [],
   "source": [
    "LR = LinearRegression(copy_X='true',fit_intercept='true',n_jobs='1')"
   ]
  },
  {
   "cell_type": "code",
   "execution_count": null,
   "id": "55cf9e17",
   "metadata": {},
   "outputs": [],
   "source": [
    "LR.fit(x_train,y_train)\n",
    "LR.score(x_train,y_train)"
   ]
  },
  {
   "cell_type": "code",
   "execution_count": null,
   "id": "9921c5af",
   "metadata": {},
   "outputs": [],
   "source": [
    "print(cross_val_score(LR,x,y,cv=5).mean())"
   ]
  },
  {
   "cell_type": "code",
   "execution_count": null,
   "id": "8d286eaf",
   "metadata": {},
   "outputs": [],
   "source": [
    "from sklearn.ensemble import RandomForestRegressor"
   ]
  },
  {
   "cell_type": "code",
   "execution_count": null,
   "id": "eb5623ff",
   "metadata": {},
   "outputs": [],
   "source": [
    "rf = RandomForestRegressor()\n",
    "rf.fit(x_train,y_train)\n",
    "rf.score(x_train,y_train)\n",
    "predrf = rf.predict(x_test)\n",
    "print(r2_score(y_test,predrf))"
   ]
  },
  {
   "cell_type": "code",
   "execution_count": null,
   "id": "29b11f7a",
   "metadata": {},
   "outputs": [],
   "source": [
    "rf.score(x_train,y_train)"
   ]
  },
  {
   "cell_type": "code",
   "execution_count": null,
   "id": "1495d6d2",
   "metadata": {},
   "outputs": [],
   "source": [
    "parameter_rf= {'n_estimators':np.arange(1,10),'max_features':['auto','sqrt','log2'],\n",
    "                 'criterion': ['squared_error','absolute_error','poisson']}"
   ]
  },
  {
   "cell_type": "code",
   "execution_count": null,
   "id": "36db7f41",
   "metadata": {},
   "outputs": [],
   "source": [
    "gc = GridSearchCV(RandomForestRegressor(),parameter_rf,cv = 5)\n",
    "gc.fit(x,y)\n",
    "gc.best_params_"
   ]
  },
  {
   "cell_type": "code",
   "execution_count": null,
   "id": "93d39ecc",
   "metadata": {},
   "outputs": [],
   "source": [
    "RF=RandomForestRegressor(criterion='poisson',max_features='sqrt',n_estimators=6)"
   ]
  },
  {
   "cell_type": "code",
   "execution_count": null,
   "id": "527d7d10",
   "metadata": {},
   "outputs": [],
   "source": [
    "RF.fit(x_train,y_train)\n",
    "RF.score(x_train,y_train)"
   ]
  },
  {
   "cell_type": "code",
   "execution_count": null,
   "id": "6ca37b9d",
   "metadata": {},
   "outputs": [],
   "source": [
    "print(cross_val_score(RF,x,y,cv=3).mean())"
   ]
  },
  {
   "cell_type": "code",
   "execution_count": null,
   "id": "a2f3b258",
   "metadata": {},
   "outputs": [],
   "source": [
    "from sklearn.linear_model import Lasso"
   ]
  },
  {
   "cell_type": "code",
   "execution_count": null,
   "id": "355bef60",
   "metadata": {},
   "outputs": [],
   "source": [
    "la = Lasso()\n",
    "la.fit(x_train,y_train)\n",
    "la.score(x_train,y_train)\n",
    "predla = la.predict(x_test)\n",
    "print(r2_score(predla,y_test))"
   ]
  },
  {
   "cell_type": "code",
   "execution_count": null,
   "id": "51075b05",
   "metadata": {},
   "outputs": [],
   "source": [
    "la.score(x_train,y_train)"
   ]
  },
  {
   "cell_type": "code",
   "execution_count": null,
   "id": "774fda10",
   "metadata": {},
   "outputs": [],
   "source": [
    "parameterla={'fit_intercept':['true','false'],'normalize':['true','false'],\n",
    "               'alpha':[0.01,0.002,0.02]}"
   ]
  },
  {
   "cell_type": "code",
   "execution_count": null,
   "id": "4cb69abf",
   "metadata": {},
   "outputs": [],
   "source": [
    "gc = GridSearchCV(Lasso(),parameterla,cv=5)\n",
    "gc.fit(x,y)\n",
    "gc.best_params_"
   ]
  },
  {
   "cell_type": "code",
   "execution_count": null,
   "id": "e660c3c6",
   "metadata": {},
   "outputs": [],
   "source": [
    "La = Lasso(alpha=0.02 ,fit_intercept='true',normalize='true')"
   ]
  },
  {
   "cell_type": "code",
   "execution_count": null,
   "id": "4e061a07",
   "metadata": {},
   "outputs": [],
   "source": [
    "La.fit(x_train,y_train)\n",
    "La.score(x_train,y_train)\n",
    "predLa= La.predict(x_test)\n",
    "print(r2_score(y_test,predLa))"
   ]
  },
  {
   "cell_type": "code",
   "execution_count": null,
   "id": "d174992a",
   "metadata": {},
   "outputs": [],
   "source": [
    "La.score(x_train,y_train)"
   ]
  },
  {
   "cell_type": "code",
   "execution_count": null,
   "id": "d79db2e5",
   "metadata": {},
   "outputs": [],
   "source": [
    "from sklearn.tree import DecisionTreeRegressor"
   ]
  },
  {
   "cell_type": "code",
   "execution_count": null,
   "id": "c5617089",
   "metadata": {},
   "outputs": [],
   "source": [
    "dc = DecisionTreeRegressor()\n",
    "dc.fit(x_train,y_train)\n",
    "dc.score(x_train,y_train)\n",
    "preddc = dc.predict(x_test)\n",
    "print(r2_score(y_test,preddc))"
   ]
  },
  {
   "cell_type": "code",
   "execution_count": null,
   "id": "6451e322",
   "metadata": {},
   "outputs": [],
   "source": [
    "dc.score(x_train,y_train)"
   ]
  },
  {
   "cell_type": "code",
   "execution_count": null,
   "id": "426679a8",
   "metadata": {},
   "outputs": [],
   "source": [
    "print(cross_val_score(dc,x,y,cv=5).mean())"
   ]
  },
  {
   "cell_type": "code",
   "execution_count": null,
   "id": "e8382482",
   "metadata": {},
   "outputs": [],
   "source": [
    "paramdc={'criterion':['squared_error','friedman_mse','poisson'],\n",
    "          'splitter':['best','random'],\n",
    "           'max_depth':np.arange(1,10)}"
   ]
  },
  {
   "cell_type": "code",
   "execution_count": null,
   "id": "7fc2160d",
   "metadata": {},
   "outputs": [],
   "source": [
    "gc = GridSearchCV(DecisionTreeRegressor(),paramdc,cv=5)\n",
    "gc.fit(x,y)\n",
    "gc.best_params_"
   ]
  },
  {
   "cell_type": "code",
   "execution_count": null,
   "id": "8c03f31c",
   "metadata": {},
   "outputs": [],
   "source": [
    "Dc = DecisionTreeRegressor(criterion='friedman_mse',max_depth=4,splitter= 'random')"
   ]
  },
  {
   "cell_type": "code",
   "execution_count": null,
   "id": "2196ffec",
   "metadata": {},
   "outputs": [],
   "source": [
    "Dc.fit(x_train,y_train)\n",
    "Dc.score(x_train,y_train)"
   ]
  },
  {
   "cell_type": "code",
   "execution_count": null,
   "id": "8c5907c2",
   "metadata": {},
   "outputs": [],
   "source": [
    "from sklearn.svm import SVR"
   ]
  },
  {
   "cell_type": "code",
   "execution_count": null,
   "id": "6444869a",
   "metadata": {},
   "outputs": [],
   "source": [
    "svr= SVR()\n",
    "svr.fit(x_train,y_train)\n",
    "svr.score(x_train,y_train)\n",
    "predsvr = svr.predict(x_test)\n",
    "print(r2_score(y_test,predsvr))"
   ]
  },
  {
   "cell_type": "code",
   "execution_count": null,
   "id": "767f45d9",
   "metadata": {},
   "outputs": [],
   "source": [
    "svr.score(x_train,y_train)"
   ]
  },
  {
   "cell_type": "code",
   "execution_count": null,
   "id": "30a5c062",
   "metadata": {},
   "outputs": [],
   "source": [
    "import joblib"
   ]
  },
  {
   "cell_type": "code",
   "execution_count": null,
   "id": "91b6c8c9",
   "metadata": {},
   "outputs": [],
   "source": [
    "joblib.dump(RF,'rf_joblib')"
   ]
  }
 ],
 "metadata": {
  "kernelspec": {
   "display_name": "Python 3",
   "language": "python",
   "name": "python3"
  },
  "language_info": {
   "codemirror_mode": {
    "name": "ipython",
    "version": 3
   },
   "file_extension": ".py",
   "mimetype": "text/x-python",
   "name": "python",
   "nbconvert_exporter": "python",
   "pygments_lexer": "ipython3",
   "version": "3.8.8"
  }
 },
 "nbformat": 4,
 "nbformat_minor": 5
}
