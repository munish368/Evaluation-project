{
 "cells": [
  {
   "cell_type": "code",
   "execution_count": null,
   "id": "393aed0a",
   "metadata": {},
   "outputs": [],
   "source": [
    "import pandas as pd"
   ]
  },
  {
   "cell_type": "code",
   "execution_count": null,
   "id": "34476c7d",
   "metadata": {},
   "outputs": [],
   "source": [
    "df = pd.read_csv(\"baseball.csv\")"
   ]
  },
  {
   "cell_type": "code",
   "execution_count": null,
   "id": "e2c01802",
   "metadata": {},
   "outputs": [],
   "source": [
    "df"
   ]
  },
  {
   "cell_type": "code",
   "execution_count": null,
   "id": "5b4c8757",
   "metadata": {},
   "outputs": [],
   "source": [
    "df.shape"
   ]
  },
  {
   "cell_type": "markdown",
   "id": "0e9db684",
   "metadata": {},
   "source": [
    "there are 30 rows and 17 columns in the data "
   ]
  },
  {
   "cell_type": "code",
   "execution_count": null,
   "id": "5030779c",
   "metadata": {},
   "outputs": [],
   "source": [
    "df.head()"
   ]
  },
  {
   "cell_type": "markdown",
   "id": "459e7a15",
   "metadata": {},
   "source": [
    "here target column is w means wins and rest all are inputs we try to predict the wins according to the input,because target column has the integar value so its a regression problem now we build a regression model to predict the wins "
   ]
  },
  {
   "cell_type": "code",
   "execution_count": null,
   "id": "b5fcce2b",
   "metadata": {},
   "outputs": [],
   "source": [
    "import seaborn as sns\n",
    "import matplotlib.pyplot as plt\n",
    "import warnings\n",
    "warnings.filterwarnings(\"ignore\")"
   ]
  },
  {
   "cell_type": "code",
   "execution_count": null,
   "id": "89ecf5db",
   "metadata": {},
   "outputs": [],
   "source": [
    "df.info()"
   ]
  },
  {
   "cell_type": "markdown",
   "id": "9ade8806",
   "metadata": {},
   "source": [
    "All columns have the integar value except era, era has the float data type and no null value is present in the data "
   ]
  },
  {
   "cell_type": "code",
   "execution_count": null,
   "id": "a9215c2d",
   "metadata": {},
   "outputs": [],
   "source": [
    "df.isnull().sum()"
   ]
  },
  {
   "cell_type": "code",
   "execution_count": null,
   "id": "341a7082",
   "metadata": {},
   "outputs": [],
   "source": [
    "sns.heatmap(df.isnull())"
   ]
  },
  {
   "cell_type": "markdown",
   "id": "726073bd",
   "metadata": {},
   "source": [
    "Graph shows no null value is present in the data "
   ]
  },
  {
   "cell_type": "code",
   "execution_count": null,
   "id": "9ea5a646",
   "metadata": {},
   "outputs": [],
   "source": [
    "df.describe()"
   ]
  },
  {
   "cell_type": "markdown",
   "id": "62d560ef",
   "metadata": {},
   "source": [
    "1.strikeouts('so') has the highest mean value and CG has the lowest mean value\n",
    "2.SO has the highest std and ERA has the lowest std\n",
    "3.AB has the highest meadian value and CG has the lowest medeian value"
   ]
  },
  {
   "cell_type": "code",
   "execution_count": null,
   "id": "1c1cc367",
   "metadata": {},
   "outputs": [],
   "source": [
    "df.corr()"
   ]
  },
  {
   "cell_type": "code",
   "execution_count": null,
   "id": "b9efd02c",
   "metadata": {},
   "outputs": [],
   "source": [
    "plt.figure(figsize=(15,6))\n",
    "sns.heatmap(df.corr(),annot = True)"
   ]
  },
  {
   "cell_type": "markdown",
   "id": "94b61e07",
   "metadata": {},
   "source": [
    "RA,ER,ERA shows very negative correlation with target column and ERA shows the most negative correaltaion with target column and these column are also very high correlated with each other "
   ]
  },
  {
   "cell_type": "code",
   "execution_count": null,
   "id": "3fd17296",
   "metadata": {},
   "outputs": [],
   "source": [
    "from statsmodels.stats.outliers_influence import variance_inflation_factor"
   ]
  },
  {
   "cell_type": "code",
   "execution_count": null,
   "id": "f8808b5d",
   "metadata": {},
   "outputs": [],
   "source": [
    "    vif = pd.DataFrame()\n",
    "    vif[\"features\"]=df.columns\n",
    "    vif[\"VIF FACTOR\"] =[variance_inflation_factor(df.values,i) for i in range(df.shape[1])]\n",
    "    print(vif)"
   ]
  },
  {
   "cell_type": "code",
   "execution_count": null,
   "id": "6cbe5621",
   "metadata": {},
   "outputs": [],
   "source": [
    "A = [\"RA\",\"ER\",\"ERA\"]"
   ]
  },
  {
   "cell_type": "code",
   "execution_count": null,
   "id": "954744f4",
   "metadata": {},
   "outputs": [],
   "source": [
    "df.drop(A,axis = 1,inplace = True)"
   ]
  },
  {
   "cell_type": "code",
   "execution_count": null,
   "id": "3d734703",
   "metadata": {},
   "outputs": [],
   "source": [
    "df.head()"
   ]
  },
  {
   "cell_type": "code",
   "execution_count": null,
   "id": "1fe2064d",
   "metadata": {},
   "outputs": [],
   "source": [
    "plt.figure(figsize=(10,6))\n",
    "sns.heatmap(df.corr(),annot =True)"
   ]
  },
  {
   "cell_type": "code",
   "execution_count": null,
   "id": "ed02844f",
   "metadata": {},
   "outputs": [],
   "source": [
    "df.columns"
   ]
  },
  {
   "cell_type": "code",
   "execution_count": null,
   "id": "b5fb6e12",
   "metadata": {},
   "outputs": [],
   "source": [
    "vif = pd.DataFrame()\n",
    "vif[\"features\"]=df.columns\n",
    "vif[\"VIF FACTOR\"] =[variance_inflation_factor(df.values,i) for i in range(df.shape[1])]\n",
    "print(vif)"
   ]
  },
  {
   "cell_type": "code",
   "execution_count": null,
   "id": "29001e46",
   "metadata": {},
   "outputs": [],
   "source": [
    "df.head()"
   ]
  },
  {
   "cell_type": "code",
   "execution_count": null,
   "id": "93f858dc",
   "metadata": {},
   "outputs": [],
   "source": [
    "sns.catplot(x='R',y='W',data=df,kind ='bar')"
   ]
  },
  {
   "cell_type": "markdown",
   "id": "c011689d",
   "metadata": {},
   "source": [
    "more you score runs more you got win points"
   ]
  },
  {
   "cell_type": "code",
   "execution_count": null,
   "id": "bbd84bd1",
   "metadata": {},
   "outputs": [],
   "source": [
    "sns.histplot(df[\"R\"],bins = 10)"
   ]
  },
  {
   "cell_type": "markdown",
   "id": "fa6b5955",
   "metadata": {},
   "source": [
    "this plot shows the frequency of R means how many number of times runs are 600 0r 700 or 900 etc"
   ]
  },
  {
   "cell_type": "code",
   "execution_count": null,
   "id": "5e3e5402",
   "metadata": {},
   "outputs": [],
   "source": [
    "x = 'R'\n",
    "y= 'W'\n",
    "plt.bar(x,y,data = df,align = 'center')"
   ]
  },
  {
   "cell_type": "code",
   "execution_count": null,
   "id": "cc57b327",
   "metadata": {},
   "outputs": [],
   "source": [
    "sns.histplot(df[\"AB\"])"
   ]
  },
  {
   "cell_type": "markdown",
   "id": "fa8fe1b7",
   "metadata": {},
   "source": [
    "it shows the frequency of AB"
   ]
  },
  {
   "cell_type": "code",
   "execution_count": null,
   "id": "8d3db6ad",
   "metadata": {},
   "outputs": [],
   "source": [
    "plt.figure(figsize=(6,6))\n",
    "sns.histplot(df[\"AB\"])\n",
    "plt.show()"
   ]
  },
  {
   "cell_type": "code",
   "execution_count": null,
   "id": "5f034a39",
   "metadata": {},
   "outputs": [],
   "source": [
    "sns.histplot(df['H'])"
   ]
  },
  {
   "cell_type": "markdown",
   "id": "4e22e63e",
   "metadata": {},
   "source": [
    "it shows the frequency of H "
   ]
  },
  {
   "cell_type": "code",
   "execution_count": null,
   "id": "ea751c14",
   "metadata": {},
   "outputs": [],
   "source": [
    "sns.histplot(df['2B'])"
   ]
  },
  {
   "cell_type": "markdown",
   "id": "ba5d1c49",
   "metadata": {},
   "source": [
    "it shows the frequency of 2B"
   ]
  },
  {
   "cell_type": "code",
   "execution_count": null,
   "id": "f2e731ce",
   "metadata": {},
   "outputs": [],
   "source": [
    "sns.histplot(df[\"3B\"])"
   ]
  },
  {
   "cell_type": "markdown",
   "id": "5fdedb53",
   "metadata": {},
   "source": [
    "it shows the frequency of 3B"
   ]
  },
  {
   "cell_type": "code",
   "execution_count": null,
   "id": "0b3add07",
   "metadata": {},
   "outputs": [],
   "source": [
    "sns.histplot(df['HR'])"
   ]
  },
  {
   "cell_type": "markdown",
   "id": "97c93471",
   "metadata": {},
   "source": [
    "it shows the frequency of HR"
   ]
  },
  {
   "cell_type": "code",
   "execution_count": null,
   "id": "62235ae1",
   "metadata": {},
   "outputs": [],
   "source": [
    "sns.histplot(df['BB'])"
   ]
  },
  {
   "cell_type": "markdown",
   "id": "0a22f185",
   "metadata": {},
   "source": [
    "it shows the frequency of BB"
   ]
  },
  {
   "cell_type": "code",
   "execution_count": null,
   "id": "cd544d72",
   "metadata": {},
   "outputs": [],
   "source": [
    "sns.histplot(df['SO'])"
   ]
  },
  {
   "cell_type": "markdown",
   "id": "d58e1c0b",
   "metadata": {},
   "source": [
    "it shows the frequency of SO"
   ]
  },
  {
   "cell_type": "code",
   "execution_count": null,
   "id": "9463048a",
   "metadata": {},
   "outputs": [],
   "source": [
    "sns.histplot(df['SB'])"
   ]
  },
  {
   "cell_type": "markdown",
   "id": "6a3a66d3",
   "metadata": {},
   "source": [
    "it shows the frequency of SB"
   ]
  },
  {
   "cell_type": "code",
   "execution_count": null,
   "id": "7df2cb75",
   "metadata": {},
   "outputs": [],
   "source": [
    "sns.histplot(df['CG'])"
   ]
  },
  {
   "cell_type": "markdown",
   "id": "46e90e20",
   "metadata": {},
   "source": [
    "it shows the frequency of CG"
   ]
  },
  {
   "cell_type": "code",
   "execution_count": null,
   "id": "0c45795c",
   "metadata": {},
   "outputs": [],
   "source": [
    "sns.histplot(df['SHO'])"
   ]
  },
  {
   "cell_type": "markdown",
   "id": "e7445a25",
   "metadata": {},
   "source": [
    "it shows the frequency of SHO"
   ]
  },
  {
   "cell_type": "code",
   "execution_count": null,
   "id": "b735998b",
   "metadata": {},
   "outputs": [],
   "source": [
    "sns.histplot(df['SV'])"
   ]
  },
  {
   "cell_type": "markdown",
   "id": "2ba041b5",
   "metadata": {},
   "source": [
    "it shows the frequency of SV"
   ]
  },
  {
   "cell_type": "code",
   "execution_count": null,
   "id": "f44257ef",
   "metadata": {},
   "outputs": [],
   "source": [
    "sns.histplot(df['E'])"
   ]
  },
  {
   "cell_type": "markdown",
   "id": "2d160610",
   "metadata": {},
   "source": [
    "it shows the frequency of E"
   ]
  },
  {
   "cell_type": "code",
   "execution_count": null,
   "id": "f7fde1b4",
   "metadata": {},
   "outputs": [],
   "source": [
    "df"
   ]
  },
  {
   "cell_type": "code",
   "execution_count": null,
   "id": "276a1e24",
   "metadata": {},
   "outputs": [],
   "source": [
    "df.shape"
   ]
  },
  {
   "cell_type": "code",
   "execution_count": null,
   "id": "1a8f99a1",
   "metadata": {},
   "outputs": [],
   "source": [
    "x=\"W\"\n",
    "y=\"R\"\n",
    "plt.scatter(x,y,data = df)\n",
    "plt.show()"
   ]
  },
  {
   "cell_type": "code",
   "execution_count": null,
   "id": "df71c823",
   "metadata": {},
   "outputs": [],
   "source": [
    "sns.scatterplot(x='R',y='W',data = df,s=200)"
   ]
  },
  {
   "cell_type": "markdown",
   "id": "bd9028e8",
   "metadata": {},
   "source": [
    "it shows like when your run is less than 600 than your wins point is approximate 68 and it shows the realtion between W and R like what is your runs and according to the runs it shows wins point"
   ]
  },
  {
   "cell_type": "code",
   "execution_count": null,
   "id": "94d06061",
   "metadata": {},
   "outputs": [],
   "source": [
    "sns.swarmplot(x='R',y='W',data = df)"
   ]
  },
  {
   "cell_type": "code",
   "execution_count": null,
   "id": "f5064689",
   "metadata": {},
   "outputs": [],
   "source": [
    "sns.scatterplot(x='R',y='W',hue = 'AB',data = df)"
   ]
  },
  {
   "cell_type": "code",
   "execution_count": null,
   "id": "0c5cff39",
   "metadata": {},
   "outputs": [],
   "source": [
    "sns.stripplot(x='R',y='W',hue = 'AB',data = df)"
   ]
  },
  {
   "cell_type": "code",
   "execution_count": null,
   "id": "20188cfd",
   "metadata": {},
   "outputs": [],
   "source": [
    "sns.swarmplot(x='R',y='W',hue = 'AB',data = df)"
   ]
  },
  {
   "cell_type": "code",
   "execution_count": null,
   "id": "4df2ee52",
   "metadata": {},
   "outputs": [],
   "source": [
    "plt.scatter(x='R',y='W',data = df,cmap = 'Green',s = 200)"
   ]
  },
  {
   "cell_type": "code",
   "execution_count": null,
   "id": "618f5b7b",
   "metadata": {},
   "outputs": [],
   "source": [
    "sns.catplot(x='R',y='W',data =df,kind = \"bar\")"
   ]
  },
  {
   "cell_type": "code",
   "execution_count": null,
   "id": "5c8e8a7d",
   "metadata": {},
   "outputs": [],
   "source": [
    "plt.figure(figsize=(10,6))\n",
    "x=\"R\"\n",
    "y=\"W\"\n",
    "plt.bar(x,y,data = df,align='center')\n",
    "plt.show()"
   ]
  },
  {
   "cell_type": "code",
   "execution_count": null,
   "id": "f3a0dc03",
   "metadata": {},
   "outputs": [],
   "source": [
    "sns.scatterplot(x='AB',y='W',data = df)"
   ]
  },
  {
   "cell_type": "markdown",
   "id": "a49eeba2",
   "metadata": {},
   "source": [
    "it show relation between AB and W means with different ab the number of predictive means will be different "
   ]
  },
  {
   "cell_type": "code",
   "execution_count": null,
   "id": "a1dbbb19",
   "metadata": {},
   "outputs": [],
   "source": [
    "sns.scatterplot(x='H',y='W',data = df,s = 150)"
   ]
  },
  {
   "cell_type": "code",
   "execution_count": null,
   "id": "e7340be4",
   "metadata": {},
   "outputs": [],
   "source": [
    "sns.swarmplot(x='H',y='W',data = df)"
   ]
  },
  {
   "cell_type": "code",
   "execution_count": null,
   "id": "a7457d4a",
   "metadata": {},
   "outputs": [],
   "source": [
    "sns.scatterplot(x= '2B',y='W', data = df )"
   ]
  },
  {
   "cell_type": "code",
   "execution_count": null,
   "id": "bcdd5de2",
   "metadata": {},
   "outputs": [],
   "source": [
    "sns.scatterplot(x= '3B',y='W', data = df )"
   ]
  },
  {
   "cell_type": "code",
   "execution_count": null,
   "id": "6b0d9253",
   "metadata": {},
   "outputs": [],
   "source": [
    "df.columns"
   ]
  },
  {
   "cell_type": "code",
   "execution_count": null,
   "id": "30ab8d58",
   "metadata": {},
   "outputs": [],
   "source": [
    "sns.scatterplot(x= 'HR',y='W', data = df )"
   ]
  },
  {
   "cell_type": "code",
   "execution_count": null,
   "id": "c8e593aa",
   "metadata": {},
   "outputs": [],
   "source": [
    "sns.scatterplot(x= 'BB',y='W', data = df )"
   ]
  },
  {
   "cell_type": "code",
   "execution_count": null,
   "id": "97af72b7",
   "metadata": {},
   "outputs": [],
   "source": [
    "sns.scatterplot(x= 'SO',y='W', data = df )"
   ]
  },
  {
   "cell_type": "code",
   "execution_count": null,
   "id": "f21b3bc3",
   "metadata": {},
   "outputs": [],
   "source": [
    "sns.scatterplot(x= 'SB',y='W', data = df )"
   ]
  },
  {
   "cell_type": "code",
   "execution_count": null,
   "id": "fab1c114",
   "metadata": {},
   "outputs": [],
   "source": [
    "sns.scatterplot(x= 'CG',y='W', data = df)"
   ]
  },
  {
   "cell_type": "code",
   "execution_count": null,
   "id": "dd6dfa94",
   "metadata": {},
   "outputs": [],
   "source": [
    "sns.scatterplot(x= 'SHO',y='W', data = df )"
   ]
  },
  {
   "cell_type": "code",
   "execution_count": null,
   "id": "fa581868",
   "metadata": {},
   "outputs": [],
   "source": [
    "sns.scatterplot(x= 'SV',y='W', data = df )"
   ]
  },
  {
   "cell_type": "code",
   "execution_count": null,
   "id": "1fa0caa8",
   "metadata": {},
   "outputs": [],
   "source": [
    "sns.scatterplot(x= 'E',y='W', data = df )"
   ]
  },
  {
   "cell_type": "code",
   "execution_count": null,
   "id": "586652bb",
   "metadata": {},
   "outputs": [],
   "source": [
    "df"
   ]
  },
  {
   "cell_type": "code",
   "execution_count": null,
   "id": "a17d5e6f",
   "metadata": {},
   "outputs": [],
   "source": [
    "sns.jointplot(x='R',y='W',data = df)"
   ]
  },
  {
   "cell_type": "code",
   "execution_count": null,
   "id": "0214d339",
   "metadata": {},
   "outputs": [],
   "source": [
    "sns.relplot(x='R',y='W',data = df)"
   ]
  },
  {
   "cell_type": "code",
   "execution_count": null,
   "id": "8f51144f",
   "metadata": {},
   "outputs": [],
   "source": [
    "sns.lineplot(x='R',y='W',data = df)"
   ]
  },
  {
   "cell_type": "code",
   "execution_count": null,
   "id": "141cf08f",
   "metadata": {},
   "outputs": [],
   "source": [
    "sns.regplot(x='R',y='W',data = df)"
   ]
  },
  {
   "cell_type": "code",
   "execution_count": null,
   "id": "b24fe4fd",
   "metadata": {},
   "outputs": [],
   "source": [
    "sns.jointplot(x='AB',y='W',data = df)"
   ]
  },
  {
   "cell_type": "code",
   "execution_count": null,
   "id": "3b057072",
   "metadata": {},
   "outputs": [],
   "source": [
    "sns.lineplot(x='AB',y='W',data = df)"
   ]
  },
  {
   "cell_type": "code",
   "execution_count": null,
   "id": "20ab3a50",
   "metadata": {},
   "outputs": [],
   "source": [
    "sns.relplot(x='AB',y='W',data = df)"
   ]
  },
  {
   "cell_type": "code",
   "execution_count": null,
   "id": "b162cb47",
   "metadata": {},
   "outputs": [],
   "source": [
    "sns.regplot(x='AB',y='W',data = df)"
   ]
  },
  {
   "cell_type": "code",
   "execution_count": null,
   "id": "4c110f9b",
   "metadata": {},
   "outputs": [],
   "source": [
    "df"
   ]
  },
  {
   "cell_type": "code",
   "execution_count": null,
   "id": "d6341758",
   "metadata": {},
   "outputs": [],
   "source": [
    "sns.jointplot(x='H',y='W',data = df)"
   ]
  },
  {
   "cell_type": "code",
   "execution_count": null,
   "id": "476b4828",
   "metadata": {},
   "outputs": [],
   "source": [
    "sns.relplot(x='H',y='W',data = df)"
   ]
  },
  {
   "cell_type": "code",
   "execution_count": null,
   "id": "4581ad49",
   "metadata": {},
   "outputs": [],
   "source": [
    "sns.regplot(x='H',y='W',data = df)"
   ]
  },
  {
   "cell_type": "code",
   "execution_count": null,
   "id": "d0d90609",
   "metadata": {},
   "outputs": [],
   "source": [
    "sns.lineplot(x='H',y='W',data = df)"
   ]
  },
  {
   "cell_type": "code",
   "execution_count": null,
   "id": "884ec73f",
   "metadata": {},
   "outputs": [],
   "source": [
    "sns.jointplot(x='2B',y='W',data = df)"
   ]
  },
  {
   "cell_type": "code",
   "execution_count": null,
   "id": "32bdcadd",
   "metadata": {},
   "outputs": [],
   "source": [
    "sns.regplot(x='2B',y='W',data = df)"
   ]
  },
  {
   "cell_type": "code",
   "execution_count": null,
   "id": "f8685556",
   "metadata": {},
   "outputs": [],
   "source": [
    "sns.relplot(x='2B',y='W',data = df)"
   ]
  },
  {
   "cell_type": "code",
   "execution_count": null,
   "id": "2086d58d",
   "metadata": {},
   "outputs": [],
   "source": [
    "sns.lineplot(x='2B',y='W',data = df)"
   ]
  },
  {
   "cell_type": "code",
   "execution_count": null,
   "id": "cb5b4031",
   "metadata": {},
   "outputs": [],
   "source": [
    "sns.jointplot(x='3B',y='W',data = df)"
   ]
  },
  {
   "cell_type": "code",
   "execution_count": null,
   "id": "95d1c7a7",
   "metadata": {},
   "outputs": [],
   "source": [
    "sns.regplot(x='3B',y='W',data = df)"
   ]
  },
  {
   "cell_type": "code",
   "execution_count": null,
   "id": "5592db24",
   "metadata": {},
   "outputs": [],
   "source": [
    "sns.relplot(x='3B',y='W',data = df)"
   ]
  },
  {
   "cell_type": "code",
   "execution_count": null,
   "id": "6444e36b",
   "metadata": {},
   "outputs": [],
   "source": [
    "sns.lineplot(x='3B',y='W',data = df)"
   ]
  },
  {
   "cell_type": "code",
   "execution_count": null,
   "id": "dbbed611",
   "metadata": {},
   "outputs": [],
   "source": [
    "sns.jointplot(x='HR',y='W',data = df)"
   ]
  },
  {
   "cell_type": "code",
   "execution_count": null,
   "id": "dc16a3f9",
   "metadata": {},
   "outputs": [],
   "source": [
    "sns.regplot(x='HR',y='W',data = df)"
   ]
  },
  {
   "cell_type": "code",
   "execution_count": null,
   "id": "fdfd75e0",
   "metadata": {},
   "outputs": [],
   "source": [
    "sns.relplot(x='HR',y='W',data = df)"
   ]
  },
  {
   "cell_type": "code",
   "execution_count": null,
   "id": "506d4cda",
   "metadata": {},
   "outputs": [],
   "source": [
    "sns.lineplot(x='HR',y='W',data = df)"
   ]
  },
  {
   "cell_type": "code",
   "execution_count": null,
   "id": "7efeda31",
   "metadata": {},
   "outputs": [],
   "source": [
    "\n",
    "sns.jointplot(x='BB',y='W',data= df)"
   ]
  },
  {
   "cell_type": "code",
   "execution_count": null,
   "id": "564c2e90",
   "metadata": {},
   "outputs": [],
   "source": [
    "sns.regplot(x='BB',y='W',data= df)"
   ]
  },
  {
   "cell_type": "code",
   "execution_count": null,
   "id": "b04bacdb",
   "metadata": {},
   "outputs": [],
   "source": [
    "sns.relplot(x='BB',y='W',data= df)"
   ]
  },
  {
   "cell_type": "code",
   "execution_count": null,
   "id": "5259c8c8",
   "metadata": {},
   "outputs": [],
   "source": [
    "sns.lineplot(x='BB',y='W',data= df)"
   ]
  },
  {
   "cell_type": "code",
   "execution_count": null,
   "id": "ae8b136f",
   "metadata": {},
   "outputs": [],
   "source": [
    "sns.jointplot(x='SO',y='W',data= df)"
   ]
  },
  {
   "cell_type": "code",
   "execution_count": null,
   "id": "09aa9ed6",
   "metadata": {},
   "outputs": [],
   "source": [
    "sns.lineplot(x='SO',y='W',data= df)"
   ]
  },
  {
   "cell_type": "code",
   "execution_count": null,
   "id": "68f14703",
   "metadata": {},
   "outputs": [],
   "source": [
    "sns.relplot(x='SO',y='W',data= df)"
   ]
  },
  {
   "cell_type": "code",
   "execution_count": null,
   "id": "ce5fc1f5",
   "metadata": {},
   "outputs": [],
   "source": [
    "sns.regplot(x='SO',y='W',data= df)"
   ]
  },
  {
   "cell_type": "code",
   "execution_count": null,
   "id": "d53c40f5",
   "metadata": {},
   "outputs": [],
   "source": [
    "sns.jointplot(x='SB',y='W',data = df)"
   ]
  },
  {
   "cell_type": "code",
   "execution_count": null,
   "id": "91d7e064",
   "metadata": {},
   "outputs": [],
   "source": [
    "sns.lineplot(x='SB',y='W',data = df)"
   ]
  },
  {
   "cell_type": "code",
   "execution_count": null,
   "id": "ba5d12cb",
   "metadata": {},
   "outputs": [],
   "source": [
    "sns.regplot(x='SB',y='W',data = df)"
   ]
  },
  {
   "cell_type": "code",
   "execution_count": null,
   "id": "e5decdae",
   "metadata": {},
   "outputs": [],
   "source": [
    "sns.relplot(x='SB',y='W',data = df)"
   ]
  },
  {
   "cell_type": "code",
   "execution_count": null,
   "id": "2bb6adb3",
   "metadata": {},
   "outputs": [],
   "source": [
    "sns.jointplot(x='CG',y='W',data = df)"
   ]
  },
  {
   "cell_type": "code",
   "execution_count": null,
   "id": "5cfa52fa",
   "metadata": {},
   "outputs": [],
   "source": [
    "sns.relplot(x='CG',y='W',data = df)"
   ]
  },
  {
   "cell_type": "code",
   "execution_count": null,
   "id": "abc2fe96",
   "metadata": {},
   "outputs": [],
   "source": [
    "sns.lineplot(x='CG',y='W',data = df)"
   ]
  },
  {
   "cell_type": "code",
   "execution_count": null,
   "id": "bf64e01f",
   "metadata": {},
   "outputs": [],
   "source": [
    "sns.regplot(x='CG',y='W',data = df)"
   ]
  },
  {
   "cell_type": "code",
   "execution_count": null,
   "id": "5eab0539",
   "metadata": {},
   "outputs": [],
   "source": [
    "sns.jointplot(x='SHO',y= 'W',data =df)"
   ]
  },
  {
   "cell_type": "code",
   "execution_count": null,
   "id": "04fb6331",
   "metadata": {},
   "outputs": [],
   "source": [
    "sns.lineplot(x='SHO',y= 'W',data =df)"
   ]
  },
  {
   "cell_type": "code",
   "execution_count": null,
   "id": "ad6fa4d7",
   "metadata": {},
   "outputs": [],
   "source": [
    "sns.regplot(x='SHO',y= 'W',data =df)"
   ]
  },
  {
   "cell_type": "code",
   "execution_count": null,
   "id": "6552f2b6",
   "metadata": {},
   "outputs": [],
   "source": [
    "sns.relplot(x='SHO',y= 'W',data =df)"
   ]
  },
  {
   "cell_type": "code",
   "execution_count": null,
   "id": "b28b15b4",
   "metadata": {},
   "outputs": [],
   "source": [
    "sns.jointplot(x='SB',y='W',data = df)"
   ]
  },
  {
   "cell_type": "code",
   "execution_count": null,
   "id": "8884e643",
   "metadata": {},
   "outputs": [],
   "source": [
    "sns.regplot(x='SB',y='W',data = df)"
   ]
  },
  {
   "cell_type": "code",
   "execution_count": null,
   "id": "4a272c83",
   "metadata": {},
   "outputs": [],
   "source": [
    "sns.relplot(x='SB',y='W',data = df)"
   ]
  },
  {
   "cell_type": "code",
   "execution_count": null,
   "id": "d165da01",
   "metadata": {},
   "outputs": [],
   "source": [
    "sns.lineplot(x='SB',y='W',data = df)"
   ]
  },
  {
   "cell_type": "code",
   "execution_count": null,
   "id": "64cdc1d9",
   "metadata": {},
   "outputs": [],
   "source": [
    "sns.jointplot(x='E',y='W',data = df)"
   ]
  },
  {
   "cell_type": "code",
   "execution_count": null,
   "id": "94f31ea8",
   "metadata": {},
   "outputs": [],
   "source": [
    "sns.relplot(x='E',y='W',data = df)"
   ]
  },
  {
   "cell_type": "code",
   "execution_count": null,
   "id": "e734c690",
   "metadata": {},
   "outputs": [],
   "source": [
    "sns.regplot(x='E',y='W',data = df)"
   ]
  },
  {
   "cell_type": "code",
   "execution_count": null,
   "id": "19c8e998",
   "metadata": {},
   "outputs": [],
   "source": [
    "sns.lineplot(x='E',y='W',data = df)"
   ]
  },
  {
   "cell_type": "code",
   "execution_count": null,
   "id": "ad24af0f",
   "metadata": {},
   "outputs": [],
   "source": [
    "sns.violinplot(df['W'])"
   ]
  },
  {
   "cell_type": "code",
   "execution_count": null,
   "id": "aba6352b",
   "metadata": {},
   "outputs": [],
   "source": [
    "sns.violinplot(df['R'])"
   ]
  },
  {
   "cell_type": "markdown",
   "id": "209006c0",
   "metadata": {},
   "source": [
    "VIOLINPLOT SHOW WHERE IS MOST OF THE DATA LYING HERE MOST OF THE RUNS IS BETWEEN APPROXIMATE 680 TO 700  "
   ]
  },
  {
   "cell_type": "code",
   "execution_count": null,
   "id": "b36c1a75",
   "metadata": {},
   "outputs": [],
   "source": [
    "sns.violinplot(df['AB'])"
   ]
  },
  {
   "cell_type": "code",
   "execution_count": null,
   "id": "cf49c47a",
   "metadata": {},
   "outputs": [],
   "source": [
    "df.columns"
   ]
  },
  {
   "cell_type": "code",
   "execution_count": null,
   "id": "1889813f",
   "metadata": {},
   "outputs": [],
   "source": [
    "sns.violinplot(df['H'])"
   ]
  },
  {
   "cell_type": "code",
   "execution_count": null,
   "id": "116fe3fb",
   "metadata": {},
   "outputs": [],
   "source": [
    "sns.violinplot(df['2B'])"
   ]
  },
  {
   "cell_type": "code",
   "execution_count": null,
   "id": "e394cb23",
   "metadata": {},
   "outputs": [],
   "source": [
    "sns.violinplot(df['3B'])"
   ]
  },
  {
   "cell_type": "code",
   "execution_count": null,
   "id": "5dac9b91",
   "metadata": {},
   "outputs": [],
   "source": [
    "sns.violinplot(df['HR'])"
   ]
  },
  {
   "cell_type": "code",
   "execution_count": null,
   "id": "149022f8",
   "metadata": {},
   "outputs": [],
   "source": [
    "sns.violinplot(df['BB'])"
   ]
  },
  {
   "cell_type": "code",
   "execution_count": null,
   "id": "a7507abf",
   "metadata": {},
   "outputs": [],
   "source": [
    "sns.violinplot(df['SO'])"
   ]
  },
  {
   "cell_type": "code",
   "execution_count": null,
   "id": "1cedce88",
   "metadata": {},
   "outputs": [],
   "source": [
    "sns.violinplot(df['SB'])"
   ]
  },
  {
   "cell_type": "code",
   "execution_count": null,
   "id": "cc1f0b62",
   "metadata": {},
   "outputs": [],
   "source": [
    "sns.violinplot(df['CG'])"
   ]
  },
  {
   "cell_type": "code",
   "execution_count": null,
   "id": "fdeda1e6",
   "metadata": {},
   "outputs": [],
   "source": [
    "sns.violinplot(df['SHO'])"
   ]
  },
  {
   "cell_type": "code",
   "execution_count": null,
   "id": "953bd628",
   "metadata": {},
   "outputs": [],
   "source": [
    "sns.violinplot(df['SV'])"
   ]
  },
  {
   "cell_type": "code",
   "execution_count": null,
   "id": "3382d04c",
   "metadata": {},
   "outputs": [],
   "source": [
    "sns.violinplot(df['E'])"
   ]
  },
  {
   "cell_type": "code",
   "execution_count": null,
   "id": "61fbf0fb",
   "metadata": {},
   "outputs": [],
   "source": [
    "sns.lmplot(x='W',y='R',data = df)"
   ]
  },
  {
   "cell_type": "code",
   "execution_count": null,
   "id": "c183e6f5",
   "metadata": {},
   "outputs": [],
   "source": [
    "df.columns"
   ]
  },
  {
   "cell_type": "code",
   "execution_count": null,
   "id": "d1c820b9",
   "metadata": {},
   "outputs": [],
   "source": [
    "sns.catplot(x='W',y='AB',data = df,kind = 'bar')"
   ]
  },
  {
   "cell_type": "code",
   "execution_count": null,
   "id": "51ce1ce6",
   "metadata": {},
   "outputs": [],
   "source": [
    "sns.catplot(x='W',y='H',data = df,kind = 'bar')"
   ]
  },
  {
   "cell_type": "code",
   "execution_count": null,
   "id": "155e7ee9",
   "metadata": {},
   "outputs": [],
   "source": [
    "sns.catplot(x='W',y='2B',data = df,kind = 'bar')"
   ]
  },
  {
   "cell_type": "code",
   "execution_count": null,
   "id": "e3d1b383",
   "metadata": {},
   "outputs": [],
   "source": [
    "sns.catplot(x='W',y='3B',data = df,kind = 'bar')"
   ]
  },
  {
   "cell_type": "code",
   "execution_count": null,
   "id": "a1312e53",
   "metadata": {},
   "outputs": [],
   "source": [
    "sns.catplot(x='W',y='HR',data = df,kind = 'bar')"
   ]
  },
  {
   "cell_type": "code",
   "execution_count": null,
   "id": "4bedbc5c",
   "metadata": {},
   "outputs": [],
   "source": [
    "sns.catplot(x='W',y='BB',data = df,kind = 'bar')"
   ]
  },
  {
   "cell_type": "code",
   "execution_count": null,
   "id": "d34ee83f",
   "metadata": {},
   "outputs": [],
   "source": [
    "sns.catplot(x='W',y='SO',data = df,kind = 'bar')"
   ]
  },
  {
   "cell_type": "code",
   "execution_count": null,
   "id": "6895f960",
   "metadata": {},
   "outputs": [],
   "source": [
    "df.columns"
   ]
  },
  {
   "cell_type": "code",
   "execution_count": null,
   "id": "b95763cf",
   "metadata": {},
   "outputs": [],
   "source": [
    "sns.catplot(x='W',y='SB',data = df,kind = 'bar')"
   ]
  },
  {
   "cell_type": "code",
   "execution_count": null,
   "id": "6ee5c79f",
   "metadata": {},
   "outputs": [],
   "source": [
    "sns.catplot(x='W',y='CG',data = df,kind = 'bar')"
   ]
  },
  {
   "cell_type": "code",
   "execution_count": null,
   "id": "964bd134",
   "metadata": {},
   "outputs": [],
   "source": [
    "sns.catplot(x='W',y='SHO',data = df,kind = 'bar')"
   ]
  },
  {
   "cell_type": "code",
   "execution_count": null,
   "id": "bf3bec1c",
   "metadata": {},
   "outputs": [],
   "source": [
    "sns.catplot(x='W',y='SV',data = df,kind = 'bar')"
   ]
  },
  {
   "cell_type": "code",
   "execution_count": null,
   "id": "b34011b2",
   "metadata": {},
   "outputs": [],
   "source": [
    "sns.catplot(x='W',y='E',data = df,kind = 'bar')"
   ]
  },
  {
   "cell_type": "code",
   "execution_count": null,
   "id": "c5e46cf5",
   "metadata": {},
   "outputs": [],
   "source": [
    "sns.scatterplot(x='R',y='W',hue='AB',data =df)"
   ]
  },
  {
   "cell_type": "code",
   "execution_count": null,
   "id": "f759ed6b",
   "metadata": {},
   "outputs": [],
   "source": [
    "sns.swarmplot(x='R',y='W',hue='AB',data =df)"
   ]
  },
  {
   "cell_type": "code",
   "execution_count": null,
   "id": "88260312",
   "metadata": {},
   "outputs": [],
   "source": [
    "sns.catplot(x='W',y='R',hue='AB',data =df,kind = 'bar')"
   ]
  },
  {
   "cell_type": "code",
   "execution_count": null,
   "id": "a3c17cc6",
   "metadata": {},
   "outputs": [],
   "source": [
    "sns.catplot(x='W',y='R',hue='2B',data=df,kind='bar')"
   ]
  },
  {
   "cell_type": "code",
   "execution_count": null,
   "id": "baf5c8ca",
   "metadata": {},
   "outputs": [],
   "source": [
    "sns.catplot(x='W',y='R',hue='3B',data=df,kind='bar')"
   ]
  },
  {
   "cell_type": "code",
   "execution_count": null,
   "id": "d0afcc0f",
   "metadata": {},
   "outputs": [],
   "source": [
    "sns.catplot(x='W',y='R',hue='HR',data=df,kind='bar')"
   ]
  },
  {
   "cell_type": "markdown",
   "id": "c872cedc",
   "metadata": {},
   "source": [
    "# I am checking the skewness with the help of  distplot"
   ]
  },
  {
   "cell_type": "code",
   "execution_count": null,
   "id": "1e5e4550",
   "metadata": {},
   "outputs": [],
   "source": [
    "sns.distplot(df['W'])"
   ]
  },
  {
   "cell_type": "code",
   "execution_count": null,
   "id": "a57d9c4b",
   "metadata": {},
   "outputs": [],
   "source": [
    "sns.distplot(df['R'])"
   ]
  },
  {
   "cell_type": "code",
   "execution_count": null,
   "id": "722ca113",
   "metadata": {},
   "outputs": [],
   "source": [
    "sns.distplot(df['AB'])"
   ]
  },
  {
   "cell_type": "code",
   "execution_count": null,
   "id": "d42e700d",
   "metadata": {},
   "outputs": [],
   "source": [
    "sns.distplot(df['2B'])"
   ]
  },
  {
   "cell_type": "code",
   "execution_count": null,
   "id": "8c13630e",
   "metadata": {},
   "outputs": [],
   "source": [
    "sns.distplot(df['3B'])"
   ]
  },
  {
   "cell_type": "code",
   "execution_count": null,
   "id": "9f0d7ca3",
   "metadata": {},
   "outputs": [],
   "source": [
    "sns.distplot(df['HR'])"
   ]
  },
  {
   "cell_type": "code",
   "execution_count": null,
   "id": "43fb536a",
   "metadata": {},
   "outputs": [],
   "source": [
    "sns.distplot(df['BB'])"
   ]
  },
  {
   "cell_type": "code",
   "execution_count": null,
   "id": "ab117ab2",
   "metadata": {},
   "outputs": [],
   "source": [
    "sns.distplot(df['SO'])"
   ]
  },
  {
   "cell_type": "code",
   "execution_count": null,
   "id": "90173a3e",
   "metadata": {},
   "outputs": [],
   "source": [
    "sns.distplot(df['SB'])"
   ]
  },
  {
   "cell_type": "code",
   "execution_count": null,
   "id": "e2199c93",
   "metadata": {},
   "outputs": [],
   "source": [
    "sns.distplot(df['CG'])"
   ]
  },
  {
   "cell_type": "code",
   "execution_count": null,
   "id": "7493d68e",
   "metadata": {},
   "outputs": [],
   "source": [
    "sns.distplot(df['SHO'])"
   ]
  },
  {
   "cell_type": "code",
   "execution_count": null,
   "id": "3921271b",
   "metadata": {},
   "outputs": [],
   "source": [
    "sns.distplot(df['SV'])"
   ]
  },
  {
   "cell_type": "code",
   "execution_count": null,
   "id": "326c7aac",
   "metadata": {},
   "outputs": [],
   "source": [
    "sns.distplot(df['E'])"
   ]
  },
  {
   "cell_type": "code",
   "execution_count": null,
   "id": "201b87d8",
   "metadata": {},
   "outputs": [],
   "source": [
    "df.skew()"
   ]
  },
  {
   "cell_type": "code",
   "execution_count": null,
   "id": "ac213809",
   "metadata": {},
   "outputs": [],
   "source": [
    "import numpy as np "
   ]
  },
  {
   "cell_type": "code",
   "execution_count": null,
   "id": "e2525871",
   "metadata": {},
   "outputs": [],
   "source": [
    "df['R'].skew()"
   ]
  },
  {
   "cell_type": "code",
   "execution_count": null,
   "id": "1b0902ed",
   "metadata": {},
   "outputs": [],
   "source": [
    "from scipy.stats import skew"
   ]
  },
  {
   "cell_type": "code",
   "execution_count": null,
   "id": "4cde9567",
   "metadata": {},
   "outputs": [],
   "source": [
    "for col in df:\n",
    "    print(col)\n",
    "    print(skew(df[col]))\n",
    "    \n",
    "    plt.figure()\n",
    "    sns.distplot(df[col])\n",
    "    plt.show()"
   ]
  },
  {
   "cell_type": "markdown",
   "id": "2f8acc13",
   "metadata": {},
   "source": [
    "skewness is present in the data"
   ]
  },
  {
   "cell_type": "code",
   "execution_count": null,
   "id": "1f558556",
   "metadata": {},
   "outputs": [],
   "source": [
    "plt.figure(figsize = (10,6))\n",
    "sns.heatmap(df.corr(),annot = True)"
   ]
  },
  {
   "cell_type": "markdown",
   "id": "7f252713",
   "metadata": {},
   "source": [
    "# Now we check the outliers"
   ]
  },
  {
   "cell_type": "code",
   "execution_count": null,
   "id": "5186a7cc",
   "metadata": {},
   "outputs": [],
   "source": [
    "df['W'].plot.box()"
   ]
  },
  {
   "cell_type": "code",
   "execution_count": null,
   "id": "63317d2c",
   "metadata": {},
   "outputs": [],
   "source": [
    "df.columns"
   ]
  },
  {
   "cell_type": "code",
   "execution_count": null,
   "id": "76205892",
   "metadata": {},
   "outputs": [],
   "source": [
    "df['R'].plot.box()"
   ]
  },
  {
   "cell_type": "code",
   "execution_count": null,
   "id": "d16200cd",
   "metadata": {},
   "outputs": [],
   "source": [
    "df['AB'].plot.box()"
   ]
  },
  {
   "cell_type": "code",
   "execution_count": null,
   "id": "057348ed",
   "metadata": {},
   "outputs": [],
   "source": [
    "df['H'].plot.box()"
   ]
  },
  {
   "cell_type": "code",
   "execution_count": null,
   "id": "a758b992",
   "metadata": {},
   "outputs": [],
   "source": [
    "df['2B'].plot.box()"
   ]
  },
  {
   "cell_type": "code",
   "execution_count": null,
   "id": "36b98b81",
   "metadata": {},
   "outputs": [],
   "source": [
    "df['3B'].plot.box()"
   ]
  },
  {
   "cell_type": "code",
   "execution_count": null,
   "id": "efaa3ece",
   "metadata": {},
   "outputs": [],
   "source": [
    "df['HR'].plot.box()"
   ]
  },
  {
   "cell_type": "code",
   "execution_count": null,
   "id": "754f84a9",
   "metadata": {},
   "outputs": [],
   "source": [
    "df['BB'].plot.box()"
   ]
  },
  {
   "cell_type": "code",
   "execution_count": null,
   "id": "76fd6c91",
   "metadata": {},
   "outputs": [],
   "source": [
    "df['SO'].plot.box()"
   ]
  },
  {
   "cell_type": "code",
   "execution_count": null,
   "id": "c3acc729",
   "metadata": {},
   "outputs": [],
   "source": [
    "df['SB'].plot.box()"
   ]
  },
  {
   "cell_type": "code",
   "execution_count": null,
   "id": "c0ee702a",
   "metadata": {},
   "outputs": [],
   "source": [
    "df['CG'].plot.box()"
   ]
  },
  {
   "cell_type": "code",
   "execution_count": null,
   "id": "68a53eb9",
   "metadata": {},
   "outputs": [],
   "source": [
    "df['SHO'].plot.box()"
   ]
  },
  {
   "cell_type": "code",
   "execution_count": null,
   "id": "f210d003",
   "metadata": {},
   "outputs": [],
   "source": [
    "df['SV'].plot.box()"
   ]
  },
  {
   "cell_type": "code",
   "execution_count": null,
   "id": "5916e224",
   "metadata": {},
   "outputs": [],
   "source": [
    "df['E'].plot.box()"
   ]
  },
  {
   "cell_type": "markdown",
   "id": "2d92cf40",
   "metadata": {},
   "source": [
    "this column have some outliers"
   ]
  },
  {
   "cell_type": "code",
   "execution_count": null,
   "id": "e915e538",
   "metadata": {},
   "outputs": [],
   "source": [
    "from scipy.stats import zscore"
   ]
  },
  {
   "cell_type": "code",
   "execution_count": null,
   "id": "d051989c",
   "metadata": {},
   "outputs": [],
   "source": [
    "z = np.abs(zscore(df))\n",
    "threshold = 3\n",
    "np.where(z>3)"
   ]
  },
  {
   "cell_type": "code",
   "execution_count": null,
   "id": "9684181c",
   "metadata": {},
   "outputs": [],
   "source": [
    "df_new = df[(z<3).all(axis =1)]"
   ]
  },
  {
   "cell_type": "code",
   "execution_count": null,
   "id": "d77c8d69",
   "metadata": {},
   "outputs": [],
   "source": [
    "df_new"
   ]
  },
  {
   "cell_type": "code",
   "execution_count": null,
   "id": "f06cd3bb",
   "metadata": {},
   "outputs": [],
   "source": [
    "df_new.skew()"
   ]
  },
  {
   "cell_type": "code",
   "execution_count": null,
   "id": "5de06671",
   "metadata": {},
   "outputs": [],
   "source": [
    "for col in df_new:\n",
    "    if df_new.skew().loc[col]>0.55:\n",
    "        df_new[col]=np.log1p(df_new[col])\n",
    "        "
   ]
  },
  {
   "cell_type": "code",
   "execution_count": null,
   "id": "b9796d99",
   "metadata": {},
   "outputs": [],
   "source": [
    "df_new.skew()"
   ]
  },
  {
   "cell_type": "code",
   "execution_count": null,
   "id": "aa4e5ccc",
   "metadata": {},
   "outputs": [],
   "source": [
    "sns.distplot(np.log(df_new['H']))"
   ]
  },
  {
   "cell_type": "code",
   "execution_count": null,
   "id": "414ecb99",
   "metadata": {},
   "outputs": [],
   "source": [
    "sns.distplot(np.sqrt(df_new['H']))"
   ]
  },
  {
   "cell_type": "code",
   "execution_count": null,
   "id": "2af76ed9",
   "metadata": {},
   "outputs": [],
   "source": [
    "from scipy.stats import boxcox"
   ]
  },
  {
   "cell_type": "code",
   "execution_count": null,
   "id": "f9701245",
   "metadata": {},
   "outputs": [],
   "source": [
    "df_new['H']=np.log(df_new['H'])"
   ]
  },
  {
   "cell_type": "code",
   "execution_count": null,
   "id": "18162891",
   "metadata": {},
   "outputs": [],
   "source": [
    "df_new['H'].skew()"
   ]
  },
  {
   "cell_type": "code",
   "execution_count": null,
   "id": "502257ac",
   "metadata": {},
   "outputs": [],
   "source": [
    "df_new['H']=np.sqrt(df_new['H'])"
   ]
  },
  {
   "cell_type": "code",
   "execution_count": null,
   "id": "97f40c4e",
   "metadata": {},
   "outputs": [],
   "source": [
    "df_new['H'].skew()"
   ]
  },
  {
   "cell_type": "code",
   "execution_count": null,
   "id": "7639b5d0",
   "metadata": {},
   "outputs": [],
   "source": [
    "df_new.shape"
   ]
  },
  {
   "cell_type": "code",
   "execution_count": null,
   "id": "c2e2d11c",
   "metadata": {},
   "outputs": [],
   "source": [
    "df_new['H']=boxcox(df_new['H'],0)"
   ]
  },
  {
   "cell_type": "code",
   "execution_count": null,
   "id": "c73223f1",
   "metadata": {},
   "outputs": [],
   "source": [
    "df_new['H'].skew()"
   ]
  },
  {
   "cell_type": "code",
   "execution_count": null,
   "id": "50f72443",
   "metadata": {},
   "outputs": [],
   "source": [
    "df_new['H']=boxcox(df_new['H'],0.5)"
   ]
  },
  {
   "cell_type": "code",
   "execution_count": null,
   "id": "c2ae4e53",
   "metadata": {},
   "outputs": [],
   "source": [
    "df_new.skew()"
   ]
  },
  {
   "cell_type": "code",
   "execution_count": null,
   "id": "330f0c53",
   "metadata": {},
   "outputs": [],
   "source": [
    "df_new['H'].skew()"
   ]
  },
  {
   "cell_type": "code",
   "execution_count": null,
   "id": "264ca52b",
   "metadata": {},
   "outputs": [],
   "source": [
    "for i in df_new:\n",
    "    print(i)\n",
    "    print(skew(df_new[i]))\n",
    "    plt.figure()\n",
    "    sns.distplot(df_new[i])\n",
    "    plt.show()"
   ]
  },
  {
   "cell_type": "code",
   "execution_count": null,
   "id": "f3ca687c",
   "metadata": {},
   "outputs": [],
   "source": [
    "x=df_new.iloc[:,1:]"
   ]
  },
  {
   "cell_type": "code",
   "execution_count": null,
   "id": "db8e4628",
   "metadata": {},
   "outputs": [],
   "source": [
    "x.head()"
   ]
  },
  {
   "cell_type": "code",
   "execution_count": null,
   "id": "3089dac1",
   "metadata": {},
   "outputs": [],
   "source": [
    "y = df_new.iloc[:,0]"
   ]
  },
  {
   "cell_type": "code",
   "execution_count": null,
   "id": "b5569276",
   "metadata": {},
   "outputs": [],
   "source": [
    "y.head()"
   ]
  },
  {
   "cell_type": "code",
   "execution_count": null,
   "id": "cd7dbe6e",
   "metadata": {},
   "outputs": [],
   "source": [
    "x.shape"
   ]
  },
  {
   "cell_type": "code",
   "execution_count": null,
   "id": "2fab0da1",
   "metadata": {},
   "outputs": [],
   "source": [
    "y.shape"
   ]
  },
  {
   "cell_type": "code",
   "execution_count": null,
   "id": "ecce2043",
   "metadata": {},
   "outputs": [],
   "source": [
    "from sklearn.preprocessing import StandardScaler"
   ]
  },
  {
   "cell_type": "code",
   "execution_count": null,
   "id": "923b8252",
   "metadata": {},
   "outputs": [],
   "source": [
    "sc = StandardScaler()"
   ]
  },
  {
   "cell_type": "code",
   "execution_count": null,
   "id": "6a981264",
   "metadata": {},
   "outputs": [],
   "source": [
    "x = sc.fit_transform(x)\n",
    "x"
   ]
  },
  {
   "cell_type": "code",
   "execution_count": null,
   "id": "be805135",
   "metadata": {},
   "outputs": [],
   "source": [
    "x.shape"
   ]
  },
  {
   "cell_type": "code",
   "execution_count": null,
   "id": "079d358b",
   "metadata": {},
   "outputs": [],
   "source": [
    "from sklearn.model_selection import train_test_split"
   ]
  },
  {
   "cell_type": "code",
   "execution_count": null,
   "id": "3e00799f",
   "metadata": {},
   "outputs": [],
   "source": [
    "x_train,x_test,y_train,y_test=train_test_split(x,y,test_size=.10,random_state=40)"
   ]
  },
  {
   "cell_type": "code",
   "execution_count": null,
   "id": "79e1afdf",
   "metadata": {},
   "outputs": [],
   "source": [
    "x_train.shape"
   ]
  },
  {
   "cell_type": "code",
   "execution_count": null,
   "id": "c781ee17",
   "metadata": {},
   "outputs": [],
   "source": [
    "x_test.shape"
   ]
  },
  {
   "cell_type": "code",
   "execution_count": null,
   "id": "444fd61c",
   "metadata": {},
   "outputs": [],
   "source": [
    "y_train.shape"
   ]
  },
  {
   "cell_type": "code",
   "execution_count": null,
   "id": "a4029348",
   "metadata": {},
   "outputs": [],
   "source": [
    "y_test.shape"
   ]
  },
  {
   "cell_type": "code",
   "execution_count": null,
   "id": "1a14ad10",
   "metadata": {},
   "outputs": [],
   "source": [
    "from sklearn.linear_model import LinearRegression\n",
    "from sklearn.metrics import mean_squared_error,mean_absolute_error,r2_score\n",
    "from sklearn.metrics import accuracy_score"
   ]
  },
  {
   "cell_type": "code",
   "execution_count": null,
   "id": "666614d6",
   "metadata": {},
   "outputs": [],
   "source": [
    "lr = LinearRegression()"
   ]
  },
  {
   "cell_type": "code",
   "execution_count": null,
   "id": "a1187ecd",
   "metadata": {},
   "outputs": [],
   "source": [
    "lr.fit(x_train,y_train)\n",
    "lr.score(x_train,y_train)\n",
    "predlr=lr.predict(x_test)\n",
    "print(r2_score(y_test,predlr))"
   ]
  },
  {
   "cell_type": "code",
   "execution_count": null,
   "id": "e73b402d",
   "metadata": {},
   "outputs": [],
   "source": [
    "lr.score(x_test,y_test)"
   ]
  },
  {
   "cell_type": "code",
   "execution_count": null,
   "id": "11cecf51",
   "metadata": {},
   "outputs": [],
   "source": [
    "lr.score(x_train,y_train)"
   ]
  },
  {
   "cell_type": "code",
   "execution_count": null,
   "id": "4db9bd41",
   "metadata": {},
   "outputs": [],
   "source": [
    "import numpy as np\n",
    "from sklearn.model_selection import GridSearchCV"
   ]
  },
  {
   "cell_type": "code",
   "execution_count": null,
   "id": "b91f2e2b",
   "metadata": {},
   "outputs": [],
   "source": [
    "parameter_lr = {'copy_X':['true','false'],'fit_intercept':['true','false'],'n_jobs':np.arange(1,4)}\n",
    "gc = GridSearchCV(LinearRegression(),parameter_lr,cv = 5)\n",
    "gc.fit(x,y)"
   ]
  },
  {
   "cell_type": "code",
   "execution_count": null,
   "id": "53e552be",
   "metadata": {},
   "outputs": [],
   "source": [
    "gc.best_params_"
   ]
  },
  {
   "cell_type": "code",
   "execution_count": null,
   "id": "d7dc0f18",
   "metadata": {},
   "outputs": [],
   "source": [
    "LR = LinearRegression(copy_X='true',fit_intercept='true',n_jobs='1')"
   ]
  },
  {
   "cell_type": "code",
   "execution_count": null,
   "id": "fb780020",
   "metadata": {},
   "outputs": [],
   "source": [
    "LR.fit(x_train,y_train)"
   ]
  },
  {
   "cell_type": "code",
   "execution_count": null,
   "id": "0d4eb1a7",
   "metadata": {},
   "outputs": [],
   "source": [
    "LR.score(x_train,y_train)"
   ]
  },
  {
   "cell_type": "code",
   "execution_count": null,
   "id": "8a230c9f",
   "metadata": {},
   "outputs": [],
   "source": [
    "LR.score(x_test,y_test)"
   ]
  },
  {
   "cell_type": "code",
   "execution_count": null,
   "id": "7b52ccb6",
   "metadata": {},
   "outputs": [],
   "source": [
    "from sklearn.model_selection import cross_val_score"
   ]
  },
  {
   "cell_type": "code",
   "execution_count": null,
   "id": "78916be5",
   "metadata": {},
   "outputs": [],
   "source": [
    "print(cross_val_score(LR,x,y,cv=5).mean())"
   ]
  },
  {
   "cell_type": "code",
   "execution_count": null,
   "id": "6adb3d5e",
   "metadata": {},
   "outputs": [],
   "source": [
    "from sklearn.ensemble import RandomForestRegressor"
   ]
  },
  {
   "cell_type": "code",
   "execution_count": null,
   "id": "2e6a077c",
   "metadata": {},
   "outputs": [],
   "source": [
    "rf = RandomForestRegressor()\n",
    "rf.fit(x_train,y_train)\n",
    "rf.score(x_train,y_train)\n",
    "predrf = rf.predict(x_test)\n",
    "print(r2_score(y_test,predrf))"
   ]
  },
  {
   "cell_type": "code",
   "execution_count": null,
   "id": "0243ce10",
   "metadata": {},
   "outputs": [],
   "source": [
    "rf.score(x_train,y_train)"
   ]
  },
  {
   "cell_type": "code",
   "execution_count": null,
   "id": "17ebf581",
   "metadata": {},
   "outputs": [],
   "source": [
    "RandomForestRegressor().get_params().keys()"
   ]
  },
  {
   "cell_type": "code",
   "execution_count": null,
   "id": "3669b677",
   "metadata": {},
   "outputs": [],
   "source": [
    "RandomForestRegressor().get_params().values()"
   ]
  },
  {
   "cell_type": "code",
   "execution_count": null,
   "id": "cbd5b0e9",
   "metadata": {},
   "outputs": [],
   "source": [
    "parameter_rf= {'n_estimators':np.arange(1,10),'max_features':['auto','sqrt','log2'],\n",
    "                 'criterion': ['squared_error','absolute_error','poisson']}"
   ]
  },
  {
   "cell_type": "code",
   "execution_count": null,
   "id": "d6371c55",
   "metadata": {},
   "outputs": [],
   "source": [
    "gc = GridSearchCV(RandomForestRegressor(),parameter_rf,cv = 5)\n",
    "gc.fit(x,y)"
   ]
  },
  {
   "cell_type": "code",
   "execution_count": null,
   "id": "15525bba",
   "metadata": {},
   "outputs": [],
   "source": [
    "gc.best_params_"
   ]
  },
  {
   "cell_type": "code",
   "execution_count": null,
   "id": "2b28e041",
   "metadata": {},
   "outputs": [],
   "source": [
    "RF=RandomForestRegressor(criterion='poisson',max_features='log2',n_estimators=8)"
   ]
  },
  {
   "cell_type": "code",
   "execution_count": null,
   "id": "c118c133",
   "metadata": {},
   "outputs": [],
   "source": [
    "RF.fit(x_train,y_train)"
   ]
  },
  {
   "cell_type": "code",
   "execution_count": null,
   "id": "4f69e932",
   "metadata": {},
   "outputs": [],
   "source": [
    "RF.score(x_train,y_train)"
   ]
  },
  {
   "cell_type": "code",
   "execution_count": null,
   "id": "aa84b2ac",
   "metadata": {},
   "outputs": [],
   "source": [
    "print(cross_val_score(RF,x,y,cv=3).mean())"
   ]
  },
  {
   "cell_type": "code",
   "execution_count": null,
   "id": "d91ec6b6",
   "metadata": {},
   "outputs": [],
   "source": [
    "predRF = RF.predict(x_test)"
   ]
  },
  {
   "cell_type": "code",
   "execution_count": null,
   "id": "d77fbba9",
   "metadata": {},
   "outputs": [],
   "source": [
    "print(r2_score(y_test,predRF))"
   ]
  },
  {
   "cell_type": "code",
   "execution_count": null,
   "id": "d81cde03",
   "metadata": {},
   "outputs": [],
   "source": [
    "from sklearn.linear_model import Lasso"
   ]
  },
  {
   "cell_type": "code",
   "execution_count": null,
   "id": "b375f62f",
   "metadata": {},
   "outputs": [],
   "source": [
    "la = Lasso()"
   ]
  },
  {
   "cell_type": "code",
   "execution_count": null,
   "id": "81bdb21c",
   "metadata": {},
   "outputs": [],
   "source": [
    "la.fit(x_train,y_train)\n",
    "la.score(x_train,y_train)\n",
    "predla = la.predict(x_test)\n",
    "print(r2_score(predla,y_test))"
   ]
  },
  {
   "cell_type": "code",
   "execution_count": null,
   "id": "55ef5de9",
   "metadata": {},
   "outputs": [],
   "source": [
    "parameterla={'fit_intercept':['true','false'],'normalize':['true','false'],\n",
    "               'alpha':[0.01,0.002,0.02]}"
   ]
  },
  {
   "cell_type": "code",
   "execution_count": null,
   "id": "ad3f8963",
   "metadata": {},
   "outputs": [],
   "source": [
    "gc = GridSearchCV(Lasso(),parameterla,cv=5)"
   ]
  },
  {
   "cell_type": "code",
   "execution_count": null,
   "id": "5053a756",
   "metadata": {},
   "outputs": [],
   "source": [
    "gc.fit(x,y)"
   ]
  },
  {
   "cell_type": "code",
   "execution_count": null,
   "id": "fc9dbd25",
   "metadata": {},
   "outputs": [],
   "source": [
    "gc.best_params_"
   ]
  },
  {
   "cell_type": "code",
   "execution_count": null,
   "id": "67f6c1f1",
   "metadata": {},
   "outputs": [],
   "source": [
    "La = Lasso(alpha=0.02 ,fit_intercept='true',normalize='true')"
   ]
  },
  {
   "cell_type": "code",
   "execution_count": null,
   "id": "8a82e6e9",
   "metadata": {},
   "outputs": [],
   "source": [
    "La.fit(x_train,y_train)\n",
    "La.score(x_train,y_train)\n",
    "predLa= La.predict(x_test)\n",
    "print(r2_score(y_test,predLa))"
   ]
  },
  {
   "cell_type": "code",
   "execution_count": null,
   "id": "acc85508",
   "metadata": {},
   "outputs": [],
   "source": [
    "La.score(x_train,y_train)"
   ]
  },
  {
   "cell_type": "code",
   "execution_count": null,
   "id": "4b6a76f9",
   "metadata": {},
   "outputs": [],
   "source": [
    "print(cross_val_score(La,x,y,cv=5).mean())"
   ]
  },
  {
   "cell_type": "code",
   "execution_count": null,
   "id": "099a14ed",
   "metadata": {},
   "outputs": [],
   "source": [
    "from sklearn.tree import DecisionTreeRegressor"
   ]
  },
  {
   "cell_type": "code",
   "execution_count": null,
   "id": "5714a827",
   "metadata": {},
   "outputs": [],
   "source": [
    "dc = DecisionTreeRegressor()"
   ]
  },
  {
   "cell_type": "code",
   "execution_count": null,
   "id": "14cea6cf",
   "metadata": {},
   "outputs": [],
   "source": [
    "dc.fit(x_train,y_train)\n",
    "dc.score(x_train,y_train)\n",
    "preddc = dc.predict(x_test)\n",
    "print(r2_score(y_test,preddc))"
   ]
  },
  {
   "cell_type": "code",
   "execution_count": null,
   "id": "af4d949a",
   "metadata": {},
   "outputs": [],
   "source": [
    "dc.score(x_train,y_train)"
   ]
  },
  {
   "cell_type": "code",
   "execution_count": null,
   "id": "84f54638",
   "metadata": {},
   "outputs": [],
   "source": [
    "print(cross_val_score(dc,x,y,cv=5).mean())"
   ]
  },
  {
   "cell_type": "code",
   "execution_count": null,
   "id": "9af63489",
   "metadata": {},
   "outputs": [],
   "source": [
    "paramdc={'criterion':['squared_error','friedman_mse','poisson'],\n",
    "          'splitter':['best','random'],\n",
    "           'max_depth':np.arange(1,10)}"
   ]
  },
  {
   "cell_type": "code",
   "execution_count": null,
   "id": "25c85fec",
   "metadata": {},
   "outputs": [],
   "source": [
    "gc = GridSearchCV(DecisionTreeRegressor(),paramdc,cv=5)"
   ]
  },
  {
   "cell_type": "code",
   "execution_count": null,
   "id": "dd7301d2",
   "metadata": {},
   "outputs": [],
   "source": [
    "gc.fit(x,y)"
   ]
  },
  {
   "cell_type": "code",
   "execution_count": null,
   "id": "dbf101db",
   "metadata": {},
   "outputs": [],
   "source": [
    "gc.best_params_"
   ]
  },
  {
   "cell_type": "code",
   "execution_count": null,
   "id": "0b857e5c",
   "metadata": {},
   "outputs": [],
   "source": [
    "Dc = DecisionTreeRegressor(criterion='poisson',max_depth=2,splitter= 'random')"
   ]
  },
  {
   "cell_type": "code",
   "execution_count": null,
   "id": "f5b13bd5",
   "metadata": {},
   "outputs": [],
   "source": [
    "Dc.fit(x_train,y_train)"
   ]
  },
  {
   "cell_type": "code",
   "execution_count": null,
   "id": "673c1e90",
   "metadata": {},
   "outputs": [],
   "source": [
    "Dc.score(x_test,y_test)"
   ]
  },
  {
   "cell_type": "code",
   "execution_count": null,
   "id": "0bbebdbc",
   "metadata": {},
   "outputs": [],
   "source": [
    "Dc.score(x_train,y_train)"
   ]
  },
  {
   "cell_type": "code",
   "execution_count": null,
   "id": "fafdd3e0",
   "metadata": {},
   "outputs": [],
   "source": [
    "from sklearn.svm import SVR"
   ]
  },
  {
   "cell_type": "code",
   "execution_count": null,
   "id": "ca47ad06",
   "metadata": {},
   "outputs": [],
   "source": [
    "svr= SVR()"
   ]
  },
  {
   "cell_type": "code",
   "execution_count": null,
   "id": "886fe98c",
   "metadata": {},
   "outputs": [],
   "source": [
    "svr.fit(x_train,y_train)\n",
    "svr.score(x_train,y_train)\n",
    "predsvr = svr.predict(x_test)\n",
    "print(r2_score(y_test,predsvr))"
   ]
  },
  {
   "cell_type": "code",
   "execution_count": null,
   "id": "cc200ca6",
   "metadata": {},
   "outputs": [],
   "source": [
    "svr.score(x_train,y_train)"
   ]
  },
  {
   "cell_type": "code",
   "execution_count": null,
   "id": "1b98bf68",
   "metadata": {},
   "outputs": [],
   "source": [
    "import joblib"
   ]
  },
  {
   "cell_type": "code",
   "execution_count": null,
   "id": "32f8d410",
   "metadata": {},
   "outputs": [],
   "source": [
    "joblib.dump(RF,'RF_joblib')"
   ]
  },
  {
   "cell_type": "code",
   "execution_count": null,
   "id": "a8c57598",
   "metadata": {},
   "outputs": [],
   "source": []
  }
 ],
 "metadata": {
  "kernelspec": {
   "display_name": "Python 3",
   "language": "python",
   "name": "python3"
  },
  "language_info": {
   "codemirror_mode": {
    "name": "ipython",
    "version": 3
   },
   "file_extension": ".py",
   "mimetype": "text/x-python",
   "name": "python",
   "nbconvert_exporter": "python",
   "pygments_lexer": "ipython3",
   "version": "3.8.8"
  }
 },
 "nbformat": 4,
 "nbformat_minor": 5
}
