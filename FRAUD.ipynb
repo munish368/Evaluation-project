{
 "cells": [
  {
   "cell_type": "code",
   "execution_count": null,
   "id": "cfd5adca",
   "metadata": {},
   "outputs": [],
   "source": [
    "import pandas as pd"
   ]
  },
  {
   "cell_type": "code",
   "execution_count": null,
   "id": "36b0e7bd",
   "metadata": {},
   "outputs": [],
   "source": [
    "df= pd.read_csv(\"Automobile_insurance_fraud.csv\")"
   ]
  },
  {
   "cell_type": "code",
   "execution_count": null,
   "id": "9ff3e789",
   "metadata": {},
   "outputs": [],
   "source": [
    "df"
   ]
  },
  {
   "cell_type": "code",
   "execution_count": null,
   "id": "6885029a",
   "metadata": {},
   "outputs": [],
   "source": [
    "df.columns"
   ]
  },
  {
   "cell_type": "code",
   "execution_count": null,
   "id": "17c72c83",
   "metadata": {},
   "outputs": [],
   "source": [
    "df.info()"
   ]
  },
  {
   "cell_type": "code",
   "execution_count": null,
   "id": "08e467b4",
   "metadata": {},
   "outputs": [],
   "source": [
    "df.isnull().sum()"
   ]
  },
  {
   "cell_type": "code",
   "execution_count": null,
   "id": "02fa56da",
   "metadata": {},
   "outputs": [],
   "source": [
    "df.drop('_c39',axis=1,inplace = True)"
   ]
  },
  {
   "cell_type": "code",
   "execution_count": null,
   "id": "3996eaff",
   "metadata": {},
   "outputs": [],
   "source": [
    "df.columns"
   ]
  },
  {
   "cell_type": "code",
   "execution_count": null,
   "id": "d2dc6305",
   "metadata": {},
   "outputs": [],
   "source": [
    "df.shape"
   ]
  },
  {
   "cell_type": "code",
   "execution_count": null,
   "id": "6b8e5287",
   "metadata": {},
   "outputs": [],
   "source": [
    "df.head()"
   ]
  },
  {
   "cell_type": "code",
   "execution_count": null,
   "id": "319895a4",
   "metadata": {},
   "outputs": [],
   "source": [
    "df.drop('policy_number',axis=1,inplace = True)"
   ]
  },
  {
   "cell_type": "code",
   "execution_count": null,
   "id": "5cfa394f",
   "metadata": {},
   "outputs": [],
   "source": [
    "df"
   ]
  },
  {
   "cell_type": "code",
   "execution_count": null,
   "id": "22787f19",
   "metadata": {},
   "outputs": [],
   "source": [
    "df.shape"
   ]
  },
  {
   "cell_type": "code",
   "execution_count": null,
   "id": "9fbfebe8",
   "metadata": {},
   "outputs": [],
   "source": [
    "df[\"insured_education_level\"]"
   ]
  },
  {
   "cell_type": "code",
   "execution_count": null,
   "id": "0d237748",
   "metadata": {},
   "outputs": [],
   "source": [
    "df[\"insured_occupation\"]"
   ]
  },
  {
   "cell_type": "code",
   "execution_count": null,
   "id": "fffd56e8",
   "metadata": {},
   "outputs": [],
   "source": [
    "df[\"insured_hobbies\"]"
   ]
  },
  {
   "cell_type": "code",
   "execution_count": null,
   "id": "564e9965",
   "metadata": {},
   "outputs": [],
   "source": [
    "df[\"capital-gains\"]"
   ]
  },
  {
   "cell_type": "code",
   "execution_count": null,
   "id": "b8bb4c3e",
   "metadata": {},
   "outputs": [],
   "source": [
    "df[\"incident_type\"]"
   ]
  },
  {
   "cell_type": "code",
   "execution_count": null,
   "id": "0b6f179e",
   "metadata": {},
   "outputs": [],
   "source": [
    "df[\"collision_type\"]"
   ]
  },
  {
   "cell_type": "code",
   "execution_count": null,
   "id": "6cd5bb75",
   "metadata": {},
   "outputs": [],
   "source": [
    "df[\"incident_location\"]"
   ]
  },
  {
   "cell_type": "code",
   "execution_count": null,
   "id": "882d4cb4",
   "metadata": {},
   "outputs": [],
   "source": [
    "df[\"incident_hour_of_the_day\"]"
   ]
  },
  {
   "cell_type": "code",
   "execution_count": null,
   "id": "18ece5c1",
   "metadata": {},
   "outputs": [],
   "source": [
    "df[\"police_report_available\"]"
   ]
  },
  {
   "cell_type": "code",
   "execution_count": null,
   "id": "5b895df1",
   "metadata": {},
   "outputs": [],
   "source": [
    "df[\"insured_education_level\"]"
   ]
  },
  {
   "cell_type": "code",
   "execution_count": null,
   "id": "822d36fe",
   "metadata": {},
   "outputs": [],
   "source": [
    "import seaborn as sns \n",
    "import matplotlib.pyplot as plt\n",
    "import warnings\n",
    "warnings.filterwarnings('ignore')"
   ]
  },
  {
   "cell_type": "code",
   "execution_count": null,
   "id": "a5c09f2d",
   "metadata": {},
   "outputs": [],
   "source": [
    "sns.scatterplot(x='months_as_customer',y='fraud_reported',data= df)"
   ]
  },
  {
   "cell_type": "code",
   "execution_count": null,
   "id": "d49e0e8b",
   "metadata": {},
   "outputs": [],
   "source": [
    "sns.scatterplot(x='age',y='fraud_reported',data=df)"
   ]
  },
  {
   "cell_type": "code",
   "execution_count": null,
   "id": "571ebdf5",
   "metadata": {},
   "outputs": [],
   "source": [
    "sns.scatterplot(x='policy_bind_date',y='fraud_reported',data=df)"
   ]
  },
  {
   "cell_type": "code",
   "execution_count": null,
   "id": "57ed54a1",
   "metadata": {},
   "outputs": [],
   "source": [
    "sns.scatterplot(x='policy_state',y='fraud_reported',data=df)"
   ]
  },
  {
   "cell_type": "code",
   "execution_count": null,
   "id": "f4462207",
   "metadata": {},
   "outputs": [],
   "source": [
    "sns.scatterplot(x='policy_csl',y='fraud_reported',data=df)"
   ]
  },
  {
   "cell_type": "code",
   "execution_count": null,
   "id": "c5f4e5b5",
   "metadata": {},
   "outputs": [],
   "source": [
    "sns.scatterplot(x='policy_deductable',y='fraud_reported',data=df)"
   ]
  },
  {
   "cell_type": "code",
   "execution_count": null,
   "id": "b33f7f30",
   "metadata": {},
   "outputs": [],
   "source": [
    "sns.scatterplot(x='policy_annual_premium',y='fraud_reported',data=df)"
   ]
  },
  {
   "cell_type": "code",
   "execution_count": null,
   "id": "b42d48cf",
   "metadata": {},
   "outputs": [],
   "source": [
    "sns.scatterplot(x='umbrella_limit',y='fraud_reported',data=df)"
   ]
  },
  {
   "cell_type": "code",
   "execution_count": null,
   "id": "86716556",
   "metadata": {},
   "outputs": [],
   "source": [
    "sns.scatterplot(x='insured_zip',y='fraud_reported',data=df)"
   ]
  },
  {
   "cell_type": "code",
   "execution_count": null,
   "id": "f00b2f2c",
   "metadata": {},
   "outputs": [],
   "source": [
    "sns.scatterplot(x='insured_sex',y='fraud_reported',data=df)"
   ]
  },
  {
   "cell_type": "code",
   "execution_count": null,
   "id": "1b4f0aee",
   "metadata": {},
   "outputs": [],
   "source": [
    "sns.scatterplot(x='insured_education_level',y='fraud_reported',data=df)"
   ]
  },
  {
   "cell_type": "code",
   "execution_count": null,
   "id": "949778f6",
   "metadata": {},
   "outputs": [],
   "source": [
    "sns.scatterplot(x='insured_occupation',y='fraud_reported',data=df)"
   ]
  },
  {
   "cell_type": "code",
   "execution_count": null,
   "id": "7f4333cb",
   "metadata": {},
   "outputs": [],
   "source": [
    "sns.scatterplot(x='insured_hobbies',y='fraud_reported',data=df)"
   ]
  },
  {
   "cell_type": "code",
   "execution_count": null,
   "id": "be6da300",
   "metadata": {},
   "outputs": [],
   "source": [
    "sns.scatterplot(x='insured_relationship',y='fraud_reported',data=df)"
   ]
  },
  {
   "cell_type": "code",
   "execution_count": null,
   "id": "bee4910c",
   "metadata": {},
   "outputs": [],
   "source": [
    "sns.scatterplot(x='capital-gains',y='fraud_reported',data=df)"
   ]
  },
  {
   "cell_type": "code",
   "execution_count": null,
   "id": "6a30fe2f",
   "metadata": {},
   "outputs": [],
   "source": [
    "sns.scatterplot(x='capital-loss',y='fraud_reported',data=df)"
   ]
  },
  {
   "cell_type": "code",
   "execution_count": null,
   "id": "2da6ee5e",
   "metadata": {},
   "outputs": [],
   "source": [
    "sns.scatterplot(x='incident_date',y='fraud_reported',data=df)"
   ]
  },
  {
   "cell_type": "code",
   "execution_count": null,
   "id": "1267d741",
   "metadata": {},
   "outputs": [],
   "source": [
    "sns.scatterplot(x='incident_type',y='fraud_reported',data=df)"
   ]
  },
  {
   "cell_type": "code",
   "execution_count": null,
   "id": "4a30634e",
   "metadata": {},
   "outputs": [],
   "source": [
    "sns.scatterplot(x='collision_type',y='fraud_reported',data=df)"
   ]
  },
  {
   "cell_type": "code",
   "execution_count": null,
   "id": "e7b6eddf",
   "metadata": {},
   "outputs": [],
   "source": [
    "sns.scatterplot(x='incident_severity',y='fraud_reported',data=df)"
   ]
  },
  {
   "cell_type": "code",
   "execution_count": null,
   "id": "e3f01c3c",
   "metadata": {},
   "outputs": [],
   "source": [
    "sns.scatterplot(x='authorities_contacted',y='fraud_reported',data=df)"
   ]
  },
  {
   "cell_type": "code",
   "execution_count": null,
   "id": "72bb7807",
   "metadata": {},
   "outputs": [],
   "source": [
    "sns.scatterplot(x='incident_state',y='fraud_reported',data=df)"
   ]
  },
  {
   "cell_type": "code",
   "execution_count": null,
   "id": "a2c2dd69",
   "metadata": {},
   "outputs": [],
   "source": [
    "sns.scatterplot(x='incident_city',y='fraud_reported',data=df)"
   ]
  },
  {
   "cell_type": "code",
   "execution_count": null,
   "id": "9c801837",
   "metadata": {},
   "outputs": [],
   "source": [
    "sns.scatterplot(x='incident_location',y='fraud_reported',data=df)"
   ]
  },
  {
   "cell_type": "code",
   "execution_count": null,
   "id": "3f5f3c23",
   "metadata": {},
   "outputs": [],
   "source": [
    "sns.scatterplot(x='incident_hour_of_the_day',y='fraud_reported',data=df)"
   ]
  },
  {
   "cell_type": "code",
   "execution_count": null,
   "id": "45e8cc35",
   "metadata": {},
   "outputs": [],
   "source": [
    "sns.scatterplot(x='number_of_vehicles_involved',y='fraud_reported',data=df)"
   ]
  },
  {
   "cell_type": "code",
   "execution_count": null,
   "id": "1aabac07",
   "metadata": {},
   "outputs": [],
   "source": [
    "sns.scatterplot(x='property_damage',y='fraud_reported',data=df)"
   ]
  },
  {
   "cell_type": "code",
   "execution_count": null,
   "id": "f9ac9bed",
   "metadata": {},
   "outputs": [],
   "source": [
    "sns.scatterplot(x='bodily_injuries',y='fraud_reported',data=df)"
   ]
  },
  {
   "cell_type": "code",
   "execution_count": null,
   "id": "187d3769",
   "metadata": {},
   "outputs": [],
   "source": [
    "sns.scatterplot(x='witnesses',y='fraud_reported',data=df)"
   ]
  },
  {
   "cell_type": "code",
   "execution_count": null,
   "id": "f51eae12",
   "metadata": {},
   "outputs": [],
   "source": [
    "sns.scatterplot(x='police_report_available',y='fraud_reported',data=df)"
   ]
  },
  {
   "cell_type": "code",
   "execution_count": null,
   "id": "f3efac91",
   "metadata": {},
   "outputs": [],
   "source": [
    "sns.scatterplot(x='total_claim_amount',y='fraud_reported',data=df)"
   ]
  },
  {
   "cell_type": "code",
   "execution_count": null,
   "id": "8d59da58",
   "metadata": {},
   "outputs": [],
   "source": [
    "sns.scatterplot(x='injury_claim',y='fraud_reported',data=df)"
   ]
  },
  {
   "cell_type": "code",
   "execution_count": null,
   "id": "8de5f470",
   "metadata": {},
   "outputs": [],
   "source": [
    "sns.scatterplot(x='property_claim',y='fraud_reported',data=df)"
   ]
  },
  {
   "cell_type": "code",
   "execution_count": null,
   "id": "c05b90a3",
   "metadata": {},
   "outputs": [],
   "source": [
    "sns.scatterplot(x='vehicle_claim',y='fraud_reported',data=df)"
   ]
  },
  {
   "cell_type": "code",
   "execution_count": null,
   "id": "27bdca30",
   "metadata": {},
   "outputs": [],
   "source": [
    "sns.scatterplot(x='auto_make',y='fraud_reported',data=df)"
   ]
  },
  {
   "cell_type": "code",
   "execution_count": null,
   "id": "a071d699",
   "metadata": {},
   "outputs": [],
   "source": [
    "sns.scatterplot(x='auto_model',y='fraud_reported',data=df)"
   ]
  },
  {
   "cell_type": "code",
   "execution_count": null,
   "id": "e521fcd1",
   "metadata": {},
   "outputs": [],
   "source": [
    "sns.scatterplot(x='auto_model',y='fraud_reported',data=df)"
   ]
  },
  {
   "cell_type": "code",
   "execution_count": null,
   "id": "2f2b2193",
   "metadata": {},
   "outputs": [],
   "source": [
    "sns.scatterplot(x='months_as_customer',y='age',hue='fraud_reported',data=df)"
   ]
  },
  {
   "cell_type": "code",
   "execution_count": null,
   "id": "6ab2d790",
   "metadata": {},
   "outputs": [],
   "source": [
    "sns.scatterplot(x='months_as_customer',y='policy_bind_date',hue='fraud_reported',data=df)"
   ]
  },
  {
   "cell_type": "code",
   "execution_count": null,
   "id": "fefeb9bb",
   "metadata": {},
   "outputs": [],
   "source": [
    "sns.scatterplot(x='policy_bind_date',y='policy_state',hue='fraud_reported',data=df)"
   ]
  },
  {
   "cell_type": "code",
   "execution_count": null,
   "id": "7b2d4a35",
   "metadata": {
    "scrolled": true
   },
   "outputs": [],
   "source": [
    "sns.scatterplot(x='policy_csl',y='policy_deductable',hue='fraud_reported',data=df)"
   ]
  },
  {
   "cell_type": "code",
   "execution_count": null,
   "id": "f620785d",
   "metadata": {},
   "outputs": [],
   "source": [
    "sns.catplot(x='policy_csl',y='policy_deductable',hue='fraud_reported',data=df,kind='bar')"
   ]
  },
  {
   "cell_type": "code",
   "execution_count": null,
   "id": "e7e462df",
   "metadata": {
    "scrolled": true
   },
   "outputs": [],
   "source": [
    "sns.scatterplot(x='policy_deductable',y='policy_annual_premium',hue='fraud_reported',data=df)"
   ]
  },
  {
   "cell_type": "code",
   "execution_count": null,
   "id": "37a11a31",
   "metadata": {},
   "outputs": [],
   "source": [
    "sns.catplot(x='policy_deductable',y='policy_annual_premium',hue='fraud_reported',data=df,kind='bar')"
   ]
  },
  {
   "cell_type": "code",
   "execution_count": null,
   "id": "0872521e",
   "metadata": {
    "scrolled": true
   },
   "outputs": [],
   "source": [
    "sns.scatterplot(x='umbrella_limit',y='insured_zip',hue='fraud_reported',data=df)"
   ]
  },
  {
   "cell_type": "code",
   "execution_count": null,
   "id": "e582af3d",
   "metadata": {},
   "outputs": [],
   "source": [
    "sns.catplot(x='umbrella_limit',y='insured_zip',hue='fraud_reported',data=df,kind='bar')"
   ]
  },
  {
   "cell_type": "code",
   "execution_count": null,
   "id": "b324527a",
   "metadata": {},
   "outputs": [],
   "source": [
    "sns.scatterplot(x='umbrella_limit',y='insured_sex',hue='fraud_reported',data=df)"
   ]
  },
  {
   "cell_type": "code",
   "execution_count": null,
   "id": "91493d45",
   "metadata": {},
   "outputs": [],
   "source": [
    "sns.scatterplot(x='insured_education_level',y='insured_occupation',hue='fraud_reported',data=df)"
   ]
  },
  {
   "cell_type": "code",
   "execution_count": null,
   "id": "5f5a906c",
   "metadata": {},
   "outputs": [],
   "source": [
    "sns.scatterplot(x='insured_occupation',y='insured_hobbies',hue='fraud_reported',data=df)"
   ]
  },
  {
   "cell_type": "code",
   "execution_count": null,
   "id": "6a1f1673",
   "metadata": {},
   "outputs": [],
   "source": [
    "sns.scatterplot(x='insured_relationship',y='capital-gains',hue='fraud_reported',data=df)"
   ]
  },
  {
   "cell_type": "code",
   "execution_count": null,
   "id": "2eac46a5",
   "metadata": {},
   "outputs": [],
   "source": [
    "sns.catplot(x='insured_relationship',y='capital-gains',hue='fraud_reported',data=df,kind='bar')"
   ]
  },
  {
   "cell_type": "code",
   "execution_count": null,
   "id": "950ab648",
   "metadata": {},
   "outputs": [],
   "source": [
    "sns.scatterplot(x='insured_relationship',y='capital-loss',hue='fraud_reported',data=df)"
   ]
  },
  {
   "cell_type": "code",
   "execution_count": null,
   "id": "e546b2b2",
   "metadata": {},
   "outputs": [],
   "source": [
    "sns.scatterplot(x='incident_date',y='incident_type',hue='fraud_reported',data=df)"
   ]
  },
  {
   "cell_type": "code",
   "execution_count": null,
   "id": "8ab9f896",
   "metadata": {},
   "outputs": [],
   "source": [
    "sns.scatterplot(x='collision_type',y='incident_severity',hue='fraud_reported',data=df)"
   ]
  },
  {
   "cell_type": "code",
   "execution_count": null,
   "id": "7a0cccbb",
   "metadata": {},
   "outputs": [],
   "source": [
    "sns.scatterplot(x='authorities_contacted',y='incident_state',hue='fraud_reported',data=df)"
   ]
  },
  {
   "cell_type": "code",
   "execution_count": null,
   "id": "a5a31858",
   "metadata": {},
   "outputs": [],
   "source": [
    "sns.scatterplot(x='incident_location',y='incident_hour_of_the_day',hue='fraud_reported',data=df)"
   ]
  },
  {
   "cell_type": "code",
   "execution_count": null,
   "id": "6a4067d9",
   "metadata": {},
   "outputs": [],
   "source": [
    "sns.scatterplot(x='number_of_vehicles_involved',y='property_damage',hue='fraud_reported',data=df)"
   ]
  },
  {
   "cell_type": "code",
   "execution_count": null,
   "id": "b85223be",
   "metadata": {},
   "outputs": [],
   "source": [
    "sns.scatterplot(x='bodily_injuries',y='witnesses',hue='fraud_reported',data=df)"
   ]
  },
  {
   "cell_type": "code",
   "execution_count": null,
   "id": "9e581f2b",
   "metadata": {},
   "outputs": [],
   "source": [
    "sns.scatterplot(x='police_report_available',y='total_claim_amount',hue='fraud_reported',data=df)"
   ]
  },
  {
   "cell_type": "code",
   "execution_count": null,
   "id": "4b2c9559",
   "metadata": {},
   "outputs": [],
   "source": [
    "sns.scatterplot(x='injury_claim',y='property_claim',hue='fraud_reported',data=df)"
   ]
  },
  {
   "cell_type": "code",
   "execution_count": null,
   "id": "a6fae724",
   "metadata": {},
   "outputs": [],
   "source": [
    "sns.scatterplot(x='vehicle_claim',y='auto_make',hue='fraud_reported',data=df)"
   ]
  },
  {
   "cell_type": "code",
   "execution_count": null,
   "id": "09fd97a3",
   "metadata": {},
   "outputs": [],
   "source": [
    "sns.scatterplot(x='months_as_customer',y='policy_state',hue='fraud_reported',data=df)"
   ]
  },
  {
   "cell_type": "code",
   "execution_count": null,
   "id": "162a588f",
   "metadata": {},
   "outputs": [],
   "source": [
    "sns.scatterplot(x='months_as_customer',y='policy_csl',hue='fraud_reported',data=df)"
   ]
  },
  {
   "cell_type": "code",
   "execution_count": null,
   "id": "bd68e6db",
   "metadata": {},
   "outputs": [],
   "source": [
    "sns.scatterplot(x='months_as_customer',y='policy_deductable',hue='fraud_reported',data=df)"
   ]
  },
  {
   "cell_type": "code",
   "execution_count": null,
   "id": "61863128",
   "metadata": {},
   "outputs": [],
   "source": [
    "sns.scatterplot(x='months_as_customer',y='policy_annual_premium',hue='fraud_reported',data=df)"
   ]
  },
  {
   "cell_type": "code",
   "execution_count": null,
   "id": "8e1fff22",
   "metadata": {},
   "outputs": [],
   "source": [
    "sns.scatterplot(x='policy_state',y='insured_sex',hue='fraud_reported',data=df)"
   ]
  },
  {
   "cell_type": "code",
   "execution_count": null,
   "id": "6583f7e5",
   "metadata": {},
   "outputs": [],
   "source": [
    "sns.scatterplot(x='policy_state',y='insured_education_level',hue='fraud_reported',data=df)"
   ]
  },
  {
   "cell_type": "code",
   "execution_count": null,
   "id": "92b0f24d",
   "metadata": {},
   "outputs": [],
   "source": [
    "sns.scatterplot(x='policy_state',y='insured_occupation',hue='fraud_reported',data=df)"
   ]
  },
  {
   "cell_type": "code",
   "execution_count": null,
   "id": "fff65d6d",
   "metadata": {},
   "outputs": [],
   "source": [
    "sns.scatterplot(x='policy_state',y='insured_hobbies',hue='fraud_reported',data=df)"
   ]
  },
  {
   "cell_type": "code",
   "execution_count": null,
   "id": "b16a7585",
   "metadata": {},
   "outputs": [],
   "source": [
    "sns.scatterplot(x='policy_state',y='insured_relationship',hue='fraud_reported',data=df)"
   ]
  },
  {
   "cell_type": "code",
   "execution_count": null,
   "id": "7fd514ee",
   "metadata": {},
   "outputs": [],
   "source": [
    "sns.scatterplot(x='policy_state',y='incident_type',hue='fraud_reported',data=df)"
   ]
  },
  {
   "cell_type": "code",
   "execution_count": null,
   "id": "8300e4cb",
   "metadata": {},
   "outputs": [],
   "source": [
    "sns.scatterplot(x='umbrella_limit',y='collision_type',hue='fraud_reported',data=df)"
   ]
  },
  {
   "cell_type": "code",
   "execution_count": null,
   "id": "211c6edc",
   "metadata": {},
   "outputs": [],
   "source": [
    "sns.scatterplot(x='umbrella_limit',y='incident_date',hue='fraud_reported',data=df)"
   ]
  },
  {
   "cell_type": "code",
   "execution_count": null,
   "id": "238d12df",
   "metadata": {},
   "outputs": [],
   "source": [
    "sns.scatterplot(x='umbrella_limit',y='insured_sex',hue='fraud_reported',data=df)"
   ]
  },
  {
   "cell_type": "code",
   "execution_count": null,
   "id": "dfe10ca9",
   "metadata": {},
   "outputs": [],
   "source": [
    "sns.scatterplot(x='umbrella_limit',y='policy_csl',hue='fraud_reported',data=df)"
   ]
  },
  {
   "cell_type": "code",
   "execution_count": null,
   "id": "3e5d0c16",
   "metadata": {},
   "outputs": [],
   "source": [
    "sns.scatterplot(x='umbrella_limit',y='property_damage',hue='fraud_reported',data=df)"
   ]
  },
  {
   "cell_type": "code",
   "execution_count": null,
   "id": "78d0ed6c",
   "metadata": {},
   "outputs": [],
   "source": [
    "sns.scatterplot(x='umbrella_limit',y='bodily_injuries',hue='fraud_reported',data=df)"
   ]
  },
  {
   "cell_type": "code",
   "execution_count": null,
   "id": "a733a808",
   "metadata": {},
   "outputs": [],
   "source": [
    "sns.scatterplot(x='umbrella_limit',y='witnesses',hue='fraud_reported',data=df)"
   ]
  },
  {
   "cell_type": "code",
   "execution_count": null,
   "id": "6e98b56f",
   "metadata": {},
   "outputs": [],
   "source": [
    "sns.scatterplot(x='incident_type',y='policy_csl',hue='fraud_reported',data=df)"
   ]
  },
  {
   "cell_type": "code",
   "execution_count": null,
   "id": "450e2218",
   "metadata": {},
   "outputs": [],
   "source": [
    "sns.scatterplot(x='incident_type',y='insured_education_level',hue='fraud_reported',data=df)"
   ]
  },
  {
   "cell_type": "code",
   "execution_count": null,
   "id": "2fe565d3",
   "metadata": {},
   "outputs": [],
   "source": [
    "sns.scatterplot(x='incident_type',y='collision_type',hue='fraud_reported',data=df)"
   ]
  },
  {
   "cell_type": "code",
   "execution_count": null,
   "id": "ae2cad48",
   "metadata": {},
   "outputs": [],
   "source": [
    "sns.scatterplot(x='incident_type',y='bodily_injuries',hue='fraud_reported',data=df)"
   ]
  },
  {
   "cell_type": "code",
   "execution_count": null,
   "id": "7e4ef5f1",
   "metadata": {},
   "outputs": [],
   "source": [
    "sns.scatterplot(x='incident_type',y='witnesses',hue='fraud_reported',data=df)"
   ]
  },
  {
   "cell_type": "code",
   "execution_count": null,
   "id": "452a9cda",
   "metadata": {},
   "outputs": [],
   "source": [
    "df.head()"
   ]
  },
  {
   "cell_type": "code",
   "execution_count": null,
   "id": "32dc6c5e",
   "metadata": {},
   "outputs": [],
   "source": [
    "df.info()"
   ]
  },
  {
   "cell_type": "code",
   "execution_count": null,
   "id": "f85ff545",
   "metadata": {},
   "outputs": [],
   "source": [
    "from sklearn.preprocessing import LabelEncoder"
   ]
  },
  {
   "cell_type": "code",
   "execution_count": null,
   "id": "f44aeb0f",
   "metadata": {},
   "outputs": [],
   "source": [
    "le = LabelEncoder()"
   ]
  },
  {
   "cell_type": "code",
   "execution_count": null,
   "id": "e959e97e",
   "metadata": {},
   "outputs": [],
   "source": [
    "for i in df.columns:\n",
    "    if df[i].dtypes=='object':\n",
    "        df[i]=le.fit_transform(df[i].values.reshape(-1,1))"
   ]
  },
  {
   "cell_type": "code",
   "execution_count": null,
   "id": "061a1f19",
   "metadata": {},
   "outputs": [],
   "source": [
    "df.head()"
   ]
  },
  {
   "cell_type": "code",
   "execution_count": null,
   "id": "bdf984ee",
   "metadata": {},
   "outputs": [],
   "source": [
    "df.describe()"
   ]
  },
  {
   "cell_type": "code",
   "execution_count": null,
   "id": "34138816",
   "metadata": {},
   "outputs": [],
   "source": [
    "plt.figure(figsize=(20,10))\n",
    "sns.heatmap(df.corr(),annot=True)"
   ]
  },
  {
   "cell_type": "code",
   "execution_count": null,
   "id": "2b6c06a8",
   "metadata": {},
   "outputs": [],
   "source": [
    "df[\"policy_deductable\"].plot.box()"
   ]
  },
  {
   "cell_type": "code",
   "execution_count": null,
   "id": "c709a3d7",
   "metadata": {},
   "outputs": [],
   "source": [
    "sns.distplot(df[\"policy_deductable\"])"
   ]
  },
  {
   "cell_type": "code",
   "execution_count": null,
   "id": "2a3e11ca",
   "metadata": {},
   "outputs": [],
   "source": [
    "df[\"policy_deductable\"].skew()"
   ]
  },
  {
   "cell_type": "code",
   "execution_count": null,
   "id": "5b9f4de0",
   "metadata": {
    "scrolled": true
   },
   "outputs": [],
   "source": [
    "df[\"total_claim_amount\"].plot.box()"
   ]
  },
  {
   "cell_type": "code",
   "execution_count": null,
   "id": "0de9fc3a",
   "metadata": {},
   "outputs": [],
   "source": [
    "sns.distplot(df[\"total_claim_amount\"])"
   ]
  },
  {
   "cell_type": "code",
   "execution_count": null,
   "id": "00926686",
   "metadata": {},
   "outputs": [],
   "source": [
    "df[\"total_claim_amount\"].skew()"
   ]
  },
  {
   "cell_type": "code",
   "execution_count": null,
   "id": "50332e54",
   "metadata": {},
   "outputs": [],
   "source": [
    "df[\"injury_claim\"].plot.box()"
   ]
  },
  {
   "cell_type": "code",
   "execution_count": null,
   "id": "c132d0f2",
   "metadata": {},
   "outputs": [],
   "source": [
    "sns.distplot(df[\"injury_claim\"])"
   ]
  },
  {
   "cell_type": "code",
   "execution_count": null,
   "id": "bffe1277",
   "metadata": {},
   "outputs": [],
   "source": [
    "df[\"injury_claim\"].skew()"
   ]
  },
  {
   "cell_type": "code",
   "execution_count": null,
   "id": "115eae69",
   "metadata": {},
   "outputs": [],
   "source": [
    "df[\"property_claim\"].plot.box()"
   ]
  },
  {
   "cell_type": "code",
   "execution_count": null,
   "id": "63904260",
   "metadata": {},
   "outputs": [],
   "source": [
    "sns.distplot(df[\"property_claim\"])"
   ]
  },
  {
   "cell_type": "code",
   "execution_count": null,
   "id": "a1dfe5d5",
   "metadata": {},
   "outputs": [],
   "source": [
    "df[\"property_claim\"].skew()"
   ]
  },
  {
   "cell_type": "code",
   "execution_count": null,
   "id": "6ef85537",
   "metadata": {
    "scrolled": true
   },
   "outputs": [],
   "source": [
    "df[\"vehicle_claim\"].plot.box()"
   ]
  },
  {
   "cell_type": "code",
   "execution_count": null,
   "id": "db182b05",
   "metadata": {},
   "outputs": [],
   "source": [
    "sns.distplot(df[\"vehicle_claim\"])"
   ]
  },
  {
   "cell_type": "code",
   "execution_count": null,
   "id": "51837fe3",
   "metadata": {},
   "outputs": [],
   "source": [
    "df[\"vehicle_claim\"].skew()"
   ]
  },
  {
   "cell_type": "code",
   "execution_count": null,
   "id": "b4940f0f",
   "metadata": {
    "scrolled": true
   },
   "outputs": [],
   "source": [
    "df[\"incident_hour_of_the_day\"].plot.box()"
   ]
  },
  {
   "cell_type": "code",
   "execution_count": null,
   "id": "dddb74f1",
   "metadata": {},
   "outputs": [],
   "source": [
    "sns.distplot(df[\"incident_hour_of_the_day\"])"
   ]
  },
  {
   "cell_type": "code",
   "execution_count": null,
   "id": "f0c2d9d0",
   "metadata": {},
   "outputs": [],
   "source": [
    "df[\"incident_hour_of_the_day\"].skew()"
   ]
  },
  {
   "cell_type": "code",
   "execution_count": null,
   "id": "b6e5bd10",
   "metadata": {},
   "outputs": [],
   "source": [
    "df[\"number_of_vehicles_involved\"].plot.box()"
   ]
  },
  {
   "cell_type": "code",
   "execution_count": null,
   "id": "e28159a8",
   "metadata": {},
   "outputs": [],
   "source": [
    "sns.distplot(df[\"number_of_vehicles_involved\"])"
   ]
  },
  {
   "cell_type": "code",
   "execution_count": null,
   "id": "de04fd67",
   "metadata": {},
   "outputs": [],
   "source": [
    "df[\"number_of_vehicles_involved\"].skew()"
   ]
  },
  {
   "cell_type": "code",
   "execution_count": null,
   "id": "5648263c",
   "metadata": {},
   "outputs": [],
   "source": [
    "df.head()"
   ]
  },
  {
   "cell_type": "code",
   "execution_count": null,
   "id": "14622fe2",
   "metadata": {},
   "outputs": [],
   "source": [
    "x=df.iloc[:,:-1]"
   ]
  },
  {
   "cell_type": "code",
   "execution_count": null,
   "id": "c1c75606",
   "metadata": {},
   "outputs": [],
   "source": [
    "x"
   ]
  },
  {
   "cell_type": "code",
   "execution_count": null,
   "id": "0f8f0218",
   "metadata": {},
   "outputs": [],
   "source": [
    "y=df[\"fraud_reported\"]"
   ]
  },
  {
   "cell_type": "code",
   "execution_count": null,
   "id": "a956b76e",
   "metadata": {},
   "outputs": [],
   "source": [
    "y"
   ]
  },
  {
   "cell_type": "code",
   "execution_count": null,
   "id": "b447958d",
   "metadata": {},
   "outputs": [],
   "source": [
    "from sklearn.decomposition import PCA"
   ]
  },
  {
   "cell_type": "code",
   "execution_count": null,
   "id": "c388ae81",
   "metadata": {},
   "outputs": [],
   "source": [
    "pca = PCA(n_components=10)"
   ]
  },
  {
   "cell_type": "code",
   "execution_count": null,
   "id": "259ea4c3",
   "metadata": {},
   "outputs": [],
   "source": [
    "x=pca.fit_transform(x)"
   ]
  },
  {
   "cell_type": "code",
   "execution_count": null,
   "id": "bbaf6367",
   "metadata": {},
   "outputs": [],
   "source": [
    "x = pd.DataFrame(data=x)"
   ]
  },
  {
   "cell_type": "code",
   "execution_count": null,
   "id": "011099e5",
   "metadata": {},
   "outputs": [],
   "source": [
    "x"
   ]
  },
  {
   "cell_type": "code",
   "execution_count": null,
   "id": "26788c63",
   "metadata": {},
   "outputs": [],
   "source": [
    "from sklearn.model_selection import train_test_split"
   ]
  },
  {
   "cell_type": "code",
   "execution_count": null,
   "id": "74db942d",
   "metadata": {},
   "outputs": [],
   "source": [
    "x_train,x_test,y_train,y_test=train_test_split(x,y,test_size=.30,random_state=40)"
   ]
  },
  {
   "cell_type": "code",
   "execution_count": null,
   "id": "d3009911",
   "metadata": {},
   "outputs": [],
   "source": [
    "import sklearn\n",
    "from sklearn.naive_bayes import GaussianNB\n",
    "from sklearn.svm import SVC\n",
    "from sklearn.tree import DecisionTreeClassifier\n",
    "from sklearn.metrics import accuracy_score,confusion_matrix,classification_report\n",
    "from sklearn.neighbors import KNeighborsClassifier\n",
    "from sklearn.ensemble import RandomForestClassifier\n",
    "from sklearn.model_selection import GridSearchCV"
   ]
  },
  {
   "cell_type": "code",
   "execution_count": null,
   "id": "74106388",
   "metadata": {},
   "outputs": [],
   "source": [
    "svc= SVC()\n",
    "svc.fit(x_train,y_train)\n",
    "svc.score(x_train,y_train)\n",
    "predsvc = svc.predict(x_test)\n",
    "print(accuracy_score(y_test,predsvc))\n",
    "print(confusion_matrix(y_test,predsvc))\n",
    "print(classification_report(y_test,predsvc))"
   ]
  },
  {
   "cell_type": "code",
   "execution_count": null,
   "id": "75b4179d",
   "metadata": {},
   "outputs": [],
   "source": [
    "import numpy as np"
   ]
  },
  {
   "cell_type": "code",
   "execution_count": null,
   "id": "3a64e649",
   "metadata": {},
   "outputs": [],
   "source": [
    "dtc= DecisionTreeClassifier()\n",
    "dtc.fit(x_train,y_train)\n",
    "dtc.score(x_train,y_train)\n",
    "preddtc = dtc.predict(x_test)\n",
    "print(accuracy_score(y_test,preddtc))\n",
    "print(confusion_matrix(y_test,preddtc))\n",
    "print(classification_report(y_test,preddtc))"
   ]
  },
  {
   "cell_type": "code",
   "execution_count": null,
   "id": "5f19bdb6",
   "metadata": {},
   "outputs": [],
   "source": [
    "paramdt = {'criterion':['gini','entropy'],'splitter':['best','random'],\n",
    "            'max_depth': np.arange(1,10)}"
   ]
  },
  {
   "cell_type": "code",
   "execution_count": null,
   "id": "54af218b",
   "metadata": {},
   "outputs": [],
   "source": [
    "gc = GridSearchCV(DecisionTreeClassifier(),paramdt,cv=5)"
   ]
  },
  {
   "cell_type": "code",
   "execution_count": null,
   "id": "19bf4e12",
   "metadata": {},
   "outputs": [],
   "source": [
    "gc.fit(x,y)\n",
    "gc.best_params_"
   ]
  },
  {
   "cell_type": "code",
   "execution_count": null,
   "id": "103f8b8e",
   "metadata": {},
   "outputs": [],
   "source": [
    "DTC= DecisionTreeClassifier(criterion='gini',splitter='best',max_depth=1)\n",
    "DTC.fit(x_train,y_train)\n",
    "DTC.score(x_train,y_train)\n",
    "predDTC = DTC.predict(x_test)\n",
    "print(accuracy_score(y_test,predDTC))\n",
    "print(confusion_matrix(y_test,predDTC))\n",
    "print(classification_report(y_test,predDTC))"
   ]
  },
  {
   "cell_type": "code",
   "execution_count": null,
   "id": "6a8ae97b",
   "metadata": {},
   "outputs": [],
   "source": [
    "knn = KNeighborsClassifier(n_neighbors=5)\n",
    "knn.fit(x_train,y_train)\n",
    "knn.score(x_train,y_train)\n",
    "predknn = knn.predict(x_test)\n",
    "print(accuracy_score(y_test,predknn))\n",
    "print(confusion_matrix(y_test,predknn))\n",
    "print(classification_report(y_test,predknn))"
   ]
  },
  {
   "cell_type": "code",
   "execution_count": null,
   "id": "4b1355a0",
   "metadata": {},
   "outputs": [],
   "source": [
    "paramkn = {'n_neighbors':np.arange(1,10),'weights':['uniform','distance'],'algorithm':['auto','ball_tree','kd_tree']}"
   ]
  },
  {
   "cell_type": "code",
   "execution_count": null,
   "id": "8a661f36",
   "metadata": {},
   "outputs": [],
   "source": [
    "gc = GridSearchCV(KNeighborsClassifier(),paramkn,cv=5)"
   ]
  },
  {
   "cell_type": "code",
   "execution_count": null,
   "id": "b13f34ad",
   "metadata": {},
   "outputs": [],
   "source": [
    "gc.fit(x,y)\n",
    "gc.best_params_"
   ]
  },
  {
   "cell_type": "code",
   "execution_count": null,
   "id": "eaee597b",
   "metadata": {},
   "outputs": [],
   "source": [
    "KNn = KNeighborsClassifier(n_neighbors=8,weights='uniform',algorithm='auto')\n",
    "KNn.fit(x_train,y_train)\n",
    "KNn.score(x_train,y_train)\n",
    "predKNn = KNn.predict(x_test)\n",
    "print(accuracy_score(y_test,predKNn))\n",
    "print(confusion_matrix(y_test,predKNn))\n",
    "print(classification_report(y_test,predKNn))"
   ]
  },
  {
   "cell_type": "code",
   "execution_count": null,
   "id": "c044074b",
   "metadata": {},
   "outputs": [],
   "source": [
    "rfc = RandomForestClassifier()\n",
    "rfc.fit(x_train, y_train)\n",
    "rfc.score(x_test, y_test)\n",
    "predrfc = rfc.predict(x_test)\n",
    "print(accuracy_score(y_test,predrfc))\n",
    "print(confusion_matrix(y_test,predrfc))\n",
    "print(classification_report(y_test,predrfc))"
   ]
  },
  {
   "cell_type": "code",
   "execution_count": null,
   "id": "803ad012",
   "metadata": {},
   "outputs": [],
   "source": [
    "paramrf={'n_estimators':np.arange(1,10),'criterion':['gini','entropy'],\n",
    "          'max_depth':np.arange(1,10)}"
   ]
  },
  {
   "cell_type": "code",
   "execution_count": null,
   "id": "ab3a793c",
   "metadata": {},
   "outputs": [],
   "source": [
    "gc = GridSearchCV(RandomForestClassifier(),paramrf,cv=5)"
   ]
  },
  {
   "cell_type": "code",
   "execution_count": null,
   "id": "dd0ed329",
   "metadata": {},
   "outputs": [],
   "source": [
    "gc.fit(x,y)\n",
    "gc.best_params_"
   ]
  },
  {
   "cell_type": "code",
   "execution_count": null,
   "id": "f9d478df",
   "metadata": {},
   "outputs": [],
   "source": [
    "Rfc = RandomForestClassifier(criterion='gini',n_estimators=1,max_depth=2)\n",
    "Rfc.fit(x_train, y_train)\n",
    "Rfc.score(x_test, y_test)\n",
    "predRfc = Rfc.predict(x_test)\n",
    "print(accuracy_score(y_test,predRfc))\n",
    "print(confusion_matrix(y_test,predRfc))\n",
    "print(classification_report(y_test,predRfc))"
   ]
  },
  {
   "cell_type": "code",
   "execution_count": null,
   "id": "29f76254",
   "metadata": {},
   "outputs": [],
   "source": [
    "from sklearn.model_selection import cross_val_score"
   ]
  },
  {
   "cell_type": "code",
   "execution_count": null,
   "id": "9a293b46",
   "metadata": {},
   "outputs": [],
   "source": [
    "print(cross_val_score(svc,x,y,cv=5).mean())"
   ]
  },
  {
   "cell_type": "code",
   "execution_count": null,
   "id": "f8b0d755",
   "metadata": {},
   "outputs": [],
   "source": [
    "print(cross_val_score(DTC,x,y,cv=5).mean())"
   ]
  },
  {
   "cell_type": "code",
   "execution_count": null,
   "id": "e0068788",
   "metadata": {},
   "outputs": [],
   "source": [
    "print(cross_val_score(KNn,x,y,cv=5).mean())"
   ]
  },
  {
   "cell_type": "code",
   "execution_count": null,
   "id": "e12a7639",
   "metadata": {},
   "outputs": [],
   "source": [
    "print(cross_val_score(Rfc,x,y,cv=5).mean())"
   ]
  },
  {
   "cell_type": "code",
   "execution_count": null,
   "id": "22632866",
   "metadata": {},
   "outputs": [],
   "source": [
    "import pickle"
   ]
  },
  {
   "cell_type": "code",
   "execution_count": null,
   "id": "a62ba2d1",
   "metadata": {},
   "outputs": [],
   "source": [
    "filename='fraud.pkl'\n",
    "pickle.dump(DTC,open(filename,'wb'))"
   ]
  }
 ],
 "metadata": {
  "kernelspec": {
   "display_name": "Python 3",
   "language": "python",
   "name": "python3"
  },
  "language_info": {
   "codemirror_mode": {
    "name": "ipython",
    "version": 3
   },
   "file_extension": ".py",
   "mimetype": "text/x-python",
   "name": "python",
   "nbconvert_exporter": "python",
   "pygments_lexer": "ipython3",
   "version": "3.8.8"
  }
 },
 "nbformat": 4,
 "nbformat_minor": 5
}
