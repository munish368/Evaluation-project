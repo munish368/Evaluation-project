{
 "cells": [
  {
   "cell_type": "code",
   "execution_count": null,
   "id": "f75828ea",
   "metadata": {},
   "outputs": [],
   "source": [
    "import pandas as pd\n",
    "import seaborn as sns\n",
    "import numpy as np\n",
    "import matplotlib.pyplot as plt\n",
    "import warnings\n",
    "warnings.filterwarnings('ignore')"
   ]
  },
  {
   "cell_type": "code",
   "execution_count": null,
   "id": "a3163c75",
   "metadata": {},
   "outputs": [],
   "source": [
    "df = pd.read_csv(\"database_IND.csv\")"
   ]
  },
  {
   "cell_type": "code",
   "execution_count": null,
   "id": "096386ff",
   "metadata": {},
   "outputs": [],
   "source": [
    "df"
   ]
  },
  {
   "cell_type": "code",
   "execution_count": null,
   "id": "fa4d15b7",
   "metadata": {},
   "outputs": [],
   "source": [
    "df['country'].unique()"
   ]
  },
  {
   "cell_type": "code",
   "execution_count": null,
   "id": "a09798f7",
   "metadata": {},
   "outputs": [],
   "source": [
    "df['country'].value_counts()"
   ]
  },
  {
   "cell_type": "code",
   "execution_count": null,
   "id": "42d02d69",
   "metadata": {},
   "outputs": [],
   "source": [
    "df['geolocation_source'].unique()"
   ]
  },
  {
   "cell_type": "code",
   "execution_count": null,
   "id": "534f54dc",
   "metadata": {},
   "outputs": [],
   "source": [
    "df['geolocation_source'].value_counts()"
   ]
  },
  {
   "cell_type": "code",
   "execution_count": null,
   "id": "9100c79a",
   "metadata": {},
   "outputs": [],
   "source": [
    "df['other_fuel1']"
   ]
  },
  {
   "cell_type": "code",
   "execution_count": null,
   "id": "bf19e1dc",
   "metadata": {},
   "outputs": [],
   "source": [
    "df['other_fuel1'].unique()"
   ]
  },
  {
   "cell_type": "code",
   "execution_count": null,
   "id": "df1a7310",
   "metadata": {},
   "outputs": [],
   "source": [
    "df['year_of_capacity_data'].unique()"
   ]
  },
  {
   "cell_type": "code",
   "execution_count": null,
   "id": "6970fc4d",
   "metadata": {},
   "outputs": [],
   "source": [
    "df['generation_gwh_2015']"
   ]
  },
  {
   "cell_type": "code",
   "execution_count": null,
   "id": "d36d6844",
   "metadata": {},
   "outputs": [],
   "source": [
    "df['generation_data_source']"
   ]
  },
  {
   "cell_type": "code",
   "execution_count": null,
   "id": "6a049fdf",
   "metadata": {},
   "outputs": [],
   "source": [
    "df['generation_data_source'].unique()"
   ]
  },
  {
   "cell_type": "code",
   "execution_count": null,
   "id": "27a18705",
   "metadata": {},
   "outputs": [],
   "source": [
    "df['commissioning_year'].unique()"
   ]
  },
  {
   "cell_type": "code",
   "execution_count": null,
   "id": "605626de",
   "metadata": {},
   "outputs": [],
   "source": [
    "df.shape"
   ]
  },
  {
   "cell_type": "code",
   "execution_count": null,
   "id": "5c3f6239",
   "metadata": {},
   "outputs": [],
   "source": [
    "df.isnull().sum()"
   ]
  },
  {
   "cell_type": "markdown",
   "id": "9523d7c4",
   "metadata": {},
   "source": [
    " here we can see null value is present in the data and we remove those column who have null value in large amount or compleate column have null value means no value is present in that column "
   ]
  },
  {
   "cell_type": "code",
   "execution_count": null,
   "id": "bda79b21",
   "metadata": {},
   "outputs": [],
   "source": [
    "df['owner']"
   ]
  },
  {
   "cell_type": "code",
   "execution_count": null,
   "id": "7bc07e5d",
   "metadata": {},
   "outputs": [],
   "source": [
    "df.columns"
   ]
  },
  {
   "cell_type": "code",
   "execution_count": null,
   "id": "fbd0c6b3",
   "metadata": {},
   "outputs": [],
   "source": [
    "df['source']"
   ]
  },
  {
   "cell_type": "code",
   "execution_count": null,
   "id": "f396addf",
   "metadata": {},
   "outputs": [],
   "source": [
    "df['url']"
   ]
  },
  {
   "cell_type": "markdown",
   "id": "cd08b444",
   "metadata": {},
   "source": [
    "now i am droping those column who have null value in large amount than we encode the data and after it we try to fill the nan value in those column who have less null value "
   ]
  },
  {
   "cell_type": "code",
   "execution_count": null,
   "id": "652b54b7",
   "metadata": {},
   "outputs": [],
   "source": [
    "df.columns"
   ]
  },
  {
   "cell_type": "code",
   "execution_count": null,
   "id": "58e8f143",
   "metadata": {},
   "outputs": [],
   "source": [
    "A = [\"other_fuel1\",\"other_fuel2\",\"other_fuel3\",\"owner\",\"wepp_id\",\"year_of_capacity_data\",\"generation_gwh_2013\",\"generation_gwh_2014\",\"generation_data_source\",\"estimated_generation_gwh\"]"
   ]
  },
  {
   "cell_type": "code",
   "execution_count": null,
   "id": "f82fceb7",
   "metadata": {},
   "outputs": [],
   "source": [
    "A"
   ]
  },
  {
   "cell_type": "code",
   "execution_count": null,
   "id": "44af1d4f",
   "metadata": {},
   "outputs": [],
   "source": [
    "df.drop(A,axis = 1,inplace = True)"
   ]
  },
  {
   "cell_type": "code",
   "execution_count": null,
   "id": "c91b9005",
   "metadata": {},
   "outputs": [],
   "source": [
    "df.head()"
   ]
  },
  {
   "cell_type": "code",
   "execution_count": null,
   "id": "b2ba4e9d",
   "metadata": {},
   "outputs": [],
   "source": [
    "df.isnull().sum()"
   ]
  },
  {
   "cell_type": "code",
   "execution_count": null,
   "id": "68f5771a",
   "metadata": {},
   "outputs": [],
   "source": [
    "sns.distplot(df['latitude'])"
   ]
  },
  {
   "cell_type": "code",
   "execution_count": null,
   "id": "31624bcc",
   "metadata": {},
   "outputs": [],
   "source": [
    "df['latitude'].skew()"
   ]
  },
  {
   "cell_type": "markdown",
   "id": "e73de7cd",
   "metadata": {},
   "source": [
    "we can fill the nan value pf latitude by median because data is normally distributed we can also fill it by mean value"
   ]
  },
  {
   "cell_type": "code",
   "execution_count": null,
   "id": "b8c35254",
   "metadata": {},
   "outputs": [],
   "source": [
    "medianvalue = df['latitude'].median()"
   ]
  },
  {
   "cell_type": "code",
   "execution_count": null,
   "id": "7d801300",
   "metadata": {},
   "outputs": [],
   "source": [
    "df['latitude'].fillna(medianvalue,inplace = True)"
   ]
  },
  {
   "cell_type": "code",
   "execution_count": null,
   "id": "c2d0eb2c",
   "metadata": {},
   "outputs": [],
   "source": [
    "df['latitude'].isnull().sum()"
   ]
  },
  {
   "cell_type": "code",
   "execution_count": null,
   "id": "c0b5f663",
   "metadata": {},
   "outputs": [],
   "source": [
    "df['latitude'].skew()"
   ]
  },
  {
   "cell_type": "code",
   "execution_count": null,
   "id": "c30a9c0f",
   "metadata": {},
   "outputs": [],
   "source": [
    "df[\"longitude\"].skew()"
   ]
  },
  {
   "cell_type": "code",
   "execution_count": null,
   "id": "9599ac63",
   "metadata": {},
   "outputs": [],
   "source": [
    "meanvalue = df[\"longitude\"].mean()"
   ]
  },
  {
   "cell_type": "code",
   "execution_count": null,
   "id": "c2e07da5",
   "metadata": {},
   "outputs": [],
   "source": [
    "df[\"longitude\"].fillna(meanvalue,inplace = True)"
   ]
  },
  {
   "cell_type": "code",
   "execution_count": null,
   "id": "4018488e",
   "metadata": {},
   "outputs": [],
   "source": [
    " df[\"longitude\"].skew()"
   ]
  },
  {
   "cell_type": "code",
   "execution_count": null,
   "id": "526279f4",
   "metadata": {},
   "outputs": [],
   "source": [
    "medianvalue=df[\"commissioning_year\"].median()"
   ]
  },
  {
   "cell_type": "code",
   "execution_count": null,
   "id": "0fdf8ea0",
   "metadata": {},
   "outputs": [],
   "source": [
    "df[\"commissioning_year\"].fillna(medianvalue,inplace= True)"
   ]
  },
  {
   "cell_type": "code",
   "execution_count": null,
   "id": "384f4024",
   "metadata": {},
   "outputs": [],
   "source": [
    "modevalue = df[\"geolocation_source\"].mode()[0]"
   ]
  },
  {
   "cell_type": "code",
   "execution_count": null,
   "id": "4a079496",
   "metadata": {},
   "outputs": [],
   "source": [
    "df[\"geolocation_source\"].fillna(modevalue,inplace= True)"
   ]
  },
  {
   "cell_type": "code",
   "execution_count": null,
   "id": "097dbc35",
   "metadata": {},
   "outputs": [],
   "source": [
    "meanvalue = df[\"generation_gwh_2015\"].mean()"
   ]
  },
  {
   "cell_type": "code",
   "execution_count": null,
   "id": "a4d90f4d",
   "metadata": {},
   "outputs": [],
   "source": [
    "df[\"generation_gwh_2015\"].fillna(meanvalue,inplace = True)"
   ]
  },
  {
   "cell_type": "code",
   "execution_count": null,
   "id": "51dc26bb",
   "metadata": {},
   "outputs": [],
   "source": [
    "meanvalue = df[\"generation_gwh_2016\"].mean()"
   ]
  },
  {
   "cell_type": "code",
   "execution_count": null,
   "id": "0d9fdc18",
   "metadata": {},
   "outputs": [],
   "source": [
    "df[\"generation_gwh_2016\"].fillna(meanvalue,inplace = True)"
   ]
  },
  {
   "cell_type": "code",
   "execution_count": null,
   "id": "bfc9aa71",
   "metadata": {},
   "outputs": [],
   "source": [
    "meanvalue = df[\"generation_gwh_2017\"].mean()"
   ]
  },
  {
   "cell_type": "code",
   "execution_count": null,
   "id": "575db0d9",
   "metadata": {},
   "outputs": [],
   "source": [
    "df[\"generation_gwh_2017\"].fillna(meanvalue,inplace = True)"
   ]
  },
  {
   "cell_type": "code",
   "execution_count": null,
   "id": "17bbfcd5",
   "metadata": {},
   "outputs": [],
   "source": [
    "df.isnull().sum()"
   ]
  },
  {
   "cell_type": "markdown",
   "id": "9ca4b1aa",
   "metadata": {},
   "source": [
    "we fill all the value ,no nan value is present in the data, now we encode the data."
   ]
  },
  {
   "cell_type": "code",
   "execution_count": null,
   "id": "cb152f9e",
   "metadata": {},
   "outputs": [],
   "source": [
    "from sklearn.preprocessing import LabelEncoder"
   ]
  },
  {
   "cell_type": "code",
   "execution_count": null,
   "id": "c9342b75",
   "metadata": {},
   "outputs": [],
   "source": [
    "le = LabelEncoder()"
   ]
  },
  {
   "cell_type": "code",
   "execution_count": null,
   "id": "0eace7b6",
   "metadata": {},
   "outputs": [],
   "source": [
    "for i in df.columns:\n",
    "    if df[i].dtypes=='object':\n",
    "        df[i]=le.fit_transform(df[i].values.reshape(-1,1))"
   ]
  },
  {
   "cell_type": "code",
   "execution_count": null,
   "id": "124664f0",
   "metadata": {},
   "outputs": [],
   "source": [
    "df"
   ]
  },
  {
   "cell_type": "code",
   "execution_count": null,
   "id": "ec8c09c8",
   "metadata": {},
   "outputs": [],
   "source": [
    "df.info()"
   ]
  },
  {
   "cell_type": "code",
   "execution_count": null,
   "id": "ed281312",
   "metadata": {},
   "outputs": [],
   "source": [
    "df.describe()"
   ]
  },
  {
   "cell_type": "code",
   "execution_count": null,
   "id": "74b4d95e",
   "metadata": {},
   "outputs": [],
   "source": [
    "df.corr()"
   ]
  },
  {
   "cell_type": "code",
   "execution_count": null,
   "id": "5fa13f78",
   "metadata": {},
   "outputs": [],
   "source": [
    "plt.figure(figsize = (10,6))\n",
    "sns.heatmap(df.corr(),annot = True)"
   ]
  },
  {
   "cell_type": "markdown",
   "id": "e408d1cb",
   "metadata": {},
   "source": [
    "country and country_long has no relation with other column so we can drop it "
   ]
  },
  {
   "cell_type": "code",
   "execution_count": null,
   "id": "78ae390f",
   "metadata": {},
   "outputs": [],
   "source": [
    "df.columns"
   ]
  },
  {
   "cell_type": "code",
   "execution_count": null,
   "id": "3564c9e5",
   "metadata": {},
   "outputs": [],
   "source": [
    "df.drop(\"country\",axis = 1, inplace = True)"
   ]
  },
  {
   "cell_type": "code",
   "execution_count": null,
   "id": "d365f9fc",
   "metadata": {},
   "outputs": [],
   "source": [
    "df.drop(\"country_long\",axis = 1,inplace = True)"
   ]
  },
  {
   "cell_type": "code",
   "execution_count": null,
   "id": "e828726f",
   "metadata": {},
   "outputs": [],
   "source": [
    "df"
   ]
  },
  {
   "cell_type": "markdown",
   "id": "69898e2f",
   "metadata": {},
   "source": [
    "we have to predict two columns first one is primary_fuel and second is capacity_mw,,,\n",
    "primary_fuel is the classification problem and second is regression problem"
   ]
  },
  {
   "cell_type": "code",
   "execution_count": null,
   "id": "e1f2feac",
   "metadata": {},
   "outputs": [],
   "source": [
    "df.head()"
   ]
  },
  {
   "cell_type": "code",
   "execution_count": null,
   "id": "e7126cfc",
   "metadata": {},
   "outputs": [],
   "source": [
    "df['primary_fuel'].unique()"
   ]
  },
  {
   "cell_type": "code",
   "execution_count": null,
   "id": "d5457a2f",
   "metadata": {},
   "outputs": [],
   "source": [
    "df['primary_fuel'].value_counts()"
   ]
  },
  {
   "cell_type": "code",
   "execution_count": null,
   "id": "27e5bdb7",
   "metadata": {},
   "outputs": [],
   "source": [
    "df.corr()"
   ]
  },
  {
   "cell_type": "code",
   "execution_count": null,
   "id": "aeb37440",
   "metadata": {},
   "outputs": [],
   "source": [
    "plt.figure(figsize =(10,6))\n",
    "sns.heatmap(df.corr(),annot = True)"
   ]
  },
  {
   "cell_type": "markdown",
   "id": "779d1724",
   "metadata": {},
   "source": [
    " geolocation source has very bad correlation with target column target column is primary_fuel here.,, we solve it first to consider primary_fuel to target column and later we solve it by considering the capacity_mw is my target column "
   ]
  },
  {
   "cell_type": "markdown",
   "id": "8a0e5a97",
   "metadata": {},
   "source": [
    "generation_gwh_2015,2016,2017 shows multicolliniarty "
   ]
  },
  {
   "cell_type": "code",
   "execution_count": null,
   "id": "5236f1a2",
   "metadata": {},
   "outputs": [],
   "source": [
    "a = [\"geolocation_source\",\"generation_gwh_2015\",\"generation_gwh_2016\"]"
   ]
  },
  {
   "cell_type": "code",
   "execution_count": null,
   "id": "000b68f5",
   "metadata": {},
   "outputs": [],
   "source": [
    "df.drop(a,axis = 1,inplace = True)"
   ]
  },
  {
   "cell_type": "code",
   "execution_count": null,
   "id": "c60ec20a",
   "metadata": {},
   "outputs": [],
   "source": [
    "plt.figure(figsize=(10,6))\n",
    "\n",
    "sns.heatmap(df.corr(),annot = True)"
   ]
  },
  {
   "cell_type": "code",
   "execution_count": null,
   "id": "61e90805",
   "metadata": {},
   "outputs": [],
   "source": [
    "df.head()"
   ]
  },
  {
   "cell_type": "code",
   "execution_count": null,
   "id": "001602c7",
   "metadata": {},
   "outputs": [],
   "source": [
    "sns.scatterplot(x= 'capacity_mw',y = 'primary_fuel',data = df)"
   ]
  },
  {
   "cell_type": "code",
   "execution_count": null,
   "id": "d89fc8b6",
   "metadata": {},
   "outputs": [],
   "source": [
    "sns.histplot(df['name'])"
   ]
  },
  {
   "cell_type": "code",
   "execution_count": null,
   "id": "da325634",
   "metadata": {},
   "outputs": [],
   "source": [
    "sns.histplot(df['gppd_idnr'])"
   ]
  },
  {
   "cell_type": "code",
   "execution_count": null,
   "id": "3321601c",
   "metadata": {},
   "outputs": [],
   "source": [
    "sns.histplot(df['capacity_mw'])"
   ]
  },
  {
   "cell_type": "code",
   "execution_count": null,
   "id": "49cf2c1b",
   "metadata": {},
   "outputs": [],
   "source": [
    "sns.histplot(df['latitude'])"
   ]
  },
  {
   "cell_type": "code",
   "execution_count": null,
   "id": "725fbb1c",
   "metadata": {},
   "outputs": [],
   "source": [
    "sns.histplot(df['longitude'])"
   ]
  },
  {
   "cell_type": "code",
   "execution_count": null,
   "id": "644f601c",
   "metadata": {},
   "outputs": [],
   "source": [
    "sns.histplot(df['primary_fuel'])"
   ]
  },
  {
   "cell_type": "code",
   "execution_count": null,
   "id": "7d096566",
   "metadata": {},
   "outputs": [],
   "source": [
    "sns.histplot(df['commissioning_year'])"
   ]
  },
  {
   "cell_type": "code",
   "execution_count": null,
   "id": "05c17986",
   "metadata": {},
   "outputs": [],
   "source": [
    "sns.histplot(df['source'])"
   ]
  },
  {
   "cell_type": "code",
   "execution_count": null,
   "id": "c694865e",
   "metadata": {},
   "outputs": [],
   "source": [
    "sns.histplot(df['url'])"
   ]
  },
  {
   "cell_type": "code",
   "execution_count": null,
   "id": "2d9035d7",
   "metadata": {},
   "outputs": [],
   "source": [
    "sns.histplot(df['generation_gwh_2017'])"
   ]
  },
  {
   "cell_type": "code",
   "execution_count": null,
   "id": "69bb85ec",
   "metadata": {},
   "outputs": [],
   "source": [
    "sns.catplot(x= 'primary_fuel',y = 'capacity_mw',data = df,kind = 'bar')"
   ]
  },
  {
   "cell_type": "markdown",
   "id": "6fa2ca76",
   "metadata": {},
   "source": [
    "primary fuel 1 and 4 has more capacity_mw"
   ]
  },
  {
   "cell_type": "code",
   "execution_count": null,
   "id": "a45dcc1d",
   "metadata": {},
   "outputs": [],
   "source": [
    "sns.catplot(x= 'primary_fuel',y = 'name',data = df,kind = 'bar')"
   ]
  },
  {
   "cell_type": "code",
   "execution_count": null,
   "id": "2951cea4",
   "metadata": {},
   "outputs": [],
   "source": [
    "df['primary_fuel'].value_counts()"
   ]
  },
  {
   "cell_type": "code",
   "execution_count": null,
   "id": "65dbcae6",
   "metadata": {},
   "outputs": [],
   "source": [
    "sns.histplot(df['primary_fuel'])"
   ]
  },
  {
   "cell_type": "code",
   "execution_count": null,
   "id": "ba64f901",
   "metadata": {},
   "outputs": [],
   "source": [
    "sns.histplot(x='name',y='primary_fuel',data =df)"
   ]
  },
  {
   "cell_type": "code",
   "execution_count": null,
   "id": "1a305247",
   "metadata": {},
   "outputs": [],
   "source": [
    "sns.scatterplot(x='name',y='primary_fuel',data =df)"
   ]
  },
  {
   "cell_type": "code",
   "execution_count": null,
   "id": "fe194e63",
   "metadata": {},
   "outputs": [],
   "source": [
    "sns.scatterplot(x='name',y='capacity_mw',data = df)"
   ]
  },
  {
   "cell_type": "code",
   "execution_count": null,
   "id": "8dfc5240",
   "metadata": {},
   "outputs": [],
   "source": [
    "sns.histplot(df['capacity_mw'])"
   ]
  },
  {
   "cell_type": "code",
   "execution_count": null,
   "id": "9a435201",
   "metadata": {},
   "outputs": [],
   "source": [
    "sns.scatterplot(x='name',y='commissioning_year',data = df)"
   ]
  },
  {
   "cell_type": "code",
   "execution_count": null,
   "id": "7fa2ac26",
   "metadata": {},
   "outputs": [],
   "source": [
    "sns.scatterplot(x='name',y='source',data = df)"
   ]
  },
  {
   "cell_type": "code",
   "execution_count": null,
   "id": "01a7f1b2",
   "metadata": {},
   "outputs": [],
   "source": [
    "sns.lineplot(x='name',y='source',data = df)"
   ]
  },
  {
   "cell_type": "code",
   "execution_count": null,
   "id": "fb7b68ac",
   "metadata": {},
   "outputs": [],
   "source": [
    "sns.lmplot(x='name',y='source',data = df)"
   ]
  },
  {
   "cell_type": "code",
   "execution_count": null,
   "id": "1f27dfe2",
   "metadata": {},
   "outputs": [],
   "source": [
    "sns.relplot(x='name',y='source',data = df)"
   ]
  },
  {
   "cell_type": "code",
   "execution_count": null,
   "id": "f19573dc",
   "metadata": {},
   "outputs": [],
   "source": [
    "sns.regplot(x='name',y='source',data = df)"
   ]
  },
  {
   "cell_type": "code",
   "execution_count": null,
   "id": "4c43c294",
   "metadata": {},
   "outputs": [],
   "source": [
    "sns.jointplot(x='name',y='source',data = df)"
   ]
  },
  {
   "cell_type": "code",
   "execution_count": null,
   "id": "84c0cedc",
   "metadata": {},
   "outputs": [],
   "source": [
    "sns.histplot(df['source'])"
   ]
  },
  {
   "cell_type": "code",
   "execution_count": null,
   "id": "0d4181e5",
   "metadata": {},
   "outputs": [],
   "source": [
    "df.columns"
   ]
  },
  {
   "cell_type": "code",
   "execution_count": null,
   "id": "d55b8146",
   "metadata": {},
   "outputs": [],
   "source": [
    "sns.catplot(x='source',y='name',hue ='primary_fuel',data = df,kind = 'bar')"
   ]
  },
  {
   "cell_type": "code",
   "execution_count": null,
   "id": "d5baa0f5",
   "metadata": {},
   "outputs": [],
   "source": [
    "df.columns"
   ]
  },
  {
   "cell_type": "code",
   "execution_count": null,
   "id": "8d11e4b5",
   "metadata": {},
   "outputs": [],
   "source": [
    "df.head()"
   ]
  },
  {
   "cell_type": "code",
   "execution_count": null,
   "id": "482122a1",
   "metadata": {},
   "outputs": [],
   "source": [
    "sns.scatterplot(x='name',y='gppd_idnr',data=df)"
   ]
  },
  {
   "cell_type": "code",
   "execution_count": null,
   "id": "85bd8301",
   "metadata": {},
   "outputs": [],
   "source": [
    "sns.lineplot(x='name',y='gppd_idnr',data=df)"
   ]
  },
  {
   "cell_type": "code",
   "execution_count": null,
   "id": "0f0fd1e5",
   "metadata": {},
   "outputs": [],
   "source": [
    "sns.relplot(x='name',y='gppd_idnr',data=df)"
   ]
  },
  {
   "cell_type": "code",
   "execution_count": null,
   "id": "74a0ec8e",
   "metadata": {},
   "outputs": [],
   "source": [
    "sns.regplot(x='name',y='gppd_idnr',data=df)"
   ]
  },
  {
   "cell_type": "code",
   "execution_count": null,
   "id": "4e772fc0",
   "metadata": {},
   "outputs": [],
   "source": [
    "sns.jointplot(x='name',y='gppd_idnr',data=df)"
   ]
  },
  {
   "cell_type": "code",
   "execution_count": null,
   "id": "c095ace6",
   "metadata": {},
   "outputs": [],
   "source": [
    "sns.scatterplot(x='name',y='latitude',data=df)"
   ]
  },
  {
   "cell_type": "code",
   "execution_count": null,
   "id": "8242ceb1",
   "metadata": {},
   "outputs": [],
   "source": [
    "sns.regplot(x='name',y='latitude',data=df)"
   ]
  },
  {
   "cell_type": "code",
   "execution_count": null,
   "id": "e17d9bd3",
   "metadata": {},
   "outputs": [],
   "source": [
    "sns.lineplot(x='name',y='latitude',data=df)"
   ]
  },
  {
   "cell_type": "code",
   "execution_count": null,
   "id": "a05961df",
   "metadata": {},
   "outputs": [],
   "source": [
    "sns.relplot(x='name',y='latitude',data=df)"
   ]
  },
  {
   "cell_type": "code",
   "execution_count": null,
   "id": "be969972",
   "metadata": {},
   "outputs": [],
   "source": [
    "sns.jointplot(x='name',y='latitude',data=df)"
   ]
  },
  {
   "cell_type": "code",
   "execution_count": null,
   "id": "d3203f29",
   "metadata": {},
   "outputs": [],
   "source": [
    "sns.scatterplot(x='name',y='longitude',data=df)"
   ]
  },
  {
   "cell_type": "code",
   "execution_count": null,
   "id": "211e74b2",
   "metadata": {},
   "outputs": [],
   "source": [
    "sns.lineplot(x='name',y='longitude',data=df)"
   ]
  },
  {
   "cell_type": "code",
   "execution_count": null,
   "id": "bbb5fe2a",
   "metadata": {},
   "outputs": [],
   "source": [
    "sns.relplot(x='name',y='longitude',data=df)"
   ]
  },
  {
   "cell_type": "code",
   "execution_count": null,
   "id": "356a49a7",
   "metadata": {},
   "outputs": [],
   "source": [
    "sns.regplot(x='name',y='longitude',data=df)"
   ]
  },
  {
   "cell_type": "code",
   "execution_count": null,
   "id": "2ef169bc",
   "metadata": {},
   "outputs": [],
   "source": [
    "sns.jointplot(x='name',y='longitude',data=df)"
   ]
  },
  {
   "cell_type": "code",
   "execution_count": null,
   "id": "4918054c",
   "metadata": {},
   "outputs": [],
   "source": [
    "sns.lmplot(x='name',y='longitude',data=df)"
   ]
  },
  {
   "cell_type": "code",
   "execution_count": null,
   "id": "1c427182",
   "metadata": {},
   "outputs": [],
   "source": [
    "sns.scatterplot(x='name',y='url',data=df)"
   ]
  },
  {
   "cell_type": "code",
   "execution_count": null,
   "id": "fe52e846",
   "metadata": {},
   "outputs": [],
   "source": [
    "sns.lineplot(x='name',y='url',data=df)"
   ]
  },
  {
   "cell_type": "code",
   "execution_count": null,
   "id": "e095d73b",
   "metadata": {},
   "outputs": [],
   "source": [
    "sns.relplot(x='name',y='url',data=df)"
   ]
  },
  {
   "cell_type": "code",
   "execution_count": null,
   "id": "e7719426",
   "metadata": {},
   "outputs": [],
   "source": [
    "sns.regplot(x='name',y='url',data=df)"
   ]
  },
  {
   "cell_type": "code",
   "execution_count": null,
   "id": "7e644ef4",
   "metadata": {},
   "outputs": [],
   "source": [
    "sns.lmplot(x='name',y='url',data=df)"
   ]
  },
  {
   "cell_type": "code",
   "execution_count": null,
   "id": "ee4dc472",
   "metadata": {},
   "outputs": [],
   "source": [
    "sns.jointplot(x='name',y='url',data=df)"
   ]
  },
  {
   "cell_type": "code",
   "execution_count": null,
   "id": "be621e4d",
   "metadata": {},
   "outputs": [],
   "source": [
    "sns.scatterplot(x='name',y='generation_gwh_2017',data=df)"
   ]
  },
  {
   "cell_type": "code",
   "execution_count": null,
   "id": "2274284f",
   "metadata": {},
   "outputs": [],
   "source": [
    "sns.lineplot(x='name',y='generation_gwh_2017',data=df)"
   ]
  },
  {
   "cell_type": "code",
   "execution_count": null,
   "id": "51870b92",
   "metadata": {},
   "outputs": [],
   "source": [
    "sns.lmplot(x='name',y='generation_gwh_2017',data=df)"
   ]
  },
  {
   "cell_type": "code",
   "execution_count": null,
   "id": "3faa0204",
   "metadata": {},
   "outputs": [],
   "source": [
    "sns.relplot(x='name',y='generation_gwh_2017',data=df)"
   ]
  },
  {
   "cell_type": "code",
   "execution_count": null,
   "id": "94bb7d85",
   "metadata": {},
   "outputs": [],
   "source": [
    "sns.regplot(x='name',y='generation_gwh_2017',data=df)"
   ]
  },
  {
   "cell_type": "code",
   "execution_count": null,
   "id": "937b6ac2",
   "metadata": {},
   "outputs": [],
   "source": [
    "sns.jointplot(x='name',y='generation_gwh_2017',data=df)"
   ]
  },
  {
   "cell_type": "code",
   "execution_count": null,
   "id": "87012e27",
   "metadata": {},
   "outputs": [],
   "source": [
    "df.columns"
   ]
  },
  {
   "cell_type": "code",
   "execution_count": null,
   "id": "358b628e",
   "metadata": {},
   "outputs": [],
   "source": [
    "sns.scatterplot(x='gppd_idnr',y='capacity_mw',data = df)"
   ]
  },
  {
   "cell_type": "code",
   "execution_count": null,
   "id": "bdffefd3",
   "metadata": {},
   "outputs": [],
   "source": [
    "sns.lineplot(x='gppd_idnr',y='capacity_mw',data = df)"
   ]
  },
  {
   "cell_type": "code",
   "execution_count": null,
   "id": "6522653d",
   "metadata": {},
   "outputs": [],
   "source": [
    "sns.relplot(x='gppd_idnr',y='capacity_mw',data = df)"
   ]
  },
  {
   "cell_type": "code",
   "execution_count": null,
   "id": "4ab09339",
   "metadata": {},
   "outputs": [],
   "source": [
    "sns.regplot(x='gppd_idnr',y='capacity_mw',data = df)"
   ]
  },
  {
   "cell_type": "code",
   "execution_count": null,
   "id": "2046fad5",
   "metadata": {},
   "outputs": [],
   "source": [
    "sns.lmplot(x='gppd_idnr',y='capacity_mw',data = df)"
   ]
  },
  {
   "cell_type": "code",
   "execution_count": null,
   "id": "d93fd05f",
   "metadata": {},
   "outputs": [],
   "source": [
    "sns.jointplot(x='gppd_idnr',y='capacity_mw',data = df)"
   ]
  },
  {
   "cell_type": "code",
   "execution_count": null,
   "id": "38826244",
   "metadata": {},
   "outputs": [],
   "source": [
    "sns.scatterplot(x='gppd_idnr',y='latitude',data = df)"
   ]
  },
  {
   "cell_type": "code",
   "execution_count": null,
   "id": "dc52ca26",
   "metadata": {},
   "outputs": [],
   "source": [
    "sns.lineplot(x='gppd_idnr',y='latitude',data = df)"
   ]
  },
  {
   "cell_type": "code",
   "execution_count": null,
   "id": "9ddae63d",
   "metadata": {},
   "outputs": [],
   "source": [
    "sns.relplot(x='gppd_idnr',y='latitude',data = df)"
   ]
  },
  {
   "cell_type": "code",
   "execution_count": null,
   "id": "4490bae0",
   "metadata": {},
   "outputs": [],
   "source": [
    "sns.regplot(x='gppd_idnr',y='latitude',data = df)"
   ]
  },
  {
   "cell_type": "code",
   "execution_count": null,
   "id": "ad43dfc8",
   "metadata": {},
   "outputs": [],
   "source": [
    "sns.jointplot(x='gppd_idnr',y='latitude',data = df)"
   ]
  },
  {
   "cell_type": "code",
   "execution_count": null,
   "id": "0e74d034",
   "metadata": {},
   "outputs": [],
   "source": [
    "sns.lmplot(x='gppd_idnr',y='latitude',data = df)"
   ]
  },
  {
   "cell_type": "code",
   "execution_count": null,
   "id": "ec24f96a",
   "metadata": {},
   "outputs": [],
   "source": [
    "sns.scatterplot(x='gppd_idnr',y='longitude',data = df)"
   ]
  },
  {
   "cell_type": "code",
   "execution_count": null,
   "id": "413394ca",
   "metadata": {},
   "outputs": [],
   "source": [
    "sns.regplot(x='gppd_idnr',y='longitude',data = df)"
   ]
  },
  {
   "cell_type": "code",
   "execution_count": null,
   "id": "217fc853",
   "metadata": {},
   "outputs": [],
   "source": [
    "sns.relplot(x='gppd_idnr',y='longitude',data = df)"
   ]
  },
  {
   "cell_type": "code",
   "execution_count": null,
   "id": "ce3030b3",
   "metadata": {},
   "outputs": [],
   "source": [
    "sns.lineplot(x='gppd_idnr',y='longitude',data = df)"
   ]
  },
  {
   "cell_type": "code",
   "execution_count": null,
   "id": "e4b6ae97",
   "metadata": {},
   "outputs": [],
   "source": [
    "sns.jointplot(x='gppd_idnr',y='longitude',data = df)"
   ]
  },
  {
   "cell_type": "code",
   "execution_count": null,
   "id": "75f37681",
   "metadata": {},
   "outputs": [],
   "source": [
    "sns.lmplot(x='gppd_idnr',y='longitude',data = df)"
   ]
  },
  {
   "cell_type": "code",
   "execution_count": null,
   "id": "df2a8e86",
   "metadata": {},
   "outputs": [],
   "source": [
    "sns.scatterplot(x='gppd_idnr',y='primary_fuel',data = df)"
   ]
  },
  {
   "cell_type": "code",
   "execution_count": null,
   "id": "11c0bf24",
   "metadata": {},
   "outputs": [],
   "source": [
    "sns.lineplot(x='gppd_idnr',y='primary_fuel',data = df)"
   ]
  },
  {
   "cell_type": "code",
   "execution_count": null,
   "id": "ca3340f3",
   "metadata": {},
   "outputs": [],
   "source": [
    "sns.relplot(x='gppd_idnr',y='primary_fuel',data = df)"
   ]
  },
  {
   "cell_type": "code",
   "execution_count": null,
   "id": "725ddce9",
   "metadata": {},
   "outputs": [],
   "source": [
    "sns.regplot(x='gppd_idnr',y='primary_fuel',data = df)"
   ]
  },
  {
   "cell_type": "code",
   "execution_count": null,
   "id": "77ed34e7",
   "metadata": {},
   "outputs": [],
   "source": [
    "sns.jointplot(x='gppd_idnr',y='primary_fuel',data = df)"
   ]
  },
  {
   "cell_type": "code",
   "execution_count": null,
   "id": "f964edc1",
   "metadata": {},
   "outputs": [],
   "source": [
    "sns.lmplot(x='gppd_idnr',y='primary_fuel',data = df)"
   ]
  },
  {
   "cell_type": "code",
   "execution_count": null,
   "id": "19861173",
   "metadata": {},
   "outputs": [],
   "source": [
    "sns.scatterplot(x='gppd_idnr',y='commissioning_year',data = df)"
   ]
  },
  {
   "cell_type": "code",
   "execution_count": null,
   "id": "8cb613b1",
   "metadata": {},
   "outputs": [],
   "source": [
    "sns.regplot(x='gppd_idnr',y='commissioning_year',data = df)"
   ]
  },
  {
   "cell_type": "code",
   "execution_count": null,
   "id": "edc6d8c4",
   "metadata": {},
   "outputs": [],
   "source": [
    "sns.lineplot(x='gppd_idnr',y='commissioning_year',data = df)"
   ]
  },
  {
   "cell_type": "code",
   "execution_count": null,
   "id": "cc7afe85",
   "metadata": {},
   "outputs": [],
   "source": [
    "sns.jointplot(x='gppd_idnr',y='commissioning_year',data = df)"
   ]
  },
  {
   "cell_type": "code",
   "execution_count": null,
   "id": "3583ccb9",
   "metadata": {},
   "outputs": [],
   "source": [
    "sns.relplot(x='gppd_idnr',y='commissioning_year',data = df)"
   ]
  },
  {
   "cell_type": "code",
   "execution_count": null,
   "id": "003516f2",
   "metadata": {},
   "outputs": [],
   "source": [
    "sns.lmplot(x='gppd_idnr',y='commissioning_year',data = df)"
   ]
  },
  {
   "cell_type": "code",
   "execution_count": null,
   "id": "f7a82d3c",
   "metadata": {},
   "outputs": [],
   "source": [
    "sns.scatterplot(x='gppd_idnr',y='source',data = df)"
   ]
  },
  {
   "cell_type": "code",
   "execution_count": null,
   "id": "149f48e4",
   "metadata": {},
   "outputs": [],
   "source": [
    "sns.relplot(x='gppd_idnr',y='source',data = df)"
   ]
  },
  {
   "cell_type": "code",
   "execution_count": null,
   "id": "9c03ab09",
   "metadata": {},
   "outputs": [],
   "source": [
    "sns.regplot(x='gppd_idnr',y='source',data = df)"
   ]
  },
  {
   "cell_type": "code",
   "execution_count": null,
   "id": "b3ad4419",
   "metadata": {},
   "outputs": [],
   "source": [
    "sns.lmplot(x='gppd_idnr',y='source',data = df)"
   ]
  },
  {
   "cell_type": "code",
   "execution_count": null,
   "id": "08407f7f",
   "metadata": {},
   "outputs": [],
   "source": [
    "sns.jointplot(x='gppd_idnr',y='source',data = df)"
   ]
  },
  {
   "cell_type": "code",
   "execution_count": null,
   "id": "b83ecd55",
   "metadata": {},
   "outputs": [],
   "source": [
    "sns.scatterplot(x='gppd_idnr',y='url',data = df)"
   ]
  },
  {
   "cell_type": "code",
   "execution_count": null,
   "id": "902b8080",
   "metadata": {},
   "outputs": [],
   "source": [
    "sns.relplot(x='gppd_idnr',y='url',data = df)"
   ]
  },
  {
   "cell_type": "code",
   "execution_count": null,
   "id": "0149acd4",
   "metadata": {},
   "outputs": [],
   "source": [
    "sns.regplot(x='gppd_idnr',y='url',data = df)"
   ]
  },
  {
   "cell_type": "code",
   "execution_count": null,
   "id": "7041c94c",
   "metadata": {},
   "outputs": [],
   "source": [
    "sns.lineplot(x='gppd_idnr',y='url',data = df)"
   ]
  },
  {
   "cell_type": "code",
   "execution_count": null,
   "id": "75128203",
   "metadata": {},
   "outputs": [],
   "source": [
    "sns.jointplot(x='gppd_idnr',y='url',data = df)"
   ]
  },
  {
   "cell_type": "code",
   "execution_count": null,
   "id": "cd22d3a9",
   "metadata": {},
   "outputs": [],
   "source": [
    "sns.lmplot(x='gppd_idnr',y='url',data = df)"
   ]
  },
  {
   "cell_type": "code",
   "execution_count": null,
   "id": "62bc3222",
   "metadata": {},
   "outputs": [],
   "source": [
    "sns.scatterplot(x='gppd_idnr',y='generation_gwh_2017',data = df)"
   ]
  },
  {
   "cell_type": "code",
   "execution_count": null,
   "id": "c2c1910c",
   "metadata": {},
   "outputs": [],
   "source": [
    "sns.lineplot(x='gppd_idnr',y='generation_gwh_2017',data = df)"
   ]
  },
  {
   "cell_type": "code",
   "execution_count": null,
   "id": "858083ba",
   "metadata": {},
   "outputs": [],
   "source": [
    "sns.relplot(x='gppd_idnr',y='generation_gwh_2017',data = df)"
   ]
  },
  {
   "cell_type": "code",
   "execution_count": null,
   "id": "3cdd2b6c",
   "metadata": {},
   "outputs": [],
   "source": [
    "sns.regplot(x='gppd_idnr',y='generation_gwh_2017',data = df)"
   ]
  },
  {
   "cell_type": "code",
   "execution_count": null,
   "id": "9178d40e",
   "metadata": {},
   "outputs": [],
   "source": [
    "sns.lmplot(x='gppd_idnr',y='generation_gwh_2017',data = df)"
   ]
  },
  {
   "cell_type": "code",
   "execution_count": null,
   "id": "f7911dff",
   "metadata": {},
   "outputs": [],
   "source": [
    "sns.jointplot(x='gppd_idnr',y='generation_gwh_2017',data = df)"
   ]
  },
  {
   "cell_type": "code",
   "execution_count": null,
   "id": "1aa2f4cc",
   "metadata": {},
   "outputs": [],
   "source": [
    "df.head()"
   ]
  },
  {
   "cell_type": "code",
   "execution_count": null,
   "id": "2df49d39",
   "metadata": {},
   "outputs": [],
   "source": [
    "sns.scatterplot(x='capacity_mw',y='latitude',hue='primary_fuel',data = df)"
   ]
  },
  {
   "cell_type": "code",
   "execution_count": null,
   "id": "26b404ba",
   "metadata": {},
   "outputs": [],
   "source": [
    "sns.catplot(x='capacity_mw',y='latitude',hue='primary_fuel',data = df,kind='bar')"
   ]
  },
  {
   "cell_type": "code",
   "execution_count": null,
   "id": "f5fbd614",
   "metadata": {},
   "outputs": [],
   "source": [
    "sns.catplot(x='longitude',y='latitude',hue='primary_fuel',data = df,kind='bar')"
   ]
  },
  {
   "cell_type": "code",
   "execution_count": null,
   "id": "718f3487",
   "metadata": {},
   "outputs": [],
   "source": [
    "sns.scatterplot(x='longitude',y='latitude',hue='primary_fuel',data = df)"
   ]
  },
  {
   "cell_type": "code",
   "execution_count": null,
   "id": "8fcb9d9b",
   "metadata": {},
   "outputs": [],
   "source": [
    "sns.scatterplot(x='name',y='latitude',hue='primary_fuel',data = df)"
   ]
  },
  {
   "cell_type": "markdown",
   "id": "60585903",
   "metadata": {},
   "source": [
    "now we check the outliers and skewness of each column but remove skewness only for those columns which have int value"
   ]
  },
  {
   "cell_type": "code",
   "execution_count": null,
   "id": "6db26868",
   "metadata": {},
   "outputs": [],
   "source": [
    "sns.distplot(df['name'])"
   ]
  },
  {
   "cell_type": "code",
   "execution_count": null,
   "id": "6138ac80",
   "metadata": {},
   "outputs": [],
   "source": [
    "sns.distplot(df['gppd_idnr'])"
   ]
  },
  {
   "cell_type": "code",
   "execution_count": null,
   "id": "d6aed334",
   "metadata": {},
   "outputs": [],
   "source": [
    "sns.distplot(df['capacity_mw'])"
   ]
  },
  {
   "cell_type": "code",
   "execution_count": null,
   "id": "c811d845",
   "metadata": {},
   "outputs": [],
   "source": [
    "sns.distplot(df['latitude'])"
   ]
  },
  {
   "cell_type": "code",
   "execution_count": null,
   "id": "d9c13b4e",
   "metadata": {},
   "outputs": [],
   "source": [
    "sns.distplot(df['longitude'])"
   ]
  },
  {
   "cell_type": "code",
   "execution_count": null,
   "id": "674eebb3",
   "metadata": {},
   "outputs": [],
   "source": [
    "sns.distplot(df['primary_fuel'])"
   ]
  },
  {
   "cell_type": "code",
   "execution_count": null,
   "id": "44e3a776",
   "metadata": {},
   "outputs": [],
   "source": [
    "sns.distplot(df['commissioning_year'])"
   ]
  },
  {
   "cell_type": "code",
   "execution_count": null,
   "id": "ca7617ae",
   "metadata": {},
   "outputs": [],
   "source": [
    "sns.distplot(df['source'])"
   ]
  },
  {
   "cell_type": "code",
   "execution_count": null,
   "id": "424bd406",
   "metadata": {},
   "outputs": [],
   "source": [
    "sns.distplot(df['url'])"
   ]
  },
  {
   "cell_type": "code",
   "execution_count": null,
   "id": "cfc20929",
   "metadata": {},
   "outputs": [],
   "source": [
    "sns.distplot(df['generation_gwh_2017'])"
   ]
  },
  {
   "cell_type": "code",
   "execution_count": null,
   "id": "01050a34",
   "metadata": {},
   "outputs": [],
   "source": [
    "df.head()"
   ]
  },
  {
   "cell_type": "code",
   "execution_count": null,
   "id": "fdfcd8e1",
   "metadata": {},
   "outputs": [],
   "source": [
    "df['name'].plot.box()"
   ]
  },
  {
   "cell_type": "code",
   "execution_count": null,
   "id": "753b104f",
   "metadata": {},
   "outputs": [],
   "source": [
    "df['gppd_idnr'].plot.box()"
   ]
  },
  {
   "cell_type": "code",
   "execution_count": null,
   "id": "1ab8ad47",
   "metadata": {},
   "outputs": [],
   "source": [
    "df['capacity_mw'].plot.box()"
   ]
  },
  {
   "cell_type": "code",
   "execution_count": null,
   "id": "39c86012",
   "metadata": {},
   "outputs": [],
   "source": [
    "df['latitude'].plot.box()"
   ]
  },
  {
   "cell_type": "code",
   "execution_count": null,
   "id": "b0ca68cf",
   "metadata": {},
   "outputs": [],
   "source": [
    "df['longitude'].plot.box()"
   ]
  },
  {
   "cell_type": "code",
   "execution_count": null,
   "id": "32b02d13",
   "metadata": {},
   "outputs": [],
   "source": [
    "df['primary_fuel'].plot.box()"
   ]
  },
  {
   "cell_type": "code",
   "execution_count": null,
   "id": "a5186fc7",
   "metadata": {},
   "outputs": [],
   "source": [
    "df['commissioning_year'].plot.box()"
   ]
  },
  {
   "cell_type": "code",
   "execution_count": null,
   "id": "77b96005",
   "metadata": {},
   "outputs": [],
   "source": [
    "df['source'].plot.box()"
   ]
  },
  {
   "cell_type": "code",
   "execution_count": null,
   "id": "9ebf2e12",
   "metadata": {},
   "outputs": [],
   "source": [
    "df['url'].plot.box()"
   ]
  },
  {
   "cell_type": "code",
   "execution_count": null,
   "id": "997f5456",
   "metadata": {},
   "outputs": [],
   "source": [
    "df['generation_gwh_2017'].plot.box()"
   ]
  },
  {
   "cell_type": "code",
   "execution_count": null,
   "id": "3b7be646",
   "metadata": {},
   "outputs": [],
   "source": [
    "from scipy.stats import zscore"
   ]
  },
  {
   "cell_type": "code",
   "execution_count": null,
   "id": "6fd5927c",
   "metadata": {},
   "outputs": [],
   "source": [
    "dfcontcol = df[[\"longitude\",\"commissioning_year\",\"generation_gwh_2017\"]]"
   ]
  },
  {
   "cell_type": "code",
   "execution_count": null,
   "id": "8755799f",
   "metadata": {},
   "outputs": [],
   "source": [
    "z=np.abs(zscore(dfcontcol))"
   ]
  },
  {
   "cell_type": "code",
   "execution_count": null,
   "id": "83b80dfd",
   "metadata": {},
   "outputs": [],
   "source": [
    "z"
   ]
  },
  {
   "cell_type": "code",
   "execution_count": null,
   "id": "9f615028",
   "metadata": {},
   "outputs": [],
   "source": [
    "df_new=df[(z<3).all(axis=1)]"
   ]
  },
  {
   "cell_type": "code",
   "execution_count": null,
   "id": "55ed56ce",
   "metadata": {},
   "outputs": [],
   "source": [
    "df_new.head()"
   ]
  },
  {
   "cell_type": "code",
   "execution_count": null,
   "id": "17140c95",
   "metadata": {},
   "outputs": [],
   "source": [
    "df_new['longitude'].plot.box()"
   ]
  },
  {
   "cell_type": "code",
   "execution_count": null,
   "id": "ff1259c6",
   "metadata": {},
   "outputs": [],
   "source": [
    "from scipy.stats import skew"
   ]
  },
  {
   "cell_type": "code",
   "execution_count": null,
   "id": "fc5f5fc3",
   "metadata": {},
   "outputs": [],
   "source": [
    "for i in df_new:\n",
    "    print(i)\n",
    "    print(skew(df_new[i]))\n",
    "    plt.figure()\n",
    "    sns.distplot(df_new[i])\n",
    "    plt.show()"
   ]
  },
  {
   "cell_type": "code",
   "execution_count": null,
   "id": "e5964f90",
   "metadata": {},
   "outputs": [],
   "source": [
    "df.head()"
   ]
  },
  {
   "cell_type": "code",
   "execution_count": null,
   "id": "2234af36",
   "metadata": {},
   "outputs": [],
   "source": [
    "df_new['primary_fuel'].value_counts()"
   ]
  },
  {
   "cell_type": "code",
   "execution_count": null,
   "id": "a8de2e67",
   "metadata": {},
   "outputs": [],
   "source": [
    "a=df_new.drop('primary_fuel',axis=1)"
   ]
  },
  {
   "cell_type": "code",
   "execution_count": null,
   "id": "a2603ee8",
   "metadata": {},
   "outputs": [],
   "source": [
    "a.head()"
   ]
  },
  {
   "cell_type": "code",
   "execution_count": null,
   "id": "ca7c48c6",
   "metadata": {},
   "outputs": [],
   "source": [
    "from sklearn.preprocessing import PowerTransformer"
   ]
  },
  {
   "cell_type": "code",
   "execution_count": null,
   "id": "b8d818fc",
   "metadata": {},
   "outputs": [],
   "source": [
    "pt=PowerTransformer(method='yeo-johnson') \n",
    "X_power=pt.fit_transform(a)\n",
    "df=pd.DataFrame(X_power,columns=a.columns)"
   ]
  },
  {
   "cell_type": "code",
   "execution_count": null,
   "id": "fb59fe67",
   "metadata": {},
   "outputs": [],
   "source": [
    "df"
   ]
  },
  {
   "cell_type": "code",
   "execution_count": null,
   "id": "ae5bc703",
   "metadata": {},
   "outputs": [],
   "source": [
    "df.skew()"
   ]
  },
  {
   "cell_type": "code",
   "execution_count": null,
   "id": "2a96c9d0",
   "metadata": {},
   "outputs": [],
   "source": [
    "df_new.head()"
   ]
  },
  {
   "cell_type": "code",
   "execution_count": null,
   "id": "2357af85",
   "metadata": {},
   "outputs": [],
   "source": [
    "y = df_new.iloc[:,5]"
   ]
  },
  {
   "cell_type": "code",
   "execution_count": null,
   "id": "d4823e39",
   "metadata": {},
   "outputs": [],
   "source": [
    "y"
   ]
  },
  {
   "cell_type": "code",
   "execution_count": null,
   "id": "8d56889f",
   "metadata": {},
   "outputs": [],
   "source": [
    "x = df"
   ]
  },
  {
   "cell_type": "code",
   "execution_count": null,
   "id": "c793d9ee",
   "metadata": {},
   "outputs": [],
   "source": [
    "x"
   ]
  },
  {
   "cell_type": "code",
   "execution_count": null,
   "id": "a2313384",
   "metadata": {},
   "outputs": [],
   "source": [
    "y.value_counts()"
   ]
  },
  {
   "cell_type": "code",
   "execution_count": null,
   "id": "741fd432",
   "metadata": {},
   "outputs": [],
   "source": [
    "from imblearn.over_sampling import SMOTE"
   ]
  },
  {
   "cell_type": "code",
   "execution_count": null,
   "id": "4c202943",
   "metadata": {},
   "outputs": [],
   "source": [
    "SM = SMOTE()\n",
    "x,y = SM.fit_resample(x, y)"
   ]
  },
  {
   "cell_type": "code",
   "execution_count": null,
   "id": "3e581cf2",
   "metadata": {},
   "outputs": [],
   "source": [
    "x.shape"
   ]
  },
  {
   "cell_type": "code",
   "execution_count": null,
   "id": "a13ffa56",
   "metadata": {},
   "outputs": [],
   "source": [
    "y.shape"
   ]
  },
  {
   "cell_type": "code",
   "execution_count": null,
   "id": "b948eedb",
   "metadata": {},
   "outputs": [],
   "source": [
    "y.value_counts()"
   ]
  },
  {
   "cell_type": "code",
   "execution_count": null,
   "id": "a5d6927b",
   "metadata": {},
   "outputs": [],
   "source": [
    "from statsmodels.stats.outliers_influence import variance_inflation_factor"
   ]
  },
  {
   "cell_type": "code",
   "execution_count": null,
   "id": "8951b81a",
   "metadata": {},
   "outputs": [],
   "source": [
    "vif= pd.DataFrame()\n",
    "vif[\"features\"]=x.columns\n",
    "vif[\"VIF FACTOR\"] =[variance_inflation_factor(x.values,i) for i in range(x.shape[1])]\n",
    "print(vif)"
   ]
  },
  {
   "cell_type": "code",
   "execution_count": null,
   "id": "cd1f1763",
   "metadata": {},
   "outputs": [],
   "source": [
    "from sklearn.model_selection import train_test_split"
   ]
  },
  {
   "cell_type": "code",
   "execution_count": null,
   "id": "ab3fe77a",
   "metadata": {},
   "outputs": [],
   "source": [
    "x_train,x_test,y_train,y_test=train_test_split(x,y,test_size=.20,random_state=40)"
   ]
  },
  {
   "cell_type": "code",
   "execution_count": null,
   "id": "ddd1ed18",
   "metadata": {},
   "outputs": [],
   "source": [
    "x_train.shape"
   ]
  },
  {
   "cell_type": "code",
   "execution_count": null,
   "id": "7eae6087",
   "metadata": {},
   "outputs": [],
   "source": [
    "y_train.shape"
   ]
  },
  {
   "cell_type": "code",
   "execution_count": null,
   "id": "6afa0d08",
   "metadata": {},
   "outputs": [],
   "source": [
    "x_test.shape"
   ]
  },
  {
   "cell_type": "code",
   "execution_count": null,
   "id": "a92c3ed4",
   "metadata": {},
   "outputs": [],
   "source": [
    "y_test.shape"
   ]
  },
  {
   "cell_type": "code",
   "execution_count": null,
   "id": "174f2a78",
   "metadata": {},
   "outputs": [],
   "source": [
    "import sklearn\n",
    "from sklearn.naive_bayes import GaussianNB\n",
    "from sklearn.svm import SVC\n",
    "from sklearn.tree import DecisionTreeClassifier\n",
    "from sklearn.metrics import accuracy_score,confusion_matrix,classification_report\n",
    "from sklearn.neighbors import KNeighborsClassifier\n",
    "from sklearn.ensemble import RandomForestClassifier\n",
    "from sklearn.model_selection import GridSearchCV"
   ]
  },
  {
   "cell_type": "code",
   "execution_count": null,
   "id": "bd1a0825",
   "metadata": {},
   "outputs": [],
   "source": [
    "svc= SVC()\n",
    "svc.fit(x_train,y_train)\n",
    "svc.score(x_train,y_train)\n",
    "predsvc = svc.predict(x_test)\n",
    "print(accuracy_score(y_test,predsvc))\n",
    "print(confusion_matrix(y_test,predsvc))\n",
    "print(classification_report(y_test,predsvc))"
   ]
  },
  {
   "cell_type": "code",
   "execution_count": null,
   "id": "7a1fdc0b",
   "metadata": {},
   "outputs": [],
   "source": [
    "paramsv = {'kernel':['linear','poly','rbf'],\n",
    "           'gamma':['scale','auto'],\n",
    "            'degree':np.arange(1,10)}"
   ]
  },
  {
   "cell_type": "code",
   "execution_count": null,
   "id": "f7047674",
   "metadata": {},
   "outputs": [],
   "source": [
    "gc = GridSearchCV(SVC(),paramsv,cv=5)\n",
    "gc.fit(x,y)\n",
    "gc.best_params_"
   ]
  },
  {
   "cell_type": "code",
   "execution_count": null,
   "id": "68112f9e",
   "metadata": {},
   "outputs": [],
   "source": [
    "Svc= SVC(kernel ='rbf',gamma='scale',degree=1)\n",
    "Svc.fit(x_train,y_train)\n",
    "Svc.score(x_train,y_train)\n",
    "predSvc = Svc.predict(x_test)\n",
    "print(accuracy_score(y_test,predSvc))\n",
    "print(confusion_matrix(y_test,predSvc))\n",
    "print(classification_report(y_test,predSvc))"
   ]
  },
  {
   "cell_type": "code",
   "execution_count": null,
   "id": "56fd69e3",
   "metadata": {},
   "outputs": [],
   "source": [
    "dtc= DecisionTreeClassifier()\n",
    "dtc.fit(x_train,y_train)\n",
    "dtc.score(x_train,y_train)\n",
    "preddtc = dtc.predict(x_test)\n",
    "print(accuracy_score(y_test,preddtc))\n",
    "print(confusion_matrix(y_test,preddtc))\n",
    "print(classification_report(y_test,preddtc))"
   ]
  },
  {
   "cell_type": "code",
   "execution_count": null,
   "id": "394fd5ff",
   "metadata": {},
   "outputs": [],
   "source": [
    "paramdt = {'criterion':['gini','entropy'],'splitter':['best','random'],\n",
    "            'max_depth': np.arange(1,10)}"
   ]
  },
  {
   "cell_type": "code",
   "execution_count": null,
   "id": "824ee535",
   "metadata": {},
   "outputs": [],
   "source": [
    "gc = GridSearchCV(DecisionTreeClassifier(),paramdt,cv=5)"
   ]
  },
  {
   "cell_type": "code",
   "execution_count": null,
   "id": "ea7a1047",
   "metadata": {},
   "outputs": [],
   "source": [
    "gc.fit(x,y)"
   ]
  },
  {
   "cell_type": "code",
   "execution_count": null,
   "id": "d5eaba33",
   "metadata": {},
   "outputs": [],
   "source": [
    "gc.best_params_"
   ]
  },
  {
   "cell_type": "code",
   "execution_count": null,
   "id": "b5500716",
   "metadata": {},
   "outputs": [],
   "source": [
    "DTC= DecisionTreeClassifier(criterion='entropy',splitter='best',max_depth=9)\n",
    "DTC.fit(x_train,y_train)\n",
    "DTC.score(x_train,y_train)\n",
    "predDTC = DTC.predict(x_test)\n",
    "print(accuracy_score(y_test,predDTC))\n",
    "print(confusion_matrix(y_test,predDTC))\n",
    "print(classification_report(y_test,predDTC))"
   ]
  },
  {
   "cell_type": "code",
   "execution_count": null,
   "id": "daa015dc",
   "metadata": {},
   "outputs": [],
   "source": [
    "knn = KNeighborsClassifier(n_neighbors=5)\n",
    "knn.fit(x_train,y_train)\n",
    "knn.score(x_train,y_train)\n",
    "predknn = knn.predict(x_test)\n",
    "print(accuracy_score(y_test,predknn))\n",
    "print(confusion_matrix(y_test,predknn))\n",
    "print(classification_report(y_test,predknn))"
   ]
  },
  {
   "cell_type": "code",
   "execution_count": null,
   "id": "a08dea4e",
   "metadata": {},
   "outputs": [],
   "source": [
    "paramkn = {'n_neighbors':np.arange(1,10),'weights':['uniform','distance'],'algorithm':['auto','ball_tree','kd_tree']}"
   ]
  },
  {
   "cell_type": "code",
   "execution_count": null,
   "id": "c2d80db7",
   "metadata": {},
   "outputs": [],
   "source": [
    "gc = GridSearchCV(KNeighborsClassifier(),paramkn,cv=5)"
   ]
  },
  {
   "cell_type": "code",
   "execution_count": null,
   "id": "7233e0a5",
   "metadata": {},
   "outputs": [],
   "source": [
    "gc.fit(x,y)"
   ]
  },
  {
   "cell_type": "code",
   "execution_count": null,
   "id": "15bc9c9e",
   "metadata": {},
   "outputs": [],
   "source": [
    "gc.best_params_"
   ]
  },
  {
   "cell_type": "code",
   "execution_count": null,
   "id": "2e6f96cc",
   "metadata": {},
   "outputs": [],
   "source": [
    "KNn = KNeighborsClassifier(n_neighbors=1,weights='uniform',algorithm='auto')\n",
    "KNn.fit(x_train,y_train)\n",
    "KNn.score(x_train,y_train)\n",
    "predKNn = KNn.predict(x_test)\n",
    "print(accuracy_score(y_test,predKNn))\n",
    "print(confusion_matrix(y_test,predKNn))\n",
    "print(classification_report(y_test,predKNn))"
   ]
  },
  {
   "cell_type": "code",
   "execution_count": null,
   "id": "3615cf3a",
   "metadata": {},
   "outputs": [],
   "source": [
    "rfc = RandomForestClassifier()\n",
    "rfc.fit(x_train, y_train)\n",
    "rfc.score(x_test, y_test)\n",
    "predrfc = rfc.predict(x_test)\n",
    "print(accuracy_score(y_test,predrfc))\n",
    "print(confusion_matrix(y_test,predrfc))\n",
    "print(classification_report(y_test,predrfc))"
   ]
  },
  {
   "cell_type": "code",
   "execution_count": null,
   "id": "12710226",
   "metadata": {},
   "outputs": [],
   "source": [
    "paramrf={'n_estimators':np.arange(1,10),'criterion':['gini','entropy'],\n",
    "          'max_depth':np.arange(1,10)}"
   ]
  },
  {
   "cell_type": "code",
   "execution_count": null,
   "id": "20b0839f",
   "metadata": {},
   "outputs": [],
   "source": [
    "gc = GridSearchCV(RandomForestClassifier(),paramrf,cv=5)"
   ]
  },
  {
   "cell_type": "code",
   "execution_count": null,
   "id": "e8458e18",
   "metadata": {},
   "outputs": [],
   "source": [
    "gc.fit(x,y)"
   ]
  },
  {
   "cell_type": "code",
   "execution_count": null,
   "id": "ae3644b9",
   "metadata": {},
   "outputs": [],
   "source": [
    "gc.best_params_"
   ]
  },
  {
   "cell_type": "code",
   "execution_count": null,
   "id": "b1f8d50c",
   "metadata": {},
   "outputs": [],
   "source": [
    "Rfc = RandomForestClassifier(criterion='entropy',n_estimators=9,max_depth=9)\n",
    "Rfc.fit(x_train, y_train)\n",
    "Rfc.score(x_test, y_test)\n",
    "predRfc = Rfc.predict(x_test)\n",
    "print(accuracy_score(y_test,predRfc))\n",
    "print(confusion_matrix(y_test,predRfc))\n",
    "print(classification_report(y_test,predRfc))"
   ]
  },
  {
   "cell_type": "code",
   "execution_count": null,
   "id": "c04efa79",
   "metadata": {},
   "outputs": [],
   "source": [
    "gnb = GaussianNB()\n",
    "gnb.fit(x_train,y_train)\n",
    "gnb.score(x_train,y_train)\n",
    "predgnb =gnb.predict(x_test)\n",
    "print(accuracy_score(y_test,predgnb))\n",
    "print(confusion_matrix(y_test,predgnb))\n",
    "print(classification_report(y_test,predgnb))"
   ]
  },
  {
   "cell_type": "code",
   "execution_count": null,
   "id": "1860055d",
   "metadata": {},
   "outputs": [],
   "source": [
    "from sklearn.model_selection import cross_val_score"
   ]
  },
  {
   "cell_type": "code",
   "execution_count": null,
   "id": "d17c4ba8",
   "metadata": {},
   "outputs": [],
   "source": [
    "print(cross_val_score(Svc,x,y,cv=5).mean())"
   ]
  },
  {
   "cell_type": "code",
   "execution_count": null,
   "id": "da0655dd",
   "metadata": {},
   "outputs": [],
   "source": [
    "print(cross_val_score(DTC,x,y,cv=5).mean())"
   ]
  },
  {
   "cell_type": "code",
   "execution_count": null,
   "id": "3596afbb",
   "metadata": {},
   "outputs": [],
   "source": [
    "print(cross_val_score(KNn,x,y,cv=20).mean())"
   ]
  },
  {
   "cell_type": "code",
   "execution_count": null,
   "id": "2cead366",
   "metadata": {},
   "outputs": [],
   "source": [
    "print(cross_val_score(Rfc,x,y,cv=20).mean())"
   ]
  },
  {
   "cell_type": "code",
   "execution_count": null,
   "id": "8a979337",
   "metadata": {},
   "outputs": [],
   "source": [
    "print(cross_val_score(gnb,x,y,cv=20).mean())"
   ]
  },
  {
   "cell_type": "code",
   "execution_count": null,
   "id": "f48dc74c",
   "metadata": {},
   "outputs": [],
   "source": [
    "import joblib"
   ]
  },
  {
   "cell_type": "code",
   "execution_count": null,
   "id": "b7baa243",
   "metadata": {},
   "outputs": [],
   "source": [
    "joblib.dump(KNn,'KNn_joblib')"
   ]
  },
  {
   "cell_type": "code",
   "execution_count": null,
   "id": "9babc957",
   "metadata": {},
   "outputs": [],
   "source": [
    "df_new.head()"
   ]
  },
  {
   "cell_type": "code",
   "execution_count": null,
   "id": "e2fc87a8",
   "metadata": {},
   "outputs": [],
   "source": [
    "b=df_new.drop('capacity_mw',axis=1)"
   ]
  },
  {
   "cell_type": "code",
   "execution_count": null,
   "id": "725f3052",
   "metadata": {},
   "outputs": [],
   "source": [
    "b"
   ]
  },
  {
   "cell_type": "code",
   "execution_count": null,
   "id": "d2e0b531",
   "metadata": {},
   "outputs": [],
   "source": [
    "pt = PowerTransformer(method='yeo-johnson')\n",
    "X_power=pt.fit_transform(b)\n",
    "df = pd.DataFrame(X_power,columns=b.columns)"
   ]
  },
  {
   "cell_type": "code",
   "execution_count": null,
   "id": "6250a7f1",
   "metadata": {},
   "outputs": [],
   "source": [
    "df"
   ]
  },
  {
   "cell_type": "code",
   "execution_count": null,
   "id": "8b3d6cfd",
   "metadata": {},
   "outputs": [],
   "source": [
    "df.skew()"
   ]
  },
  {
   "cell_type": "code",
   "execution_count": null,
   "id": "d2556ef0",
   "metadata": {},
   "outputs": [],
   "source": [
    "x=df"
   ]
  },
  {
   "cell_type": "code",
   "execution_count": null,
   "id": "aa36267a",
   "metadata": {},
   "outputs": [],
   "source": [
    "x"
   ]
  },
  {
   "cell_type": "code",
   "execution_count": null,
   "id": "f1c21140",
   "metadata": {},
   "outputs": [],
   "source": [
    "df_new.head()"
   ]
  },
  {
   "cell_type": "code",
   "execution_count": null,
   "id": "1c61866a",
   "metadata": {},
   "outputs": [],
   "source": [
    "y = df_new.iloc[:,2]"
   ]
  },
  {
   "cell_type": "code",
   "execution_count": null,
   "id": "40369ea2",
   "metadata": {},
   "outputs": [],
   "source": [
    "y"
   ]
  },
  {
   "cell_type": "code",
   "execution_count": null,
   "id": "f499bb9e",
   "metadata": {},
   "outputs": [],
   "source": [
    "from sklearn.preprocessing import StandardScaler"
   ]
  },
  {
   "cell_type": "code",
   "execution_count": null,
   "id": "2b55c8d5",
   "metadata": {},
   "outputs": [],
   "source": [
    "sc = StandardScaler()\n",
    "x = sc.fit_transform(x)"
   ]
  },
  {
   "cell_type": "code",
   "execution_count": null,
   "id": "df5cabaa",
   "metadata": {},
   "outputs": [],
   "source": [
    "x.shape"
   ]
  },
  {
   "cell_type": "code",
   "execution_count": null,
   "id": "b394ede3",
   "metadata": {},
   "outputs": [],
   "source": [
    "y.shape"
   ]
  },
  {
   "cell_type": "code",
   "execution_count": null,
   "id": "264555fa",
   "metadata": {},
   "outputs": [],
   "source": [
    "from sklearn.model_selection import train_test_split"
   ]
  },
  {
   "cell_type": "code",
   "execution_count": null,
   "id": "99258447",
   "metadata": {},
   "outputs": [],
   "source": [
    "x_train,x_test,y_train,y_test=train_test_split(x,y,test_size=.15,random_state=45)"
   ]
  },
  {
   "cell_type": "code",
   "execution_count": null,
   "id": "9e98125b",
   "metadata": {},
   "outputs": [],
   "source": [
    "x_train.shape"
   ]
  },
  {
   "cell_type": "code",
   "execution_count": null,
   "id": "95e44886",
   "metadata": {},
   "outputs": [],
   "source": [
    "y_train.shape"
   ]
  },
  {
   "cell_type": "code",
   "execution_count": null,
   "id": "f9c951d3",
   "metadata": {},
   "outputs": [],
   "source": [
    "x_test.shape"
   ]
  },
  {
   "cell_type": "code",
   "execution_count": null,
   "id": "9d8c9a95",
   "metadata": {},
   "outputs": [],
   "source": [
    "y_test.shape"
   ]
  },
  {
   "cell_type": "code",
   "execution_count": null,
   "id": "f8358e94",
   "metadata": {},
   "outputs": [],
   "source": [
    "from sklearn.linear_model import LinearRegression\n",
    "from sklearn.metrics import mean_squared_error,mean_absolute_error,r2_score\n",
    "from sklearn.ensemble import RandomForestRegressor\n",
    "from sklearn.tree import DecisionTreeRegressor"
   ]
  },
  {
   "cell_type": "code",
   "execution_count": null,
   "id": "b446cef8",
   "metadata": {},
   "outputs": [],
   "source": [
    "lr = LinearRegression()"
   ]
  },
  {
   "cell_type": "code",
   "execution_count": null,
   "id": "0158a34e",
   "metadata": {},
   "outputs": [],
   "source": [
    "lr.fit(x_train,y_train)\n",
    "lr.score(x_train,y_train)\n",
    "predlr=lr.predict(x_test)\n",
    "print(r2_score(y_test,predlr))"
   ]
  },
  {
   "cell_type": "code",
   "execution_count": null,
   "id": "561aaac3",
   "metadata": {},
   "outputs": [],
   "source": [
    "lr.score(x_train,y_train)"
   ]
  },
  {
   "cell_type": "code",
   "execution_count": null,
   "id": "dc08491e",
   "metadata": {},
   "outputs": [],
   "source": [
    "parameter_lr = {'copy_X':['true','false'],'fit_intercept':['true','false'],'n_jobs':np.arange(1,10)}\n",
    "gc = GridSearchCV(LinearRegression(),parameter_lr,cv = 5)\n",
    "gc.fit(x,y)"
   ]
  },
  {
   "cell_type": "code",
   "execution_count": null,
   "id": "b985b8d4",
   "metadata": {},
   "outputs": [],
   "source": [
    "gc.best_params_"
   ]
  },
  {
   "cell_type": "code",
   "execution_count": null,
   "id": "5d124d88",
   "metadata": {},
   "outputs": [],
   "source": [
    "LR = LinearRegression(copy_X='true',fit_intercept='true',n_jobs='1')"
   ]
  },
  {
   "cell_type": "code",
   "execution_count": null,
   "id": "54b9fa66",
   "metadata": {},
   "outputs": [],
   "source": [
    "LR.fit(x_train,y_train)"
   ]
  },
  {
   "cell_type": "code",
   "execution_count": null,
   "id": "88c1bd20",
   "metadata": {},
   "outputs": [],
   "source": [
    "LR.score(x_train,y_train)"
   ]
  },
  {
   "cell_type": "code",
   "execution_count": null,
   "id": "2713d519",
   "metadata": {},
   "outputs": [],
   "source": [
    "print(cross_val_score(LR,x,y,cv=5).mean())"
   ]
  },
  {
   "cell_type": "code",
   "execution_count": null,
   "id": "26905260",
   "metadata": {},
   "outputs": [],
   "source": [
    "rf = RandomForestRegressor()\n",
    "rf.fit(x_train,y_train)\n",
    "rf.score(x_train,y_train)\n",
    "predrf = rf.predict(x_test)\n",
    "print(r2_score(y_test,predrf))"
   ]
  },
  {
   "cell_type": "code",
   "execution_count": null,
   "id": "ec55cd16",
   "metadata": {},
   "outputs": [],
   "source": [
    "rf.score(x_train,y_train)"
   ]
  },
  {
   "cell_type": "code",
   "execution_count": null,
   "id": "2e6f4698",
   "metadata": {},
   "outputs": [],
   "source": [
    "parameter_rf= {'n_estimators':np.arange(1,10),'max_features':['auto','sqrt','log2'],\n",
    "                 'criterion': ['squared_error','absolute_error','poisson']}"
   ]
  },
  {
   "cell_type": "code",
   "execution_count": null,
   "id": "ab71ca3d",
   "metadata": {},
   "outputs": [],
   "source": [
    "gc = GridSearchCV(RandomForestRegressor(),parameter_rf,cv = 5)\n",
    "gc.fit(x,y)"
   ]
  },
  {
   "cell_type": "code",
   "execution_count": null,
   "id": "bda939f6",
   "metadata": {},
   "outputs": [],
   "source": [
    "gc.best_params_"
   ]
  },
  {
   "cell_type": "code",
   "execution_count": null,
   "id": "901ede1c",
   "metadata": {},
   "outputs": [],
   "source": [
    "RF=RandomForestRegressor(criterion='poisson',max_features='auto',n_estimators=7)"
   ]
  },
  {
   "cell_type": "code",
   "execution_count": null,
   "id": "3247ce46",
   "metadata": {},
   "outputs": [],
   "source": [
    "RF.fit(x_train,y_train)\n",
    "RF.score(x_train,y_train)"
   ]
  },
  {
   "cell_type": "code",
   "execution_count": null,
   "id": "1136fc06",
   "metadata": {},
   "outputs": [],
   "source": [
    "print(cross_val_score(RF,x,y,cv=15).mean())"
   ]
  },
  {
   "cell_type": "code",
   "execution_count": null,
   "id": "e49b57fe",
   "metadata": {},
   "outputs": [],
   "source": [
    "dc = DecisionTreeRegressor()\n",
    "dc.fit(x_train,y_train)\n",
    "dc.score(x_train,y_train)\n",
    "preddc = dc.predict(x_test)\n",
    "print(r2_score(y_test,preddc))"
   ]
  },
  {
   "cell_type": "code",
   "execution_count": null,
   "id": "066e1074",
   "metadata": {},
   "outputs": [],
   "source": [
    "dc.score(x_train,y_train)"
   ]
  },
  {
   "cell_type": "code",
   "execution_count": null,
   "id": "2dc89d6e",
   "metadata": {},
   "outputs": [],
   "source": [
    "paramdc={'criterion':['squared_error','friedman_mse','poisson'],\n",
    "          'splitter':['best','random'],\n",
    "           'max_depth':np.arange(1,10)}"
   ]
  },
  {
   "cell_type": "code",
   "execution_count": null,
   "id": "0514e580",
   "metadata": {},
   "outputs": [],
   "source": [
    "gc = GridSearchCV(DecisionTreeRegressor(),paramdc,cv=5)"
   ]
  },
  {
   "cell_type": "code",
   "execution_count": null,
   "id": "7982c8c2",
   "metadata": {},
   "outputs": [],
   "source": [
    "gc.fit(x,y)"
   ]
  },
  {
   "cell_type": "code",
   "execution_count": null,
   "id": "b0d751f2",
   "metadata": {},
   "outputs": [],
   "source": [
    "gc.best_params_"
   ]
  },
  {
   "cell_type": "code",
   "execution_count": null,
   "id": "695471d7",
   "metadata": {},
   "outputs": [],
   "source": [
    "Dc = DecisionTreeRegressor(criterion='friedman_mse',max_depth=3,splitter= 'best')"
   ]
  },
  {
   "cell_type": "code",
   "execution_count": null,
   "id": "34924246",
   "metadata": {},
   "outputs": [],
   "source": [
    "Dc.fit(x_train,y_train)"
   ]
  },
  {
   "cell_type": "code",
   "execution_count": null,
   "id": "269f20fb",
   "metadata": {},
   "outputs": [],
   "source": [
    "Dc.score(x_train,y_train)"
   ]
  },
  {
   "cell_type": "code",
   "execution_count": null,
   "id": "55225af3",
   "metadata": {},
   "outputs": [],
   "source": [
    "print(cross_val_score(Dc,x,y,cv=5).mean())"
   ]
  },
  {
   "cell_type": "code",
   "execution_count": null,
   "id": "dc364ac8",
   "metadata": {},
   "outputs": [],
   "source": [
    "from sklearn.svm import SVR"
   ]
  },
  {
   "cell_type": "code",
   "execution_count": null,
   "id": "5f626dd8",
   "metadata": {},
   "outputs": [],
   "source": [
    "svr= SVR()"
   ]
  },
  {
   "cell_type": "code",
   "execution_count": null,
   "id": "dd6591c3",
   "metadata": {},
   "outputs": [],
   "source": [
    "svr.fit(x_train,y_train)\n",
    "svr.score(x_train,y_train)\n",
    "predsvr = svr.predict(x_test)\n",
    "print(r2_score(y_test,predsvr))"
   ]
  },
  {
   "cell_type": "code",
   "execution_count": null,
   "id": "ab7969d2",
   "metadata": {},
   "outputs": [],
   "source": [
    "svr.score(x_train,y_train)"
   ]
  },
  {
   "cell_type": "code",
   "execution_count": null,
   "id": "93cb758d",
   "metadata": {},
   "outputs": [],
   "source": [
    "joblib.dump(RF,'RF_joblib')"
   ]
  }
 ],
 "metadata": {
  "kernelspec": {
   "display_name": "Python 3",
   "language": "python",
   "name": "python3"
  },
  "language_info": {
   "codemirror_mode": {
    "name": "ipython",
    "version": 3
   },
   "file_extension": ".py",
   "mimetype": "text/x-python",
   "name": "python",
   "nbconvert_exporter": "python",
   "pygments_lexer": "ipython3",
   "version": "3.8.8"
  }
 },
 "nbformat": 4,
 "nbformat_minor": 5
}
