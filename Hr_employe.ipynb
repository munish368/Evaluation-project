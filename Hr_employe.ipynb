{
 "cells": [
  {
   "cell_type": "code",
   "execution_count": null,
   "id": "8148c9ed",
   "metadata": {},
   "outputs": [],
   "source": [
    "import pandas as pd"
   ]
  },
  {
   "cell_type": "code",
   "execution_count": null,
   "id": "6b3e9181",
   "metadata": {},
   "outputs": [],
   "source": [
    "df = pd.read_csv(\"HR-Employee-Attrition.csv\")"
   ]
  },
  {
   "cell_type": "code",
   "execution_count": null,
   "id": "dfd1f904",
   "metadata": {},
   "outputs": [],
   "source": [
    "df"
   ]
  },
  {
   "cell_type": "markdown",
   "id": "c8a2c3ec",
   "metadata": {},
   "source": [
    "here Attrition is target column which have only two class yes and no so we build a classification model for the data "
   ]
  },
  {
   "cell_type": "code",
   "execution_count": null,
   "id": "78843ed1",
   "metadata": {},
   "outputs": [],
   "source": [
    "df.shape"
   ]
  },
  {
   "cell_type": "code",
   "execution_count": null,
   "id": "5bef7e53",
   "metadata": {},
   "outputs": [],
   "source": [
    "df.columns"
   ]
  },
  {
   "cell_type": "code",
   "execution_count": null,
   "id": "cd8650ba",
   "metadata": {},
   "outputs": [],
   "source": [
    "df['EnvironmentSatisfaction']"
   ]
  },
  {
   "cell_type": "code",
   "execution_count": null,
   "id": "114905ce",
   "metadata": {},
   "outputs": [],
   "source": [
    "df['EnvironmentSatisfaction'].unique()"
   ]
  },
  {
   "cell_type": "code",
   "execution_count": null,
   "id": "f7c3473b",
   "metadata": {},
   "outputs": [],
   "source": [
    "df['Gender']"
   ]
  },
  {
   "cell_type": "code",
   "execution_count": null,
   "id": "7c5d295b",
   "metadata": {},
   "outputs": [],
   "source": [
    "df['Gender'].unique()"
   ]
  },
  {
   "cell_type": "code",
   "execution_count": null,
   "id": "2583a4d9",
   "metadata": {},
   "outputs": [],
   "source": [
    "df['Gender'].value_counts()"
   ]
  },
  {
   "cell_type": "code",
   "execution_count": null,
   "id": "420fb1f4",
   "metadata": {},
   "outputs": [],
   "source": [
    "df['HourlyRate']"
   ]
  },
  {
   "cell_type": "code",
   "execution_count": null,
   "id": "81092be3",
   "metadata": {},
   "outputs": [],
   "source": [
    "df['JobInvolvement']"
   ]
  },
  {
   "cell_type": "code",
   "execution_count": null,
   "id": "0fa06508",
   "metadata": {},
   "outputs": [],
   "source": [
    "df['JobInvolvement'].unique()"
   ]
  },
  {
   "cell_type": "code",
   "execution_count": null,
   "id": "4fa758e7",
   "metadata": {},
   "outputs": [],
   "source": [
    "df['JobInvolvement'].value_counts()"
   ]
  },
  {
   "cell_type": "code",
   "execution_count": null,
   "id": "b2cde897",
   "metadata": {},
   "outputs": [],
   "source": [
    "df['JobLevel'].unique()"
   ]
  },
  {
   "cell_type": "code",
   "execution_count": null,
   "id": "48fd06d1",
   "metadata": {},
   "outputs": [],
   "source": [
    "df['JobLevel'].value_counts()"
   ]
  },
  {
   "cell_type": "code",
   "execution_count": null,
   "id": "1e14b0be",
   "metadata": {},
   "outputs": [],
   "source": [
    "df['JobRole']"
   ]
  },
  {
   "cell_type": "code",
   "execution_count": null,
   "id": "75da35f4",
   "metadata": {},
   "outputs": [],
   "source": [
    "df['JobRole'].unique()"
   ]
  },
  {
   "cell_type": "code",
   "execution_count": null,
   "id": "f63ac74a",
   "metadata": {},
   "outputs": [],
   "source": [
    "df['JobRole'].value_counts()"
   ]
  },
  {
   "cell_type": "code",
   "execution_count": null,
   "id": "1ff269c7",
   "metadata": {},
   "outputs": [],
   "source": [
    "df['JobSatisfaction']"
   ]
  },
  {
   "cell_type": "code",
   "execution_count": null,
   "id": "7cb433bf",
   "metadata": {},
   "outputs": [],
   "source": [
    "df['MaritalStatus']"
   ]
  },
  {
   "cell_type": "code",
   "execution_count": null,
   "id": "786a6860",
   "metadata": {},
   "outputs": [],
   "source": [
    "df['MaritalStatus'].unique()"
   ]
  },
  {
   "cell_type": "code",
   "execution_count": null,
   "id": "80b93492",
   "metadata": {},
   "outputs": [],
   "source": [
    "df['MaritalStatus'].value_counts()"
   ]
  },
  {
   "cell_type": "code",
   "execution_count": null,
   "id": "6ba88ebe",
   "metadata": {},
   "outputs": [],
   "source": [
    "df['MonthlyIncome']"
   ]
  },
  {
   "cell_type": "code",
   "execution_count": null,
   "id": "ac326ec3",
   "metadata": {},
   "outputs": [],
   "source": [
    "df['MonthlyRate']"
   ]
  },
  {
   "cell_type": "code",
   "execution_count": null,
   "id": "ea2da802",
   "metadata": {},
   "outputs": [],
   "source": [
    "df['NumCompaniesWorked']"
   ]
  },
  {
   "cell_type": "code",
   "execution_count": null,
   "id": "4b7ccebe",
   "metadata": {},
   "outputs": [],
   "source": [
    "df['Over18']"
   ]
  },
  {
   "cell_type": "code",
   "execution_count": null,
   "id": "ffece083",
   "metadata": {},
   "outputs": [],
   "source": [
    "df['Over18'].unique()"
   ]
  },
  {
   "cell_type": "code",
   "execution_count": null,
   "id": "cc186918",
   "metadata": {},
   "outputs": [],
   "source": [
    "df['OverTime']"
   ]
  },
  {
   "cell_type": "code",
   "execution_count": null,
   "id": "5572be44",
   "metadata": {},
   "outputs": [],
   "source": [
    "df['OverTime'].value_counts()"
   ]
  },
  {
   "cell_type": "code",
   "execution_count": null,
   "id": "ce9e3c5b",
   "metadata": {},
   "outputs": [],
   "source": [
    "df['PercentSalaryHike']"
   ]
  },
  {
   "cell_type": "code",
   "execution_count": null,
   "id": "a39127ee",
   "metadata": {},
   "outputs": [],
   "source": [
    "df['PerformanceRating']"
   ]
  },
  {
   "cell_type": "code",
   "execution_count": null,
   "id": "1cb8a721",
   "metadata": {},
   "outputs": [],
   "source": [
    "df.isnull().sum()"
   ]
  },
  {
   "cell_type": "markdown",
   "id": "e8519957",
   "metadata": {},
   "source": [
    "no nanvalue is present in the data "
   ]
  },
  {
   "cell_type": "code",
   "execution_count": null,
   "id": "506b77db",
   "metadata": {},
   "outputs": [],
   "source": [
    "from sklearn.preprocessing import LabelEncoder"
   ]
  },
  {
   "cell_type": "code",
   "execution_count": null,
   "id": "e8664d29",
   "metadata": {},
   "outputs": [],
   "source": [
    "import warnings\n",
    "warnings.filterwarnings('ignore')"
   ]
  },
  {
   "cell_type": "code",
   "execution_count": null,
   "id": "359bdbef",
   "metadata": {},
   "outputs": [],
   "source": [
    "le = LabelEncoder()"
   ]
  },
  {
   "cell_type": "code",
   "execution_count": null,
   "id": "0d35e3ae",
   "metadata": {},
   "outputs": [],
   "source": [
    "for i in df.columns:\n",
    "    if df[i].dtypes =='object':\n",
    "        df[i]=le.fit_transform(df[i].values.reshape(-1,1))"
   ]
  },
  {
   "cell_type": "code",
   "execution_count": null,
   "id": "4ecef921",
   "metadata": {},
   "outputs": [],
   "source": [
    "df.head()"
   ]
  },
  {
   "cell_type": "code",
   "execution_count": null,
   "id": "c5ab1ad1",
   "metadata": {},
   "outputs": [],
   "source": [
    "df.corr()"
   ]
  },
  {
   "cell_type": "markdown",
   "id": "bde9eaf6",
   "metadata": {},
   "source": [
    "3 columns shows nan relation with other column and target column so we drop it all three column beacuse they have no correlation"
   ]
  },
  {
   "cell_type": "code",
   "execution_count": null,
   "id": "d6c030da",
   "metadata": {},
   "outputs": [],
   "source": [
    "df.info()"
   ]
  },
  {
   "cell_type": "code",
   "execution_count": null,
   "id": "194e951c",
   "metadata": {},
   "outputs": [],
   "source": [
    "import matplotlib.pyplot as plt\n",
    "import seaborn as sns"
   ]
  },
  {
   "cell_type": "code",
   "execution_count": null,
   "id": "410c966b",
   "metadata": {},
   "outputs": [],
   "source": [
    "plt.figure(figsize=(15,10))\n",
    "sns.heatmap(df.corr(),annot = True)"
   ]
  },
  {
   "cell_type": "code",
   "execution_count": null,
   "id": "1127890b",
   "metadata": {},
   "outputs": [],
   "source": [
    "A= [\"EmployeeCount\",\"StandardHours\",\"Over18\"]"
   ]
  },
  {
   "cell_type": "code",
   "execution_count": null,
   "id": "8a949a0c",
   "metadata": {},
   "outputs": [],
   "source": [
    "df.drop(A,axis = 1,inplace = True)"
   ]
  },
  {
   "cell_type": "code",
   "execution_count": null,
   "id": "7c21199b",
   "metadata": {},
   "outputs": [],
   "source": [
    "df.head()"
   ]
  },
  {
   "cell_type": "code",
   "execution_count": null,
   "id": "dcfbc6b4",
   "metadata": {},
   "outputs": [],
   "source": [
    "df.corr()"
   ]
  },
  {
   "cell_type": "code",
   "execution_count": null,
   "id": "15cd8381",
   "metadata": {},
   "outputs": [],
   "source": [
    "plt.figure(figsize=(20,15))\n",
    "sns.heatmap(df.corr(),annot = True)"
   ]
  },
  {
   "cell_type": "code",
   "execution_count": null,
   "id": "8dd846da",
   "metadata": {},
   "outputs": [],
   "source": [
    "#marital status and stock option level shows very neg correleation with eachother\n",
    "# monthly income and job level shows very strong correlation with eachother\n",
    "#perecent salary hike and performance rating shows the multicollinearty\n",
    "#years at company ,years in cureent role shows the strong correlation with each other\n",
    "#total working years and monthly income shows the strong correlation \n",
    "#job role and department shows the strong correlation with eachother \n",
    "#years in currentrole have also very strong correlation with years since last promotion,years with curr manager \n",
    "\n",
    "\n",
    "\n",
    "### these column shows the multicolliniarty so we drop these column "
   ]
  },
  {
   "cell_type": "code",
   "execution_count": null,
   "id": "18540a7f",
   "metadata": {},
   "outputs": [],
   "source": [
    "B= [\"JobLevel\",\"PercentSalaryHike\",\"YearsAtCompany\",\"TotalWorkingYears\",\"StockOptionLevel\",\"Department\",\"YearsInCurrentRole\"]"
   ]
  },
  {
   "cell_type": "code",
   "execution_count": null,
   "id": "d11bb437",
   "metadata": {},
   "outputs": [],
   "source": [
    "df.drop(B,axis = 1,inplace = True)"
   ]
  },
  {
   "cell_type": "code",
   "execution_count": null,
   "id": "ad0db4ba",
   "metadata": {},
   "outputs": [],
   "source": [
    "df.head()"
   ]
  },
  {
   "cell_type": "code",
   "execution_count": null,
   "id": "140f0ab7",
   "metadata": {},
   "outputs": [],
   "source": [
    "plt.figure(figsize = (20,15))\n",
    "sns.heatmap(df.corr(),annot=True)\n"
   ]
  },
  {
   "cell_type": "code",
   "execution_count": null,
   "id": "bf2cb8de",
   "metadata": {},
   "outputs": [],
   "source": [
    "df.columns"
   ]
  },
  {
   "cell_type": "code",
   "execution_count": null,
   "id": "7b7a1b9f",
   "metadata": {},
   "outputs": [],
   "source": [
    "df['Attrition'].unique()"
   ]
  },
  {
   "cell_type": "code",
   "execution_count": null,
   "id": "8e1a481f",
   "metadata": {},
   "outputs": [],
   "source": [
    "df['Attrition'].value_counts()"
   ]
  },
  {
   "cell_type": "code",
   "execution_count": null,
   "id": "0085307f",
   "metadata": {},
   "outputs": [],
   "source": [
    "sns.countplot(df['Attrition'])"
   ]
  },
  {
   "cell_type": "markdown",
   "id": "4c7dcdd7",
   "metadata": {},
   "source": [
    "classes are imbalance "
   ]
  },
  {
   "cell_type": "code",
   "execution_count": null,
   "id": "06a9b932",
   "metadata": {},
   "outputs": [],
   "source": [
    "df.columns"
   ]
  },
  {
   "cell_type": "markdown",
   "id": "87515a14",
   "metadata": {},
   "source": [
    "# we compare the distribution of the data with the help of violinplot"
   ]
  },
  {
   "cell_type": "code",
   "execution_count": null,
   "id": "f29ad925",
   "metadata": {},
   "outputs": [],
   "source": [
    "sns.violinplot(df['Age'])"
   ]
  },
  {
   "cell_type": "markdown",
   "id": "b869f738",
   "metadata": {},
   "source": [
    "most of the people are from the age group 34 to 36"
   ]
  },
  {
   "cell_type": "code",
   "execution_count": null,
   "id": "41548f6a",
   "metadata": {},
   "outputs": [],
   "source": [
    "df['Age'].value_counts()"
   ]
  },
  {
   "cell_type": "code",
   "execution_count": null,
   "id": "09d855f0",
   "metadata": {},
   "outputs": [],
   "source": [
    "sns.violinplot(df['Attrition'])"
   ]
  },
  {
   "cell_type": "code",
   "execution_count": null,
   "id": "be0355a5",
   "metadata": {},
   "outputs": [],
   "source": [
    "sns.violinplot(df['BusinessTravel'])"
   ]
  },
  {
   "cell_type": "code",
   "execution_count": null,
   "id": "c9ee384e",
   "metadata": {},
   "outputs": [],
   "source": [
    "df['BusinessTravel'].value_counts()"
   ]
  },
  {
   "cell_type": "markdown",
   "id": "8b80a56f",
   "metadata": {},
   "source": [
    "most of the person travel rarely because 2 indicates travel rarely and 2 has the most value "
   ]
  },
  {
   "cell_type": "code",
   "execution_count": null,
   "id": "1c149875",
   "metadata": {},
   "outputs": [],
   "source": [
    "sns.violinplot(df['DailyRate'])"
   ]
  },
  {
   "cell_type": "code",
   "execution_count": null,
   "id": "985170bb",
   "metadata": {},
   "outputs": [],
   "source": [
    "sns.violinplot(df['DistanceFromHome'])"
   ]
  },
  {
   "cell_type": "code",
   "execution_count": null,
   "id": "eb23aef0",
   "metadata": {},
   "outputs": [],
   "source": [
    "sns.violinplot(df['Education'])"
   ]
  },
  {
   "cell_type": "code",
   "execution_count": null,
   "id": "c7df0379",
   "metadata": {},
   "outputs": [],
   "source": [
    "sns.violinplot(df['EducationField'])"
   ]
  },
  {
   "cell_type": "code",
   "execution_count": null,
   "id": "cef0778d",
   "metadata": {},
   "outputs": [],
   "source": [
    "sns.violinplot(df['EmployeeNumber'])"
   ]
  },
  {
   "cell_type": "code",
   "execution_count": null,
   "id": "391d8172",
   "metadata": {},
   "outputs": [],
   "source": [
    "sns.violinplot(df['EnvironmentSatisfaction'])"
   ]
  },
  {
   "cell_type": "code",
   "execution_count": null,
   "id": "ab51445e",
   "metadata": {},
   "outputs": [],
   "source": [
    "sns.violinplot(df['Gender'])"
   ]
  },
  {
   "cell_type": "code",
   "execution_count": null,
   "id": "962d13d6",
   "metadata": {},
   "outputs": [],
   "source": [
    "sns.violinplot(df['HourlyRate'])"
   ]
  },
  {
   "cell_type": "code",
   "execution_count": null,
   "id": "58264b01",
   "metadata": {},
   "outputs": [],
   "source": [
    "sns.violinplot(df['JobInvolvement'])"
   ]
  },
  {
   "cell_type": "code",
   "execution_count": null,
   "id": "c4861022",
   "metadata": {},
   "outputs": [],
   "source": [
    "sns.violinplot(df['JobRole'])"
   ]
  },
  {
   "cell_type": "code",
   "execution_count": null,
   "id": "8c973648",
   "metadata": {},
   "outputs": [],
   "source": [
    "sns.violinplot(df['JobSatisfaction'])"
   ]
  },
  {
   "cell_type": "code",
   "execution_count": null,
   "id": "38e14b46",
   "metadata": {},
   "outputs": [],
   "source": [
    "sns.violinplot(df['MaritalStatus'])"
   ]
  },
  {
   "cell_type": "code",
   "execution_count": null,
   "id": "6ce69bb8",
   "metadata": {},
   "outputs": [],
   "source": [
    "sns.violinplot(df['MonthlyIncome'])"
   ]
  },
  {
   "cell_type": "code",
   "execution_count": null,
   "id": "c9cdfec6",
   "metadata": {},
   "outputs": [],
   "source": [
    "sns.violinplot(df['MonthlyRate'])"
   ]
  },
  {
   "cell_type": "code",
   "execution_count": null,
   "id": "3ffdd098",
   "metadata": {},
   "outputs": [],
   "source": [
    "sns.violinplot(df['NumCompaniesWorked'])"
   ]
  },
  {
   "cell_type": "code",
   "execution_count": null,
   "id": "4c688960",
   "metadata": {},
   "outputs": [],
   "source": [
    "sns.violinplot(df['OverTime'])"
   ]
  },
  {
   "cell_type": "code",
   "execution_count": null,
   "id": "edaa303c",
   "metadata": {},
   "outputs": [],
   "source": [
    "sns.violinplot(df['PerformanceRating'])"
   ]
  },
  {
   "cell_type": "code",
   "execution_count": null,
   "id": "9086dcd4",
   "metadata": {},
   "outputs": [],
   "source": [
    "sns.violinplot(df['RelationshipSatisfaction'])"
   ]
  },
  {
   "cell_type": "code",
   "execution_count": null,
   "id": "32cd1900",
   "metadata": {},
   "outputs": [],
   "source": [
    "sns.violinplot(df['TrainingTimesLastYear'])"
   ]
  },
  {
   "cell_type": "code",
   "execution_count": null,
   "id": "d437a203",
   "metadata": {},
   "outputs": [],
   "source": [
    "sns.violinplot(df['WorkLifeBalance'])"
   ]
  },
  {
   "cell_type": "code",
   "execution_count": null,
   "id": "b0e05aa6",
   "metadata": {},
   "outputs": [],
   "source": [
    "sns.violinplot(df['YearsSinceLastPromotion'])"
   ]
  },
  {
   "cell_type": "code",
   "execution_count": null,
   "id": "9a16e195",
   "metadata": {},
   "outputs": [],
   "source": [
    "sns.violinplot(df['YearsWithCurrManager'])"
   ]
  },
  {
   "cell_type": "markdown",
   "id": "88eb4776",
   "metadata": {},
   "source": [
    "# now we check the realtion of each column  with target column with the help of scater,relation,regression,lineplot "
   ]
  },
  {
   "cell_type": "code",
   "execution_count": null,
   "id": "f39fcc4e",
   "metadata": {},
   "outputs": [],
   "source": [
    "sns.scatterplot(x='Attrition',y='Age',data= df)"
   ]
  },
  {
   "cell_type": "code",
   "execution_count": null,
   "id": "bb40f366",
   "metadata": {},
   "outputs": [],
   "source": [
    "sns.relplot(x='Attrition',y='Age',data= df)"
   ]
  },
  {
   "cell_type": "code",
   "execution_count": null,
   "id": "c2642c3f",
   "metadata": {},
   "outputs": [],
   "source": [
    "sns.regplot(x='Attrition',y='Age',data= df)"
   ]
  },
  {
   "cell_type": "code",
   "execution_count": null,
   "id": "8a9f5524",
   "metadata": {},
   "outputs": [],
   "source": [
    "sns.lineplot(x='Attrition',y='Age',data= df)"
   ]
  },
  {
   "cell_type": "code",
   "execution_count": null,
   "id": "469c963c",
   "metadata": {},
   "outputs": [],
   "source": [
    "sns.scatterplot(x='Age',y='Attrition',data = df)"
   ]
  },
  {
   "cell_type": "code",
   "execution_count": null,
   "id": "e610302c",
   "metadata": {},
   "outputs": [],
   "source": [
    "sns.scatterplot(x='BusinessTravel',y='Attrition',data = df)"
   ]
  },
  {
   "cell_type": "code",
   "execution_count": null,
   "id": "25c15eb9",
   "metadata": {},
   "outputs": [],
   "source": [
    "sns.relplot(x='BusinessTravel',y='Attrition',data = df)"
   ]
  },
  {
   "cell_type": "code",
   "execution_count": null,
   "id": "af2d14b6",
   "metadata": {},
   "outputs": [],
   "source": [
    "sns.lineplot(x='BusinessTravel',y='Attrition',data = df)"
   ]
  },
  {
   "cell_type": "code",
   "execution_count": null,
   "id": "b5a68de6",
   "metadata": {},
   "outputs": [],
   "source": [
    "sns.regplot(x='BusinessTravel',y='Attrition',data = df)"
   ]
  },
  {
   "cell_type": "code",
   "execution_count": null,
   "id": "32e1d165",
   "metadata": {},
   "outputs": [],
   "source": [
    "sns.scatterplot(x='DailyRate',y='Attrition',data = df)"
   ]
  },
  {
   "cell_type": "code",
   "execution_count": null,
   "id": "177adb95",
   "metadata": {},
   "outputs": [],
   "source": [
    "sns.lineplot(x='DailyRate',y='Attrition',data = df)"
   ]
  },
  {
   "cell_type": "code",
   "execution_count": null,
   "id": "a23c0356",
   "metadata": {},
   "outputs": [],
   "source": [
    "sns.relplot(x='DailyRate',y='Attrition',data = df)"
   ]
  },
  {
   "cell_type": "code",
   "execution_count": null,
   "id": "0e7359f6",
   "metadata": {},
   "outputs": [],
   "source": [
    "sns.regplot(x='DailyRate',y='Attrition',data = df)"
   ]
  },
  {
   "cell_type": "code",
   "execution_count": null,
   "id": "f5b7694c",
   "metadata": {},
   "outputs": [],
   "source": [
    "sns.scatterplot(x='DistanceFromHome',y='Attrition',data = df)"
   ]
  },
  {
   "cell_type": "code",
   "execution_count": null,
   "id": "17d4276c",
   "metadata": {},
   "outputs": [],
   "source": [
    "sns.lineplot(x='DistanceFromHome',y='Attrition',data = df)"
   ]
  },
  {
   "cell_type": "code",
   "execution_count": null,
   "id": "909aa5fc",
   "metadata": {},
   "outputs": [],
   "source": [
    "sns.relplot(x='DistanceFromHome',y='Attrition',data = df)"
   ]
  },
  {
   "cell_type": "code",
   "execution_count": null,
   "id": "7ed8b2ef",
   "metadata": {},
   "outputs": [],
   "source": [
    "sns.regplot(x='DistanceFromHome',y='Attrition',data = df)"
   ]
  },
  {
   "cell_type": "code",
   "execution_count": null,
   "id": "7eb7bc00",
   "metadata": {},
   "outputs": [],
   "source": [
    "sns.scatterplot(x='Education',y='Attrition',data = df)"
   ]
  },
  {
   "cell_type": "code",
   "execution_count": null,
   "id": "32d892da",
   "metadata": {},
   "outputs": [],
   "source": [
    "sns.lineplot(x='Education',y='Attrition',data = df)"
   ]
  },
  {
   "cell_type": "code",
   "execution_count": null,
   "id": "1c2f7880",
   "metadata": {},
   "outputs": [],
   "source": [
    "sns.regplot(x='Education',y='Attrition',data = df)"
   ]
  },
  {
   "cell_type": "code",
   "execution_count": null,
   "id": "81f69c05",
   "metadata": {},
   "outputs": [],
   "source": [
    "sns.relplot(x='Education',y='Attrition',data = df)"
   ]
  },
  {
   "cell_type": "code",
   "execution_count": null,
   "id": "d52648c5",
   "metadata": {},
   "outputs": [],
   "source": [
    "sns.scatterplot(x='EducationField',y='Attrition',data = df)"
   ]
  },
  {
   "cell_type": "code",
   "execution_count": null,
   "id": "25084fd3",
   "metadata": {},
   "outputs": [],
   "source": [
    "sns.lineplot(x='EducationField',y='Attrition',data = df)"
   ]
  },
  {
   "cell_type": "code",
   "execution_count": null,
   "id": "288a41ec",
   "metadata": {},
   "outputs": [],
   "source": [
    "sns.regplot(x='EducationField',y='Attrition',data = df)"
   ]
  },
  {
   "cell_type": "code",
   "execution_count": null,
   "id": "8211f3c1",
   "metadata": {},
   "outputs": [],
   "source": [
    "sns.relplot(x='EducationField',y='Attrition',data = df)"
   ]
  },
  {
   "cell_type": "code",
   "execution_count": null,
   "id": "c2de1ce6",
   "metadata": {},
   "outputs": [],
   "source": [
    "sns.scatterplot(x='EmployeeNumber',y='Attrition',data = df)"
   ]
  },
  {
   "cell_type": "code",
   "execution_count": null,
   "id": "70eb5155",
   "metadata": {},
   "outputs": [],
   "source": [
    "sns.relplot(x='EmployeeNumber',y='Attrition',data = df)"
   ]
  },
  {
   "cell_type": "code",
   "execution_count": null,
   "id": "75ee9001",
   "metadata": {},
   "outputs": [],
   "source": [
    "sns.lineplot(x='EmployeeNumber',y='Attrition',data = df)"
   ]
  },
  {
   "cell_type": "code",
   "execution_count": null,
   "id": "983e659c",
   "metadata": {},
   "outputs": [],
   "source": [
    "sns.regplot(x='EmployeeNumber',y='Attrition',data = df)"
   ]
  },
  {
   "cell_type": "code",
   "execution_count": null,
   "id": "f7a48b4b",
   "metadata": {},
   "outputs": [],
   "source": [
    "sns.scatterplot(x='EnvironmentSatisfaction',y='Attrition',data = df)"
   ]
  },
  {
   "cell_type": "code",
   "execution_count": null,
   "id": "7864c325",
   "metadata": {},
   "outputs": [],
   "source": [
    "sns.relplot(x='EnvironmentSatisfaction',y='Attrition',data = df)"
   ]
  },
  {
   "cell_type": "code",
   "execution_count": null,
   "id": "332c267d",
   "metadata": {},
   "outputs": [],
   "source": [
    "sns.lineplot(x='EnvironmentSatisfaction',y='Attrition',data = df)"
   ]
  },
  {
   "cell_type": "code",
   "execution_count": null,
   "id": "2d9bc52c",
   "metadata": {},
   "outputs": [],
   "source": [
    "sns.regplot(x='EnvironmentSatisfaction',y='Attrition',data = df)"
   ]
  },
  {
   "cell_type": "code",
   "execution_count": null,
   "id": "255a3455",
   "metadata": {},
   "outputs": [],
   "source": [
    "sns.scatterplot(x='Gender',y='Attrition',data = df)"
   ]
  },
  {
   "cell_type": "code",
   "execution_count": null,
   "id": "6e71dc4e",
   "metadata": {},
   "outputs": [],
   "source": [
    "sns.relplot(x='Gender',y='Attrition',data = df)"
   ]
  },
  {
   "cell_type": "code",
   "execution_count": null,
   "id": "a1c63d6d",
   "metadata": {},
   "outputs": [],
   "source": [
    "sns.regplot(x='Gender',y='Attrition',data = df)"
   ]
  },
  {
   "cell_type": "code",
   "execution_count": null,
   "id": "72691f50",
   "metadata": {},
   "outputs": [],
   "source": [
    "sns.lineplot(x='Gender',y='Attrition',data = df)"
   ]
  },
  {
   "cell_type": "code",
   "execution_count": null,
   "id": "b4cea6cb",
   "metadata": {},
   "outputs": [],
   "source": [
    "sns.scatterplot(x='HourlyRate',y='Attrition',data = df)"
   ]
  },
  {
   "cell_type": "code",
   "execution_count": null,
   "id": "1f2f9562",
   "metadata": {},
   "outputs": [],
   "source": [
    "sns.relplot(x='HourlyRate',y='Attrition',data = df)"
   ]
  },
  {
   "cell_type": "code",
   "execution_count": null,
   "id": "a17dabdf",
   "metadata": {},
   "outputs": [],
   "source": [
    "sns.regplot(x='HourlyRate',y='Attrition',data = df)"
   ]
  },
  {
   "cell_type": "code",
   "execution_count": null,
   "id": "95d764ce",
   "metadata": {},
   "outputs": [],
   "source": [
    "sns.lineplot(x='HourlyRate',y='Attrition',data = df)"
   ]
  },
  {
   "cell_type": "code",
   "execution_count": null,
   "id": "a3f14cbe",
   "metadata": {},
   "outputs": [],
   "source": [
    "sns.scatterplot(x='JobInvolvement',y='Attrition',data = df)"
   ]
  },
  {
   "cell_type": "code",
   "execution_count": null,
   "id": "7f3f8bb8",
   "metadata": {},
   "outputs": [],
   "source": [
    "sns.lineplot(x='JobInvolvement',y='Attrition',data = df)"
   ]
  },
  {
   "cell_type": "code",
   "execution_count": null,
   "id": "d123e19e",
   "metadata": {},
   "outputs": [],
   "source": [
    "sns.regplot(x='JobInvolvement',y='Attrition',data = df)"
   ]
  },
  {
   "cell_type": "code",
   "execution_count": null,
   "id": "dce28663",
   "metadata": {},
   "outputs": [],
   "source": [
    "sns.relplot(x='JobInvolvement',y='Attrition',data = df)"
   ]
  },
  {
   "cell_type": "code",
   "execution_count": null,
   "id": "230d26b9",
   "metadata": {},
   "outputs": [],
   "source": [
    "df.columns"
   ]
  },
  {
   "cell_type": "code",
   "execution_count": null,
   "id": "e3253df2",
   "metadata": {},
   "outputs": [],
   "source": [
    "sns.scatterplot(x='JobRole',y='Attrition',data = df)"
   ]
  },
  {
   "cell_type": "code",
   "execution_count": null,
   "id": "312ab035",
   "metadata": {},
   "outputs": [],
   "source": [
    "sns.relplot(x='JobRole',y='Attrition',data = df)"
   ]
  },
  {
   "cell_type": "code",
   "execution_count": null,
   "id": "0e7388b6",
   "metadata": {},
   "outputs": [],
   "source": [
    "sns.regplot(x='JobRole',y='Attrition',data = df)"
   ]
  },
  {
   "cell_type": "code",
   "execution_count": null,
   "id": "beb66a30",
   "metadata": {},
   "outputs": [],
   "source": [
    "sns.lineplot(x='JobRole',y='Attrition',data = df)"
   ]
  },
  {
   "cell_type": "code",
   "execution_count": null,
   "id": "9a3e4cf6",
   "metadata": {},
   "outputs": [],
   "source": [
    "sns.scatterplot(x='JobSatisfaction',y='Attrition',data = df)"
   ]
  },
  {
   "cell_type": "code",
   "execution_count": null,
   "id": "6c33c10e",
   "metadata": {},
   "outputs": [],
   "source": [
    "sns.lineplot(x='JobSatisfaction',y='Attrition',data = df)"
   ]
  },
  {
   "cell_type": "code",
   "execution_count": null,
   "id": "e61ee387",
   "metadata": {},
   "outputs": [],
   "source": [
    "sns.regplot(x='JobSatisfaction',y='Attrition',data = df)"
   ]
  },
  {
   "cell_type": "code",
   "execution_count": null,
   "id": "3fca1ba5",
   "metadata": {},
   "outputs": [],
   "source": [
    "sns.relplot(x='JobSatisfaction',y='Attrition',data = df)"
   ]
  },
  {
   "cell_type": "code",
   "execution_count": null,
   "id": "706e2391",
   "metadata": {},
   "outputs": [],
   "source": [
    "sns.scatterplot(x='MaritalStatus',y='Attrition',data = df)"
   ]
  },
  {
   "cell_type": "code",
   "execution_count": null,
   "id": "036a63a2",
   "metadata": {},
   "outputs": [],
   "source": [
    "sns.lineplot(x='MaritalStatus',y='Attrition',data = df)"
   ]
  },
  {
   "cell_type": "code",
   "execution_count": null,
   "id": "c6451e76",
   "metadata": {},
   "outputs": [],
   "source": [
    "sns.relplot(x='MaritalStatus',y='Attrition',data = df)"
   ]
  },
  {
   "cell_type": "code",
   "execution_count": null,
   "id": "d3d44633",
   "metadata": {},
   "outputs": [],
   "source": [
    "sns.regplot(x='MaritalStatus',y='Attrition',data = df)"
   ]
  },
  {
   "cell_type": "code",
   "execution_count": null,
   "id": "a2b39369",
   "metadata": {},
   "outputs": [],
   "source": [
    "sns.scatterplot(x='MonthlyIncome',y='Attrition',data = df)"
   ]
  },
  {
   "cell_type": "code",
   "execution_count": null,
   "id": "e00be17e",
   "metadata": {},
   "outputs": [],
   "source": [
    "sns.lineplot(x='MonthlyIncome',y='Attrition',data = df)"
   ]
  },
  {
   "cell_type": "code",
   "execution_count": null,
   "id": "71a3c99a",
   "metadata": {},
   "outputs": [],
   "source": [
    "sns.regplot(x='MonthlyIncome',y='Attrition',data = df)"
   ]
  },
  {
   "cell_type": "code",
   "execution_count": null,
   "id": "71c60ba8",
   "metadata": {},
   "outputs": [],
   "source": [
    "sns.relplot(x='MonthlyIncome',y='Attrition',data = df)"
   ]
  },
  {
   "cell_type": "code",
   "execution_count": null,
   "id": "1a5759a8",
   "metadata": {},
   "outputs": [],
   "source": [
    "sns.scatterplot(x='MonthlyRate',y='Attrition',data = df)"
   ]
  },
  {
   "cell_type": "code",
   "execution_count": null,
   "id": "959a68a7",
   "metadata": {},
   "outputs": [],
   "source": [
    "sns.regplot(x='MonthlyRate',y='Attrition',data = df)"
   ]
  },
  {
   "cell_type": "code",
   "execution_count": null,
   "id": "440c4549",
   "metadata": {},
   "outputs": [],
   "source": [
    "sns.lineplot(x='MonthlyRate',y='Attrition',data = df)"
   ]
  },
  {
   "cell_type": "code",
   "execution_count": null,
   "id": "dbf53401",
   "metadata": {},
   "outputs": [],
   "source": [
    "sns.relplot(x='MonthlyRate',y='Attrition',data = df)"
   ]
  },
  {
   "cell_type": "code",
   "execution_count": null,
   "id": "19295a1c",
   "metadata": {},
   "outputs": [],
   "source": [
    "sns.scatterplot(x='NumCompaniesWorked',y='Attrition',data = df)"
   ]
  },
  {
   "cell_type": "code",
   "execution_count": null,
   "id": "87a08a09",
   "metadata": {},
   "outputs": [],
   "source": [
    "sns.regplot(x='NumCompaniesWorked',y='Attrition',data = df)"
   ]
  },
  {
   "cell_type": "code",
   "execution_count": null,
   "id": "961b50cd",
   "metadata": {},
   "outputs": [],
   "source": [
    "sns.lineplot(x='NumCompaniesWorked',y='Attrition',data = df)"
   ]
  },
  {
   "cell_type": "code",
   "execution_count": null,
   "id": "7d52c71d",
   "metadata": {},
   "outputs": [],
   "source": [
    "sns.relplot(x='NumCompaniesWorked',y='Attrition',data = df)"
   ]
  },
  {
   "cell_type": "code",
   "execution_count": null,
   "id": "86b6288b",
   "metadata": {},
   "outputs": [],
   "source": [
    "sns.scatterplot(x='OverTime',y='Attrition',data = df)"
   ]
  },
  {
   "cell_type": "code",
   "execution_count": null,
   "id": "0a2bd783",
   "metadata": {},
   "outputs": [],
   "source": [
    "sns.regplot(x='OverTime',y='Attrition',data = df)"
   ]
  },
  {
   "cell_type": "code",
   "execution_count": null,
   "id": "775e8602",
   "metadata": {},
   "outputs": [],
   "source": [
    "sns.lineplot(x='OverTime',y='Attrition',data = df)"
   ]
  },
  {
   "cell_type": "code",
   "execution_count": null,
   "id": "e8a54342",
   "metadata": {},
   "outputs": [],
   "source": [
    "sns.relplot(x='OverTime',y='Attrition',data = df)"
   ]
  },
  {
   "cell_type": "code",
   "execution_count": null,
   "id": "cb14d9a2",
   "metadata": {},
   "outputs": [],
   "source": [
    "sns.scatterplot(x='PerformanceRating',y='Attrition',data = df)"
   ]
  },
  {
   "cell_type": "code",
   "execution_count": null,
   "id": "cba7ead5",
   "metadata": {},
   "outputs": [],
   "source": [
    "sns.scatterplot(x='RelationshipSatisfaction',y='Attrition',data = df)"
   ]
  },
  {
   "cell_type": "code",
   "execution_count": null,
   "id": "652ed91f",
   "metadata": {},
   "outputs": [],
   "source": [
    "sns.relplot(x='RelationshipSatisfaction',y='Attrition',data = df)"
   ]
  },
  {
   "cell_type": "code",
   "execution_count": null,
   "id": "0a78ccbd",
   "metadata": {},
   "outputs": [],
   "source": [
    "sns.regplot(x='RelationshipSatisfaction',y='Attrition',data = df)"
   ]
  },
  {
   "cell_type": "code",
   "execution_count": null,
   "id": "c8cc98ef",
   "metadata": {},
   "outputs": [],
   "source": [
    "sns.lineplot(x='RelationshipSatisfaction',y='Attrition',data = df)"
   ]
  },
  {
   "cell_type": "code",
   "execution_count": null,
   "id": "b9181acf",
   "metadata": {},
   "outputs": [],
   "source": [
    "sns.scatterplot(x='TrainingTimesLastYear',y='Attrition',data = df)"
   ]
  },
  {
   "cell_type": "code",
   "execution_count": null,
   "id": "fdcea62e",
   "metadata": {},
   "outputs": [],
   "source": [
    "sns.relplot(x='TrainingTimesLastYear',y='Attrition',data = df)"
   ]
  },
  {
   "cell_type": "code",
   "execution_count": null,
   "id": "db96aa2f",
   "metadata": {},
   "outputs": [],
   "source": [
    "sns.lineplot(x='TrainingTimesLastYear',y='Attrition',data = df)"
   ]
  },
  {
   "cell_type": "code",
   "execution_count": null,
   "id": "770ff147",
   "metadata": {},
   "outputs": [],
   "source": [
    "sns.regplot(x='TrainingTimesLastYear',y='Attrition',data = df)"
   ]
  },
  {
   "cell_type": "code",
   "execution_count": null,
   "id": "f5e2daee",
   "metadata": {},
   "outputs": [],
   "source": [
    "sns.scatterplot(x='WorkLifeBalance',y='Attrition',data = df)"
   ]
  },
  {
   "cell_type": "code",
   "execution_count": null,
   "id": "b878b26e",
   "metadata": {},
   "outputs": [],
   "source": [
    "sns.regplot(x='WorkLifeBalance',y='Attrition',data = df)"
   ]
  },
  {
   "cell_type": "code",
   "execution_count": null,
   "id": "293eb2fb",
   "metadata": {},
   "outputs": [],
   "source": [
    "sns.relplot(x='WorkLifeBalance',y='Attrition',data = df)"
   ]
  },
  {
   "cell_type": "code",
   "execution_count": null,
   "id": "69c6c9c7",
   "metadata": {},
   "outputs": [],
   "source": [
    "sns.lineplot(x='WorkLifeBalance',y='Attrition',data = df)"
   ]
  },
  {
   "cell_type": "code",
   "execution_count": null,
   "id": "7ea168be",
   "metadata": {},
   "outputs": [],
   "source": [
    "sns.scatterplot(x='YearsSinceLastPromotion',y='Attrition',data = df)"
   ]
  },
  {
   "cell_type": "code",
   "execution_count": null,
   "id": "1d62a8c8",
   "metadata": {},
   "outputs": [],
   "source": [
    "sns.regplot(x='YearsSinceLastPromotion',y='Attrition',data = df)"
   ]
  },
  {
   "cell_type": "code",
   "execution_count": null,
   "id": "d12a8ec7",
   "metadata": {},
   "outputs": [],
   "source": [
    "sns.relplot(x='YearsSinceLastPromotion',y='Attrition',data = df)"
   ]
  },
  {
   "cell_type": "code",
   "execution_count": null,
   "id": "afa776f1",
   "metadata": {},
   "outputs": [],
   "source": [
    "sns.lineplot(x='YearsSinceLastPromotion',y='Attrition',data = df)"
   ]
  },
  {
   "cell_type": "code",
   "execution_count": null,
   "id": "f09d851c",
   "metadata": {},
   "outputs": [],
   "source": [
    "sns.scatterplot(x='YearsWithCurrManager',y='Attrition',data = df)"
   ]
  },
  {
   "cell_type": "code",
   "execution_count": null,
   "id": "bd334c3e",
   "metadata": {},
   "outputs": [],
   "source": [
    "sns.regplot(x='YearsWithCurrManager',y='Attrition',data = df)"
   ]
  },
  {
   "cell_type": "code",
   "execution_count": null,
   "id": "03350c9c",
   "metadata": {},
   "outputs": [],
   "source": [
    "sns.lineplot(x='YearsWithCurrManager',y='Attrition',data = df)"
   ]
  },
  {
   "cell_type": "code",
   "execution_count": null,
   "id": "b1bd21c5",
   "metadata": {},
   "outputs": [],
   "source": [
    "sns.relplot(x='YearsWithCurrManager',y='Attrition',data = df)"
   ]
  },
  {
   "cell_type": "code",
   "execution_count": null,
   "id": "387cc6c5",
   "metadata": {},
   "outputs": [],
   "source": [
    "sns.scatterplot(x='Age',y='Attrition',hue='BusinessTravel',data=df)"
   ]
  },
  {
   "cell_type": "code",
   "execution_count": null,
   "id": "4bc0adc2",
   "metadata": {},
   "outputs": [],
   "source": [
    "sns.scatterplot(x='Age',y='Attrition',hue='DailyRate',data=df)"
   ]
  },
  {
   "cell_type": "code",
   "execution_count": null,
   "id": "371a7849",
   "metadata": {},
   "outputs": [],
   "source": [
    "sns.scatterplot(x='Age',y='Attrition',hue='DistanceFromHome',data=df)"
   ]
  },
  {
   "cell_type": "code",
   "execution_count": null,
   "id": "f4092aab",
   "metadata": {},
   "outputs": [],
   "source": [
    "sns.scatterplot(x='Age',y='Attrition',hue='EducationField',data=df)"
   ]
  },
  {
   "cell_type": "code",
   "execution_count": null,
   "id": "6fbe81eb",
   "metadata": {},
   "outputs": [],
   "source": [
    "sns.scatterplot(x='Age',y='Attrition',hue='EmployeeNumber',data=df)"
   ]
  },
  {
   "cell_type": "code",
   "execution_count": null,
   "id": "c24a331b",
   "metadata": {},
   "outputs": [],
   "source": [
    "sns.scatterplot(x='Age',y='Attrition',hue='EnvironmentSatisfaction',data=df)"
   ]
  },
  {
   "cell_type": "code",
   "execution_count": null,
   "id": "f8f2730a",
   "metadata": {},
   "outputs": [],
   "source": [
    "sns.scatterplot(x='Age',y='Attrition',hue='Gender',data=df)"
   ]
  },
  {
   "cell_type": "code",
   "execution_count": null,
   "id": "ca8dc909",
   "metadata": {},
   "outputs": [],
   "source": [
    "sns.scatterplot(x='Age',y='Attrition',hue='HourlyRate',data=df)"
   ]
  },
  {
   "cell_type": "code",
   "execution_count": null,
   "id": "87a275f6",
   "metadata": {},
   "outputs": [],
   "source": [
    "sns.scatterplot(x='Age',y='Attrition',hue='JobInvolvement',data=df)"
   ]
  },
  {
   "cell_type": "code",
   "execution_count": null,
   "id": "889d7210",
   "metadata": {},
   "outputs": [],
   "source": [
    "sns.scatterplot(x='Age',y='Attrition',hue='JobRole',data=df)"
   ]
  },
  {
   "cell_type": "code",
   "execution_count": null,
   "id": "4ce8ac4f",
   "metadata": {},
   "outputs": [],
   "source": [
    "sns.scatterplot(x='Age',y='Attrition',hue='JobSatisfaction',data=df)"
   ]
  },
  {
   "cell_type": "code",
   "execution_count": null,
   "id": "3ee1717f",
   "metadata": {},
   "outputs": [],
   "source": [
    "sns.scatterplot(x='Age',y='Attrition',hue='MaritalStatus',data=df)"
   ]
  },
  {
   "cell_type": "code",
   "execution_count": null,
   "id": "d0462ee2",
   "metadata": {},
   "outputs": [],
   "source": [
    "sns.scatterplot(x='Age',y='Attrition',hue='MonthlyIncome',data=df)"
   ]
  },
  {
   "cell_type": "code",
   "execution_count": null,
   "id": "d8ea0227",
   "metadata": {},
   "outputs": [],
   "source": [
    "sns.scatterplot(x='Age',y='Attrition',hue='MonthlyRate',data=df)"
   ]
  },
  {
   "cell_type": "code",
   "execution_count": null,
   "id": "dc74f677",
   "metadata": {},
   "outputs": [],
   "source": [
    "sns.scatterplot(x='Age',y='Attrition',hue='NumCompaniesWorked',data=df)"
   ]
  },
  {
   "cell_type": "code",
   "execution_count": null,
   "id": "bd35d9b7",
   "metadata": {},
   "outputs": [],
   "source": [
    "sns.scatterplot(x='Age',y='Attrition',hue='OverTime',data=df)"
   ]
  },
  {
   "cell_type": "code",
   "execution_count": null,
   "id": "a3163d0a",
   "metadata": {},
   "outputs": [],
   "source": [
    "sns.scatterplot(x='Age',y='Attrition',hue='PerformanceRating',data=df)"
   ]
  },
  {
   "cell_type": "code",
   "execution_count": null,
   "id": "a047fd5f",
   "metadata": {},
   "outputs": [],
   "source": [
    "sns.scatterplot(x='Age',y='Attrition',hue='RelationshipSatisfaction',data=df)"
   ]
  },
  {
   "cell_type": "code",
   "execution_count": null,
   "id": "486078bb",
   "metadata": {},
   "outputs": [],
   "source": [
    "sns.scatterplot(x='Age',y='Attrition',hue='TrainingTimesLastYear',data=df)"
   ]
  },
  {
   "cell_type": "code",
   "execution_count": null,
   "id": "a46c1696",
   "metadata": {},
   "outputs": [],
   "source": [
    "sns.scatterplot(x='Age',y='Attrition',hue='WorkLifeBalance',data=df)"
   ]
  },
  {
   "cell_type": "code",
   "execution_count": null,
   "id": "00524e9c",
   "metadata": {},
   "outputs": [],
   "source": [
    "sns.scatterplot(x='Age',y='Attrition',hue='YearsSinceLastPromotion',data=df)"
   ]
  },
  {
   "cell_type": "code",
   "execution_count": null,
   "id": "906ed43c",
   "metadata": {},
   "outputs": [],
   "source": [
    "sns.scatterplot(x='Age',y='Attrition',hue='YearsWithCurrManager',data=df)"
   ]
  },
  {
   "cell_type": "code",
   "execution_count": null,
   "id": "c52cad45",
   "metadata": {},
   "outputs": [],
   "source": [
    "sns.scatterplot(x='BusinessTravel',y='Attrition',hue='DistanceFromHome',data=df)"
   ]
  },
  {
   "cell_type": "code",
   "execution_count": null,
   "id": "ed6c1457",
   "metadata": {},
   "outputs": [],
   "source": [
    "sns.scatterplot(x='BusinessTravel',y='Attrition',hue='Education',data=df)"
   ]
  },
  {
   "cell_type": "code",
   "execution_count": null,
   "id": "fd20a7a7",
   "metadata": {},
   "outputs": [],
   "source": [
    "sns.scatterplot(x='BusinessTravel',y='Attrition',hue='EducationField',data=df)"
   ]
  },
  {
   "cell_type": "code",
   "execution_count": null,
   "id": "517cb31d",
   "metadata": {},
   "outputs": [],
   "source": [
    "sns.scatterplot(x='BusinessTravel',y='Attrition',hue='EmployeeNumber',data=df)"
   ]
  },
  {
   "cell_type": "code",
   "execution_count": null,
   "id": "5e742076",
   "metadata": {},
   "outputs": [],
   "source": [
    "sns.scatterplot(x='BusinessTravel',y='Attrition',hue='EnvironmentSatisfaction',data=df)"
   ]
  },
  {
   "cell_type": "code",
   "execution_count": null,
   "id": "e76a1174",
   "metadata": {},
   "outputs": [],
   "source": [
    "sns.scatterplot(x='BusinessTravel',y='Attrition',hue='Gender',data=df)"
   ]
  },
  {
   "cell_type": "code",
   "execution_count": null,
   "id": "5bf49959",
   "metadata": {},
   "outputs": [],
   "source": [
    "sns.scatterplot(x='BusinessTravel',y='Attrition',hue='HourlyRate',data=df)"
   ]
  },
  {
   "cell_type": "code",
   "execution_count": null,
   "id": "f7c55405",
   "metadata": {},
   "outputs": [],
   "source": [
    "sns.scatterplot(x='BusinessTravel',y='Attrition',hue='JobInvolvement',data=df)"
   ]
  },
  {
   "cell_type": "code",
   "execution_count": null,
   "id": "9a622f63",
   "metadata": {},
   "outputs": [],
   "source": [
    "sns.scatterplot(x='BusinessTravel',y='Attrition',hue='JobRole',data=df)"
   ]
  },
  {
   "cell_type": "code",
   "execution_count": null,
   "id": "eb4516f3",
   "metadata": {},
   "outputs": [],
   "source": [
    "sns.scatterplot(x='BusinessTravel',y='Attrition',hue='MaritalStatus',data=df)"
   ]
  },
  {
   "cell_type": "code",
   "execution_count": null,
   "id": "f12cfc17",
   "metadata": {},
   "outputs": [],
   "source": [
    "sns.scatterplot(x='BusinessTravel',y='Attrition',hue='MonthlyIncome',data=df)"
   ]
  },
  {
   "cell_type": "code",
   "execution_count": null,
   "id": "70e422a2",
   "metadata": {},
   "outputs": [],
   "source": [
    "sns.scatterplot(x='BusinessTravel',y='Attrition',hue='MonthlyRate',data=df)"
   ]
  },
  {
   "cell_type": "code",
   "execution_count": null,
   "id": "eac15dc7",
   "metadata": {},
   "outputs": [],
   "source": [
    "sns.scatterplot(x='BusinessTravel',y='Attrition',hue='NumCompaniesWorked',data=df)"
   ]
  },
  {
   "cell_type": "code",
   "execution_count": null,
   "id": "dad0d1e9",
   "metadata": {},
   "outputs": [],
   "source": [
    "sns.scatterplot(x='BusinessTravel',y='Attrition',hue='OverTime',data=df)"
   ]
  },
  {
   "cell_type": "code",
   "execution_count": null,
   "id": "63cb3bf0",
   "metadata": {},
   "outputs": [],
   "source": [
    "sns.scatterplot(x='BusinessTravel',y='Attrition',hue='PerformanceRating',data=df)"
   ]
  },
  {
   "cell_type": "code",
   "execution_count": null,
   "id": "57920847",
   "metadata": {},
   "outputs": [],
   "source": [
    "sns.scatterplot(x='BusinessTravel',y='Attrition',hue='RelationshipSatisfaction',data=df)"
   ]
  },
  {
   "cell_type": "code",
   "execution_count": null,
   "id": "a10205e7",
   "metadata": {},
   "outputs": [],
   "source": [
    "sns.scatterplot(x='BusinessTravel',y='Attrition',hue='TrainingTimesLastYear',data=df)"
   ]
  },
  {
   "cell_type": "code",
   "execution_count": null,
   "id": "8d9a65f5",
   "metadata": {},
   "outputs": [],
   "source": [
    "sns.scatterplot(x='BusinessTravel',y='Attrition',hue='WorkLifeBalance',data=df)"
   ]
  },
  {
   "cell_type": "code",
   "execution_count": null,
   "id": "8a3bcd99",
   "metadata": {},
   "outputs": [],
   "source": [
    "sns.scatterplot(x='BusinessTravel',y='Attrition',hue='YearsSinceLastPromotion',data=df)"
   ]
  },
  {
   "cell_type": "code",
   "execution_count": null,
   "id": "7de0ab5f",
   "metadata": {},
   "outputs": [],
   "source": [
    "sns.scatterplot(x='BusinessTravel',y='Attrition',hue='YearsWithCurrManager',data=df)"
   ]
  },
  {
   "cell_type": "code",
   "execution_count": null,
   "id": "f2875d50",
   "metadata": {},
   "outputs": [],
   "source": [
    "sns.scatterplot(x='DailyRate',y='Attrition',hue='DistanceFromHome',data=df)"
   ]
  },
  {
   "cell_type": "code",
   "execution_count": null,
   "id": "6ffa5c61",
   "metadata": {},
   "outputs": [],
   "source": [
    "sns.scatterplot(x='DailyRate',y='Attrition',hue='Education',data=df)"
   ]
  },
  {
   "cell_type": "code",
   "execution_count": null,
   "id": "a98450ac",
   "metadata": {},
   "outputs": [],
   "source": [
    "sns.scatterplot(x='DailyRate',y='Attrition',hue='EmployeeNumber',data=df)"
   ]
  },
  {
   "cell_type": "code",
   "execution_count": null,
   "id": "c0a43447",
   "metadata": {},
   "outputs": [],
   "source": [
    "sns.scatterplot(x='DailyRate',y='Attrition',hue='EnvironmentSatisfaction',data=df)"
   ]
  },
  {
   "cell_type": "code",
   "execution_count": null,
   "id": "d3cbaa98",
   "metadata": {},
   "outputs": [],
   "source": [
    "sns.scatterplot(x='DailyRate',y='Attrition',hue='Gender',data=df)"
   ]
  },
  {
   "cell_type": "code",
   "execution_count": null,
   "id": "93ffaf84",
   "metadata": {},
   "outputs": [],
   "source": [
    "sns.scatterplot(x='DailyRate',y='Attrition',hue='HourlyRate',data=df)"
   ]
  },
  {
   "cell_type": "code",
   "execution_count": null,
   "id": "2c52c1aa",
   "metadata": {},
   "outputs": [],
   "source": [
    "sns.scatterplot(x='DailyRate',y='Attrition',hue='JobInvolvement',data=df)"
   ]
  },
  {
   "cell_type": "code",
   "execution_count": null,
   "id": "c57c2caa",
   "metadata": {},
   "outputs": [],
   "source": [
    "sns.scatterplot(x='DailyRate',y='Attrition',hue='JobRole',data=df)"
   ]
  },
  {
   "cell_type": "code",
   "execution_count": null,
   "id": "d92683e3",
   "metadata": {},
   "outputs": [],
   "source": [
    "sns.scatterplot(x='DailyRate',y='Attrition',hue='JobSatisfaction',data=df)"
   ]
  },
  {
   "cell_type": "code",
   "execution_count": null,
   "id": "a91a1227",
   "metadata": {},
   "outputs": [],
   "source": [
    "sns.scatterplot(x='DailyRate',y='Attrition',hue='MaritalStatus',data=df)"
   ]
  },
  {
   "cell_type": "code",
   "execution_count": null,
   "id": "1f1ae31c",
   "metadata": {},
   "outputs": [],
   "source": [
    "sns.scatterplot(x='DailyRate',y='Attrition',hue='MonthlyIncome',data=df)"
   ]
  },
  {
   "cell_type": "code",
   "execution_count": null,
   "id": "91e307e0",
   "metadata": {},
   "outputs": [],
   "source": [
    "sns.scatterplot(x='DailyRate',y='Attrition',hue='MonthlyRate',data=df)"
   ]
  },
  {
   "cell_type": "code",
   "execution_count": null,
   "id": "9ee6f5dc",
   "metadata": {},
   "outputs": [],
   "source": [
    "sns.scatterplot(x='DailyRate',y='Attrition',hue='NumCompaniesWorked',data=df)"
   ]
  },
  {
   "cell_type": "code",
   "execution_count": null,
   "id": "bf4d3996",
   "metadata": {},
   "outputs": [],
   "source": [
    "sns.scatterplot(x='DailyRate',y='Attrition',hue='OverTime',data=df)"
   ]
  },
  {
   "cell_type": "code",
   "execution_count": null,
   "id": "a62e74f6",
   "metadata": {},
   "outputs": [],
   "source": [
    "sns.scatterplot(x='DailyRate',y='Attrition',hue='PerformanceRating',data=df)"
   ]
  },
  {
   "cell_type": "code",
   "execution_count": null,
   "id": "95c310b3",
   "metadata": {},
   "outputs": [],
   "source": [
    "sns.scatterplot(x='DailyRate',y='Attrition',hue='RelationshipSatisfaction',data=df)"
   ]
  },
  {
   "cell_type": "code",
   "execution_count": null,
   "id": "46a8f3d1",
   "metadata": {},
   "outputs": [],
   "source": [
    "sns.scatterplot(x='DailyRate',y='Attrition',hue='TrainingTimesLastYear',data=df)"
   ]
  },
  {
   "cell_type": "code",
   "execution_count": null,
   "id": "17f6b1d9",
   "metadata": {},
   "outputs": [],
   "source": [
    "sns.scatterplot(x='DailyRate',y='Attrition',hue='WorkLifeBalance',data=df)"
   ]
  },
  {
   "cell_type": "code",
   "execution_count": null,
   "id": "2feee42b",
   "metadata": {},
   "outputs": [],
   "source": [
    "sns.scatterplot(x='DailyRate',y='Attrition',hue='YearsSinceLastPromotion',data=df)"
   ]
  },
  {
   "cell_type": "code",
   "execution_count": null,
   "id": "d478afaa",
   "metadata": {},
   "outputs": [],
   "source": [
    "sns.scatterplot(x='DailyRate',y='Attrition',hue='YearsWithCurrManager',data=df)"
   ]
  },
  {
   "cell_type": "code",
   "execution_count": null,
   "id": "fb571cf7",
   "metadata": {},
   "outputs": [],
   "source": [
    "sns.scatterplot(x='Education',y='Attrition',hue='DistanceFromHome',data=df)"
   ]
  },
  {
   "cell_type": "code",
   "execution_count": null,
   "id": "19ca7aa6",
   "metadata": {},
   "outputs": [],
   "source": [
    "sns.scatterplot(x='Education',y='Attrition',hue='EducationField',data=df)"
   ]
  },
  {
   "cell_type": "code",
   "execution_count": null,
   "id": "2fdbc5e7",
   "metadata": {},
   "outputs": [],
   "source": [
    "sns.scatterplot(x='Education',y='Attrition',hue='EmployeeNumber',data=df)"
   ]
  },
  {
   "cell_type": "code",
   "execution_count": null,
   "id": "134d0b58",
   "metadata": {},
   "outputs": [],
   "source": [
    "sns.scatterplot(x='Education',y='Attrition',hue='EnvironmentSatisfaction',data=df)"
   ]
  },
  {
   "cell_type": "code",
   "execution_count": null,
   "id": "d5e794bc",
   "metadata": {},
   "outputs": [],
   "source": [
    "sns.scatterplot(x='Education',y='Attrition',hue='Gender',data=df)"
   ]
  },
  {
   "cell_type": "code",
   "execution_count": null,
   "id": "27fb4414",
   "metadata": {},
   "outputs": [],
   "source": [
    "sns.scatterplot(x='Education',y='Attrition',hue='HourlyRate',data=df)"
   ]
  },
  {
   "cell_type": "code",
   "execution_count": null,
   "id": "d49a9e21",
   "metadata": {},
   "outputs": [],
   "source": [
    "sns.scatterplot(x='Education',y='Attrition',hue='JobInvolvement',data=df)"
   ]
  },
  {
   "cell_type": "code",
   "execution_count": null,
   "id": "f7b8ced0",
   "metadata": {},
   "outputs": [],
   "source": [
    "sns.scatterplot(x='Education',y='Attrition',hue='JobRole',data=df)"
   ]
  },
  {
   "cell_type": "code",
   "execution_count": null,
   "id": "e50bfd6a",
   "metadata": {},
   "outputs": [],
   "source": [
    "sns.scatterplot(x='Education',y='Attrition',hue='JobSatisfaction',data=df)"
   ]
  },
  {
   "cell_type": "code",
   "execution_count": null,
   "id": "a1b12d79",
   "metadata": {},
   "outputs": [],
   "source": [
    "sns.scatterplot(x='Education',y='Attrition',hue='MaritalStatus',data=df)"
   ]
  },
  {
   "cell_type": "code",
   "execution_count": null,
   "id": "995d5659",
   "metadata": {},
   "outputs": [],
   "source": [
    "sns.scatterplot(x='Education',y='Attrition',hue='MonthlyIncome',data=df)"
   ]
  },
  {
   "cell_type": "code",
   "execution_count": null,
   "id": "b2910d18",
   "metadata": {},
   "outputs": [],
   "source": [
    "sns.scatterplot(x='Education',y='Attrition',hue='MonthlyRate',data=df)"
   ]
  },
  {
   "cell_type": "code",
   "execution_count": null,
   "id": "d2c70430",
   "metadata": {},
   "outputs": [],
   "source": [
    "sns.scatterplot(x='Education',y='Attrition',hue='NumCompaniesWorked',data=df)"
   ]
  },
  {
   "cell_type": "code",
   "execution_count": null,
   "id": "c2140a69",
   "metadata": {},
   "outputs": [],
   "source": [
    "sns.scatterplot(x='Education',y='Attrition',hue='OverTime',data=df)"
   ]
  },
  {
   "cell_type": "code",
   "execution_count": null,
   "id": "e173eac6",
   "metadata": {},
   "outputs": [],
   "source": [
    "sns.scatterplot(x='Education',y='Attrition',hue='PerformanceRating',data=df)"
   ]
  },
  {
   "cell_type": "code",
   "execution_count": null,
   "id": "64407dd2",
   "metadata": {},
   "outputs": [],
   "source": [
    "sns.scatterplot(x='Education',y='Attrition',hue='RelationshipSatisfaction',data=df)"
   ]
  },
  {
   "cell_type": "code",
   "execution_count": null,
   "id": "8ed02143",
   "metadata": {},
   "outputs": [],
   "source": [
    "sns.scatterplot(x='Education',y='Attrition',hue='TrainingTimesLastYear',data=df)"
   ]
  },
  {
   "cell_type": "code",
   "execution_count": null,
   "id": "6cfc6e32",
   "metadata": {},
   "outputs": [],
   "source": [
    "sns.scatterplot(x='Education',y='Attrition',hue='WorkLifeBalance',data=df)"
   ]
  },
  {
   "cell_type": "code",
   "execution_count": null,
   "id": "28c99f4d",
   "metadata": {},
   "outputs": [],
   "source": [
    "sns.scatterplot(x='Education',y='Attrition',hue='YearsSinceLastPromotion',data=df)"
   ]
  },
  {
   "cell_type": "code",
   "execution_count": null,
   "id": "5eba5bf2",
   "metadata": {},
   "outputs": [],
   "source": [
    "sns.scatterplot(x='Education',y='Attrition',hue='YearsWithCurrManager',data=df)"
   ]
  },
  {
   "cell_type": "code",
   "execution_count": null,
   "id": "b60856b1",
   "metadata": {},
   "outputs": [],
   "source": [
    "sns.lineplot(x='Education',y='Attrition',hue='YearsWithCurrManager',data=df)"
   ]
  },
  {
   "cell_type": "code",
   "execution_count": null,
   "id": "bb0d06a3",
   "metadata": {},
   "outputs": [],
   "source": [
    "sns.scatterplot(x='EducationField',y='Attrition',hue='EmployeeNumber',data = df)"
   ]
  },
  {
   "cell_type": "code",
   "execution_count": null,
   "id": "f99e9dfc",
   "metadata": {},
   "outputs": [],
   "source": [
    "sns.scatterplot(x='EnvironmentSatisfaction',y='Attrition',hue='Gender',data = df)"
   ]
  },
  {
   "cell_type": "code",
   "execution_count": null,
   "id": "2195a70b",
   "metadata": {},
   "outputs": [],
   "source": [
    "sns.scatterplot(x='EducationField',y='Attrition',hue='HourlyRate',data = df)"
   ]
  },
  {
   "cell_type": "code",
   "execution_count": null,
   "id": "089f57d1",
   "metadata": {},
   "outputs": [],
   "source": [
    "sns.scatterplot(x='HourlyRate',y='Attrition',hue='JobRole',data = df)"
   ]
  },
  {
   "cell_type": "code",
   "execution_count": null,
   "id": "92f6fd1c",
   "metadata": {},
   "outputs": [],
   "source": [
    "sns.scatterplot(x='MaritalStatus',y='Attrition',hue='Gender',data = df)"
   ]
  },
  {
   "cell_type": "code",
   "execution_count": null,
   "id": "6a3c8451",
   "metadata": {},
   "outputs": [],
   "source": [
    "sns.scatterplot(x='MonthlyIncome',y='Attrition',hue='NumCompaniesWorked',data = df)"
   ]
  },
  {
   "cell_type": "code",
   "execution_count": null,
   "id": "cd3c8f0a",
   "metadata": {},
   "outputs": [],
   "source": [
    "sns.scatterplot(x='RelationshipSatisfaction',y='Attrition',hue='MonthlyRate',data = df)"
   ]
  },
  {
   "cell_type": "code",
   "execution_count": null,
   "id": "6bd662e2",
   "metadata": {},
   "outputs": [],
   "source": [
    "sns.scatterplot(x='TrainingTimesLastYear',y='Attrition',hue='YearsSinceLastPromotion',data = df)"
   ]
  },
  {
   "cell_type": "code",
   "execution_count": null,
   "id": "2cc77a70",
   "metadata": {},
   "outputs": [],
   "source": [
    "sns.scatterplot(x='WorkLifeBalance',y='Attrition',hue='Gender',data = df)"
   ]
  },
  {
   "cell_type": "code",
   "execution_count": null,
   "id": "0e6e8363",
   "metadata": {},
   "outputs": [],
   "source": [
    "sns.scatterplot(x='YearsWithCurrManager',y='Attrition',hue='MonthlyRate',data = df)"
   ]
  },
  {
   "cell_type": "code",
   "execution_count": null,
   "id": "314ec4de",
   "metadata": {},
   "outputs": [],
   "source": [
    "sns.scatterplot(x='EmployeeNumber',y='Attrition',hue='RelationshipSatisfaction',data = df)"
   ]
  },
  {
   "cell_type": "code",
   "execution_count": null,
   "id": "ad13c75c",
   "metadata": {},
   "outputs": [],
   "source": [
    "sns.scatterplot(x='WorkLifeBalance',y='Attrition',hue='HourlyRate',data = df)"
   ]
  },
  {
   "cell_type": "code",
   "execution_count": null,
   "id": "f562eb09",
   "metadata": {},
   "outputs": [],
   "source": [
    "sns.scatterplot(x='OverTime',y='Attrition',hue='Gender',data = df)"
   ]
  },
  {
   "cell_type": "code",
   "execution_count": null,
   "id": "2c2d0bf6",
   "metadata": {},
   "outputs": [],
   "source": [
    "sns.scatterplot(x='OverTime',y='Attrition',hue='JobRole',data = df)"
   ]
  },
  {
   "cell_type": "code",
   "execution_count": null,
   "id": "ff17e574",
   "metadata": {},
   "outputs": [],
   "source": [
    "sns.scatterplot(x='OverTime',y='Attrition',hue='YearsWithCurrManager',data = df)"
   ]
  },
  {
   "cell_type": "code",
   "execution_count": null,
   "id": "23a89b49",
   "metadata": {},
   "outputs": [],
   "source": [
    "sns.scatterplot(x='RelationshipSatisfaction',y='Attrition',hue='JobRole',data = df)"
   ]
  },
  {
   "cell_type": "code",
   "execution_count": null,
   "id": "c5ccd14d",
   "metadata": {},
   "outputs": [],
   "source": [
    "sns.scatterplot(x='JobInvolvement',y='Attrition',hue='MonthlyRate',data = df)"
   ]
  },
  {
   "cell_type": "code",
   "execution_count": null,
   "id": "bcad6e8c",
   "metadata": {},
   "outputs": [],
   "source": [
    "sns.scatterplot(x='TrainingTimesLastYear',y='Attrition',hue='HourlyRate',data = df)"
   ]
  },
  {
   "cell_type": "markdown",
   "id": "d59289bb",
   "metadata": {},
   "source": [
    "# now we check the outliers of each column but remove the outlier only those column who have integar value "
   ]
  },
  {
   "cell_type": "code",
   "execution_count": null,
   "id": "ea224023",
   "metadata": {},
   "outputs": [],
   "source": [
    "df['Age'].plot.box()"
   ]
  },
  {
   "cell_type": "code",
   "execution_count": null,
   "id": "b9129499",
   "metadata": {},
   "outputs": [],
   "source": [
    "df['Attrition'].plot.box()"
   ]
  },
  {
   "cell_type": "code",
   "execution_count": null,
   "id": "ac49317a",
   "metadata": {},
   "outputs": [],
   "source": [
    "df['BusinessTravel'].plot.box()"
   ]
  },
  {
   "cell_type": "code",
   "execution_count": null,
   "id": "7c8d4e63",
   "metadata": {},
   "outputs": [],
   "source": [
    "df['DailyRate'].plot.box()"
   ]
  },
  {
   "cell_type": "code",
   "execution_count": null,
   "id": "69035b07",
   "metadata": {},
   "outputs": [],
   "source": [
    "df['DistanceFromHome'].plot.box()"
   ]
  },
  {
   "cell_type": "code",
   "execution_count": null,
   "id": "1285e8ec",
   "metadata": {},
   "outputs": [],
   "source": [
    "df['Education'].plot.box()"
   ]
  },
  {
   "cell_type": "code",
   "execution_count": null,
   "id": "9c4cf40f",
   "metadata": {},
   "outputs": [],
   "source": [
    "df['EducationField'].plot.box()"
   ]
  },
  {
   "cell_type": "code",
   "execution_count": null,
   "id": "030295a8",
   "metadata": {},
   "outputs": [],
   "source": [
    "df['EmployeeNumber'].plot.box()"
   ]
  },
  {
   "cell_type": "code",
   "execution_count": null,
   "id": "4320a7ec",
   "metadata": {},
   "outputs": [],
   "source": [
    "df['EnvironmentSatisfaction'].plot.box()"
   ]
  },
  {
   "cell_type": "code",
   "execution_count": null,
   "id": "6e348c52",
   "metadata": {},
   "outputs": [],
   "source": [
    "df['Gender'].plot.box()"
   ]
  },
  {
   "cell_type": "code",
   "execution_count": null,
   "id": "2e89a38a",
   "metadata": {},
   "outputs": [],
   "source": [
    "df['HourlyRate'].plot.box()"
   ]
  },
  {
   "cell_type": "code",
   "execution_count": null,
   "id": "640dc9fe",
   "metadata": {},
   "outputs": [],
   "source": [
    "df['JobInvolvement'].plot.box()"
   ]
  },
  {
   "cell_type": "code",
   "execution_count": null,
   "id": "4ce19b16",
   "metadata": {},
   "outputs": [],
   "source": [
    "df['JobRole'].plot.box()"
   ]
  },
  {
   "cell_type": "code",
   "execution_count": null,
   "id": "28d6d47d",
   "metadata": {},
   "outputs": [],
   "source": [
    "df['JobSatisfaction'].plot.box()"
   ]
  },
  {
   "cell_type": "code",
   "execution_count": null,
   "id": "38f9ff50",
   "metadata": {},
   "outputs": [],
   "source": [
    "df['MaritalStatus'].plot.box()"
   ]
  },
  {
   "cell_type": "code",
   "execution_count": null,
   "id": "c4cfe250",
   "metadata": {},
   "outputs": [],
   "source": [
    "df['MonthlyIncome'].plot.box()"
   ]
  },
  {
   "cell_type": "markdown",
   "id": "b4f9f1a6",
   "metadata": {},
   "source": [
    "outliers are present in this column because this column have integaar value so we have to remove the outliers in this column"
   ]
  },
  {
   "cell_type": "code",
   "execution_count": null,
   "id": "489d3e95",
   "metadata": {},
   "outputs": [],
   "source": [
    "df['MonthlyRate'].plot.box()"
   ]
  },
  {
   "cell_type": "code",
   "execution_count": null,
   "id": "c4b837e7",
   "metadata": {},
   "outputs": [],
   "source": [
    "df['NumCompaniesWorked'].plot.box()"
   ]
  },
  {
   "cell_type": "code",
   "execution_count": null,
   "id": "195970fe",
   "metadata": {},
   "outputs": [],
   "source": [
    "df['OverTime'].plot.box()"
   ]
  },
  {
   "cell_type": "code",
   "execution_count": null,
   "id": "c4647881",
   "metadata": {},
   "outputs": [],
   "source": [
    "df['PerformanceRating'].plot.box()"
   ]
  },
  {
   "cell_type": "code",
   "execution_count": null,
   "id": "7be42b7b",
   "metadata": {},
   "outputs": [],
   "source": [
    "df['RelationshipSatisfaction'].plot.box()"
   ]
  },
  {
   "cell_type": "code",
   "execution_count": null,
   "id": "0794d8b4",
   "metadata": {},
   "outputs": [],
   "source": [
    "df['TrainingTimesLastYear'].plot.box()"
   ]
  },
  {
   "cell_type": "markdown",
   "id": "cebdb97b",
   "metadata": {},
   "source": [
    "small outliers are present "
   ]
  },
  {
   "cell_type": "code",
   "execution_count": null,
   "id": "7cacdd91",
   "metadata": {},
   "outputs": [],
   "source": [
    "df['WorkLifeBalance'].plot.box()"
   ]
  },
  {
   "cell_type": "code",
   "execution_count": null,
   "id": "a667c7d5",
   "metadata": {},
   "outputs": [],
   "source": [
    "df['YearsSinceLastPromotion'].plot.box()"
   ]
  },
  {
   "cell_type": "markdown",
   "id": "83b68ff5",
   "metadata": {},
   "source": [
    "this column also have the outliers and also the data type of this column is integar so we have to remove the outliers in this column "
   ]
  },
  {
   "cell_type": "code",
   "execution_count": null,
   "id": "bb595c11",
   "metadata": {},
   "outputs": [],
   "source": [
    "df['YearsWithCurrManager'].plot.box()"
   ]
  },
  {
   "cell_type": "markdown",
   "id": "1e71a45d",
   "metadata": {},
   "source": [
    "small outliers are present in this column "
   ]
  },
  {
   "cell_type": "code",
   "execution_count": null,
   "id": "04abda6d",
   "metadata": {},
   "outputs": [],
   "source": [
    "df.columns"
   ]
  },
  {
   "cell_type": "code",
   "execution_count": null,
   "id": "49439ce1",
   "metadata": {},
   "outputs": [],
   "source": [
    "dfcont = df[[\"MonthlyIncome\",\"TrainingTimesLastYear\",\"YearsSinceLastPromotion\",\"YearsWithCurrManager\"]]"
   ]
  },
  {
   "cell_type": "code",
   "execution_count": null,
   "id": "4fc140d0",
   "metadata": {},
   "outputs": [],
   "source": [
    "from scipy.stats import zscore"
   ]
  },
  {
   "cell_type": "code",
   "execution_count": null,
   "id": "6b6af2e5",
   "metadata": {},
   "outputs": [],
   "source": [
    "import numpy as np"
   ]
  },
  {
   "cell_type": "code",
   "execution_count": null,
   "id": "a9ba4b99",
   "metadata": {},
   "outputs": [],
   "source": [
    "z=np.abs(zscore(dfcont))"
   ]
  },
  {
   "cell_type": "code",
   "execution_count": null,
   "id": "1e52f9d2",
   "metadata": {},
   "outputs": [],
   "source": [
    "df_new=df[(z<3).all(axis=1)]"
   ]
  },
  {
   "cell_type": "code",
   "execution_count": null,
   "id": "e17016d3",
   "metadata": {},
   "outputs": [],
   "source": [
    "df_new.head()"
   ]
  },
  {
   "cell_type": "code",
   "execution_count": null,
   "id": "ce835c25",
   "metadata": {},
   "outputs": [],
   "source": [
    "df_new.skew()"
   ]
  },
  {
   "cell_type": "markdown",
   "id": "3eea7603",
   "metadata": {},
   "source": [
    "# now we check the skewness of each column with the help of distplot"
   ]
  },
  {
   "cell_type": "code",
   "execution_count": null,
   "id": "28672397",
   "metadata": {},
   "outputs": [],
   "source": [
    "from scipy.stats import skew"
   ]
  },
  {
   "cell_type": "code",
   "execution_count": null,
   "id": "1a3d4e50",
   "metadata": {},
   "outputs": [],
   "source": [
    "for i in df_new.columns:\n",
    "    print(i)\n",
    "    print(skew(df_new[i]))\n",
    "    plt.figure()\n",
    "    sns.distplot(df_new[i])\n",
    "    plt.show()"
   ]
  },
  {
   "cell_type": "markdown",
   "id": "856106b3",
   "metadata": {},
   "source": [
    "beacause buisness travel and overtime are the objecective data type so we do not remove the skewness in these columns"
   ]
  },
  {
   "cell_type": "code",
   "execution_count": null,
   "id": "3da537ac",
   "metadata": {},
   "outputs": [],
   "source": [
    "df_new.head()"
   ]
  },
  {
   "cell_type": "code",
   "execution_count": null,
   "id": "1109cc51",
   "metadata": {},
   "outputs": [],
   "source": [
    "df_new.columns"
   ]
  },
  {
   "cell_type": "code",
   "execution_count": null,
   "id": "34479d0c",
   "metadata": {},
   "outputs": [],
   "source": [
    "plt.figure(figsize=(20,15))\n",
    "sns.heatmap(df_new.corr(),annot=True)"
   ]
  },
  {
   "cell_type": "markdown",
   "id": "be7dd7e0",
   "metadata": {},
   "source": [
    "Age shows the very bad correlation with target column so we drop this column"
   ]
  },
  {
   "cell_type": "code",
   "execution_count": null,
   "id": "fdfce50a",
   "metadata": {},
   "outputs": [],
   "source": [
    "df_new.drop('Age',axis = 1,inplace = True)"
   ]
  },
  {
   "cell_type": "code",
   "execution_count": null,
   "id": "b141bea8",
   "metadata": {},
   "outputs": [],
   "source": [
    "df_new.head()"
   ]
  },
  {
   "cell_type": "code",
   "execution_count": null,
   "id": "5c29ebea",
   "metadata": {},
   "outputs": [],
   "source": [
    "df_new.columns"
   ]
  },
  {
   "cell_type": "code",
   "execution_count": null,
   "id": "ad7d546b",
   "metadata": {},
   "outputs": [],
   "source": [
    "b =df[[\"DailyRate\",\"DistanceFromHome\",\"HourlyRate\",\"MonthlyIncome\",\"NumCompaniesWorked\",\"PerformanceRating\",\"YearsSinceLastPromotion\",\"YearsWithCurrManager\"]]"
   ]
  },
  {
   "cell_type": "code",
   "execution_count": null,
   "id": "b675df74",
   "metadata": {},
   "outputs": [],
   "source": [
    "from scipy.stats import boxcox"
   ]
  },
  {
   "cell_type": "code",
   "execution_count": null,
   "id": "51386fac",
   "metadata": {},
   "outputs": [],
   "source": [
    "df_new['DailyRate'] = boxcox(df_new['DailyRate'],0) "
   ]
  },
  {
   "cell_type": "code",
   "execution_count": null,
   "id": "684ab5da",
   "metadata": {},
   "outputs": [],
   "source": [
    "df_new['DailyRate'].skew()"
   ]
  },
  {
   "cell_type": "code",
   "execution_count": null,
   "id": "fefae5ca",
   "metadata": {},
   "outputs": [],
   "source": [
    "df_new['DistanceFromHome'] = boxcox(df_new['DistanceFromHome'],0) "
   ]
  },
  {
   "cell_type": "code",
   "execution_count": null,
   "id": "e0cf9bbb",
   "metadata": {},
   "outputs": [],
   "source": [
    "df_new['DistanceFromHome'].skew()"
   ]
  },
  {
   "cell_type": "code",
   "execution_count": null,
   "id": "8e8a042f",
   "metadata": {},
   "outputs": [],
   "source": [
    "df_new['HourlyRate'] = boxcox(df_new['HourlyRate'],0) "
   ]
  },
  {
   "cell_type": "code",
   "execution_count": null,
   "id": "709edd4c",
   "metadata": {},
   "outputs": [],
   "source": [
    "df_new['HourlyRate'].skew()"
   ]
  },
  {
   "cell_type": "code",
   "execution_count": null,
   "id": "7e565417",
   "metadata": {},
   "outputs": [],
   "source": [
    "df_new['MonthlyIncome'] = boxcox(df_new['MonthlyIncome'],0) "
   ]
  },
  {
   "cell_type": "code",
   "execution_count": null,
   "id": "50dc6019",
   "metadata": {},
   "outputs": [],
   "source": [
    "df_new['MonthlyIncome'].skew()"
   ]
  },
  {
   "cell_type": "code",
   "execution_count": null,
   "id": "6fea11f9",
   "metadata": {},
   "outputs": [],
   "source": [
    "df_new['NumCompaniesWorked'].skew()"
   ]
  },
  {
   "cell_type": "code",
   "execution_count": null,
   "id": "817901c7",
   "metadata": {},
   "outputs": [],
   "source": [
    "df_new['PerformanceRating']  = boxcox(df_new['PerformanceRating'],0)"
   ]
  },
  {
   "cell_type": "code",
   "execution_count": null,
   "id": "7302a984",
   "metadata": {},
   "outputs": [],
   "source": [
    "df_new['PerformanceRating'].skew()"
   ]
  },
  {
   "cell_type": "code",
   "execution_count": null,
   "id": "c0ef03ec",
   "metadata": {},
   "outputs": [],
   "source": [
    "df_new['PerformanceRating']  = np.sqrt(df_new['PerformanceRating'])"
   ]
  },
  {
   "cell_type": "code",
   "execution_count": null,
   "id": "848ac692",
   "metadata": {},
   "outputs": [],
   "source": [
    "df_new['PerformanceRating'].skew()"
   ]
  },
  {
   "cell_type": "code",
   "execution_count": null,
   "id": "3af998f7",
   "metadata": {},
   "outputs": [],
   "source": [
    "df_new['YearsSinceLastPromotion']  = np.sqrt(df_new['YearsSinceLastPromotion'])"
   ]
  },
  {
   "cell_type": "code",
   "execution_count": null,
   "id": "16f03083",
   "metadata": {},
   "outputs": [],
   "source": [
    "df_new['YearsSinceLastPromotion'].skew()"
   ]
  },
  {
   "cell_type": "code",
   "execution_count": null,
   "id": "1707e623",
   "metadata": {},
   "outputs": [],
   "source": [
    "df_new['YearsWithCurrManager']  = np.sqrt(df_new['YearsWithCurrManager'])"
   ]
  },
  {
   "cell_type": "code",
   "execution_count": null,
   "id": "7ad5a9bd",
   "metadata": {},
   "outputs": [],
   "source": [
    "df_new['YearsWithCurrManager'].skew()"
   ]
  },
  {
   "cell_type": "code",
   "execution_count": null,
   "id": "f165d629",
   "metadata": {},
   "outputs": [],
   "source": [
    "df_new.head()"
   ]
  },
  {
   "cell_type": "code",
   "execution_count": null,
   "id": "4e48cd59",
   "metadata": {},
   "outputs": [],
   "source": [
    "df_new.corr()"
   ]
  },
  {
   "cell_type": "code",
   "execution_count": null,
   "id": "090037d7",
   "metadata": {},
   "outputs": [],
   "source": [
    "x= df_new.iloc[:,1:]"
   ]
  },
  {
   "cell_type": "code",
   "execution_count": null,
   "id": "36e7d436",
   "metadata": {},
   "outputs": [],
   "source": [
    "x"
   ]
  },
  {
   "cell_type": "code",
   "execution_count": null,
   "id": "9f84e4b1",
   "metadata": {},
   "outputs": [],
   "source": [
    "y= df_new.iloc[:,:1]"
   ]
  },
  {
   "cell_type": "code",
   "execution_count": null,
   "id": "f3c50391",
   "metadata": {},
   "outputs": [],
   "source": [
    "y"
   ]
  },
  {
   "cell_type": "code",
   "execution_count": null,
   "id": "dffe14d2",
   "metadata": {},
   "outputs": [],
   "source": [
    "from imblearn.over_sampling import SMOTE"
   ]
  },
  {
   "cell_type": "code",
   "execution_count": null,
   "id": "9d577ed6",
   "metadata": {},
   "outputs": [],
   "source": [
    "SM = SMOTE()\n",
    "x,y = SM.fit_resample(x, y)"
   ]
  },
  {
   "cell_type": "code",
   "execution_count": null,
   "id": "3cf4a67f",
   "metadata": {},
   "outputs": [],
   "source": [
    "x.shape"
   ]
  },
  {
   "cell_type": "code",
   "execution_count": null,
   "id": "54eb0377",
   "metadata": {},
   "outputs": [],
   "source": [
    "y.shape"
   ]
  },
  {
   "cell_type": "code",
   "execution_count": null,
   "id": "adcfe76c",
   "metadata": {},
   "outputs": [],
   "source": [
    "y.value_counts()"
   ]
  },
  {
   "cell_type": "code",
   "execution_count": null,
   "id": "1253b634",
   "metadata": {},
   "outputs": [],
   "source": [
    "from statsmodels.stats.outliers_influence import variance_inflation_factor"
   ]
  },
  {
   "cell_type": "code",
   "execution_count": null,
   "id": "50690a96",
   "metadata": {},
   "outputs": [],
   "source": [
    "vif= pd.DataFrame()\n",
    "vif[\"features\"]=x.columns\n",
    "vif[\"VIF FACTOR\"] =[variance_inflation_factor(x.values,i) for i in range(x.shape[1])]\n",
    "print(vif)"
   ]
  },
  {
   "cell_type": "code",
   "execution_count": null,
   "id": "3858a135",
   "metadata": {},
   "outputs": [],
   "source": [
    "from sklearn.model_selection import train_test_split"
   ]
  },
  {
   "cell_type": "code",
   "execution_count": null,
   "id": "29dda4c4",
   "metadata": {},
   "outputs": [],
   "source": [
    "x_train,x_test,y_train,y_test=train_test_split(x,y,test_size=.20,random_state=45)"
   ]
  },
  {
   "cell_type": "code",
   "execution_count": null,
   "id": "62007f59",
   "metadata": {},
   "outputs": [],
   "source": [
    "x_train.shape"
   ]
  },
  {
   "cell_type": "code",
   "execution_count": null,
   "id": "662995af",
   "metadata": {},
   "outputs": [],
   "source": [
    "x_test.shape"
   ]
  },
  {
   "cell_type": "code",
   "execution_count": null,
   "id": "5e60ae32",
   "metadata": {},
   "outputs": [],
   "source": [
    "y_train.shape"
   ]
  },
  {
   "cell_type": "code",
   "execution_count": null,
   "id": "742eb84f",
   "metadata": {},
   "outputs": [],
   "source": [
    "y_test.shape"
   ]
  },
  {
   "cell_type": "code",
   "execution_count": null,
   "id": "8fdc653d",
   "metadata": {},
   "outputs": [],
   "source": [
    "import sklearn\n",
    "from sklearn.naive_bayes import GaussianNB\n",
    "from sklearn.svm import SVC\n",
    "from sklearn.tree import DecisionTreeClassifier\n",
    "from sklearn.metrics import accuracy_score,confusion_matrix,classification_report\n",
    "from sklearn.neighbors import KNeighborsClassifier\n",
    "from sklearn.ensemble import RandomForestClassifier"
   ]
  },
  {
   "cell_type": "code",
   "execution_count": null,
   "id": "502cfb25",
   "metadata": {},
   "outputs": [],
   "source": [
    "svc= SVC()\n",
    "svc.fit(x_train,y_train)\n",
    "svc.score(x_train,y_train)\n",
    "predsvc = svc.predict(x_test)\n",
    "print(accuracy_score(y_test,predsvc))\n",
    "print(confusion_matrix(y_test,predsvc))\n",
    "print(classification_report(y_test,predsvc))"
   ]
  },
  {
   "cell_type": "code",
   "execution_count": null,
   "id": "899efabb",
   "metadata": {},
   "outputs": [],
   "source": [
    "from sklearn.model_selection import GridSearchCV"
   ]
  },
  {
   "cell_type": "code",
   "execution_count": null,
   "id": "3d447b0f",
   "metadata": {},
   "outputs": [],
   "source": [
    "#paramsv = {'kernel':['linear','poly','rbf'],\n",
    "           'gamma':['scale','auto'],\n",
    "            'degree':np.arange(1,10)}"
   ]
  },
  {
   "cell_type": "code",
   "execution_count": null,
   "id": "637aa12b",
   "metadata": {},
   "outputs": [],
   "source": [
    "#gc = GridSearchCV(SVC(),paramsv,cv=5)\n",
    "#gc.fit(x,y)\n",
    "#gc.best_params_"
   ]
  },
  {
   "cell_type": "markdown",
   "id": "b4ad75b5",
   "metadata": {},
   "source": [
    " I  am not tunning the upper model because my system is not responsing my notebook is in hanging position it will takes too much time i am writing the code but not able to run it so i make a comment "
   ]
  },
  {
   "cell_type": "code",
   "execution_count": null,
   "id": "0ab5fd3b",
   "metadata": {},
   "outputs": [],
   "source": []
  },
  {
   "cell_type": "code",
   "execution_count": null,
   "id": "3e4b451a",
   "metadata": {},
   "outputs": [],
   "source": [
    "dtc= DecisionTreeClassifier()\n",
    "dtc.fit(x_train,y_train)\n",
    "dtc.score(x_train,y_train)\n",
    "preddtc = dtc.predict(x_test)\n",
    "print(accuracy_score(y_test,preddtc))\n",
    "print(confusion_matrix(y_test,preddtc))\n",
    "print(classification_report(y_test,preddtc))"
   ]
  },
  {
   "cell_type": "code",
   "execution_count": null,
   "id": "9df50e3a",
   "metadata": {},
   "outputs": [],
   "source": [
    "paramdt = {'criterion':['gini','entropy'],'splitter':['best','random']}"
   ]
  },
  {
   "cell_type": "code",
   "execution_count": null,
   "id": "a65455e0",
   "metadata": {},
   "outputs": [],
   "source": [
    "gc = GridSearchCV(DecisionTreeClassifier(),paramdt,cv=5)"
   ]
  },
  {
   "cell_type": "code",
   "execution_count": null,
   "id": "f68f1c68",
   "metadata": {},
   "outputs": [],
   "source": [
    "gc.fit(x,y)"
   ]
  },
  {
   "cell_type": "code",
   "execution_count": null,
   "id": "9521b10d",
   "metadata": {},
   "outputs": [],
   "source": [
    "gc.best_params_"
   ]
  },
  {
   "cell_type": "code",
   "execution_count": null,
   "id": "2eefebcd",
   "metadata": {},
   "outputs": [],
   "source": [
    "DTC= DecisionTreeClassifier(criterion='gini',splitter='random')\n",
    "DTC.fit(x_train,y_train)\n",
    "DTC.score(x_train,y_train)\n",
    "predDTC = DTC.predict(x_test)\n",
    "print(accuracy_score(y_test,predDTC))\n",
    "print(confusion_matrix(y_test,predDTC))\n",
    "print(classification_report(y_test,predDTC))"
   ]
  },
  {
   "cell_type": "code",
   "execution_count": null,
   "id": "edbc7011",
   "metadata": {},
   "outputs": [],
   "source": [
    "knn = KNeighborsClassifier(n_neighbors=5)\n",
    "knn.fit(x_train,y_train)\n",
    "knn.score(x_train,y_train)\n",
    "predknn = knn.predict(x_test)\n",
    "print(accuracy_score(y_test,predknn))\n",
    "print(confusion_matrix(y_test,predknn))\n",
    "print(classification_report(y_test,predknn))"
   ]
  },
  {
   "cell_type": "code",
   "execution_count": null,
   "id": "a786d9e8",
   "metadata": {},
   "outputs": [],
   "source": [
    "paramkn = {'n_neighbors':np.arange(1,10),'weights':['uniform','distance']}"
   ]
  },
  {
   "cell_type": "code",
   "execution_count": null,
   "id": "6b8d89ab",
   "metadata": {},
   "outputs": [],
   "source": [
    "gc = GridSearchCV(KNeighborsClassifier(),paramkn,cv=5)"
   ]
  },
  {
   "cell_type": "code",
   "execution_count": null,
   "id": "85f45956",
   "metadata": {},
   "outputs": [],
   "source": [
    "gc.fit(x,y)"
   ]
  },
  {
   "cell_type": "code",
   "execution_count": null,
   "id": "d197baee",
   "metadata": {},
   "outputs": [],
   "source": [
    "gc.best_params_"
   ]
  },
  {
   "cell_type": "code",
   "execution_count": null,
   "id": "3859efd6",
   "metadata": {},
   "outputs": [],
   "source": [
    "KNn = KNeighborsClassifier(n_neighbors=5,weights='uniform')\n",
    "KNn.fit(x_train,y_train)\n",
    "KNn.score(x_train,y_train)\n",
    "predKNn = KNn.predict(x_test)\n",
    "print(accuracy_score(y_test,predKNn))\n",
    "print(confusion_matrix(y_test,predKNn))\n",
    "print(classification_report(y_test,predKNn))"
   ]
  },
  {
   "cell_type": "code",
   "execution_count": null,
   "id": "d9fbce48",
   "metadata": {},
   "outputs": [],
   "source": [
    "rfc = RandomForestClassifier()\n",
    "rfc.fit(x_train, y_train)\n",
    "rfc.score(x_test, y_test)\n",
    "predrfc = rfc.predict(x_test)\n",
    "print(accuracy_score(y_test,predrfc))\n",
    "print(confusion_matrix(y_test,predrfc))\n",
    "print(classification_report(y_test,predrfc))"
   ]
  },
  {
   "cell_type": "code",
   "execution_count": null,
   "id": "8877e6c2",
   "metadata": {},
   "outputs": [],
   "source": [
    "paramrf={'n_estimators':np.arange(1,10),'criterion':['gini','entropy']}"
   ]
  },
  {
   "cell_type": "code",
   "execution_count": null,
   "id": "9703cdfd",
   "metadata": {},
   "outputs": [],
   "source": [
    "gc = GridSearchCV(RandomForestClassifier(),paramrf,cv=5)"
   ]
  },
  {
   "cell_type": "code",
   "execution_count": null,
   "id": "833de776",
   "metadata": {},
   "outputs": [],
   "source": [
    "gc.fit(x,y)"
   ]
  },
  {
   "cell_type": "code",
   "execution_count": null,
   "id": "b1535c8e",
   "metadata": {},
   "outputs": [],
   "source": [
    "gc.best_params_"
   ]
  },
  {
   "cell_type": "code",
   "execution_count": null,
   "id": "335526f6",
   "metadata": {},
   "outputs": [],
   "source": [
    "Rfc = RandomForestClassifier(criterion='gini',n_estimators=8)\n",
    "Rfc.fit(x_train, y_train)\n",
    "Rfc.score(x_test, y_test)\n",
    "predRfc = Rfc.predict(x_test)\n",
    "print(accuracy_score(y_test,predRfc))\n",
    "print(confusion_matrix(y_test,predRfc))\n",
    "print(classification_report(y_test,predRfc))"
   ]
  },
  {
   "cell_type": "code",
   "execution_count": null,
   "id": "1dda0024",
   "metadata": {},
   "outputs": [],
   "source": [
    "gnb = GaussianNB()\n",
    "gnb.fit(x_train,y_train)\n",
    "gnb.score(x_train,y_train)\n",
    "predgnb =gnb.predict(x_test)\n",
    "print(accuracy_score(y_test,predgnb))\n",
    "print(confusion_matrix(y_test,predgnb))\n",
    "print(classification_report(y_test,predgnb))"
   ]
  },
  {
   "cell_type": "code",
   "execution_count": null,
   "id": "be0bbb14",
   "metadata": {},
   "outputs": [],
   "source": [
    "from sklearn.model_selection import cross_val_score"
   ]
  },
  {
   "cell_type": "code",
   "execution_count": null,
   "id": "b48e5b23",
   "metadata": {},
   "outputs": [],
   "source": [
    "print(cross_val_score(dtc,x,y,cv=20).mean())"
   ]
  },
  {
   "cell_type": "code",
   "execution_count": null,
   "id": "cfd80d1f",
   "metadata": {},
   "outputs": [],
   "source": [
    "print(cross_val_score(svc,x,y,cv=20).mean())"
   ]
  },
  {
   "cell_type": "code",
   "execution_count": null,
   "id": "9b324956",
   "metadata": {},
   "outputs": [],
   "source": [
    "print(cross_val_score(knn,x,y,cv=20).mean())"
   ]
  },
  {
   "cell_type": "code",
   "execution_count": null,
   "id": "3ead44db",
   "metadata": {},
   "outputs": [],
   "source": [
    "print(cross_val_score(rfc,x,y,cv=20).mean())"
   ]
  },
  {
   "cell_type": "code",
   "execution_count": null,
   "id": "4d734494",
   "metadata": {},
   "outputs": [],
   "source": [
    "print(cross_val_score(gnb,x,y,cv=20).mean())"
   ]
  },
  {
   "cell_type": "markdown",
   "id": "fa7205a7",
   "metadata": {},
   "source": [
    " MY SYSTEM IS TAKING TOO MUCH TIME TO TUNNED THE MODEL HENCE I DID NOT GIVE MORE PARAMETER"
   ]
  },
  {
   "cell_type": "code",
   "execution_count": null,
   "id": "6d65f17e",
   "metadata": {},
   "outputs": [],
   "source": [
    "import joblib"
   ]
  },
  {
   "cell_type": "code",
   "execution_count": null,
   "id": "ca78db47",
   "metadata": {},
   "outputs": [],
   "source": [
    "joblib.dump(rfc,'rfc_joblib')"
   ]
  },
  {
   "cell_type": "code",
   "execution_count": null,
   "id": "3602f81f",
   "metadata": {},
   "outputs": [],
   "source": []
  }
 ],
 "metadata": {
  "kernelspec": {
   "display_name": "Python 3",
   "language": "python",
   "name": "python3"
  },
  "language_info": {
   "codemirror_mode": {
    "name": "ipython",
    "version": 3
   },
   "file_extension": ".py",
   "mimetype": "text/x-python",
   "name": "python",
   "nbconvert_exporter": "python",
   "pygments_lexer": "ipython3",
   "version": "3.8.8"
  }
 },
 "nbformat": 4,
 "nbformat_minor": 5
}
