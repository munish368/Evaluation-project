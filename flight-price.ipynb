{
 "cells": [
  {
   "cell_type": "code",
   "execution_count": null,
   "id": "535c456e",
   "metadata": {},
   "outputs": [],
   "source": [
    "import pandas as pd "
   ]
  },
  {
   "cell_type": "code",
   "execution_count": null,
   "id": "932bfa89",
   "metadata": {},
   "outputs": [],
   "source": [
    "df = pd.read_excel('Data_Train.xlsx')"
   ]
  },
  {
   "cell_type": "code",
   "execution_count": null,
   "id": "22b989d3",
   "metadata": {},
   "outputs": [],
   "source": [
    "df"
   ]
  },
  {
   "cell_type": "code",
   "execution_count": null,
   "id": "d93053a8",
   "metadata": {},
   "outputs": [],
   "source": [
    "df.shape"
   ]
  },
  {
   "cell_type": "code",
   "execution_count": null,
   "id": "c7d30112",
   "metadata": {},
   "outputs": [],
   "source": [
    "df.info()"
   ]
  },
  {
   "cell_type": "code",
   "execution_count": null,
   "id": "327cbc8c",
   "metadata": {},
   "outputs": [],
   "source": [
    "df.isnull().sum()"
   ]
  },
  {
   "cell_type": "code",
   "execution_count": null,
   "id": "d747b366",
   "metadata": {},
   "outputs": [],
   "source": [
    "df[\"Route\"]"
   ]
  },
  {
   "cell_type": "code",
   "execution_count": null,
   "id": "a6fbf465",
   "metadata": {},
   "outputs": [],
   "source": [
    "mode_value = df[\"Route\"].mode()[0]"
   ]
  },
  {
   "cell_type": "code",
   "execution_count": null,
   "id": "f2a3106d",
   "metadata": {
    "scrolled": true
   },
   "outputs": [],
   "source": [
    "mode_value"
   ]
  },
  {
   "cell_type": "code",
   "execution_count": null,
   "id": "81970d1d",
   "metadata": {},
   "outputs": [],
   "source": [
    "df[\"Route\"].fillna(mode_value, inplace=True)"
   ]
  },
  {
   "cell_type": "code",
   "execution_count": null,
   "id": "761e9ba6",
   "metadata": {},
   "outputs": [],
   "source": [
    "df[\"Total_Stops\"]"
   ]
  },
  {
   "cell_type": "code",
   "execution_count": null,
   "id": "b93d9b6d",
   "metadata": {},
   "outputs": [],
   "source": [
    "mode_value = df[\"Total_Stops\"].mode()[0]"
   ]
  },
  {
   "cell_type": "code",
   "execution_count": null,
   "id": "2e2141f3",
   "metadata": {},
   "outputs": [],
   "source": [
    "df[\"Total_Stops\"].fillna(mode_value, inplace=True)"
   ]
  },
  {
   "cell_type": "code",
   "execution_count": null,
   "id": "d227cc1d",
   "metadata": {},
   "outputs": [],
   "source": [
    "df.isnull().sum()"
   ]
  },
  {
   "cell_type": "code",
   "execution_count": null,
   "id": "5713ee44",
   "metadata": {},
   "outputs": [],
   "source": [
    "import seaborn as sns \n",
    "import warnings\n",
    "warnings.filterwarnings('ignore')\n",
    "import matplotlib.pyplot as plt "
   ]
  },
  {
   "cell_type": "code",
   "execution_count": null,
   "id": "acc28898",
   "metadata": {},
   "outputs": [],
   "source": [
    "plt.figure(figsize = (15,6))\n",
    "sns.scatterplot(x='Airline',y='Price',data = df)"
   ]
  },
  {
   "cell_type": "code",
   "execution_count": null,
   "id": "cb8b0a18",
   "metadata": {},
   "outputs": [],
   "source": [
    "from sklearn.preprocessing import OrdinalEncoder"
   ]
  },
  {
   "cell_type": "code",
   "execution_count": null,
   "id": "a8d700fb",
   "metadata": {},
   "outputs": [],
   "source": [
    "enc = OrdinalEncoder()"
   ]
  },
  {
   "cell_type": "code",
   "execution_count": null,
   "id": "b3463275",
   "metadata": {},
   "outputs": [],
   "source": [
    "for i in df.columns:\n",
    "    if df[i].dtypes =='object':\n",
    "        df[i]= enc.fit_transform(df[i].values.reshape(-1,1))"
   ]
  },
  {
   "cell_type": "code",
   "execution_count": null,
   "id": "6d01c3c9",
   "metadata": {},
   "outputs": [],
   "source": [
    "df.head()"
   ]
  },
  {
   "cell_type": "code",
   "execution_count": null,
   "id": "6b0557a0",
   "metadata": {},
   "outputs": [],
   "source": [
    "df.shape"
   ]
  },
  {
   "cell_type": "code",
   "execution_count": null,
   "id": "a54f7769",
   "metadata": {},
   "outputs": [],
   "source": [
    "sns.violinplot(df[\"Airline\"])"
   ]
  },
  {
   "cell_type": "code",
   "execution_count": null,
   "id": "17d804e0",
   "metadata": {},
   "outputs": [],
   "source": [
    "sns.histplot(df[\"Airline\"])"
   ]
  },
  {
   "cell_type": "code",
   "execution_count": null,
   "id": "465a60f1",
   "metadata": {},
   "outputs": [],
   "source": [
    "sns.violinplot(df[\"Date_of_Journey\"])"
   ]
  },
  {
   "cell_type": "code",
   "execution_count": null,
   "id": "a725efb3",
   "metadata": {},
   "outputs": [],
   "source": [
    "sns.histplot(df[\"Date_of_Journey\"])"
   ]
  },
  {
   "cell_type": "code",
   "execution_count": null,
   "id": "8b5f367f",
   "metadata": {},
   "outputs": [],
   "source": [
    "sns.violinplot(df[\"Source\"])"
   ]
  },
  {
   "cell_type": "code",
   "execution_count": null,
   "id": "ad7d45f1",
   "metadata": {},
   "outputs": [],
   "source": [
    "sns.histplot(df[\"Source\"])"
   ]
  },
  {
   "cell_type": "code",
   "execution_count": null,
   "id": "b0a08d83",
   "metadata": {},
   "outputs": [],
   "source": [
    "sns.violinplot(df[\"Destination\"])"
   ]
  },
  {
   "cell_type": "code",
   "execution_count": null,
   "id": "5df6d517",
   "metadata": {},
   "outputs": [],
   "source": [
    "sns.histplot(df[\"Destination\"])"
   ]
  },
  {
   "cell_type": "code",
   "execution_count": null,
   "id": "cc5ac0bf",
   "metadata": {},
   "outputs": [],
   "source": [
    "sns.violinplot(df[\"Route\"])"
   ]
  },
  {
   "cell_type": "code",
   "execution_count": null,
   "id": "0346ab31",
   "metadata": {},
   "outputs": [],
   "source": [
    "sns.histplot(df[\"Route\"])"
   ]
  },
  {
   "cell_type": "code",
   "execution_count": null,
   "id": "10291552",
   "metadata": {},
   "outputs": [],
   "source": [
    "sns.violinplot(df[\"Dep_Time\"])"
   ]
  },
  {
   "cell_type": "code",
   "execution_count": null,
   "id": "855b4e00",
   "metadata": {},
   "outputs": [],
   "source": [
    "sns.histplot(df[\"Dep_Time\"])"
   ]
  },
  {
   "cell_type": "code",
   "execution_count": null,
   "id": "40b43065",
   "metadata": {},
   "outputs": [],
   "source": [
    "sns.violinplot(df[\"Arrival_Time\"])"
   ]
  },
  {
   "cell_type": "code",
   "execution_count": null,
   "id": "c46e1fbb",
   "metadata": {},
   "outputs": [],
   "source": [
    "sns.histplot(df[\"Arrival_Time\"])"
   ]
  },
  {
   "cell_type": "code",
   "execution_count": null,
   "id": "f1b69da3",
   "metadata": {},
   "outputs": [],
   "source": [
    "sns.violinplot(df[\"Duration\"])"
   ]
  },
  {
   "cell_type": "code",
   "execution_count": null,
   "id": "841946bd",
   "metadata": {},
   "outputs": [],
   "source": [
    "sns.histplot(df[\"Duration\"])"
   ]
  },
  {
   "cell_type": "code",
   "execution_count": null,
   "id": "fc433218",
   "metadata": {},
   "outputs": [],
   "source": [
    "sns.violinplot(df[\"Total_Stops\"])"
   ]
  },
  {
   "cell_type": "code",
   "execution_count": null,
   "id": "9469e209",
   "metadata": {},
   "outputs": [],
   "source": [
    "sns.histplot(df[\"Total_Stops\"])"
   ]
  },
  {
   "cell_type": "code",
   "execution_count": null,
   "id": "617c62a6",
   "metadata": {},
   "outputs": [],
   "source": [
    "sns.violinplot(df[\"Additional_Info\"])"
   ]
  },
  {
   "cell_type": "code",
   "execution_count": null,
   "id": "c90cda2c",
   "metadata": {},
   "outputs": [],
   "source": [
    "sns.histplot(df[\"Additional_Info\"])"
   ]
  },
  {
   "cell_type": "code",
   "execution_count": null,
   "id": "ed4d4117",
   "metadata": {},
   "outputs": [],
   "source": [
    "sns.scatterplot(x='Airline',y='Price',data = df)"
   ]
  },
  {
   "cell_type": "code",
   "execution_count": null,
   "id": "15f879da",
   "metadata": {},
   "outputs": [],
   "source": [
    "sns.relplot(x='Airline',y='Price',data = df)"
   ]
  },
  {
   "cell_type": "code",
   "execution_count": null,
   "id": "27a6801e",
   "metadata": {},
   "outputs": [],
   "source": [
    "sns.regplot(x='Airline',y='Price',data = df)"
   ]
  },
  {
   "cell_type": "code",
   "execution_count": null,
   "id": "35f6678c",
   "metadata": {},
   "outputs": [],
   "source": [
    "sns.lineplot(x='Airline',y='Price',data = df)"
   ]
  },
  {
   "cell_type": "code",
   "execution_count": null,
   "id": "da3201ea",
   "metadata": {},
   "outputs": [],
   "source": [
    "sns.scatterplot(x='Date_of_Journey',y='Price',data = df)"
   ]
  },
  {
   "cell_type": "code",
   "execution_count": null,
   "id": "185e87cf",
   "metadata": {},
   "outputs": [],
   "source": [
    "sns.regplot(x='Date_of_Journey',y='Price',data = df)"
   ]
  },
  {
   "cell_type": "code",
   "execution_count": null,
   "id": "424791f5",
   "metadata": {},
   "outputs": [],
   "source": [
    "sns.lineplot(x='Date_of_Journey',y='Price',data = df)"
   ]
  },
  {
   "cell_type": "code",
   "execution_count": null,
   "id": "8898e34b",
   "metadata": {},
   "outputs": [],
   "source": [
    "sns.relplot(x='Date_of_Journey',y='Price',data = df)"
   ]
  },
  {
   "cell_type": "code",
   "execution_count": null,
   "id": "46d631a6",
   "metadata": {},
   "outputs": [],
   "source": [
    "sns.scatterplot(x='Source',y='Price',data = df)"
   ]
  },
  {
   "cell_type": "code",
   "execution_count": null,
   "id": "8d6b77a9",
   "metadata": {},
   "outputs": [],
   "source": [
    "sns.lineplot(x='Source',y='Price',data = df)"
   ]
  },
  {
   "cell_type": "code",
   "execution_count": null,
   "id": "6660edfa",
   "metadata": {},
   "outputs": [],
   "source": [
    "sns.regplot(x='Source',y='Price',data = df)"
   ]
  },
  {
   "cell_type": "code",
   "execution_count": null,
   "id": "ae0cb9f2",
   "metadata": {},
   "outputs": [],
   "source": [
    "sns.relplot(x='Source',y='Price',data = df)"
   ]
  },
  {
   "cell_type": "code",
   "execution_count": null,
   "id": "5a198de1",
   "metadata": {},
   "outputs": [],
   "source": [
    "sns.scatterplot(x='Destination',y='Price',data = df)"
   ]
  },
  {
   "cell_type": "code",
   "execution_count": null,
   "id": "24e65af6",
   "metadata": {},
   "outputs": [],
   "source": [
    "sns.lineplot(x='Destination',y='Price',data = df)"
   ]
  },
  {
   "cell_type": "code",
   "execution_count": null,
   "id": "06f652d5",
   "metadata": {},
   "outputs": [],
   "source": [
    "sns.relplot(x='Destination',y='Price',data = df)"
   ]
  },
  {
   "cell_type": "code",
   "execution_count": null,
   "id": "8e57e387",
   "metadata": {},
   "outputs": [],
   "source": [
    "sns.regplot(x='Destination',y='Price',data = df)"
   ]
  },
  {
   "cell_type": "code",
   "execution_count": null,
   "id": "a548b61a",
   "metadata": {},
   "outputs": [],
   "source": [
    "sns.scatterplot(x='Route',y='Price',data = df)"
   ]
  },
  {
   "cell_type": "code",
   "execution_count": null,
   "id": "decf3453",
   "metadata": {},
   "outputs": [],
   "source": [
    "sns.lineplot(x='Route',y='Price',data = df)"
   ]
  },
  {
   "cell_type": "code",
   "execution_count": null,
   "id": "b3b25122",
   "metadata": {},
   "outputs": [],
   "source": [
    "sns.relplot(x='Route',y='Price',data = df)"
   ]
  },
  {
   "cell_type": "code",
   "execution_count": null,
   "id": "cf873afb",
   "metadata": {},
   "outputs": [],
   "source": [
    "sns.regplot(x='Route',y='Price',data = df)"
   ]
  },
  {
   "cell_type": "code",
   "execution_count": null,
   "id": "7e6e3552",
   "metadata": {},
   "outputs": [],
   "source": [
    "sns.scatterplot(x='Dep_Time',y='Price',data = df)"
   ]
  },
  {
   "cell_type": "code",
   "execution_count": null,
   "id": "19bc0d25",
   "metadata": {},
   "outputs": [],
   "source": [
    "sns.relplot(x='Dep_Time',y='Price',data = df)"
   ]
  },
  {
   "cell_type": "code",
   "execution_count": null,
   "id": "1f121a68",
   "metadata": {},
   "outputs": [],
   "source": [
    "sns.regplot(x='Dep_Time',y='Price',data = df)"
   ]
  },
  {
   "cell_type": "code",
   "execution_count": null,
   "id": "b2b2385c",
   "metadata": {},
   "outputs": [],
   "source": [
    "sns.lineplot(x='Dep_Time',y='Price',data = df)"
   ]
  },
  {
   "cell_type": "code",
   "execution_count": null,
   "id": "9f107e50",
   "metadata": {},
   "outputs": [],
   "source": [
    "sns.scatterplot(x='Arrival_Time',y='Price',data = df)"
   ]
  },
  {
   "cell_type": "code",
   "execution_count": null,
   "id": "632dcfb2",
   "metadata": {},
   "outputs": [],
   "source": [
    "sns.relplot(x='Arrival_Time',y='Price',data = df)"
   ]
  },
  {
   "cell_type": "code",
   "execution_count": null,
   "id": "b4aac178",
   "metadata": {},
   "outputs": [],
   "source": [
    "sns.lineplot(x='Arrival_Time',y='Price',data = df)"
   ]
  },
  {
   "cell_type": "code",
   "execution_count": null,
   "id": "9098251d",
   "metadata": {},
   "outputs": [],
   "source": [
    "sns.regplot(x='Arrival_Time',y='Price',data = df)"
   ]
  },
  {
   "cell_type": "code",
   "execution_count": null,
   "id": "c1e62a61",
   "metadata": {},
   "outputs": [],
   "source": [
    "sns.scatterplot(x='Duration',y='Price',data = df)"
   ]
  },
  {
   "cell_type": "code",
   "execution_count": null,
   "id": "a00a3a14",
   "metadata": {},
   "outputs": [],
   "source": [
    "sns.lineplot(x='Duration',y='Price',data = df)"
   ]
  },
  {
   "cell_type": "code",
   "execution_count": null,
   "id": "1aa471f1",
   "metadata": {},
   "outputs": [],
   "source": [
    "sns.regplot(x='Duration',y='Price',data = df)"
   ]
  },
  {
   "cell_type": "code",
   "execution_count": null,
   "id": "65f2c1d4",
   "metadata": {},
   "outputs": [],
   "source": [
    "sns.relplot(x='Duration',y='Price',data = df)"
   ]
  },
  {
   "cell_type": "code",
   "execution_count": null,
   "id": "08b95291",
   "metadata": {},
   "outputs": [],
   "source": [
    "sns.scatterplot(x='Total_Stops',y='Price',data = df)"
   ]
  },
  {
   "cell_type": "code",
   "execution_count": null,
   "id": "c068a979",
   "metadata": {},
   "outputs": [],
   "source": [
    "sns.lineplot(x='Total_Stops',y='Price',data = df)"
   ]
  },
  {
   "cell_type": "code",
   "execution_count": null,
   "id": "57dc0569",
   "metadata": {},
   "outputs": [],
   "source": [
    "sns.regplot(x='Total_Stops',y='Price',data = df)"
   ]
  },
  {
   "cell_type": "code",
   "execution_count": null,
   "id": "a950d968",
   "metadata": {},
   "outputs": [],
   "source": [
    "sns.relplot(x='Total_Stops',y='Price',data = df)"
   ]
  },
  {
   "cell_type": "code",
   "execution_count": null,
   "id": "fdfa5900",
   "metadata": {},
   "outputs": [],
   "source": [
    "sns.scatterplot(x='Additional_Info',y='Price',data = df)"
   ]
  },
  {
   "cell_type": "code",
   "execution_count": null,
   "id": "3d4d0a23",
   "metadata": {},
   "outputs": [],
   "source": [
    "sns.lineplot(x='Additional_Info',y='Price',data = df)"
   ]
  },
  {
   "cell_type": "code",
   "execution_count": null,
   "id": "59eba120",
   "metadata": {},
   "outputs": [],
   "source": [
    "sns.regplot(x='Additional_Info',y='Price',data = df)"
   ]
  },
  {
   "cell_type": "code",
   "execution_count": null,
   "id": "06774eda",
   "metadata": {},
   "outputs": [],
   "source": [
    "sns.relplot(x='Additional_Info',y='Price',data = df)"
   ]
  },
  {
   "cell_type": "code",
   "execution_count": null,
   "id": "6f77b951",
   "metadata": {
    "scrolled": true
   },
   "outputs": [],
   "source": [
    "sns.scatterplot(x='Airline',y='Date_of_Journey',data = df)"
   ]
  },
  {
   "cell_type": "code",
   "execution_count": null,
   "id": "0be73d0c",
   "metadata": {},
   "outputs": [],
   "source": [
    "sns.lineplot(x='Airline',y='Date_of_Journey',data = df)"
   ]
  },
  {
   "cell_type": "code",
   "execution_count": null,
   "id": "1a2a64bc",
   "metadata": {},
   "outputs": [],
   "source": [
    "sns.regplot(x='Airline',y='Date_of_Journey',data = df)"
   ]
  },
  {
   "cell_type": "code",
   "execution_count": null,
   "id": "0ab4c68b",
   "metadata": {},
   "outputs": [],
   "source": [
    "sns.relplot(x='Airline',y='Date_of_Journey',data = df)"
   ]
  },
  {
   "cell_type": "code",
   "execution_count": null,
   "id": "20229320",
   "metadata": {},
   "outputs": [],
   "source": [
    "sns.scatterplot(x='Airline',y='Source',data = df)"
   ]
  },
  {
   "cell_type": "code",
   "execution_count": null,
   "id": "21a4cce5",
   "metadata": {},
   "outputs": [],
   "source": [
    "sns.regplot(x='Airline',y='Source',data = df)"
   ]
  },
  {
   "cell_type": "code",
   "execution_count": null,
   "id": "3d0a9684",
   "metadata": {},
   "outputs": [],
   "source": [
    "sns.lineplot(x='Airline',y='Source',data = df)"
   ]
  },
  {
   "cell_type": "code",
   "execution_count": null,
   "id": "94bfb140",
   "metadata": {},
   "outputs": [],
   "source": [
    "sns.relplot(x='Airline',y='Source',data = df)"
   ]
  },
  {
   "cell_type": "code",
   "execution_count": null,
   "id": "efb6e116",
   "metadata": {},
   "outputs": [],
   "source": [
    "sns.scatterplot(x='Source',y='Destination',data = df)"
   ]
  },
  {
   "cell_type": "code",
   "execution_count": null,
   "id": "e9d1268d",
   "metadata": {},
   "outputs": [],
   "source": [
    "sns.lineplot(x='Source',y='Destination',data = df)"
   ]
  },
  {
   "cell_type": "code",
   "execution_count": null,
   "id": "bd5da652",
   "metadata": {},
   "outputs": [],
   "source": [
    "sns.relplot(x='Source',y='Destination',data = df)"
   ]
  },
  {
   "cell_type": "code",
   "execution_count": null,
   "id": "ccdf1859",
   "metadata": {},
   "outputs": [],
   "source": [
    "sns.regplot(x='Source',y='Destination',data = df)"
   ]
  },
  {
   "cell_type": "code",
   "execution_count": null,
   "id": "617d5dc1",
   "metadata": {
    "scrolled": true
   },
   "outputs": [],
   "source": [
    "sns.scatterplot(x='Destination',y='Route',data = df)"
   ]
  },
  {
   "cell_type": "code",
   "execution_count": null,
   "id": "330c45e0",
   "metadata": {},
   "outputs": [],
   "source": [
    "sns.lineplot(x='Destination',y='Route',data = df)"
   ]
  },
  {
   "cell_type": "code",
   "execution_count": null,
   "id": "d71d09d3",
   "metadata": {},
   "outputs": [],
   "source": [
    "sns.relplot(x='Destination',y='Route',data = df)"
   ]
  },
  {
   "cell_type": "code",
   "execution_count": null,
   "id": "845ace7d",
   "metadata": {},
   "outputs": [],
   "source": [
    "sns.regplot(x='Destination',y='Route',data = df)"
   ]
  },
  {
   "cell_type": "code",
   "execution_count": null,
   "id": "f11cf7fe",
   "metadata": {},
   "outputs": [],
   "source": [
    "sns.scatterplot(x='Route',y='Dep_Time',data = df)"
   ]
  },
  {
   "cell_type": "code",
   "execution_count": null,
   "id": "1ee2a3d8",
   "metadata": {},
   "outputs": [],
   "source": [
    "sns.relplot(x='Route',y='Dep_Time',data = df)"
   ]
  },
  {
   "cell_type": "code",
   "execution_count": null,
   "id": "c2c06a97",
   "metadata": {},
   "outputs": [],
   "source": [
    "sns.lineplot(x='Route',y='Dep_Time',data = df)"
   ]
  },
  {
   "cell_type": "code",
   "execution_count": null,
   "id": "8ba8bb2b",
   "metadata": {},
   "outputs": [],
   "source": [
    "sns.regplot(x='Route',y='Dep_Time',data = df)"
   ]
  },
  {
   "cell_type": "code",
   "execution_count": null,
   "id": "dffe11fd",
   "metadata": {},
   "outputs": [],
   "source": [
    "sns.scatterplot(x='Source',y='Arrival_Time',data = df)"
   ]
  },
  {
   "cell_type": "code",
   "execution_count": null,
   "id": "59debd89",
   "metadata": {},
   "outputs": [],
   "source": [
    "sns.lineplot(x='Source',y='Arrival_Time',data = df)"
   ]
  },
  {
   "cell_type": "code",
   "execution_count": null,
   "id": "f32ee1d6",
   "metadata": {},
   "outputs": [],
   "source": [
    "sns.regplot(x='Source',y='Arrival_Time',data = df)"
   ]
  },
  {
   "cell_type": "code",
   "execution_count": null,
   "id": "0ef9fcfb",
   "metadata": {},
   "outputs": [],
   "source": [
    "sns.relplot(x='Source',y='Arrival_Time',data = df)"
   ]
  },
  {
   "cell_type": "code",
   "execution_count": null,
   "id": "2454cc29",
   "metadata": {},
   "outputs": [],
   "source": [
    "sns.scatterplot(x='Arrival_Time',y='Duration',data = df)"
   ]
  },
  {
   "cell_type": "code",
   "execution_count": null,
   "id": "24a9f457",
   "metadata": {},
   "outputs": [],
   "source": [
    "sns.lineplot(x='Arrival_Time',y='Duration',data = df)"
   ]
  },
  {
   "cell_type": "code",
   "execution_count": null,
   "id": "8d8b73d1",
   "metadata": {},
   "outputs": [],
   "source": [
    "sns.regplot(x='Arrival_Time',y='Duration',data = df)"
   ]
  },
  {
   "cell_type": "code",
   "execution_count": null,
   "id": "9c5c04fb",
   "metadata": {},
   "outputs": [],
   "source": [
    "sns.relplot(x='Arrival_Time',y='Duration',data = df)"
   ]
  },
  {
   "cell_type": "code",
   "execution_count": null,
   "id": "fb5da3f0",
   "metadata": {
    "scrolled": true
   },
   "outputs": [],
   "source": [
    "sns.scatterplot(x='Source',y='Total_Stops',data = df)"
   ]
  },
  {
   "cell_type": "code",
   "execution_count": null,
   "id": "078ea9ed",
   "metadata": {},
   "outputs": [],
   "source": [
    "sns.relplot(x='Source',y='Total_Stops',data = df)"
   ]
  },
  {
   "cell_type": "code",
   "execution_count": null,
   "id": "d4361c45",
   "metadata": {},
   "outputs": [],
   "source": [
    "sns.lineplot(x='Source',y='Total_Stops',data = df)"
   ]
  },
  {
   "cell_type": "code",
   "execution_count": null,
   "id": "8e98ffa7",
   "metadata": {},
   "outputs": [],
   "source": [
    "sns.regplot(x='Source',y='Total_Stops',data = df)"
   ]
  },
  {
   "cell_type": "code",
   "execution_count": null,
   "id": "c0eeb879",
   "metadata": {},
   "outputs": [],
   "source": [
    "sns.scatterplot(x='Source',y='Additional_Info',data = df)"
   ]
  },
  {
   "cell_type": "code",
   "execution_count": null,
   "id": "52864421",
   "metadata": {},
   "outputs": [],
   "source": [
    "sns.lineplot(x='Source',y='Additional_Info',data = df)"
   ]
  },
  {
   "cell_type": "code",
   "execution_count": null,
   "id": "698fe218",
   "metadata": {},
   "outputs": [],
   "source": [
    "sns.regplot(x='Source',y='Additional_Info',data = df)"
   ]
  },
  {
   "cell_type": "code",
   "execution_count": null,
   "id": "25af2e86",
   "metadata": {},
   "outputs": [],
   "source": [
    "sns.relplot(x='Source',y='Additional_Info',data = df)"
   ]
  },
  {
   "cell_type": "code",
   "execution_count": null,
   "id": "2b9de5af",
   "metadata": {},
   "outputs": [],
   "source": [
    "sns.scatterplot(x='Airline',y='Date_of_Journey',hue='Price',data=df)"
   ]
  },
  {
   "cell_type": "code",
   "execution_count": null,
   "id": "0021c3e6",
   "metadata": {},
   "outputs": [],
   "source": [
    "sns.scatterplot(x='Source',y='Destination',hue='Price',data=df)"
   ]
  },
  {
   "cell_type": "code",
   "execution_count": null,
   "id": "78b0b139",
   "metadata": {},
   "outputs": [],
   "source": [
    "sns.scatterplot(x='Dep_Time',y='Route',hue='Price',data=df)"
   ]
  },
  {
   "cell_type": "code",
   "execution_count": null,
   "id": "0f8873b8",
   "metadata": {},
   "outputs": [],
   "source": [
    "sns.scatterplot(x='Dep_Time',y='Arrival_Time',hue='Price',data=df)"
   ]
  },
  {
   "cell_type": "code",
   "execution_count": null,
   "id": "4d81c1de",
   "metadata": {},
   "outputs": [],
   "source": [
    "sns.scatterplot(x='Duration',y='Airline',hue='Price',data=df)"
   ]
  },
  {
   "cell_type": "code",
   "execution_count": null,
   "id": "0b2f6190",
   "metadata": {},
   "outputs": [],
   "source": [
    "sns.scatterplot(x='Source',y='Total_Stops',hue='Price',data=df) "
   ]
  },
  {
   "cell_type": "code",
   "execution_count": null,
   "id": "33b2704b",
   "metadata": {},
   "outputs": [],
   "source": [
    "sns.scatterplot(x='Price',y='Source',hue='Price',data=df)"
   ]
  },
  {
   "cell_type": "code",
   "execution_count": null,
   "id": "b0146bae",
   "metadata": {
    "scrolled": true
   },
   "outputs": [],
   "source": [
    "sns.scatterplot(x='Airline',y='Date_of_Journey',hue='Price',data=df) "
   ]
  },
  {
   "cell_type": "code",
   "execution_count": null,
   "id": "4efb4331",
   "metadata": {},
   "outputs": [],
   "source": [
    "df.columns"
   ]
  },
  {
   "cell_type": "code",
   "execution_count": null,
   "id": "171a88b1",
   "metadata": {},
   "outputs": [],
   "source": [
    "df[\"Price\"].plot.box()"
   ]
  },
  {
   "cell_type": "code",
   "execution_count": null,
   "id": "9e676efb",
   "metadata": {},
   "outputs": [],
   "source": [
    "df.corr()"
   ]
  },
  {
   "cell_type": "code",
   "execution_count": null,
   "id": "8093aee8",
   "metadata": {},
   "outputs": [],
   "source": [
    "plt.figure(figsize=(15,6))\n",
    "sns.heatmap(df.corr(),annot = True)"
   ]
  },
  {
   "cell_type": "code",
   "execution_count": null,
   "id": "22ffa230",
   "metadata": {},
   "outputs": [],
   "source": [
    "import numpy as np"
   ]
  },
  {
   "cell_type": "code",
   "execution_count": null,
   "id": "1117e13c",
   "metadata": {},
   "outputs": [],
   "source": [
    "from scipy.stats import zscore"
   ]
  },
  {
   "cell_type": "code",
   "execution_count": null,
   "id": "e8169a5d",
   "metadata": {},
   "outputs": [],
   "source": [
    "sns.distplot(df[\"Price\"])"
   ]
  },
  {
   "cell_type": "code",
   "execution_count": null,
   "id": "1dbfc803",
   "metadata": {},
   "outputs": [],
   "source": [
    "df[\"Price\"].skew()"
   ]
  },
  {
   "cell_type": "code",
   "execution_count": null,
   "id": "ddb1ffa1",
   "metadata": {
    "scrolled": true
   },
   "outputs": [],
   "source": [
    "df.head()"
   ]
  },
  {
   "cell_type": "code",
   "execution_count": null,
   "id": "3ddde5b1",
   "metadata": {},
   "outputs": [],
   "source": [
    "x=df.iloc[:,:-1]"
   ]
  },
  {
   "cell_type": "code",
   "execution_count": null,
   "id": "120f638c",
   "metadata": {
    "scrolled": false
   },
   "outputs": [],
   "source": [
    "x"
   ]
  },
  {
   "cell_type": "code",
   "execution_count": null,
   "id": "e1ede61d",
   "metadata": {},
   "outputs": [],
   "source": [
    "y=df[\"Price\"]"
   ]
  },
  {
   "cell_type": "code",
   "execution_count": null,
   "id": "ca89ac2c",
   "metadata": {},
   "outputs": [],
   "source": [
    "y"
   ]
  },
  {
   "cell_type": "code",
   "execution_count": null,
   "id": "86de6c0f",
   "metadata": {},
   "outputs": [],
   "source": [
    "from sklearn.model_selection import train_test_split"
   ]
  },
  {
   "cell_type": "code",
   "execution_count": null,
   "id": "27d3ce99",
   "metadata": {},
   "outputs": [],
   "source": [
    "x_train,x_test,y_train,y_test=train_test_split(x,y,test_size=.20,random_state=40)"
   ]
  },
  {
   "cell_type": "code",
   "execution_count": null,
   "id": "e4546f88",
   "metadata": {},
   "outputs": [],
   "source": [
    "x_train.shape"
   ]
  },
  {
   "cell_type": "code",
   "execution_count": null,
   "id": "3b4a7dd4",
   "metadata": {},
   "outputs": [],
   "source": [
    "y_train.shape"
   ]
  },
  {
   "cell_type": "code",
   "execution_count": null,
   "id": "3a23a345",
   "metadata": {},
   "outputs": [],
   "source": [
    "x_test.shape"
   ]
  },
  {
   "cell_type": "code",
   "execution_count": null,
   "id": "d78ab2ee",
   "metadata": {},
   "outputs": [],
   "source": [
    "y_test.shape"
   ]
  },
  {
   "cell_type": "code",
   "execution_count": null,
   "id": "e6e7f404",
   "metadata": {},
   "outputs": [],
   "source": [
    "from sklearn.model_selection import GridSearchCV"
   ]
  },
  {
   "cell_type": "code",
   "execution_count": null,
   "id": "cbed3d20",
   "metadata": {},
   "outputs": [],
   "source": [
    "from sklearn.model_selection import cross_val_score"
   ]
  },
  {
   "cell_type": "code",
   "execution_count": null,
   "id": "6ff9def1",
   "metadata": {},
   "outputs": [],
   "source": [
    "from sklearn.linear_model import LinearRegression\n",
    "from sklearn.metrics import mean_squared_error,mean_absolute_error,r2_score\n",
    "import numpy as np"
   ]
  },
  {
   "cell_type": "code",
   "execution_count": null,
   "id": "e486baa8",
   "metadata": {},
   "outputs": [],
   "source": [
    "lr = LinearRegression()\n",
    "lr.fit(x_train,y_train)\n",
    "lr.score(x_train,y_train)\n",
    "predlr=lr.predict(x_test)\n",
    "print(r2_score(y_test,predlr))"
   ]
  },
  {
   "cell_type": "code",
   "execution_count": null,
   "id": "63875b40",
   "metadata": {},
   "outputs": [],
   "source": [
    "lr.score(x_train,y_train)"
   ]
  },
  {
   "cell_type": "code",
   "execution_count": null,
   "id": "1903b023",
   "metadata": {},
   "outputs": [],
   "source": [
    "from sklearn.ensemble import RandomForestRegressor"
   ]
  },
  {
   "cell_type": "code",
   "execution_count": null,
   "id": "b064785a",
   "metadata": {},
   "outputs": [],
   "source": [
    "rf = RandomForestRegressor()\n",
    "rf.fit(x_train,y_train)\n",
    "rf.score(x_train,y_train)\n",
    "predrf = rf.predict(x_test)\n",
    "print(r2_score(y_test,predrf))"
   ]
  },
  {
   "cell_type": "code",
   "execution_count": null,
   "id": "25505984",
   "metadata": {},
   "outputs": [],
   "source": [
    "rf.score(x_test,y_test)"
   ]
  },
  {
   "cell_type": "code",
   "execution_count": null,
   "id": "54f5e8d6",
   "metadata": {},
   "outputs": [],
   "source": [
    "rf.score(x_train,y_train)"
   ]
  },
  {
   "cell_type": "code",
   "execution_count": null,
   "id": "975dd5f2",
   "metadata": {},
   "outputs": [],
   "source": [
    "parameter_rf= {'n_estimators':np.arange(1,10),'max_features':['auto','sqrt','log2'],\n",
    "                 'criterion': ['squared_error','absolute_error','poisson']}"
   ]
  },
  {
   "cell_type": "code",
   "execution_count": null,
   "id": "13c1b334",
   "metadata": {},
   "outputs": [],
   "source": [
    "gc = GridSearchCV(RandomForestRegressor(),parameter_rf,cv = 5)\n",
    "gc.fit(x,y)\n",
    "gc.best_params_"
   ]
  },
  {
   "cell_type": "code",
   "execution_count": null,
   "id": "f0381c88",
   "metadata": {},
   "outputs": [],
   "source": [
    "RF=RandomForestRegressor(criterion='poisson',max_features='log2',n_estimators=9)"
   ]
  },
  {
   "cell_type": "code",
   "execution_count": null,
   "id": "a7ec9a5f",
   "metadata": {},
   "outputs": [],
   "source": [
    "RF.fit(x_train,y_train)\n",
    "RF.score(x_train,y_train)"
   ]
  },
  {
   "cell_type": "code",
   "execution_count": null,
   "id": "4a4544fb",
   "metadata": {},
   "outputs": [],
   "source": [
    "print(cross_val_score(RF,x,y,cv=7).mean())"
   ]
  },
  {
   "cell_type": "code",
   "execution_count": null,
   "id": "28b8e90a",
   "metadata": {},
   "outputs": [],
   "source": [
    "from sklearn.tree import DecisionTreeRegressor"
   ]
  },
  {
   "cell_type": "code",
   "execution_count": null,
   "id": "7a150410",
   "metadata": {},
   "outputs": [],
   "source": [
    "dc = DecisionTreeRegressor()\n",
    "dc.fit(x_train,y_train)\n",
    "dc.score(x_train,y_train)\n",
    "preddc = dc.predict(x_test)\n",
    "print(r2_score(y_test,preddc))"
   ]
  },
  {
   "cell_type": "code",
   "execution_count": null,
   "id": "3da243f0",
   "metadata": {},
   "outputs": [],
   "source": [
    "paramdc={'criterion':['squared_error','friedman_mse','poisson'],\n",
    "          'splitter':['best','random'],\n",
    "           'max_depth':np.arange(1,10)}"
   ]
  },
  {
   "cell_type": "code",
   "execution_count": null,
   "id": "153cb215",
   "metadata": {},
   "outputs": [],
   "source": [
    "gc = GridSearchCV(DecisionTreeRegressor(),paramdc,cv=5)\n",
    "gc.fit(x,y)\n",
    "gc.best_params_"
   ]
  },
  {
   "cell_type": "code",
   "execution_count": null,
   "id": "b8c0ed17",
   "metadata": {},
   "outputs": [],
   "source": [
    "Dc = DecisionTreeRegressor(criterion='friedman_mse',max_depth=9,splitter= 'best')"
   ]
  },
  {
   "cell_type": "code",
   "execution_count": null,
   "id": "0d4d5891",
   "metadata": {},
   "outputs": [],
   "source": [
    "Dc.fit(x_train,y_train)\n",
    "Dc.score(x_train,y_train)"
   ]
  },
  {
   "cell_type": "code",
   "execution_count": null,
   "id": "7055d79a",
   "metadata": {
    "scrolled": true
   },
   "outputs": [],
   "source": [
    "print(cross_val_score(Dc,x,y,cv=10).mean())"
   ]
  },
  {
   "cell_type": "code",
   "execution_count": null,
   "id": "127aa936",
   "metadata": {},
   "outputs": [],
   "source": [
    "import pickle"
   ]
  },
  {
   "cell_type": "code",
   "execution_count": null,
   "id": "5d2276a4",
   "metadata": {},
   "outputs": [],
   "source": [
    "filename='flight_price.pkl'\n",
    "pickle.dump(RF,open(filename,'wb'))"
   ]
  },
  {
   "cell_type": "code",
   "execution_count": null,
   "id": "e52877c7",
   "metadata": {},
   "outputs": [],
   "source": []
  }
 ],
 "metadata": {
  "kernelspec": {
   "display_name": "Python 3",
   "language": "python",
   "name": "python3"
  },
  "language_info": {
   "codemirror_mode": {
    "name": "ipython",
    "version": 3
   },
   "file_extension": ".py",
   "mimetype": "text/x-python",
   "name": "python",
   "nbconvert_exporter": "python",
   "pygments_lexer": "ipython3",
   "version": "3.8.8"
  }
 },
 "nbformat": 4,
 "nbformat_minor": 5
}
